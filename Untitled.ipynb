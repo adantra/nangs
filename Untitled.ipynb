{
 "cells": [
  {
   "cell_type": "code",
   "execution_count": 2,
   "id": "00b3a0e0-dad3-4be9-82be-913276fee69d",
   "metadata": {},
   "outputs": [
    {
     "name": "stdout",
     "output_type": "stream",
     "text": [
      "Collecting sympy\n",
      "  Downloading sympy-1.8-py3-none-any.whl (6.1 MB)\n",
      "\u001b[K     |████████████████████████████████| 6.1 MB 3.1 MB/s eta 0:00:01\n",
      "\u001b[?25hCollecting mpmath>=0.19\n",
      "  Downloading mpmath-1.2.1-py3-none-any.whl (532 kB)\n",
      "\u001b[K     |████████████████████████████████| 532 kB 24.9 MB/s eta 0:00:01\n",
      "\u001b[?25hInstalling collected packages: mpmath, sympy\n",
      "Successfully installed mpmath-1.2.1 sympy-1.8\n"
     ]
    }
   ],
   "source": [
    "!pip install sympy"
   ]
  },
  {
   "cell_type": "code",
   "execution_count": 5,
   "id": "d81ae1d7-2f38-4664-8381-e4442752ab71",
   "metadata": {},
   "outputs": [
    {
     "ename": "NameError",
     "evalue": "name 'I' is not defined",
     "output_type": "error",
     "traceback": [
      "\u001b[0;31m---------------------------------------------------------------------------\u001b[0m",
      "\u001b[0;31mNameError\u001b[0m                                 Traceback (most recent call last)",
      "\u001b[0;32m<ipython-input-5-bb853cfa99f2>\u001b[0m in \u001b[0;36m<module>\u001b[0;34m\u001b[0m\n\u001b[1;32m     11\u001b[0m \u001b[0;31m# Set initial condition u(x,0) = I(x)\u001b[0m\u001b[0;34m\u001b[0m\u001b[0;34m\u001b[0m\u001b[0;34m\u001b[0m\u001b[0m\n\u001b[1;32m     12\u001b[0m \u001b[0;32mfor\u001b[0m \u001b[0mi\u001b[0m \u001b[0;32min\u001b[0m \u001b[0mrange\u001b[0m\u001b[0;34m(\u001b[0m\u001b[0;36m0\u001b[0m\u001b[0;34m,\u001b[0m \u001b[0mNx\u001b[0m\u001b[0;34m+\u001b[0m\u001b[0;36m1\u001b[0m\u001b[0;34m)\u001b[0m\u001b[0;34m:\u001b[0m\u001b[0;34m\u001b[0m\u001b[0;34m\u001b[0m\u001b[0m\n\u001b[0;32m---> 13\u001b[0;31m     \u001b[0mu_n\u001b[0m\u001b[0;34m[\u001b[0m\u001b[0mi\u001b[0m\u001b[0;34m]\u001b[0m \u001b[0;34m=\u001b[0m \u001b[0mI\u001b[0m\u001b[0;34m(\u001b[0m\u001b[0mx\u001b[0m\u001b[0;34m[\u001b[0m\u001b[0mi\u001b[0m\u001b[0;34m]\u001b[0m\u001b[0;34m)\u001b[0m\u001b[0;34m\u001b[0m\u001b[0;34m\u001b[0m\u001b[0m\n\u001b[0m\u001b[1;32m     14\u001b[0m \u001b[0;34m\u001b[0m\u001b[0m\n\u001b[1;32m     15\u001b[0m \u001b[0;32mfor\u001b[0m \u001b[0mn\u001b[0m \u001b[0;32min\u001b[0m \u001b[0mrange\u001b[0m\u001b[0;34m(\u001b[0m\u001b[0;36m0\u001b[0m\u001b[0;34m,\u001b[0m \u001b[0mNt\u001b[0m\u001b[0;34m)\u001b[0m\u001b[0;34m:\u001b[0m\u001b[0;34m\u001b[0m\u001b[0;34m\u001b[0m\u001b[0m\n",
      "\u001b[0;31mNameError\u001b[0m: name 'I' is not defined"
     ]
    }
   ],
   "source": [
    "L=1;T=1;Nx=100;Nt=100;a=1\n",
    "import numpy as np\n",
    "x = np.linspace(0, L, Nx+1)    # mesh points in space\n",
    "dx = x[1] - x[0]\n",
    "t = np.linspace(0, T, Nt+1)    # mesh points in time\n",
    "dt = t[1] - t[0]\n",
    "F = a*dt/dx**2\n",
    "u   = np.zeros(Nx+1)           # unknown u at new time level\n",
    "u_n = np.zeros(Nx+1)           # u at the previous time level\n",
    "u_n = np.ones(Nx+1)\n",
    "# Set initial condition u(x,0) = I(x)\n",
    "for i in range(0, Nx+1):\n",
    "    u_n[i] = I(x[i])\n",
    "\n",
    "for n in range(0, Nt):\n",
    "    # Compute u at inner mesh points\n",
    "    for i in range(1, Nx):\n",
    "        u[i] = u_n[i] + F*(u_n[i-1] - 2*u_n[i] + u_n[i+1]) + \\\n",
    "           dt*f(x[i], t[n])\n",
    "\n",
    "    # Insert boundary conditions\n",
    "    u[0] = 0;  u[Nx] = 0\n",
    "\n",
    "    # Update u_n before next step\n",
    "    u_n[:]= u"
   ]
  },
  {
   "cell_type": "code",
   "execution_count": 35,
   "id": "814714c5-821a-45d4-980b-23ba49c8d255",
   "metadata": {},
   "outputs": [],
   "source": [
    "def diff_sol(x,t,n=100):\n",
    "    n_list = np.arange(n)\n",
    "    sol_n = 4/((2*n_list + 1)*np.pi)*np.sin((2*n_list)*np.pi/2*x)*np.exp(-((2*n_list + 1)*np.pi/2)**2*t)\n",
    "    sol = np.sum(sol_n)\n",
    "    return sol #,sol_n"
   ]
  },
  {
   "cell_type": "code",
   "execution_count": 25,
   "id": "6c3d3f0b-6dfe-41f7-b526-6f15666cc5cd",
   "metadata": {},
   "outputs": [
    {
     "data": {
      "text/plain": [
       "array([0, 1, 2, 3, 4, 5, 6, 7, 8, 9])"
      ]
     },
     "execution_count": 25,
     "metadata": {},
     "output_type": "execute_result"
    }
   ],
   "source": [
    "np.arange(10)"
   ]
  },
  {
   "cell_type": "code",
   "execution_count": 85,
   "id": "75c2fff9-bb99-4e5b-aaab-7e7aa7deb519",
   "metadata": {},
   "outputs": [],
   "source": [
    "t = 0.0000005\n",
    "x = np.linspace(0,1,100)"
   ]
  },
  {
   "cell_type": "code",
   "execution_count": 31,
   "id": "3d38741a-515b-4719-9e3e-eed773f2bd9d",
   "metadata": {},
   "outputs": [],
   "source": [
    "sol,sol_n=diff_sol(0.8,t)"
   ]
  },
  {
   "cell_type": "code",
   "execution_count": 32,
   "id": "3f3fa66a-83ec-4d87-bcf2-c21516476ff7",
   "metadata": {},
   "outputs": [
    {
     "data": {
      "text/plain": [
       "0.11461808626860323"
      ]
     },
     "execution_count": 32,
     "metadata": {},
     "output_type": "execute_result"
    }
   ],
   "source": [
    "sol"
   ]
  },
  {
   "cell_type": "code",
   "execution_count": 4,
   "id": "cb0c64b9-b779-42be-a151-454d7fd19c86",
   "metadata": {},
   "outputs": [],
   "source": [
    "import matplotlib.pyplot as plt\n",
    "import numpy as np"
   ]
  },
  {
   "cell_type": "code",
   "execution_count": 37,
   "id": "90a88b8b-fc32-4812-97be-f6e537ee1169",
   "metadata": {},
   "outputs": [],
   "source": [
    "d=[]\n",
    "for xx in x:\n",
    "    d.append(diff_sol(x,t))"
   ]
  },
  {
   "cell_type": "code",
   "execution_count": 39,
   "id": "638d6a69-2264-49ab-8c5a-0bd14b60ce83",
   "metadata": {},
   "outputs": [
    {
     "data": {
      "text/latex": [
       "$\\displaystyle 0$"
      ],
      "text/plain": [
       "0"
      ]
     },
     "execution_count": 39,
     "metadata": {},
     "output_type": "execute_result"
    }
   ],
   "source": [
    "from sympy import Sum, Symbol\n",
    "x = Symbol('x')\n",
    "s = Sum( 1/(x**2-1), (x, 1, 00))\n",
    "s.doit()"
   ]
  },
  {
   "cell_type": "code",
   "execution_count": 1,
   "id": "c802f423-3a3f-4ecc-9c40-d4debf1ab6c6",
   "metadata": {},
   "outputs": [],
   "source": [
    "from sympy import Sum, factorial, oo, IndexedBase, Function, sin,exp\n",
    "from sympy.abc import n"
   ]
  },
  {
   "cell_type": "code",
   "execution_count": 20,
   "id": "7eadbd48-a178-4b23-b157-d6851ca588a9",
   "metadata": {},
   "outputs": [],
   "source": [
    "def diff_sol(x,t,alpha=0.1):\n",
    "    sol= Sum(4/((2*n + 1)*np.pi)*sin((2*n+1)*np.pi/2*x)*exp(-((2*n + 1)*np.pi/2)**2*t*alpha),(n,0,50))\n",
    "    \n",
    "    return sol #,sol_n"
   ]
  },
  {
   "cell_type": "code",
   "execution_count": 6,
   "id": "accec460-0cfd-4e67-9efc-24d4b9d79428",
   "metadata": {},
   "outputs": [],
   "source": [
    "sol=diff_sol(0.5,0.2)"
   ]
  },
  {
   "cell_type": "code",
   "execution_count": 7,
   "id": "c326b6c8-a5da-440b-afa3-2ceff95b8b12",
   "metadata": {},
   "outputs": [
    {
     "data": {
      "text/latex": [
       "$\\displaystyle \\sum_{n=0}^{20} \\frac{4 e^{- 1.97392088021787 \\left(n + 0.5\\right)^{2}} \\sin{\\left(1.5707963267949 n + 0.785398163397448 \\right)}}{6.28318530717959 n + 3.14159265358979}$"
      ],
      "text/plain": [
       "Sum(4*exp(-1.97392088021787*(n + 0.5)**2)*sin(1.5707963267949*n + 0.785398163397448)/(6.28318530717959*n + 3.14159265358979), (n, 0, 20))"
      ]
     },
     "execution_count": 7,
     "metadata": {},
     "output_type": "execute_result"
    }
   ],
   "source": [
    "sol"
   ]
  },
  {
   "cell_type": "code",
   "execution_count": 8,
   "id": "f0d100c6-70e0-432f-b37a-410892e1e6f8",
   "metadata": {},
   "outputs": [
    {
     "data": {
      "text/latex": [
       "$\\displaystyle 0.553175891850086$"
      ],
      "text/plain": [
       "0.553175891850086"
      ]
     },
     "execution_count": 8,
     "metadata": {},
     "output_type": "execute_result"
    }
   ],
   "source": [
    "sol.doit()"
   ]
  },
  {
   "cell_type": "code",
   "execution_count": 9,
   "id": "24755474-ee76-4231-8fc5-2e2f6d553c80",
   "metadata": {},
   "outputs": [],
   "source": [
    "xxx=np.linspace(0,1,100)"
   ]
  },
  {
   "cell_type": "code",
   "execution_count": 40,
   "id": "039aeb61-cf4d-43ed-b5c2-2239535e39d0",
   "metadata": {},
   "outputs": [
    {
     "data": {
      "image/png": "[encoded data removed]",
      "text/plain": [
       "<Figure size 432x288 with 1 Axes>"
      ]
     },
     "metadata": {
      "needs_background": "light"
     },
     "output_type": "display_data"
    }
   ],
   "source": [
    "for t in np.linspace(0.1,1,11):\n",
    "    d=[]\n",
    "    for xx in xxx:\n",
    "        d.append(diff_sol(xx,t,alpha=1).doit())\n",
    "    plt.plot(d)"
   ]
  },
  {
   "cell_type": "code",
   "execution_count": 38,
   "id": "c99544af-1673-431b-af0b-d48d2aa5affa",
   "metadata": {},
   "outputs": [
    {
     "data": {
      "text/plain": [
       "[<matplotlib.lines.Line2D at 0x7fd9b173c130>]"
      ]
     },
     "execution_count": 38,
     "metadata": {},
     "output_type": "execute_result"
    },
    {
     "data": {
      "image/png": "[encoded data removed]",
      "text/plain": [
       "<Figure size 432x288 with 1 Axes>"
      ]
     },
     "metadata": {
      "needs_background": "light"
     },
     "output_type": "display_data"
    }
   ],
   "source": []
  },
  {
   "cell_type": "code",
   "execution_count": 84,
   "id": "a788b9a1-a2b1-4b70-ab00-e73ae2dfee75",
   "metadata": {},
   "outputs": [
    {
     "data": {
      "text/plain": [
       "array([0.        , 0.11111111, 0.22222222, 0.33333333, 0.44444444,\n",
       "       0.55555556, 0.66666667, 0.77777778, 0.88888889, 1.        ])"
      ]
     },
     "execution_count": 84,
     "metadata": {},
     "output_type": "execute_result"
    }
   ],
   "source": [
    "xxx"
   ]
  },
  {
   "cell_type": "code",
   "execution_count": null,
   "id": "b461a3e5-52cb-4947-939b-7132f58ac901",
   "metadata": {},
   "outputs": [],
   "source": []
  }
 ],
 "metadata": {
  "kernelspec": {
   "display_name": "Python 3.9.5 64-bit ('torch': conda)",
   "language": "python",
   "name": "python395jvsc74a57bd022c32679636ad606430015b1d23e4a9a1074a4df87b9cbe168a061cca16f2004"
  },
  "language_info": {
   "codemirror_mode": {
    "name": "ipython",
    "version": 3
   },
   "file_extension": ".py",
   "mimetype": "text/x-python",
   "name": "python",
   "nbconvert_exporter": "python",
   "pygments_lexer": "ipython3",
   "version": "3.9.5"
  }
 },
 "nbformat": 4,
 "nbformat_minor": 5
}
