{
  "nbformat": 4,
  "nbformat_minor": 0,
  "metadata": {
    "colab": {
      "name": "Darcy2D.ipynb",
      "provenance": [],
      "collapsed_sections": [],
      "machine_shape": "hm",
      "authorship_tag": "ABX9TyM/UUmY+KJWu/YfMJO6420A",
      "include_colab_link": true
    },
    "kernelspec": {
      "name": "python3",
      "display_name": "Python 3"
    },
    "language_info": {
      "name": "python"
    },
    "accelerator": "GPU"
  },
  "cells": [
    {
      "cell_type": "markdown",
      "metadata": {
        "id": "view-in-github",
        "colab_type": "text"
      },
      "source": [
        "<a href=\"https://colab.research.google.com/github/adantra/nangs/blob/master/Darcy2D.ipynb\" target=\"_parent\"><img src=\"https://colab.research.google.com/assets/colab-badge.svg\" alt=\"Open In Colab\"/></a>"
      ]
    },
    {
      "cell_type": "code",
      "metadata": {
        "colab": {
          "base_uri": "https://localhost:8080/"
        },
        "id": "49OBlKX_2X0p",
        "outputId": "00028507-20ff-4805-f694-26b58c1dd145"
      },
      "source": [
        "!pip install nangs"
      ],
      "execution_count": 1,
      "outputs": [
        {
          "output_type": "stream",
          "text": [
            "Collecting nangs\n",
            "  Downloading https://files.pythonhosted.org/packages/4c/cd/7eeca93e6088a85d18ff99897743aaf429c94c12049e56f2a1e8b2091656/nangs-0.1.2-py3-none-any.whl\n",
            "Installing collected packages: nangs\n",
            "Successfully installed nangs-0.1.2\n"
          ],
          "name": "stdout"
        }
      ]
    },
    {
      "cell_type": "code",
      "metadata": {
        "id": "LyXPy8I92Z7g"
      },
      "source": [
        "# autoreload nangs\n",
        "%reload_ext autoreload\n",
        "%autoreload 2\n",
        "%matplotlib inline"
      ],
      "execution_count": 2,
      "outputs": []
    },
    {
      "cell_type": "code",
      "metadata": {
        "id": "z6o00lnpeu3U"
      },
      "source": [
        ""
      ],
      "execution_count": null,
      "outputs": []
    },
    {
      "cell_type": "code",
      "metadata": {
        "colab": {
          "base_uri": "https://localhost:8080/"
        },
        "id": "2tc_1Iyo2lV-",
        "outputId": "6fb20bcd-ebad-4612-c1d4-4c4a82ada62c"
      },
      "source": [
        "#imports\n",
        "\n",
        "import numpy as np \n",
        "import matplotlib.pyplot as plt \n",
        "import torch\n",
        "import pandas as pd\n",
        "import nangs\n",
        "from nangs import *\n",
        "\n",
        "device = \"cuda\" if torch.cuda.is_available() else \"cpu\"\n",
        "\n",
        "nangs.__version__, torch.__version__"
      ],
      "execution_count": 3,
      "outputs": [
        {
          "output_type": "execute_result",
          "data": {
            "text/plain": [
              "('0.1.2', '1.9.0+cu102')"
            ]
          },
          "metadata": {
            "tags": []
          },
          "execution_count": 3
        }
      ]
    },
    {
      "cell_type": "code",
      "metadata": {
        "colab": {
          "base_uri": "https://localhost:8080/",
          "height": 37
        },
        "id": "rTta38DB2obV",
        "outputId": "297d44a1-8a3a-4231-f706-4bb7b14bba06"
      },
      "source": [
        "device\n"
      ],
      "execution_count": 4,
      "outputs": [
        {
          "output_type": "execute_result",
          "data": {
            "application/vnd.google.colaboratory.intrinsic+json": {
              "type": "string"
            },
            "text/plain": [
              "'cuda'"
            ]
          },
          "metadata": {
            "tags": []
          },
          "execution_count": 4
        }
      ]
    },
    {
      "cell_type": "code",
      "metadata": {
        "id": "HWM_Gcopd40J"
      },
      "source": [
        "def f(x,y):\n",
        "  beta=0.01\n",
        "  k = 2+beta*torch.cos(10*2*3**x)*torch.cos(10*2*3**y)\n",
        "  \n",
        "  return k\n",
        "\n",
        "def f1(x,y):\n",
        "  beta=0.01\n",
        "  k = 2+beta*np.cos(10*2*3**x)*np.cos(10*2*3**y)\n",
        "  \n",
        "  return k"
      ],
      "execution_count": 657,
      "outputs": []
    },
    {
      "cell_type": "code",
      "metadata": {
        "id": "W55VlZAO2vcY"
      },
      "source": [
        "alpha=0.0\n",
        "class Difussion2d(PDE):\n",
        "    def computePDELoss(self, inputs, outputs):\n",
        "        p = outputs[:, 0]\n",
        "        grads = self.computeGrads(p, inputs)\n",
        "        dpdx, dpdy = grads[:, 0], grads[:, 1]\n",
        "        x,y = inputs[:,0],inputs[:,1]\n",
        "        # second order derivatives        \n",
        "        dp2dx2 = self.computeGrads(f(x,y)*dpdx, inputs)[:, 0] \n",
        "        dp2dy2 = self.computeGrads(f(x,y)*dpdy, inputs)[:, 1]\n",
        "        return {'loss':alpha - (dp2dx2 + dp2dy2)}"
      ],
      "execution_count": 681,
      "outputs": []
    },
    {
      "cell_type": "code",
      "metadata": {
        "id": "Wuq89V6s3dOX"
      },
      "source": [
        "class NeumannX(Neumann):\n",
        "    def computeBocoLoss(self, inputs, outputs):\n",
        "        p = outputs[:, 0]\n",
        "        grads = self.computeGrads(p, inputs)\n",
        "        dpdx = grads[:, 0]\n",
        "        return {'gradX': dpdx}"
      ],
      "execution_count": 682,
      "outputs": []
    },
    {
      "cell_type": "code",
      "metadata": {
        "id": "nVKfDt6S3hGV"
      },
      "source": [
        "class NeumannY(Neumann):\n",
        "    def computeBocoLoss(self, inputs, outputs):\n",
        "        p = outputs[:, 0]\n",
        "        grads = self.computeGrads(p, inputs)\n",
        "        dpdy = grads[:, 1]\n",
        "        return {'gradX': dpdy}"
      ],
      "execution_count": 683,
      "outputs": []
    },
    {
      "cell_type": "code",
      "metadata": {
        "id": "IturBEIS3jyj"
      },
      "source": [
        "pde = Difussion2d(inputs=('x', 'y'), outputs='p')"
      ],
      "execution_count": 684,
      "outputs": []
    },
    {
      "cell_type": "code",
      "metadata": {
        "id": "v6s9koba3mHJ"
      },
      "source": [
        "# mesh \n",
        "\n",
        "x = np.linspace(0,1,250)\n",
        "y = np.linspace(0,1,250)\n",
        "t = np.linspace(0,1,20)\n",
        "\n",
        "mesh = Mesh({'x': x, 'y': y}, device=device)\n",
        "pde.set_mesh(mesh)"
      ],
      "execution_count": 685,
      "outputs": []
    },
    {
      "cell_type": "code",
      "metadata": {
        "id": "1G0YOnt-ekle"
      },
      "source": [
        "_x, _y = np.meshgrid(x, y)"
      ],
      "execution_count": 686,
      "outputs": []
    },
    {
      "cell_type": "code",
      "metadata": {
        "id": "sze7ad9Je5eX",
        "outputId": "055a5bfb-4773-4cae-8670-282b971a64f5",
        "colab": {
          "base_uri": "https://localhost:8080/",
          "height": 248
        }
      },
      "source": [
        "from mpl_toolkits.mplot3d import Axes3D\n",
        "import matplotlib.pyplot as plt\n",
        "from matplotlib import cm\n",
        "fig = plt.figure()\n",
        "ax = fig.gca(projection='3d')\n",
        "surf = ax.plot_surface(_x, _y, f1(_x, _y).reshape((_y.shape[0],_x.shape[1])), cmap=cm.coolwarm, linewidth=0, antialiased=False)\n",
        "fig.colorbar(surf, shrink=0.5, aspect=5)\n",
        "plt.show()"
      ],
      "execution_count": 687,
      "outputs": [
        {
          "output_type": "display_data",
          "data": {
            "image/png": "[encoded data removed]",
            "text/plain": [
              "<Figure size 432x288 with 2 Axes>"
            ]
          },
          "metadata": {
            "tags": [],
            "needs_background": "light"
          }
        }
      ]
    },
    {
      "cell_type": "code",
      "metadata": {
        "id": "OkCZuKCO3o1C"
      },
      "source": [
        "from nangs import Dirichlet"
      ],
      "execution_count": 688,
      "outputs": []
    },
    {
      "cell_type": "code",
      "metadata": {
        "id": "FNI7VwAX3tN2"
      },
      "source": [
        "t0 = np.array([0])"
      ],
      "execution_count": 689,
      "outputs": []
    },
    {
      "cell_type": "code",
      "metadata": {
        "id": "8pM3FPKv3yMj"
      },
      "source": [
        "#initial_condition = Dirichlet({'x': x, 'y': y}, {'p': p0.reshape(-1)}, device=device, name=\"initial\")"
      ],
      "execution_count": 690,
      "outputs": []
    },
    {
      "cell_type": "code",
      "metadata": {
        "id": "OXFa0Hpi30nP"
      },
      "source": [
        "#pde.add_boco(initial_condition)\n",
        "p0=np.ones(len(y))\n",
        "p1=np.zeros(len(y))"
      ],
      "execution_count": 691,
      "outputs": []
    },
    {
      "cell_type": "code",
      "metadata": {
        "id": "Hi6Telpj32z3"
      },
      "source": [
        "#left = NeumannX({'x': np.array([0]), 'y': y, 't':t}, name='left', device=device)\n",
        "left = Dirichlet({'x': x[0], 'y': y}, {'p': p0.reshape(-1)}, device=device, name=\"left\")"
      ],
      "execution_count": 692,
      "outputs": []
    },
    {
      "cell_type": "code",
      "metadata": {
        "id": "i-gJ-qWG35HC"
      },
      "source": [
        "\n",
        "pde.add_boco(left)"
      ],
      "execution_count": 693,
      "outputs": []
    },
    {
      "cell_type": "code",
      "metadata": {
        "id": "P9dMp4We38-y"
      },
      "source": [
        "#right = NeumannX({'x': np.array([1]), 'y': y, 't':t}, name='right', device=device)\n",
        "right = Dirichlet({'x': x[-1], 'y': y}, {'p': p1.reshape(-1)}, device=device, name=\"right\")"
      ],
      "execution_count": 694,
      "outputs": []
    },
    {
      "cell_type": "code",
      "metadata": {
        "id": "-zK0NPGN3_Pm"
      },
      "source": [
        "pde.add_boco(right)"
      ],
      "execution_count": 695,
      "outputs": []
    },
    {
      "cell_type": "code",
      "metadata": {
        "id": "QgJBWxEX4Dqu"
      },
      "source": [
        "\n",
        "top = NeumannY({'x': x, 'y': y[-1]}, name='top', device=device)"
      ],
      "execution_count": 696,
      "outputs": []
    },
    {
      "cell_type": "code",
      "metadata": {
        "id": "TI8EHmmt4GSw"
      },
      "source": [
        "pde.add_boco(top)"
      ],
      "execution_count": 697,
      "outputs": []
    },
    {
      "cell_type": "code",
      "metadata": {
        "id": "lpcpSYAF4I4t"
      },
      "source": [
        "\n",
        "\n",
        "bottom = NeumannY({'x': x, 'y': y[-1]}, name='bottom', device=device)"
      ],
      "execution_count": 698,
      "outputs": []
    },
    {
      "cell_type": "code",
      "metadata": {
        "id": "WfDK9vIy4LG9"
      },
      "source": [
        "\n",
        "pde.add_boco(bottom)"
      ],
      "execution_count": 699,
      "outputs": []
    },
    {
      "cell_type": "code",
      "metadata": {
        "id": "_Zf3hbzK4NSo"
      },
      "source": [
        "from nangs import MLP\n",
        "\n",
        "BATCH_SIZE = 512\n",
        "LR = 1e-2\n",
        "EPOCHS = 11\n",
        "NUM_LAYERS = 2\n",
        "NUM_HIDDEN = 128\n",
        "\n",
        "mlp = MLP(len(pde.inputs), len(pde.outputs), NUM_LAYERS, NUM_HIDDEN).to(device)\n",
        "optimizer = torch.optim.Adam(mlp.parameters())\n",
        "scheduler = torch.optim.lr_scheduler.OneCycleLR(optimizer, max_lr=LR, pct_start=0.1, total_steps=EPOCHS)"
      ],
      "execution_count": 700,
      "outputs": []
    },
    {
      "cell_type": "code",
      "metadata": {
        "id": "JLj8w_NdhBkS",
        "outputId": "5f7014a0-2e00-4085-e40a-8b559cd2e967",
        "colab": {
          "base_uri": "https://localhost:8080/"
        }
      },
      "source": [
        "pde.inputs"
      ],
      "execution_count": 701,
      "outputs": [
        {
          "output_type": "execute_result",
          "data": {
            "text/plain": [
              "('x', 'y')"
            ]
          },
          "metadata": {
            "tags": []
          },
          "execution_count": 701
        }
      ]
    },
    {
      "cell_type": "code",
      "metadata": {
        "id": "nmlVwfsY4Qpj"
      },
      "source": [
        "pde.compile(mlp, optimizer, scheduler)"
      ],
      "execution_count": 702,
      "outputs": []
    },
    {
      "cell_type": "code",
      "metadata": {
        "colab": {
          "base_uri": "https://localhost:8080/",
          "height": 304
        },
        "id": "4HdLw0uL4TA9",
        "outputId": "b5dca316-5d90-4f73-8251-36caeb5bcadb"
      },
      "source": [
        "%time hist = pde.solve(EPOCHS, BATCH_SIZE)"
      ],
      "execution_count": 703,
      "outputs": [
        {
          "output_type": "display_data",
          "data": {
            "text/html": [
              "Epoch 1/11  | lr 0.0004 | left 0.06475 | right 0.02381 | top_gradX 0.00081 | bottom_gradX 0.00081 | loss 0.08129<p>Epoch 2/11  | lr 0.0098 | left 0.0073 | right 0.00869 | top_gradX 0.0003 | bottom_gradX 0.0003 | loss 0.04039<p>Epoch 3/11  | lr 0.00912 | left 0.00189 | right 0.00187 | top_gradX 2e-05 | bottom_gradX 2e-05 | loss 0.03602<p>Epoch 4/11  | lr 0.00803 | left 0.00179 | right 0.00189 | top_gradX 4e-05 | bottom_gradX 4e-05 | loss 0.03606<p>Epoch 5/11  | lr 0.00664 | left 0.00188 | right 0.00196 | top_gradX 4e-05 | bottom_gradX 4e-05 | loss 0.03562<p>Epoch 6/11  | lr 0.00508 | left 0.00176 | right 0.00185 | top_gradX 3e-05 | bottom_gradX 3e-05 | loss 0.03573<p>Epoch 7/11  | lr 0.00352 | left 0.00178 | right 0.00187 | top_gradX 3e-05 | bottom_gradX 3e-05 | loss 0.03549<p>Epoch 8/11  | lr 0.0021 | left 0.0017 | right 0.0018 | top_gradX 2e-05 | bottom_gradX 2e-05 | loss 0.03528<p>Epoch 9/11  | lr 0.00097 | left 0.00171 | right 0.00182 | top_gradX 2e-05 | bottom_gradX 2e-05 | loss 0.03519<p>Epoch 10/11  | lr 0.00025 | left 0.00166 | right 0.00176 | top_gradX 3e-05 | bottom_gradX 3e-05 | loss 0.0352<p>Epoch 11/11  | lr 0.0 | left 0.00161 | right 0.00187 | top_gradX 1e-05 | bottom_gradX 1e-05 | loss 0.03524"
            ],
            "text/plain": [
              "<IPython.core.display.HTML object>"
            ]
          },
          "metadata": {
            "tags": []
          }
        },
        {
          "output_type": "stream",
          "text": [
            "CPU times: user 25.4 s, sys: 746 ms, total: 26.2 s\n",
            "Wall time: 25.6 s\n"
          ],
          "name": "stdout"
        }
      ]
    },
    {
      "cell_type": "code",
      "metadata": {
        "id": "6pWQeuc14V_9"
      },
      "source": [
        "t = 0.01\n",
        "x = np.linspace(0,1,100)\n",
        "y = np.linspace(0,1,100)\n",
        "\n",
        "_x, _y = np.meshgrid(x, y)"
      ],
      "execution_count": 704,
      "outputs": []
    },
    {
      "cell_type": "code",
      "metadata": {
        "id": "ycJ8qxzpGTBF"
      },
      "source": [
        "eval_mesh = Mesh({'x': x, 'y': y}, device=device)\n",
        "p = pde.eval(eval_mesh)\n",
        "p = p.cpu().numpy()"
      ],
      "execution_count": 705,
      "outputs": []
    },
    {
      "cell_type": "code",
      "metadata": {
        "colab": {
          "base_uri": "https://localhost:8080/"
        },
        "id": "iqZRyVU6GaYA",
        "outputId": "561b1113-9b76-4c8b-dfe6-aeee1b19657e"
      },
      "source": [
        "p.shape"
      ],
      "execution_count": 706,
      "outputs": [
        {
          "output_type": "execute_result",
          "data": {
            "text/plain": [
              "(10000, 1)"
            ]
          },
          "metadata": {
            "tags": []
          },
          "execution_count": 706
        }
      ]
    },
    {
      "cell_type": "code",
      "metadata": {
        "colab": {
          "base_uri": "https://localhost:8080/",
          "height": 248
        },
        "id": "qV3ksfWtGrl1",
        "outputId": "e2255139-7539-4b69-e383-89630d7fc9c8"
      },
      "source": [
        "from mpl_toolkits.mplot3d import Axes3D\n",
        "import matplotlib.pyplot as plt\n",
        "from matplotlib import cm\n",
        "fig = plt.figure()\n",
        "ax = fig.gca(projection='3d')\n",
        "surf = ax.plot_surface(_x, _y, p.reshape((_y.shape[0],_x.shape[1])), cmap=cm.coolwarm, linewidth=0, antialiased=False)\n",
        "fig.colorbar(surf, shrink=0.5, aspect=5)\n",
        "plt.show()"
      ],
      "execution_count": 707,
      "outputs": [
        {
          "output_type": "display_data",
          "data": {
            "image/png": "[encoded data removed]",
            "text/plain": [
              "<Figure size 432x288 with 2 Axes>"
            ]
          },
          "metadata": {
            "tags": [],
            "needs_background": "light"
          }
        }
      ]
    },
    {
      "cell_type": "code",
      "metadata": {
        "id": "_mCNFVK_GwzT"
      },
      "source": [
        "p1=p.reshape((_y.shape[0],_x.shape[1]))"
      ],
      "execution_count": 708,
      "outputs": []
    },
    {
      "cell_type": "code",
      "metadata": {
        "colab": {
          "base_uri": "https://localhost:8080/",
          "height": 282
        },
        "id": "2Kc3vAeJlg36",
        "outputId": "2744a005-c4b5-4fc9-f33f-89d90860f310"
      },
      "source": [
        "plt.plot(p1[0])\n",
        "plt.plot(p1[1])\n",
        "plt.plot(p1[2])\n",
        "plt.plot(p1[50])\n",
        "plt.plot(p1[-1])"
      ],
      "execution_count": 709,
      "outputs": [
        {
          "output_type": "execute_result",
          "data": {
            "text/plain": [
              "[<matplotlib.lines.Line2D at 0x7f0079ac9890>]"
            ]
          },
          "metadata": {
            "tags": []
          },
          "execution_count": 709
        },
        {
          "output_type": "display_data",
          "data": {
            "image/png": "[encoded data removed]",
            "text/plain": [
              "<Figure size 432x288 with 1 Axes>"
            ]
          },
          "metadata": {
            "tags": [],
            "needs_background": "light"
          }
        }
      ]
    },
    {
      "cell_type": "code",
      "metadata": {
        "id": "bisqfv6Z8ZyK",
        "outputId": "284076f1-df8a-4558-d051-69d623ae6a98",
        "colab": {
          "base_uri": "https://localhost:8080/",
          "height": 341
        }
      },
      "source": [
        "p = pde.eval(eval_mesh)\n",
        "grads = pde.computeGrads(p, pde.inputs)\n",
        "dpdx, dpdy = grads[:, 0], grads[:, 1]"
      ],
      "execution_count": 717,
      "outputs": [
        {
          "output_type": "error",
          "ename": "RuntimeError",
          "evalue": "ignored",
          "traceback": [
            "\u001b[0;31m---------------------------------------------------------------------------\u001b[0m",
            "\u001b[0;31mRuntimeError\u001b[0m                              Traceback (most recent call last)",
            "\u001b[0;32m<ipython-input-717-73ea40fe6c49>\u001b[0m in \u001b[0;36m<module>\u001b[0;34m()\u001b[0m\n\u001b[1;32m      1\u001b[0m \u001b[0mp\u001b[0m \u001b[0;34m=\u001b[0m \u001b[0mpde\u001b[0m\u001b[0;34m.\u001b[0m\u001b[0meval\u001b[0m\u001b[0;34m(\u001b[0m\u001b[0meval_mesh\u001b[0m\u001b[0;34m)\u001b[0m\u001b[0;34m\u001b[0m\u001b[0;34m\u001b[0m\u001b[0m\n\u001b[0;32m----> 2\u001b[0;31m \u001b[0mgrads\u001b[0m \u001b[0;34m=\u001b[0m \u001b[0mpde\u001b[0m\u001b[0;34m.\u001b[0m\u001b[0mcomputeGrads\u001b[0m\u001b[0;34m(\u001b[0m\u001b[0mp\u001b[0m\u001b[0;34m,\u001b[0m \u001b[0mpde\u001b[0m\u001b[0;34m.\u001b[0m\u001b[0minputs\u001b[0m\u001b[0;34m)\u001b[0m\u001b[0;34m\u001b[0m\u001b[0;34m\u001b[0m\u001b[0m\n\u001b[0m\u001b[1;32m      3\u001b[0m \u001b[0mdpdx\u001b[0m\u001b[0;34m,\u001b[0m \u001b[0mdpdy\u001b[0m \u001b[0;34m=\u001b[0m \u001b[0mgrads\u001b[0m\u001b[0;34m[\u001b[0m\u001b[0;34m:\u001b[0m\u001b[0;34m,\u001b[0m \u001b[0;36m0\u001b[0m\u001b[0;34m]\u001b[0m\u001b[0;34m,\u001b[0m \u001b[0mgrads\u001b[0m\u001b[0;34m[\u001b[0m\u001b[0;34m:\u001b[0m\u001b[0;34m,\u001b[0m \u001b[0;36m1\u001b[0m\u001b[0;34m]\u001b[0m\u001b[0;34m\u001b[0m\u001b[0;34m\u001b[0m\u001b[0m\n",
            "\u001b[0;32m/usr/local/lib/python3.7/dist-packages/nangs/pde.py\u001b[0m in \u001b[0;36mcomputeGrads\u001b[0;34m(self, outputs, inputs)\u001b[0m\n\u001b[1;32m    102\u001b[0m                                      grad_outputs=outputs.data.new(\n\u001b[1;32m    103\u001b[0m                                          outputs.shape).fill_(1),\n\u001b[0;32m--> 104\u001b[0;31m                                      create_graph=True, only_inputs=True)\n\u001b[0m\u001b[1;32m    105\u001b[0m         \u001b[0;32mreturn\u001b[0m \u001b[0mgrads\u001b[0m\u001b[0;34m\u001b[0m\u001b[0;34m\u001b[0m\u001b[0m\n\u001b[1;32m    106\u001b[0m \u001b[0;34m\u001b[0m\u001b[0m\n",
            "\u001b[0;32m/usr/local/lib/python3.7/dist-packages/torch/autograd/__init__.py\u001b[0m in \u001b[0;36mgrad\u001b[0;34m(outputs, inputs, grad_outputs, retain_graph, create_graph, only_inputs, allow_unused)\u001b[0m\n\u001b[1;32m    226\u001b[0m     return Variable._execution_engine.run_backward(\n\u001b[1;32m    227\u001b[0m         \u001b[0moutputs\u001b[0m\u001b[0;34m,\u001b[0m \u001b[0mgrad_outputs_\u001b[0m\u001b[0;34m,\u001b[0m \u001b[0mretain_graph\u001b[0m\u001b[0;34m,\u001b[0m \u001b[0mcreate_graph\u001b[0m\u001b[0;34m,\u001b[0m\u001b[0;34m\u001b[0m\u001b[0;34m\u001b[0m\u001b[0m\n\u001b[0;32m--> 228\u001b[0;31m         inputs, allow_unused, accumulate_grad=False)\n\u001b[0m\u001b[1;32m    229\u001b[0m \u001b[0;34m\u001b[0m\u001b[0m\n\u001b[1;32m    230\u001b[0m \u001b[0;34m\u001b[0m\u001b[0m\n",
            "\u001b[0;31mRuntimeError\u001b[0m: element 0 of tensors does not require grad and does not have a grad_fn"
          ]
        }
      ]
    },
    {
      "cell_type": "code",
      "metadata": {
        "id": "ula1G-Nb9Goa",
        "outputId": "23c49f35-cd23-4ce0-b248-fc834da92a83",
        "colab": {
          "base_uri": "https://localhost:8080/",
          "height": 164
        }
      },
      "source": [
        "p"
      ],
      "execution_count": 1,
      "outputs": [
        {
          "output_type": "error",
          "ename": "NameError",
          "evalue": "ignored",
          "traceback": [
            "\u001b[0;31m---------------------------------------------------------------------------\u001b[0m",
            "\u001b[0;31mNameError\u001b[0m                                 Traceback (most recent call last)",
            "\u001b[0;32m<ipython-input-1-6c10289a8da7>\u001b[0m in \u001b[0;36m<module>\u001b[0;34m()\u001b[0m\n\u001b[0;32m----> 1\u001b[0;31m \u001b[0mp\u001b[0m\u001b[0;34m\u001b[0m\u001b[0;34m\u001b[0m\u001b[0m\n\u001b[0m",
            "\u001b[0;31mNameError\u001b[0m: name 'p' is not defined"
          ]
        }
      ]
    },
    {
      "cell_type": "code",
      "metadata": {
        "id": "nAtZaCnjKUUE"
      },
      "source": [
        "from google.colab import drive"
      ],
      "execution_count": 474,
      "outputs": []
    },
    {
      "cell_type": "code",
      "metadata": {
        "colab": {
          "base_uri": "https://localhost:8080/",
          "height": 528
        },
        "id": "ndK4ByIOkQbP",
        "outputId": "3bba2dce-1f6e-48c4-8429-45bebb2fa9df"
      },
      "source": [
        "drive.mount('/content/gdrive')"
      ],
      "execution_count": 477,
      "outputs": [
        {
          "output_type": "error",
          "ename": "KeyboardInterrupt",
          "evalue": "ignored",
          "traceback": [
            "\u001b[0;31m---------------------------------------------------------------------------\u001b[0m",
            "\u001b[0;31mKeyboardInterrupt\u001b[0m                         Traceback (most recent call last)",
            "\u001b[0;32m/usr/local/lib/python3.7/dist-packages/ipykernel/kernelbase.py\u001b[0m in \u001b[0;36m_input_request\u001b[0;34m(self, prompt, ident, parent, password)\u001b[0m\n\u001b[1;32m    728\u001b[0m             \u001b[0;32mtry\u001b[0m\u001b[0;34m:\u001b[0m\u001b[0;34m\u001b[0m\u001b[0;34m\u001b[0m\u001b[0m\n\u001b[0;32m--> 729\u001b[0;31m                 \u001b[0mident\u001b[0m\u001b[0;34m,\u001b[0m \u001b[0mreply\u001b[0m \u001b[0;34m=\u001b[0m \u001b[0mself\u001b[0m\u001b[0;34m.\u001b[0m\u001b[0msession\u001b[0m\u001b[0;34m.\u001b[0m\u001b[0mrecv\u001b[0m\u001b[0;34m(\u001b[0m\u001b[0mself\u001b[0m\u001b[0;34m.\u001b[0m\u001b[0mstdin_socket\u001b[0m\u001b[0;34m,\u001b[0m \u001b[0;36m0\u001b[0m\u001b[0;34m)\u001b[0m\u001b[0;34m\u001b[0m\u001b[0;34m\u001b[0m\u001b[0m\n\u001b[0m\u001b[1;32m    730\u001b[0m             \u001b[0;32mexcept\u001b[0m \u001b[0mException\u001b[0m\u001b[0;34m:\u001b[0m\u001b[0;34m\u001b[0m\u001b[0;34m\u001b[0m\u001b[0m\n",
            "\u001b[0;32m/usr/local/lib/python3.7/dist-packages/jupyter_client/session.py\u001b[0m in \u001b[0;36mrecv\u001b[0;34m(self, socket, mode, content, copy)\u001b[0m\n\u001b[1;32m    802\u001b[0m         \u001b[0;32mtry\u001b[0m\u001b[0;34m:\u001b[0m\u001b[0;34m\u001b[0m\u001b[0;34m\u001b[0m\u001b[0m\n\u001b[0;32m--> 803\u001b[0;31m             \u001b[0mmsg_list\u001b[0m \u001b[0;34m=\u001b[0m \u001b[0msocket\u001b[0m\u001b[0;34m.\u001b[0m\u001b[0mrecv_multipart\u001b[0m\u001b[0;34m(\u001b[0m\u001b[0mmode\u001b[0m\u001b[0;34m,\u001b[0m \u001b[0mcopy\u001b[0m\u001b[0;34m=\u001b[0m\u001b[0mcopy\u001b[0m\u001b[0;34m)\u001b[0m\u001b[0;34m\u001b[0m\u001b[0;34m\u001b[0m\u001b[0m\n\u001b[0m\u001b[1;32m    804\u001b[0m         \u001b[0;32mexcept\u001b[0m \u001b[0mzmq\u001b[0m\u001b[0;34m.\u001b[0m\u001b[0mZMQError\u001b[0m \u001b[0;32mas\u001b[0m \u001b[0me\u001b[0m\u001b[0;34m:\u001b[0m\u001b[0;34m\u001b[0m\u001b[0;34m\u001b[0m\u001b[0m\n",
            "\u001b[0;32m/usr/local/lib/python3.7/dist-packages/zmq/sugar/socket.py\u001b[0m in \u001b[0;36mrecv_multipart\u001b[0;34m(self, flags, copy, track)\u001b[0m\n\u001b[1;32m    582\u001b[0m         \"\"\"\n\u001b[0;32m--> 583\u001b[0;31m         \u001b[0mparts\u001b[0m \u001b[0;34m=\u001b[0m \u001b[0;34m[\u001b[0m\u001b[0mself\u001b[0m\u001b[0;34m.\u001b[0m\u001b[0mrecv\u001b[0m\u001b[0;34m(\u001b[0m\u001b[0mflags\u001b[0m\u001b[0;34m,\u001b[0m \u001b[0mcopy\u001b[0m\u001b[0;34m=\u001b[0m\u001b[0mcopy\u001b[0m\u001b[0;34m,\u001b[0m \u001b[0mtrack\u001b[0m\u001b[0;34m=\u001b[0m\u001b[0mtrack\u001b[0m\u001b[0;34m)\u001b[0m\u001b[0;34m]\u001b[0m\u001b[0;34m\u001b[0m\u001b[0;34m\u001b[0m\u001b[0m\n\u001b[0m\u001b[1;32m    584\u001b[0m         \u001b[0;31m# have first part already, only loop while more to receive\u001b[0m\u001b[0;34m\u001b[0m\u001b[0;34m\u001b[0m\u001b[0;34m\u001b[0m\u001b[0m\n",
            "\u001b[0;32mzmq/backend/cython/socket.pyx\u001b[0m in \u001b[0;36mzmq.backend.cython.socket.Socket.recv\u001b[0;34m()\u001b[0m\n",
            "\u001b[0;32mzmq/backend/cython/socket.pyx\u001b[0m in \u001b[0;36mzmq.backend.cython.socket.Socket.recv\u001b[0;34m()\u001b[0m\n",
            "\u001b[0;32mzmq/backend/cython/socket.pyx\u001b[0m in \u001b[0;36mzmq.backend.cython.socket._recv_copy\u001b[0;34m()\u001b[0m\n",
            "\u001b[0;32m/usr/local/lib/python3.7/dist-packages/zmq/backend/cython/checkrc.pxd\u001b[0m in \u001b[0;36mzmq.backend.cython.checkrc._check_rc\u001b[0;34m()\u001b[0m\n",
            "\u001b[0;31mKeyboardInterrupt\u001b[0m: ",
            "\nDuring handling of the above exception, another exception occurred:\n",
            "\u001b[0;31mKeyboardInterrupt\u001b[0m                         Traceback (most recent call last)",
            "\u001b[0;32m<ipython-input-477-837f90cc644e>\u001b[0m in \u001b[0;36m<module>\u001b[0;34m()\u001b[0m\n\u001b[0;32m----> 1\u001b[0;31m \u001b[0mdrive\u001b[0m\u001b[0;34m.\u001b[0m\u001b[0mmount\u001b[0m\u001b[0;34m(\u001b[0m\u001b[0;34m'/content/gdrive'\u001b[0m\u001b[0;34m)\u001b[0m\u001b[0;34m\u001b[0m\u001b[0;34m\u001b[0m\u001b[0m\n\u001b[0m",
            "\u001b[0;32m/usr/local/lib/python3.7/dist-packages/google/colab/drive.py\u001b[0m in \u001b[0;36mmount\u001b[0;34m(mountpoint, force_remount, timeout_ms, use_metadata_server)\u001b[0m\n\u001b[1;32m    258\u001b[0m       \u001b[0;32mwith\u001b[0m \u001b[0m_output\u001b[0m\u001b[0;34m.\u001b[0m\u001b[0muse_tags\u001b[0m\u001b[0;34m(\u001b[0m\u001b[0;34m'dfs-auth-dance'\u001b[0m\u001b[0;34m)\u001b[0m\u001b[0;34m:\u001b[0m\u001b[0;34m\u001b[0m\u001b[0;34m\u001b[0m\u001b[0m\n\u001b[1;32m    259\u001b[0m         \u001b[0;32mwith\u001b[0m \u001b[0mopen\u001b[0m\u001b[0;34m(\u001b[0m\u001b[0mfifo\u001b[0m\u001b[0;34m,\u001b[0m \u001b[0;34m'w'\u001b[0m\u001b[0;34m)\u001b[0m \u001b[0;32mas\u001b[0m \u001b[0mfifo_file\u001b[0m\u001b[0;34m:\u001b[0m\u001b[0;34m\u001b[0m\u001b[0;34m\u001b[0m\u001b[0m\n\u001b[0;32m--> 260\u001b[0;31m           \u001b[0mfifo_file\u001b[0m\u001b[0;34m.\u001b[0m\u001b[0mwrite\u001b[0m\u001b[0;34m(\u001b[0m\u001b[0mget_code\u001b[0m\u001b[0;34m(\u001b[0m\u001b[0mauth_prompt\u001b[0m\u001b[0;34m)\u001b[0m \u001b[0;34m+\u001b[0m \u001b[0;34m'\\n'\u001b[0m\u001b[0;34m)\u001b[0m\u001b[0;34m\u001b[0m\u001b[0;34m\u001b[0m\u001b[0m\n\u001b[0m\u001b[1;32m    261\u001b[0m       \u001b[0mwrote_to_fifo\u001b[0m \u001b[0;34m=\u001b[0m \u001b[0;32mTrue\u001b[0m\u001b[0;34m\u001b[0m\u001b[0;34m\u001b[0m\u001b[0m\n\u001b[1;32m    262\u001b[0m     \u001b[0;32melif\u001b[0m \u001b[0mcase\u001b[0m \u001b[0;34m==\u001b[0m \u001b[0;36m5\u001b[0m\u001b[0;34m:\u001b[0m\u001b[0;34m\u001b[0m\u001b[0;34m\u001b[0m\u001b[0m\n",
            "\u001b[0;32m/usr/local/lib/python3.7/dist-packages/ipykernel/kernelbase.py\u001b[0m in \u001b[0;36mraw_input\u001b[0;34m(self, prompt)\u001b[0m\n\u001b[1;32m    702\u001b[0m             \u001b[0mself\u001b[0m\u001b[0;34m.\u001b[0m\u001b[0m_parent_ident\u001b[0m\u001b[0;34m,\u001b[0m\u001b[0;34m\u001b[0m\u001b[0;34m\u001b[0m\u001b[0m\n\u001b[1;32m    703\u001b[0m             \u001b[0mself\u001b[0m\u001b[0;34m.\u001b[0m\u001b[0m_parent_header\u001b[0m\u001b[0;34m,\u001b[0m\u001b[0;34m\u001b[0m\u001b[0;34m\u001b[0m\u001b[0m\n\u001b[0;32m--> 704\u001b[0;31m             \u001b[0mpassword\u001b[0m\u001b[0;34m=\u001b[0m\u001b[0;32mFalse\u001b[0m\u001b[0;34m,\u001b[0m\u001b[0;34m\u001b[0m\u001b[0;34m\u001b[0m\u001b[0m\n\u001b[0m\u001b[1;32m    705\u001b[0m         )\n\u001b[1;32m    706\u001b[0m \u001b[0;34m\u001b[0m\u001b[0m\n",
            "\u001b[0;32m/usr/local/lib/python3.7/dist-packages/ipykernel/kernelbase.py\u001b[0m in \u001b[0;36m_input_request\u001b[0;34m(self, prompt, ident, parent, password)\u001b[0m\n\u001b[1;32m    732\u001b[0m             \u001b[0;32mexcept\u001b[0m \u001b[0mKeyboardInterrupt\u001b[0m\u001b[0;34m:\u001b[0m\u001b[0;34m\u001b[0m\u001b[0;34m\u001b[0m\u001b[0m\n\u001b[1;32m    733\u001b[0m                 \u001b[0;31m# re-raise KeyboardInterrupt, to truncate traceback\u001b[0m\u001b[0;34m\u001b[0m\u001b[0;34m\u001b[0m\u001b[0;34m\u001b[0m\u001b[0m\n\u001b[0;32m--> 734\u001b[0;31m                 \u001b[0;32mraise\u001b[0m \u001b[0mKeyboardInterrupt\u001b[0m\u001b[0;34m\u001b[0m\u001b[0;34m\u001b[0m\u001b[0m\n\u001b[0m\u001b[1;32m    735\u001b[0m             \u001b[0;32melse\u001b[0m\u001b[0;34m:\u001b[0m\u001b[0;34m\u001b[0m\u001b[0;34m\u001b[0m\u001b[0m\n\u001b[1;32m    736\u001b[0m                 \u001b[0;32mbreak\u001b[0m\u001b[0;34m\u001b[0m\u001b[0;34m\u001b[0m\u001b[0m\n",
            "\u001b[0;31mKeyboardInterrupt\u001b[0m: "
          ]
        }
      ]
    },
    {
      "cell_type": "code",
      "metadata": {
        "colab": {
          "base_uri": "https://localhost:8080/"
        },
        "id": "11dIrHGCkUyY",
        "outputId": "be8d5e44-f50f-426c-da11-6e1ecec3f4b1"
      },
      "source": [
        "ls '/content/gdrive/MyDrive'"
      ],
      "execution_count": 338,
      "outputs": [
        {
          "output_type": "stream",
          "text": [
            "'070201 EQM-KY7-002 s.doc.gdoc'\n",
            " 08272013-02272014.pdf\n",
            " Agenda08_30_final.gdoc\n",
            "'Alan Aug 2008 Flyer.gdoc'\n",
            " Analysis\n",
            "\u001b[0m\u001b[01;34m'Awesome Note'\u001b[0m/\n",
            " azcopy\n",
            "'Boarding Pass - Check-in _ Spirit Airlines.pdf'\n",
            " carta.gdoc\n",
            " cartas.gdoc\n",
            "\u001b[01;34m'Clase 2'\u001b[0m/\n",
            " \u001b[01;34mClassroom\u001b[0m/\n",
            " cluster.pdf\n",
            "\u001b[01;34m'Colab Notebooks'\u001b[0m/\n",
            "'Comp3 KY6 ProjectProg_Aug07.gdoc'\n",
            "'Comp3 KY7 ProjectProg_Aug07.gdoc'\n",
            " Comp3ProjectProg_Feb07.doc.gdoc\n",
            " Comp3ProjectProg_June07.gdoc\n",
            " Conferencia1.xlsx\n",
            "'Corodoba Court lawn service 090614.xlsx'\n",
            "'Corodoba Court lawn service 090614.xlsx.gsheet'\n",
            "'Crear subrutina para creacion de grid.gdoc'\n",
            "'Curso_OG_en_Day 1.pptx'\n",
            " \u001b[01;34mCURSO_PERU\u001b[0m/\n",
            "'Datos de entrada'\n",
            " DESARROLLO.gdoc\n",
            "'displacement bc'\n",
            " DSC09906.JPG\n",
            " DSC09906.png\n",
            " EmotivGamePatch1_zip.gdoc\n",
            " EQM-KY07-02.doc.gdoc\n",
            "'Estimado Stefan corregido.doc.gdoc'\n",
            " File_001.png\n",
            " Geomechanics\n",
            "'Geomechanics with Python. Part 1.mp4'\n",
            " geo_mult.gdoc\n",
            "\u001b[01;34m'Google Buzz'\u001b[0m/\n",
            "'Hoy estoy trabajando en STOMP. Hace f....gdoc'\n",
            "'http:  www.sleekwire.com index.php?pa....gdoc'\n",
            "\"Imported from Google Notebook - Asperger's.gdoc\"\n",
            "'Imported from Google Notebook - Mobile notes.gdoc'\n",
            " input.xlsx\n",
            " input.xlsx.gsheet\n",
            " JanuaryTrainingInternalAcccounts.xlsx\n",
            "'jstock-fe78440e-e0fe-4efb-881d-264a01be483c-checksum=3499429789-date=1427415097216-version=1107.zip'\n",
            "'la 2a. entrega.docx'\n",
            "'la 2a. entrega.gdoc'\n",
            "'Marisela Sanchez.jpg'\n",
            " MatCreateSeqAIJWithArrays.gdoc\n",
            " \u001b[01;34mmoney-eq-meditation\u001b[0m/\n",
            "'My Saved Places.gmap'\n",
            " NI_APERDIDAporfavorreenvielo.gdoc\n",
            "'Notas Sant. LFH 5 de 7.pdf'\n",
            " \u001b[01;34mOpenSim_Alana\u001b[0m/\n",
            "'PALACIOS 6 Y 7.jpeg'\n",
            "'PCR-92-14, Water damage repairs 2512 Bevis St.pdf'\n",
            " poema.gdoc\n",
            "'Press Space or double-click to edit.mup'\n",
            "'PRIETO 3.jpeg'\n",
            " PROPUESTAS.gdoc\n",
            "'py3 in one pic.png'\n",
            " \u001b[01;34mpython_trainning\u001b[0m/\n",
            " \u001b[01;34mRecorderPlus\u001b[0m/\n",
            "'Reference Letter - Adolfo Rodriguez.doc.gdoc'\n",
            "'Resumen Curricular Ing F Rovira.gdoc'\n",
            "'SEGUNDA ENTREGA.docx'\n",
            "'SEGUNDA ENTREGA.gdoc'\n",
            "'seguro carros.gsheet'\n",
            " \u001b[01;34mTakeout\u001b[0m/\n",
            "'Tech_Presentation_Candidate_Brief v12.gdoc'\n",
            "'Untitled presentation.gslides'\n"
          ],
          "name": "stdout"
        }
      ]
    },
    {
      "cell_type": "code",
      "metadata": {
        "id": "liWZrbRZkrn9"
      },
      "source": [
        ""
      ],
      "execution_count": null,
      "outputs": []
    }
  ]
}