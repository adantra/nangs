{
  "nbformat": 4,
  "nbformat_minor": 0,
  "metadata": {
    "accelerator": "GPU",
    "colab": {
      "name": "Difussion1D_1.0.ipynb",
      "provenance": [],
      "collapsed_sections": [],
      "machine_shape": "hm",
      "include_colab_link": true
    },
    "kernelspec": {
      "display_name": "Python 3",
      "language": "python",
      "name": "python3"
    },
    "language_info": {
      "codemirror_mode": {
        "name": "ipython",
        "version": 3
      },
      "file_extension": ".py",
      "mimetype": "text/x-python",
      "name": "python",
      "nbconvert_exporter": "python",
      "pygments_lexer": "ipython3",
      "version": "3.9.5"
    }
  },
  "cells": [
    {
      "cell_type": "markdown",
      "metadata": {
        "id": "view-in-github",
        "colab_type": "text"
      },
      "source": [
        "<a href=\"https://colab.research.google.com/github/adantra/nangs/blob/master/Difussion1D_1_0.ipynb\" target=\"_parent\"><img src=\"https://colab.research.google.com/assets/colab-badge.svg\" alt=\"Open In Colab\"/></a>"
      ]
    },
    {
      "cell_type": "code",
      "metadata": {
        "colab": {
          "base_uri": "https://localhost:8080/"
        },
        "id": "49OBlKX_2X0p",
        "outputId": "1a58be75-6420-4dfc-ead0-3bfc4c3a9e89"
      },
      "source": [
        "!pip install nangs"
      ],
      "execution_count": 347,
      "outputs": [
        {
          "output_type": "stream",
          "text": [
            "Requirement already satisfied: nangs in /usr/local/lib/python3.7/dist-packages (0.1.2)\n"
          ],
          "name": "stdout"
        }
      ]
    },
    {
      "cell_type": "code",
      "metadata": {
        "id": "LyXPy8I92Z7g"
      },
      "source": [
        "# autoreload nangs\n",
        "%reload_ext autoreload\n",
        "%autoreload 2\n",
        "%matplotlib inline"
      ],
      "execution_count": 348,
      "outputs": []
    },
    {
      "cell_type": "code",
      "metadata": {
        "id": "U2WOWy_Hp4oE"
      },
      "source": [
        ""
      ],
      "execution_count": 348,
      "outputs": []
    },
    {
      "cell_type": "code",
      "metadata": {
        "colab": {
          "base_uri": "https://localhost:8080/"
        },
        "id": "2tc_1Iyo2lV-",
        "outputId": "8b008509-4413-4fed-ae92-65ad69d2ff2e"
      },
      "source": [
        "#imports\n",
        "\n",
        "import numpy as np \n",
        "import matplotlib.pyplot as plt \n",
        "import torch\n",
        "import pandas as pd\n",
        "import nangs\n",
        "from nangs import *\n",
        "\n",
        "device = \"cuda\" if torch.cuda.is_available() else \"cpu\"\n",
        "\n",
        "nangs.__version__, torch.__version__"
      ],
      "execution_count": 349,
      "outputs": [
        {
          "output_type": "execute_result",
          "data": {
            "text/plain": [
              "('0.1.2', '1.9.0+cu102')"
            ]
          },
          "metadata": {
            "tags": []
          },
          "execution_count": 349
        }
      ]
    },
    {
      "cell_type": "code",
      "metadata": {
        "id": "DUxgB4S-p-AD"
      },
      "source": [
        "class Sine(torch.nn.Module):\n",
        "    def __init__(self):\n",
        "        super().__init__()\n",
        "\n",
        "    def forward(self, x):\n",
        "        return torch.sin(x)\n",
        "\n",
        "\n",
        "def block(i, o):\n",
        "    fc = torch.nn.Linear(i, o)\n",
        "    return torch.nn.Sequential(\n",
        "        #Sine(),\n",
        "        torch.nn.GELU(),\n",
        "        torch.nn.Linear(i, o)\n",
        "    )\n",
        "\n",
        "\n",
        "class MLP(torch.nn.Module):\n",
        "    def __init__(self, inputs, outputs, layers, neurons):\n",
        "        super().__init__()\n",
        "        fc_in = torch.nn.Linear(inputs, neurons)\n",
        "        fc_hidden = [\n",
        "            block(neurons, neurons)\n",
        "            for layer in range(layers-1)\n",
        "        ]\n",
        "        fc_out = block(neurons, outputs)\n",
        "\n",
        "        self.mlp = torch.nn.Sequential(\n",
        "            fc_in,\n",
        "            *fc_hidden,\n",
        "            fc_out\n",
        "        )\n",
        "\n",
        "    def forward(self, x):\n",
        "        return self.mlp(x)"
      ],
      "execution_count": 350,
      "outputs": []
    },
    {
      "cell_type": "code",
      "metadata": {
        "colab": {
          "base_uri": "https://localhost:8080/",
          "height": 37
        },
        "id": "rTta38DB2obV",
        "outputId": "623e6d9f-d18f-41b5-e202-e00299156e18"
      },
      "source": [
        "device\n"
      ],
      "execution_count": 351,
      "outputs": [
        {
          "output_type": "execute_result",
          "data": {
            "application/vnd.google.colaboratory.intrinsic+json": {
              "type": "string"
            },
            "text/plain": [
              "'cuda'"
            ]
          },
          "metadata": {
            "tags": []
          },
          "execution_count": 351
        }
      ]
    },
    {
      "cell_type": "code",
      "metadata": {
        "id": "W55VlZAO2vcY"
      },
      "source": [
        "alpha=10\n",
        "class Difussion2d(PDE):\n",
        "    def computePDELoss(self, inputs, outputs):\n",
        "        p = outputs[:, 0]\n",
        "        grads = self.computeGrads(p, inputs)\n",
        "        dpdx, dpdt = grads[:, 0], grads[:, 1]\n",
        "        # second order derivatives        \n",
        "        dp2dx2 = self.computeGrads(dpdx, inputs)[:, 0] \n",
        "        #dp2dy2 = self.computeGrads(dpdy, inputs)[:, 1]\n",
        "        return {'pde':dpdt - dp2dx2}"
      ],
      "execution_count": 444,
      "outputs": []
    },
    {
      "cell_type": "code",
      "metadata": {
        "id": "Wuq89V6s3dOX"
      },
      "source": [
        "class NeumannX(Neumann):\n",
        "    def computeBocoLoss(self, inputs, outputs):\n",
        "        p = outputs[:, 0]\n",
        "        grads = self.computeGrads(p, inputs)\n",
        "        dpdx = grads[:, 0]\n",
        "        return {'gradX': dpdx}"
      ],
      "execution_count": 445,
      "outputs": []
    },
    {
      "cell_type": "code",
      "metadata": {
        "id": "rvzoV1AWGmUc"
      },
      "source": [
        "class PBC0(Neumann):\n",
        "    def computeBocoLoss(self, inputs, outputs):\n",
        "        pbc = 0\n",
        "        p = outputs[:, 0]\n",
        "        return {'PWF': 100*(p-pbc)}"
      ],
      "execution_count": 446,
      "outputs": []
    },
    {
      "cell_type": "code",
      "metadata": {
        "id": "IturBEIS3jyj"
      },
      "source": [
        "pde = Difussion2d(inputs=('x', 't'), outputs='p')"
      ],
      "execution_count": 447,
      "outputs": []
    },
    {
      "cell_type": "code",
      "metadata": {
        "id": "noGwdmy4i-iJ"
      },
      "source": [
        "def append(arr, values, axis=None):\n",
        "    arr = np.asanyarray(arr)\n",
        "    if axis is None:\n",
        "        if arr.ndim != 1:\n",
        "            arr = arr.ravel()\n",
        "        values = np.ravel(values)\n",
        "        axis = arr.ndim-1\n",
        "    return np.concatenate((arr, values), axis=axis)"
      ],
      "execution_count": 448,
      "outputs": []
    },
    {
      "cell_type": "code",
      "metadata": {
        "id": "v6s9koba3mHJ"
      },
      "source": [
        "# mesh \n",
        "\n",
        "x = np.linspace(0,1,100)\n",
        "\n",
        "t = np.linspace(0,1,100)\n",
        "#t = append(t,np.linspace(0.2,1,10))\n",
        "#t=np.array([0])\n",
        "#tt=np.logspace(-2,0,20)\n",
        "#t = append(t,tt)\n",
        "mesh = Mesh({'x': x, 't':t}, device=device)\n",
        "pde.set_mesh(mesh)"
      ],
      "execution_count": 449,
      "outputs": []
    },
    {
      "cell_type": "code",
      "metadata": {
        "colab": {
          "base_uri": "https://localhost:8080/"
        },
        "id": "QTH01WKejTBR",
        "outputId": "bf0becf6-1cc9-4ad5-bbfc-029d45e2d390"
      },
      "source": [
        "t"
      ],
      "execution_count": 450,
      "outputs": [
        {
          "output_type": "execute_result",
          "data": {
            "text/plain": [
              "array([0.        , 0.01010101, 0.02020202, 0.03030303, 0.04040404,\n",
              "       0.05050505, 0.06060606, 0.07070707, 0.08080808, 0.09090909,\n",
              "       0.1010101 , 0.11111111, 0.12121212, 0.13131313, 0.14141414,\n",
              "       0.15151515, 0.16161616, 0.17171717, 0.18181818, 0.19191919,\n",
              "       0.2020202 , 0.21212121, 0.22222222, 0.23232323, 0.24242424,\n",
              "       0.25252525, 0.26262626, 0.27272727, 0.28282828, 0.29292929,\n",
              "       0.3030303 , 0.31313131, 0.32323232, 0.33333333, 0.34343434,\n",
              "       0.35353535, 0.36363636, 0.37373737, 0.38383838, 0.39393939,\n",
              "       0.4040404 , 0.41414141, 0.42424242, 0.43434343, 0.44444444,\n",
              "       0.45454545, 0.46464646, 0.47474747, 0.48484848, 0.49494949,\n",
              "       0.50505051, 0.51515152, 0.52525253, 0.53535354, 0.54545455,\n",
              "       0.55555556, 0.56565657, 0.57575758, 0.58585859, 0.5959596 ,\n",
              "       0.60606061, 0.61616162, 0.62626263, 0.63636364, 0.64646465,\n",
              "       0.65656566, 0.66666667, 0.67676768, 0.68686869, 0.6969697 ,\n",
              "       0.70707071, 0.71717172, 0.72727273, 0.73737374, 0.74747475,\n",
              "       0.75757576, 0.76767677, 0.77777778, 0.78787879, 0.7979798 ,\n",
              "       0.80808081, 0.81818182, 0.82828283, 0.83838384, 0.84848485,\n",
              "       0.85858586, 0.86868687, 0.87878788, 0.88888889, 0.8989899 ,\n",
              "       0.90909091, 0.91919192, 0.92929293, 0.93939394, 0.94949495,\n",
              "       0.95959596, 0.96969697, 0.97979798, 0.98989899, 1.        ])"
            ]
          },
          "metadata": {
            "tags": []
          },
          "execution_count": 450
        }
      ]
    },
    {
      "cell_type": "code",
      "metadata": {
        "id": "OkCZuKCO3o1C"
      },
      "source": [
        "from nangs import Dirichlet"
      ],
      "execution_count": 451,
      "outputs": []
    },
    {
      "cell_type": "code",
      "metadata": {
        "id": "FNI7VwAX3tN2"
      },
      "source": [
        "t0 = np.array([0])"
      ],
      "execution_count": 452,
      "outputs": []
    },
    {
      "cell_type": "code",
      "metadata": {
        "id": "kP0TCEoD3veq"
      },
      "source": [
        "_x = np.meshgrid(x)\n",
        "#p0 = np.sin(2*np.pi*_x)*np.sin(2*np.pi*_y)"
      ],
      "execution_count": 453,
      "outputs": []
    },
    {
      "cell_type": "code",
      "metadata": {
        "colab": {
          "base_uri": "https://localhost:8080/"
        },
        "id": "OlTzWIthkgYA",
        "outputId": "a1846e65-c47f-4e4a-fff1-aa9c228cf334"
      },
      "source": [
        "_x[0].shape"
      ],
      "execution_count": 454,
      "outputs": [
        {
          "output_type": "execute_result",
          "data": {
            "text/plain": [
              "(100,)"
            ]
          },
          "metadata": {
            "tags": []
          },
          "execution_count": 454
        }
      ]
    },
    {
      "cell_type": "code",
      "metadata": {
        "id": "1h1r1FFh9TXV"
      },
      "source": [
        "p0=np.zeros((100))\n",
        "p0[:]=1\n",
        "p0[0]=0\n",
        "#p0[47:53,47:53]=1"
      ],
      "execution_count": 455,
      "outputs": []
    },
    {
      "cell_type": "code",
      "metadata": {
        "colab": {
          "base_uri": "https://localhost:8080/"
        },
        "id": "cbRFGIf4s5pQ",
        "outputId": "c547588b-c368-4066-82d1-89d6062d2ec0"
      },
      "source": [
        "p0.shape"
      ],
      "execution_count": 456,
      "outputs": [
        {
          "output_type": "execute_result",
          "data": {
            "text/plain": [
              "(100,)"
            ]
          },
          "metadata": {
            "tags": []
          },
          "execution_count": 456
        }
      ]
    },
    {
      "cell_type": "code",
      "metadata": {
        "colab": {
          "base_uri": "https://localhost:8080/",
          "height": 282
        },
        "id": "t5gEEWsX9VdN",
        "outputId": "117631ca-4631-42d3-e0b1-5aaab2b0b2f7"
      },
      "source": [
        "from mpl_toolkits.mplot3d import Axes3D\n",
        "import matplotlib.pyplot as plt\n",
        "from matplotlib import cm\n",
        "fig = plt.figure()\n",
        "#ax = fig.gca(projection='3d')\n",
        "plt.plot(_x[0], p0)\n",
        "#fig.colorbar(surf, shrink=0.5, aspect=5)\n",
        "#plt.show()"
      ],
      "execution_count": 457,
      "outputs": [
        {
          "output_type": "execute_result",
          "data": {
            "text/plain": [
              "[<matplotlib.lines.Line2D at 0x7f23c665e310>]"
            ]
          },
          "metadata": {
            "tags": []
          },
          "execution_count": 457
        },
        {
          "output_type": "display_data",
          "data": {
            "image/png": "[encoded data removed]",
            "text/plain": [
              "<Figure size 432x288 with 1 Axes>"
            ]
          },
          "metadata": {
            "tags": [],
            "needs_background": "light"
          }
        }
      ]
    },
    {
      "cell_type": "code",
      "metadata": {
        "id": "8pM3FPKv3yMj"
      },
      "source": [
        "initial_condition = Dirichlet({'x': x,'t':t0}, {'p': p0.reshape(-1)}, device=device, name=\"initial\")"
      ],
      "execution_count": 458,
      "outputs": []
    },
    {
      "cell_type": "code",
      "metadata": {
        "colab": {
          "base_uri": "https://localhost:8080/"
        },
        "id": "fBsIBMfslJL1",
        "outputId": "085d90b7-8823-4121-9d8a-ee2c0c2a0c60"
      },
      "source": [
        "p0.shape"
      ],
      "execution_count": 459,
      "outputs": [
        {
          "output_type": "execute_result",
          "data": {
            "text/plain": [
              "(100,)"
            ]
          },
          "metadata": {
            "tags": []
          },
          "execution_count": 459
        }
      ]
    },
    {
      "cell_type": "code",
      "metadata": {
        "id": "OXFa0Hpi30nP"
      },
      "source": [
        "pde.add_boco(initial_condition)\n",
        "#p0=np.ones(len(y))\n",
        "#p1=np.zeros(len(y))"
      ],
      "execution_count": 460,
      "outputs": []
    },
    {
      "cell_type": "code",
      "metadata": {
        "id": "Hi6Telpj32z3"
      },
      "source": [
        "pwf = PBC0({'x': np.array([0]),'t':t}, name='pwf', device=device)\n",
        "#left = Dirichlet({'x': x, 'y': y}, {'p': p0.reshape(-1)}, device=device, name=\"left\")"
      ],
      "execution_count": 461,
      "outputs": []
    },
    {
      "cell_type": "code",
      "metadata": {
        "id": "i-gJ-qWG35HC"
      },
      "source": [
        "pde.add_boco(pwf)"
      ],
      "execution_count": 462,
      "outputs": []
    },
    {
      "cell_type": "code",
      "metadata": {
        "id": "P9dMp4We38-y"
      },
      "source": [
        "#right = PBC0({'x': np.array([1]), 'y': y, 't':t}, name='right', device=device)\n",
        "#right = Dirichlet({'x': x[-1], 'y': y}, {'p': p1.reshape(-1)}, device=device, name=\"right\")\n",
        "right =  NeumannX({'x': x[-1],'t':t}, name='right', device=device)"
      ],
      "execution_count": 463,
      "outputs": []
    },
    {
      "cell_type": "code",
      "metadata": {
        "id": "-zK0NPGN3_Pm"
      },
      "source": [
        "pde.add_boco(right)"
      ],
      "execution_count": 464,
      "outputs": []
    },
    {
      "cell_type": "code",
      "metadata": {
        "id": "_Zf3hbzK4NSo"
      },
      "source": [
        "#from nangs import MLP\n",
        "\n",
        "BATCH_SIZE = 128\n",
        "LR = 1e-2\n",
        "EPOCHS = 250\n",
        "NUM_LAYERS = 4\n",
        "NUM_HIDDEN = 50\n",
        "\n",
        "mlp = MLP(len(pde.inputs), len(pde.outputs), NUM_LAYERS, NUM_HIDDEN).to(device)\n",
        "optimizer = torch.optim.Adam(mlp.parameters())\n",
        "scheduler = torch.optim.lr_scheduler.OneCycleLR(optimizer, max_lr=LR, pct_start=0.1, total_steps=EPOCHS)"
      ],
      "execution_count": 465,
      "outputs": []
    },
    {
      "cell_type": "code",
      "metadata": {
        "colab": {
          "base_uri": "https://localhost:8080/"
        },
        "id": "DktJWI5nop1Z",
        "outputId": "1a913675-2dad-4d7d-b77f-175c4f79a045"
      },
      "source": [
        "mlp"
      ],
      "execution_count": 466,
      "outputs": [
        {
          "output_type": "execute_result",
          "data": {
            "text/plain": [
              "MLP(\n",
              "  (mlp): Sequential(\n",
              "    (0): Linear(in_features=2, out_features=50, bias=True)\n",
              "    (1): Sequential(\n",
              "      (0): GELU()\n",
              "      (1): Linear(in_features=50, out_features=50, bias=True)\n",
              "    )\n",
              "    (2): Sequential(\n",
              "      (0): GELU()\n",
              "      (1): Linear(in_features=50, out_features=50, bias=True)\n",
              "    )\n",
              "    (3): Sequential(\n",
              "      (0): GELU()\n",
              "      (1): Linear(in_features=50, out_features=50, bias=True)\n",
              "    )\n",
              "    (4): Sequential(\n",
              "      (0): GELU()\n",
              "      (1): Linear(in_features=50, out_features=1, bias=True)\n",
              "    )\n",
              "  )\n",
              ")"
            ]
          },
          "metadata": {
            "tags": []
          },
          "execution_count": 466
        }
      ]
    },
    {
      "cell_type": "code",
      "metadata": {
        "id": "8X6ETD6M7aFn"
      },
      "source": [
        "\n",
        "scheduler = torch.optim.lr_scheduler.OneCycleLR(optimizer, max_lr=LR, pct_start=0.1, total_steps=EPOCHS)"
      ],
      "execution_count": 467,
      "outputs": []
    },
    {
      "cell_type": "code",
      "metadata": {
        "id": "nmlVwfsY4Qpj"
      },
      "source": [
        "pde.compile(mlp, optimizer, scheduler)"
      ],
      "execution_count": 468,
      "outputs": []
    },
    {
      "cell_type": "code",
      "metadata": {
        "colab": {
          "base_uri": "https://localhost:8080/",
          "height": 1000
        },
        "id": "4HdLw0uL4TA9",
        "outputId": "f53dc155-bd4e-4866-c358-047e220e8ed1"
      },
      "source": [
        "\n",
        "%time hist = pde.solve(EPOCHS, BATCH_SIZE)"
      ],
      "execution_count": 469,
      "outputs": [
        {
          "output_type": "display_data",
          "data": {
            "text/html": [
              "Epoch 1/250  | lr 0.0004 | initial 0.95832 | pwf_PWF 15.29493 | right_gradX 0.0 | pde 4e-05<p>Epoch 2/250  | lr 0.00044 | initial 0.98294 | pwf_PWF 0.15229 | right_gradX 1e-05 | pde 0.0<p>Epoch 3/250  | lr 0.00056 | initial 0.98339 | pwf_PWF 0.003 | right_gradX 3e-05 | pde 0.0<p>Epoch 4/250  | lr 0.00077 | initial 0.98035 | pwf_PWF 0.00048 | right_gradX 7e-05 | pde 0.0<p>Epoch 5/250  | lr 0.00104 | initial 0.97519 | pwf_PWF 0.00028 | right_gradX 0.0002 | pde 1e-05<p>Epoch 6/250  | lr 0.00139 | initial 0.96547 | pwf_PWF 0.00024 | right_gradX 0.00063 | pde 5e-05<p>Epoch 7/250  | lr 0.00181 | initial 0.94369 | pwf_PWF 0.00019 | right_gradX 0.00274 | pde 0.00037<p>Epoch 8/250  | lr 0.00228 | initial 0.88718 | pwf_PWF 0.00017 | right_gradX 0.01245 | pde 0.00223<p>Epoch 9/250  | lr 0.0028 | initial 0.72948 | pwf_PWF 0.00022 | right_gradX 0.03554 | pde 0.01616<p>Epoch 10/250  | lr 0.00336 | initial 0.38798 | pwf_PWF 0.00136 | right_gradX 0.06169 | pde 0.04815<p>Epoch 11/250  | lr 0.00396 | initial 0.19855 | pwf_PWF 0.00665 | right_gradX 0.00658 | pde 0.04493<p>Epoch 12/250  | lr 0.00457 | initial 0.21199 | pwf_PWF 0.12296 | right_gradX 0.0014 | pde 0.02391<p>Epoch 13/250  | lr 0.0052 | initial 0.17552 | pwf_PWF 0.00044 | right_gradX 0.00109 | pde 0.01123<p>Epoch 14/250  | lr 0.00583 | initial 0.17307 | pwf_PWF 0.00052 | right_gradX 0.00149 | pde 0.0075<p>Epoch 15/250  | lr 0.00644 | initial 0.17098 | pwf_PWF 0.0007 | right_gradX 0.00154 | pde 0.00717<p>Epoch 16/250  | lr 0.00704 | initial 0.197 | pwf_PWF 0.1088 | right_gradX 0.00157 | pde 0.01369<p>Epoch 17/250  | lr 0.0076 | initial 0.16858 | pwf_PWF 0.00088 | right_gradX 0.00168 | pde 0.00999<p>Epoch 18/250  | lr 0.00812 | initial 0.16678 | pwf_PWF 0.00098 | right_gradX 0.00172 | pde 0.00838<p>Epoch 19/250  | lr 0.00859 | initial 0.21402 | pwf_PWF 0.17851 | right_gradX 0.00219 | pde 0.02287<p>Epoch 20/250  | lr 0.00901 | initial 0.1659 | pwf_PWF 0.00131 | right_gradX 0.00165 | pde 0.01052<p>Epoch 21/250  | lr 0.00936 | initial 0.16492 | pwf_PWF 0.01162 | right_gradX 0.00189 | pde 0.00955<p>Epoch 22/250  | lr 0.00963 | initial 0.164 | pwf_PWF 0.02431 | right_gradX 0.00239 | pde 0.00971<p>Epoch 23/250  | lr 0.00984 | initial 0.16128 | pwf_PWF 0.01625 | right_gradX 0.00272 | pde 0.00969<p>Epoch 24/250  | lr 0.00996 | initial 0.16132 | pwf_PWF 0.03223 | right_gradX 0.00351 | pde 0.01178<p>Epoch 25/250  | lr 0.01 | initial 0.15929 | pwf_PWF 0.02211 | right_gradX 0.00303 | pde 0.00967<p>Epoch 26/250  | lr 0.01 | initial 0.15736 | pwf_PWF 0.017 | right_gradX 0.00326 | pde 0.00992<p>Epoch 27/250  | lr 0.01 | initial 0.15538 | pwf_PWF 0.01883 | right_gradX 0.00412 | pde 0.01189<p>Epoch 28/250  | lr 0.01 | initial 0.15286 | pwf_PWF 0.01245 | right_gradX 0.00373 | pde 0.0097<p>Epoch 29/250  | lr 0.00999 | initial 0.15031 | pwf_PWF 0.01702 | right_gradX 0.00435 | pde 0.01049<p>Epoch 30/250  | lr 0.00999 | initial 0.14901 | pwf_PWF 0.03216 | right_gradX 0.00488 | pde 0.01344<p>Epoch 31/250  | lr 0.00998 | initial 0.14724 | pwf_PWF 0.03192 | right_gradX 0.0048 | pde 0.01469<p>Epoch 32/250  | lr 0.00998 | initial 0.14037 | pwf_PWF 0.01207 | right_gradX 0.0056 | pde 0.01398<p>Epoch 33/250  | lr 0.00997 | initial 0.13764 | pwf_PWF 0.03604 | right_gradX 0.00517 | pde 0.01686<p>Epoch 34/250  | lr 0.00996 | initial 0.16231 | pwf_PWF 0.15226 | right_gradX 0.00579 | pde 0.03272<p>Epoch 35/250  | lr 0.00995 | initial 0.13276 | pwf_PWF 0.00549 | right_gradX 0.00441 | pde 0.01503<p>Epoch 36/250  | lr 0.00994 | initial 0.12596 | pwf_PWF 0.00446 | right_gradX 0.00458 | pde 0.01601<p>Epoch 37/250  | lr 0.00993 | initial 0.11833 | pwf_PWF 0.00309 | right_gradX 0.00417 | pde 0.01527<p>Epoch 38/250  | lr 0.00992 | initial 0.11394 | pwf_PWF 0.01878 | right_gradX 0.00464 | pde 0.02144<p>Epoch 39/250  | lr 0.0099 | initial 0.1103 | pwf_PWF 0.02646 | right_gradX 0.00396 | pde 0.02894<p>Epoch 40/250  | lr 0.00989 | initial 0.10685 | pwf_PWF 0.0248 | right_gradX 0.00333 | pde 0.02289<p>Epoch 41/250  | lr 0.00988 | initial 0.13623 | pwf_PWF 0.12675 | right_gradX 0.00516 | pde 0.04671<p>Epoch 42/250  | lr 0.00986 | initial 0.1146 | pwf_PWF 0.01114 | right_gradX 0.00321 | pde 0.03068<p>Epoch 43/250  | lr 0.00984 | initial 0.10128 | pwf_PWF 0.01007 | right_gradX 0.00278 | pde 0.02355<p>Epoch 44/250  | lr 0.00983 | initial 0.09542 | pwf_PWF 0.01453 | right_gradX 0.00233 | pde 0.02469<p>Epoch 45/250  | lr 0.00981 | initial 0.09657 | pwf_PWF 0.03549 | right_gradX 0.0021 | pde 0.03946<p>Epoch 46/250  | lr 0.00979 | initial 0.20719 | pwf_PWF 0.22434 | right_gradX 0.00315 | pde 0.03945<p>Epoch 47/250  | lr 0.00977 | initial 0.11974 | pwf_PWF 0.01029 | right_gradX 0.00298 | pde 0.03968<p>Epoch 48/250  | lr 0.00974 | initial 0.10238 | pwf_PWF 0.01263 | right_gradX 0.00227 | pde 0.04078<p>Epoch 49/250  | lr 0.00972 | initial 0.12054 | pwf_PWF 0.00865 | right_gradX 0.00151 | pde 0.02186<p>Epoch 50/250  | lr 0.0097 | initial 0.08841 | pwf_PWF 0.00754 | right_gradX 0.00141 | pde 0.02255<p>Epoch 51/250  | lr 0.00967 | initial 0.08814 | pwf_PWF 0.0169 | right_gradX 0.00145 | pde 0.02137<p>Epoch 52/250  | lr 0.00965 | initial 0.08579 | pwf_PWF 0.01507 | right_gradX 0.00146 | pde 0.02286<p>Epoch 53/250  | lr 0.00962 | initial 0.11226 | pwf_PWF 0.04188 | right_gradX 0.00268 | pde 0.04674<p>Epoch 54/250  | lr 0.0096 | initial 0.08304 | pwf_PWF 0.01502 | right_gradX 0.00095 | pde 0.02283<p>Epoch 55/250  | lr 0.00957 | initial 0.09191 | pwf_PWF 0.02476 | right_gradX 0.00146 | pde 0.02536<p>Epoch 56/250  | lr 0.00954 | initial 0.08406 | pwf_PWF 0.02117 | right_gradX 0.0011 | pde 0.02616<p>Epoch 57/250  | lr 0.00951 | initial 0.0847 | pwf_PWF 0.02479 | right_gradX 0.00136 | pde 0.03189<p>Epoch 58/250  | lr 0.00948 | initial 0.12115 | pwf_PWF 0.07433 | right_gradX 0.00307 | pde 0.06238<p>Epoch 59/250  | lr 0.00945 | initial 0.14424 | pwf_PWF 0.06825 | right_gradX 0.00132 | pde 0.04019<p>Epoch 60/250  | lr 0.00941 | initial 0.11308 | pwf_PWF 0.00177 | right_gradX 0.00177 | pde 0.00774<p>Epoch 61/250  | lr 0.00938 | initial 0.09607 | pwf_PWF 0.01236 | right_gradX 0.00087 | pde 0.02465<p>Epoch 62/250  | lr 0.00935 | initial 0.08926 | pwf_PWF 0.01063 | right_gradX 0.00089 | pde 0.01789<p>Epoch 63/250  | lr 0.00931 | initial 0.08453 | pwf_PWF 0.01615 | right_gradX 0.00074 | pde 0.02581<p>Epoch 64/250  | lr 0.00928 | initial 0.09818 | pwf_PWF 0.02685 | right_gradX 0.00129 | pde 0.04477<p>Epoch 65/250  | lr 0.00924 | initial 0.13963 | pwf_PWF 0.06031 | right_gradX 0.00154 | pde 0.04687<p>Epoch 66/250  | lr 0.0092 | initial 0.08219 | pwf_PWF 0.00399 | right_gradX 0.00056 | pde 0.01196<p>Epoch 67/250  | lr 0.00916 | initial 0.20675 | pwf_PWF 0.23545 | right_gradX 0.00331 | pde 0.07986<p>Epoch 68/250  | lr 0.00913 | initial 0.08989 | pwf_PWF 0.00794 | right_gradX 0.00047 | pde 0.01763<p>Epoch 69/250  | lr 0.00909 | initial 0.0888 | pwf_PWF 0.00962 | right_gradX 0.00053 | pde 0.02933<p>Epoch 70/250  | lr 0.00905 | initial 0.1961 | pwf_PWF 0.04692 | right_gradX 0.00196 | pde 0.07561<p>Epoch 71/250  | lr 0.009 | initial 0.14232 | pwf_PWF 0.01428 | right_gradX 0.00117 | pde 0.01137<p>Epoch 72/250  | lr 0.00896 | initial 0.10816 | pwf_PWF 0.01507 | right_gradX 0.00134 | pde 0.02008<p>Epoch 73/250  | lr 0.00892 | initial 0.088 | pwf_PWF 0.0111 | right_gradX 0.00045 | pde 0.02306<p>Epoch 74/250  | lr 0.00887 | initial 0.08105 | pwf_PWF 0.0095 | right_gradX 0.00055 | pde 0.01752<p>Epoch 75/250  | lr 0.00883 | initial 0.08078 | pwf_PWF 0.0107 | right_gradX 0.00054 | pde 0.01621<p>Epoch 76/250  | lr 0.00878 | initial 0.07756 | pwf_PWF 0.00779 | right_gradX 0.00053 | pde 0.02156<p>Epoch 77/250  | lr 0.00874 | initial 0.07884 | pwf_PWF 0.01958 | right_gradX 0.00082 | pde 0.02075<p>Epoch 78/250  | lr 0.00869 | initial 0.17277 | pwf_PWF 0.23968 | right_gradX 0.00097 | pde 0.05269<p>Epoch 79/250  | lr 0.00864 | initial 0.08689 | pwf_PWF 0.01078 | right_gradX 0.00117 | pde 0.03601<p>Epoch 80/250  | lr 0.0086 | initial 0.51186 | pwf_PWF 60.85821 | right_gradX 0.01286 | pde 0.57554<p>Epoch 81/250  | lr 0.00855 | initial 0.98623 | pwf_PWF 0.472 | right_gradX 0.00023 | pde 0.00794<p>Epoch 82/250  | lr 0.0085 | initial 0.98248 | pwf_PWF 0.00279 | right_gradX 5e-05 | pde 0.00281<p>Epoch 83/250  | lr 0.00845 | initial 0.97572 | pwf_PWF 0.00064 | right_gradX 6e-05 | pde 0.00162<p>Epoch 84/250  | lr 0.0084 | initial 0.96229 | pwf_PWF 0.00052 | right_gradX 0.00018 | pde 0.00191<p>Epoch 85/250  | lr 0.00835 | initial 0.92706 | pwf_PWF 0.00074 | right_gradX 0.00096 | pde 0.01007<p>Epoch 86/250  | lr 0.00829 | initial 0.87436 | pwf_PWF 0.00084 | right_gradX 0.00092 | pde 0.02078<p>Epoch 87/250  | lr 0.00824 | initial 0.77242 | pwf_PWF 0.00074 | right_gradX 0.00093 | pde 0.04199<p>Epoch 88/250  | lr 0.00819 | initial 0.61106 | pwf_PWF 0.00123 | right_gradX 0.0028 | pde 0.07662<p>Epoch 89/250  | lr 0.00813 | initial 0.40028 | pwf_PWF 0.00181 | right_gradX 0.00498 | pde 0.06438<p>Epoch 90/250  | lr 0.00808 | initial 0.19857 | pwf_PWF 0.00195 | right_gradX 0.00533 | pde 0.02752<p>Epoch 91/250  | lr 0.00802 | initial 0.1685 | pwf_PWF 0.00112 | right_gradX 0.00459 | pde 0.01819<p>Epoch 92/250  | lr 0.00797 | initial 0.16053 | pwf_PWF 0.00086 | right_gradX 0.00421 | pde 0.0139<p>Epoch 93/250  | lr 0.00791 | initial 0.15362 | pwf_PWF 0.00087 | right_gradX 0.00382 | pde 0.01246<p>Epoch 94/250  | lr 0.00785 | initial 0.14893 | pwf_PWF 0.00079 | right_gradX 0.00344 | pde 0.01117<p>Epoch 95/250  | lr 0.0078 | initial 0.14454 | pwf_PWF 0.00087 | right_gradX 0.00334 | pde 0.01155<p>Epoch 96/250  | lr 0.00774 | initial 0.14136 | pwf_PWF 0.00073 | right_gradX 0.00366 | pde 0.01077<p>Epoch 97/250  | lr 0.00768 | initial 0.13789 | pwf_PWF 0.0008 | right_gradX 0.00347 | pde 0.01105<p>Epoch 98/250  | lr 0.00762 | initial 0.1351 | pwf_PWF 0.00074 | right_gradX 0.00367 | pde 0.01065<p>Epoch 99/250  | lr 0.00756 | initial 0.13226 | pwf_PWF 0.00105 | right_gradX 0.00477 | pde 0.01243<p>Epoch 100/250  | lr 0.0075 | initial 0.12977 | pwf_PWF 0.00079 | right_gradX 0.00388 | pde 0.01055<p>Epoch 101/250  | lr 0.00744 | initial 0.12657 | pwf_PWF 0.0012 | right_gradX 0.00386 | pde 0.01157<p>Epoch 102/250  | lr 0.00738 | initial 0.12473 | pwf_PWF 0.00121 | right_gradX 0.00441 | pde 0.01179<p>Epoch 103/250  | lr 0.00732 | initial 0.12151 | pwf_PWF 0.00165 | right_gradX 0.00393 | pde 0.01206<p>Epoch 104/250  | lr 0.00725 | initial 0.12001 | pwf_PWF 0.00207 | right_gradX 0.00374 | pde 0.0122<p>Epoch 105/250  | lr 0.00719 | initial 0.11745 | pwf_PWF 0.00233 | right_gradX 0.00363 | pde 0.01127<p>Epoch 106/250  | lr 0.00713 | initial 0.11503 | pwf_PWF 0.00192 | right_gradX 0.00357 | pde 0.0122<p>Epoch 107/250  | lr 0.00707 | initial 0.11297 | pwf_PWF 0.00246 | right_gradX 0.0035 | pde 0.01129<p>Epoch 108/250  | lr 0.007 | initial 0.1104 | pwf_PWF 0.00285 | right_gradX 0.0038 | pde 0.01363<p>Epoch 109/250  | lr 0.00694 | initial 0.10882 | pwf_PWF 0.00222 | right_gradX 0.00378 | pde 0.01196<p>Epoch 110/250  | lr 0.00687 | initial 0.10645 | pwf_PWF 0.00318 | right_gradX 0.00337 | pde 0.01339<p>Epoch 111/250  | lr 0.00681 | initial 0.10399 | pwf_PWF 0.00404 | right_gradX 0.00304 | pde 0.01439<p>Epoch 112/250  | lr 0.00674 | initial 0.10327 | pwf_PWF 0.0035 | right_gradX 0.00305 | pde 0.01203<p>Epoch 113/250  | lr 0.00668 | initial 0.10102 | pwf_PWF 0.00396 | right_gradX 0.00248 | pde 0.01275<p>Epoch 114/250  | lr 0.00661 | initial 0.09898 | pwf_PWF 0.00538 | right_gradX 0.00229 | pde 0.01441<p>Epoch 115/250  | lr 0.00655 | initial 0.09922 | pwf_PWF 0.00502 | right_gradX 0.00314 | pde 0.02497<p>Epoch 116/250  | lr 0.00648 | initial 0.09699 | pwf_PWF 0.00398 | right_gradX 0.00282 | pde 0.01396<p>Epoch 117/250  | lr 0.00641 | initial 0.09527 | pwf_PWF 0.00421 | right_gradX 0.00185 | pde 0.01288<p>Epoch 118/250  | lr 0.00634 | initial 0.09444 | pwf_PWF 0.00355 | right_gradX 0.00155 | pde 0.01202<p>Epoch 119/250  | lr 0.00628 | initial 0.09243 | pwf_PWF 0.00551 | right_gradX 0.00121 | pde 0.01159<p>Epoch 120/250  | lr 0.00621 | initial 0.09241 | pwf_PWF 0.00606 | right_gradX 0.00156 | pde 0.01387<p>Epoch 121/250  | lr 0.00614 | initial 0.09121 | pwf_PWF 0.00516 | right_gradX 0.00246 | pde 0.01631<p>Epoch 122/250  | lr 0.00607 | initial 0.09053 | pwf_PWF 0.00517 | right_gradX 0.00128 | pde 0.01249<p>Epoch 123/250  | lr 0.00601 | initial 0.08878 | pwf_PWF 0.00466 | right_gradX 0.00074 | pde 0.01233<p>Epoch 124/250  | lr 0.00594 | initial 0.08932 | pwf_PWF 0.0084 | right_gradX 0.00233 | pde 0.01931<p>Epoch 125/250  | lr 0.00587 | initial 0.08717 | pwf_PWF 0.00448 | right_gradX 0.00074 | pde 0.01113<p>Epoch 126/250  | lr 0.0058 | initial 0.08702 | pwf_PWF 0.00543 | right_gradX 0.00072 | pde 0.01509<p>Epoch 127/250  | lr 0.00573 | initial 0.0863 | pwf_PWF 0.00536 | right_gradX 0.00094 | pde 0.01094<p>Epoch 128/250  | lr 0.00566 | initial 0.08907 | pwf_PWF 0.01096 | right_gradX 0.00311 | pde 0.02834<p>Epoch 129/250  | lr 0.00559 | initial 0.08605 | pwf_PWF 0.00459 | right_gradX 0.00075 | pde 0.01431<p>Epoch 130/250  | lr 0.00552 | initial 0.08495 | pwf_PWF 0.00411 | right_gradX 0.00096 | pde 0.01179<p>Epoch 131/250  | lr 0.00545 | initial 0.084 | pwf_PWF 0.00486 | right_gradX 0.00053 | pde 0.00962<p>Epoch 132/250  | lr 0.00538 | initial 0.08587 | pwf_PWF 0.00832 | right_gradX 0.00226 | pde 0.03027<p>Epoch 133/250  | lr 0.00531 | initial 0.08374 | pwf_PWF 0.00531 | right_gradX 0.00089 | pde 0.01323<p>Epoch 134/250  | lr 0.00524 | initial 0.08322 | pwf_PWF 0.00497 | right_gradX 0.00089 | pde 0.01446<p>Epoch 135/250  | lr 0.00517 | initial 0.08689 | pwf_PWF 0.01126 | right_gradX 0.00274 | pde 0.03399<p>Epoch 136/250  | lr 0.0051 | initial 0.08459 | pwf_PWF 0.00761 | right_gradX 0.00142 | pde 0.02246<p>Epoch 137/250  | lr 0.00503 | initial 0.08204 | pwf_PWF 0.00365 | right_gradX 0.0006 | pde 0.01064<p>Epoch 138/250  | lr 0.00497 | initial 0.08122 | pwf_PWF 0.00626 | right_gradX 0.00053 | pde 0.01008<p>Epoch 139/250  | lr 0.0049 | initial 0.08453 | pwf_PWF 0.00882 | right_gradX 0.00193 | pde 0.0237<p>Epoch 140/250  | lr 0.00483 | initial 0.08549 | pwf_PWF 0.00678 | right_gradX 0.00238 | pde 0.03628<p>Epoch 141/250  | lr 0.00476 | initial 0.08548 | pwf_PWF 0.02733 | right_gradX 0.00115 | pde 0.02618<p>Epoch 142/250  | lr 0.00469 | initial 0.08076 | pwf_PWF 0.00334 | right_gradX 0.00059 | pde 0.01154<p>Epoch 143/250  | lr 0.00462 | initial 0.08114 | pwf_PWF 0.00509 | right_gradX 0.00101 | pde 0.01388<p>Epoch 144/250  | lr 0.00455 | initial 0.08038 | pwf_PWF 0.00727 | right_gradX 0.00111 | pde 0.01778<p>Epoch 145/250  | lr 0.00448 | initial 0.0786 | pwf_PWF 0.00371 | right_gradX 0.0006 | pde 0.00886<p>Epoch 146/250  | lr 0.00441 | initial 0.07937 | pwf_PWF 0.00627 | right_gradX 0.0014 | pde 0.02231<p>Epoch 147/250  | lr 0.00434 | initial 0.07818 | pwf_PWF 0.00385 | right_gradX 0.00063 | pde 0.00881<p>Epoch 148/250  | lr 0.00427 | initial 0.08647 | pwf_PWF 0.01939 | right_gradX 0.0028 | pde 0.04685<p>Epoch 149/250  | lr 0.0042 | initial 0.08577 | pwf_PWF 0.00759 | right_gradX 0.00107 | pde 0.01423<p>Epoch 150/250  | lr 0.00413 | initial 0.07773 | pwf_PWF 0.0069 | right_gradX 0.00103 | pde 0.01133<p>Epoch 151/250  | lr 0.00406 | initial 0.07621 | pwf_PWF 0.00385 | right_gradX 0.00073 | pde 0.01014<p>Epoch 152/250  | lr 0.00399 | initial 0.07778 | pwf_PWF 0.01033 | right_gradX 0.0017 | pde 0.01908<p>Epoch 153/250  | lr 0.00393 | initial 0.07544 | pwf_PWF 0.00443 | right_gradX 0.00159 | pde 0.01342<p>Epoch 154/250  | lr 0.00386 | initial 0.07493 | pwf_PWF 0.00856 | right_gradX 0.00109 | pde 0.01881<p>Epoch 155/250  | lr 0.00379 | initial 0.07474 | pwf_PWF 0.00482 | right_gradX 0.00204 | pde 0.01958<p>Epoch 156/250  | lr 0.00372 | initial 0.07505 | pwf_PWF 0.00477 | right_gradX 0.00122 | pde 0.01369<p>Epoch 157/250  | lr 0.00366 | initial 0.07442 | pwf_PWF 0.00587 | right_gradX 0.00106 | pde 0.01375<p>Epoch 158/250  | lr 0.00359 | initial 0.07658 | pwf_PWF 0.01078 | right_gradX 0.00154 | pde 0.02818<p>Epoch 159/250  | lr 0.00352 | initial 0.07474 | pwf_PWF 0.0079 | right_gradX 0.00113 | pde 0.01827<p>Epoch 160/250  | lr 0.00345 | initial 0.07501 | pwf_PWF 0.00731 | right_gradX 0.00132 | pde 0.02025<p>Epoch 161/250  | lr 0.00339 | initial 0.07419 | pwf_PWF 0.0043 | right_gradX 0.00123 | pde 0.01501<p>Epoch 162/250  | lr 0.00332 | initial 0.07261 | pwf_PWF 0.00701 | right_gradX 0.00115 | pde 0.01623<p>Epoch 163/250  | lr 0.00326 | initial 0.07142 | pwf_PWF 0.00621 | right_gradX 0.00088 | pde 0.0142<p>Epoch 164/250  | lr 0.00319 | initial 0.06973 | pwf_PWF 0.00195 | right_gradX 0.00085 | pde 0.0083<p>Epoch 165/250  | lr 0.00313 | initial 0.06961 | pwf_PWF 0.0081 | right_gradX 0.00108 | pde 0.01095<p>Epoch 166/250  | lr 0.00306 | initial 0.06975 | pwf_PWF 0.00455 | right_gradX 0.00115 | pde 0.01321<p>Epoch 167/250  | lr 0.003 | initial 0.0684 | pwf_PWF 0.00432 | right_gradX 0.00094 | pde 0.01033<p>Epoch 168/250  | lr 0.00293 | initial 0.0707 | pwf_PWF 0.00943 | right_gradX 0.00146 | pde 0.02274<p>Epoch 169/250  | lr 0.00287 | initial 0.0725 | pwf_PWF 0.00825 | right_gradX 0.00125 | pde 0.01768<p>Epoch 170/250  | lr 0.00281 | initial 0.068 | pwf_PWF 0.00554 | right_gradX 0.00095 | pde 0.01893<p>Epoch 171/250  | lr 0.00275 | initial 0.07002 | pwf_PWF 0.00713 | right_gradX 0.00129 | pde 0.02452<p>Epoch 172/250  | lr 0.00268 | initial 0.07328 | pwf_PWF 0.01068 | right_gradX 0.00181 | pde 0.03872<p>Epoch 173/250  | lr 0.00262 | initial 0.07056 | pwf_PWF 0.00418 | right_gradX 0.00145 | pde 0.01507<p>Epoch 174/250  | lr 0.00256 | initial 0.06704 | pwf_PWF 0.00426 | right_gradX 0.00081 | pde 0.01818<p>Epoch 175/250  | lr 0.0025 | initial 0.0685 | pwf_PWF 0.00856 | right_gradX 0.00125 | pde 0.01459<p>Epoch 176/250  | lr 0.00244 | initial 0.07241 | pwf_PWF 0.00891 | right_gradX 0.00135 | pde 0.02712<p>Epoch 177/250  | lr 0.00238 | initial 0.06582 | pwf_PWF 0.00462 | right_gradX 0.0006 | pde 0.0089<p>Epoch 178/250  | lr 0.00232 | initial 0.0671 | pwf_PWF 0.00639 | right_gradX 0.00075 | pde 0.01917<p>Epoch 179/250  | lr 0.00226 | initial 0.06618 | pwf_PWF 0.00393 | right_gradX 0.00084 | pde 0.01489<p>Epoch 180/250  | lr 0.0022 | initial 0.065 | pwf_PWF 0.00522 | right_gradX 0.00076 | pde 0.0139<p>Epoch 181/250  | lr 0.00215 | initial 0.0638 | pwf_PWF 0.00253 | right_gradX 0.00058 | pde 0.00817<p>Epoch 182/250  | lr 0.00209 | initial 0.06306 | pwf_PWF 0.00438 | right_gradX 0.00065 | pde 0.012<p>Epoch 183/250  | lr 0.00203 | initial 0.06405 | pwf_PWF 0.00464 | right_gradX 0.00065 | pde 0.02006<p>Epoch 184/250  | lr 0.00198 | initial 0.06342 | pwf_PWF 0.00421 | right_gradX 0.00078 | pde 0.01056<p>Epoch 185/250  | lr 0.00192 | initial 0.06782 | pwf_PWF 0.00947 | right_gradX 0.00118 | pde 0.02693<p>Epoch 186/250  | lr 0.00187 | initial 0.06284 | pwf_PWF 0.00276 | right_gradX 0.00046 | pde 0.00731<p>Epoch 187/250  | lr 0.00181 | initial 0.0606 | pwf_PWF 0.0015 | right_gradX 0.00045 | pde 0.005<p>Epoch 188/250  | lr 0.00176 | initial 0.06075 | pwf_PWF 0.00204 | right_gradX 0.00062 | pde 0.0069<p>Epoch 189/250  | lr 0.00171 | initial 0.06299 | pwf_PWF 0.00415 | right_gradX 0.00108 | pde 0.02266<p>Epoch 190/250  | lr 0.00165 | initial 0.06128 | pwf_PWF 0.00441 | right_gradX 0.00075 | pde 0.01711<p>Epoch 191/250  | lr 0.0016 | initial 0.06259 | pwf_PWF 0.00421 | right_gradX 0.00115 | pde 0.01791<p>Epoch 192/250  | lr 0.00155 | initial 0.06198 | pwf_PWF 0.00439 | right_gradX 0.00102 | pde 0.01235<p>Epoch 193/250  | lr 0.0015 | initial 0.05988 | pwf_PWF 0.00212 | right_gradX 0.00091 | pde 0.01304<p>Epoch 194/250  | lr 0.00145 | initial 0.06174 | pwf_PWF 0.00476 | right_gradX 0.00099 | pde 0.01354<p>Epoch 195/250  | lr 0.0014 | initial 0.06006 | pwf_PWF 0.00349 | right_gradX 0.00063 | pde 0.01703<p>Epoch 196/250  | lr 0.00136 | initial 0.06126 | pwf_PWF 0.00395 | right_gradX 0.00132 | pde 0.01318<p>Epoch 197/250  | lr 0.00131 | initial 0.05839 | pwf_PWF 0.00173 | right_gradX 0.00048 | pde 0.00604<p>Epoch 198/250  | lr 0.00126 | initial 0.05767 | pwf_PWF 0.00148 | right_gradX 0.00049 | pde 0.00521<p>Epoch 199/250  | lr 0.00122 | initial 0.05685 | pwf_PWF 0.0017 | right_gradX 0.00043 | pde 0.00576<p>Epoch 200/250  | lr 0.00117 | initial 0.05689 | pwf_PWF 0.00175 | right_gradX 0.00033 | pde 0.00542<p>Epoch 201/250  | lr 0.00113 | initial 0.05664 | pwf_PWF 0.00161 | right_gradX 0.00044 | pde 0.00561<p>Epoch 202/250  | lr 0.00108 | initial 0.05613 | pwf_PWF 0.00182 | right_gradX 0.00036 | pde 0.00482<p>Epoch 203/250  | lr 0.00104 | initial 0.05535 | pwf_PWF 0.00146 | right_gradX 0.00032 | pde 0.0047<p>Epoch 204/250  | lr 0.001 | initial 0.05642 | pwf_PWF 0.00535 | right_gradX 0.00054 | pde 0.0149<p>Epoch 205/250  | lr 0.00095 | initial 0.05598 | pwf_PWF 0.00568 | right_gradX 0.00093 | pde 0.00953<p>Epoch 206/250  | lr 0.00091 | initial 0.05626 | pwf_PWF 0.00384 | right_gradX 0.00033 | pde 0.01775<p>Epoch 207/250  | lr 0.00087 | initial 0.05989 | pwf_PWF 0.00467 | right_gradX 0.00068 | pde 0.02026<p>Epoch 208/250  | lr 0.00084 | initial 0.05532 | pwf_PWF 0.0015 | right_gradX 0.00033 | pde 0.00483<p>Epoch 209/250  | lr 0.0008 | initial 0.05484 | pwf_PWF 0.00156 | right_gradX 0.00062 | pde 0.00928<p>Epoch 210/250  | lr 0.00076 | initial 0.05439 | pwf_PWF 0.00182 | right_gradX 0.00038 | pde 0.0074<p>Epoch 211/250  | lr 0.00072 | initial 0.05458 | pwf_PWF 0.00253 | right_gradX 0.00043 | pde 0.00555<p>Epoch 212/250  | lr 0.00069 | initial 0.05369 | pwf_PWF 0.00114 | right_gradX 0.00024 | pde 0.00397<p>Epoch 213/250  | lr 0.00065 | initial 0.05406 | pwf_PWF 0.00271 | right_gradX 0.00062 | pde 0.01169<p>Epoch 214/250  | lr 0.00062 | initial 0.0548 | pwf_PWF 0.00323 | right_gradX 0.00047 | pde 0.01319<p>Epoch 215/250  | lr 0.00059 | initial 0.0533 | pwf_PWF 0.00112 | right_gradX 0.00026 | pde 0.004<p>Epoch 216/250  | lr 0.00055 | initial 0.05284 | pwf_PWF 0.00095 | right_gradX 0.00024 | pde 0.00311<p>Epoch 217/250  | lr 0.00052 | initial 0.05247 | pwf_PWF 0.00079 | right_gradX 0.00025 | pde 0.00317<p>Epoch 218/250  | lr 0.00049 | initial 0.05252 | pwf_PWF 0.00083 | right_gradX 0.00022 | pde 0.00292<p>Epoch 219/250  | lr 0.00046 | initial 0.05251 | pwf_PWF 0.00086 | right_gradX 0.0003 | pde 0.0034<p>Epoch 220/250  | lr 0.00043 | initial 0.05212 | pwf_PWF 0.00117 | right_gradX 0.00023 | pde 0.00389<p>Epoch 221/250  | lr 0.0004 | initial 0.05207 | pwf_PWF 0.00096 | right_gradX 0.00019 | pde 0.00326<p>Epoch 222/250  | lr 0.00038 | initial 0.05151 | pwf_PWF 0.00087 | right_gradX 0.00021 | pde 0.00343<p>Epoch 223/250  | lr 0.00035 | initial 0.0514 | pwf_PWF 0.00083 | right_gradX 0.00021 | pde 0.00301<p>Epoch 224/250  | lr 0.00033 | initial 0.05124 | pwf_PWF 0.00127 | right_gradX 0.00019 | pde 0.0033<p>Epoch 225/250  | lr 0.0003 | initial 0.05125 | pwf_PWF 0.00082 | right_gradX 0.0002 | pde 0.00297<p>Epoch 226/250  | lr 0.00028 | initial 0.05096 | pwf_PWF 0.00099 | right_gradX 0.00019 | pde 0.00389<p>Epoch 227/250  | lr 0.00026 | initial 0.05115 | pwf_PWF 0.00103 | right_gradX 0.00025 | pde 0.004<p>Epoch 228/250  | lr 0.00023 | initial 0.05076 | pwf_PWF 0.00083 | right_gradX 0.0002 | pde 0.00294<p>Epoch 229/250  | lr 0.00021 | initial 0.05053 | pwf_PWF 0.00074 | right_gradX 0.00016 | pde 0.00285<p>Epoch 230/250  | lr 0.00019 | initial 0.05048 | pwf_PWF 0.00085 | right_gradX 0.00017 | pde 0.0028<p>Epoch 231/250  | lr 0.00017 | initial 0.05041 | pwf_PWF 0.00069 | right_gradX 0.00015 | pde 0.00233<p>Epoch 232/250  | lr 0.00016 | initial 0.05025 | pwf_PWF 0.00073 | right_gradX 0.00015 | pde 0.00227<p>Epoch 233/250  | lr 0.00014 | initial 0.05012 | pwf_PWF 0.00073 | right_gradX 0.00015 | pde 0.00226<p>Epoch 234/250  | lr 0.00012 | initial 0.05008 | pwf_PWF 0.00067 | right_gradX 0.00014 | pde 0.00233<p>Epoch 235/250  | lr 0.00011 | initial 0.05021 | pwf_PWF 0.00079 | right_gradX 0.00016 | pde 0.0025<p>Epoch 236/250  | lr 0.0001 | initial 0.04996 | pwf_PWF 0.00073 | right_gradX 0.00014 | pde 0.00215<p>Epoch 237/250  | lr 8e-05 | initial 0.0498 | pwf_PWF 0.00073 | right_gradX 0.00013 | pde 0.00246<p>Epoch 238/250  | lr 7e-05 | initial 0.04969 | pwf_PWF 0.00067 | right_gradX 0.00013 | pde 0.00235<p>Epoch 239/250  | lr 6e-05 | initial 0.04986 | pwf_PWF 0.00068 | right_gradX 0.00013 | pde 0.002<p>Epoch 240/250  | lr 5e-05 | initial 0.04986 | pwf_PWF 0.00064 | right_gradX 0.00013 | pde 0.00202<p>Epoch 241/250  | lr 4e-05 | initial 0.04971 | pwf_PWF 0.00064 | right_gradX 0.00013 | pde 0.00222<p>Epoch 242/250  | lr 3e-05 | initial 0.04965 | pwf_PWF 0.00067 | right_gradX 0.00013 | pde 0.00198<p>Epoch 243/250  | lr 2e-05 | initial 0.0496 | pwf_PWF 0.00065 | right_gradX 0.00012 | pde 0.00211<p>Epoch 244/250  | lr 2e-05 | initial 0.04954 | pwf_PWF 0.00064 | right_gradX 0.00013 | pde 0.00206<p>Epoch 245/250  | lr 1e-05 | initial 0.04963 | pwf_PWF 0.00063 | right_gradX 0.00012 | pde 0.0019<p>Epoch 246/250  | lr 1e-05 | initial 0.0496 | pwf_PWF 0.00063 | right_gradX 0.00012 | pde 0.00189<p>Epoch 247/250  | lr 0.0 | initial 0.04959 | pwf_PWF 0.00063 | right_gradX 0.00012 | pde 0.00186<p>Epoch 248/250  | lr 0.0 | initial 0.04959 | pwf_PWF 0.00063 | right_gradX 0.00012 | pde 0.00185<p>Epoch 249/250  | lr 0.0 | initial 0.04958 | pwf_PWF 0.00062 | right_gradX 0.00012 | pde 0.00185<p>Epoch 250/250  | lr 0.0 | initial 0.04958 | pwf_PWF 0.00062 | right_gradX 0.00012 | pde 0.00186"
            ],
            "text/plain": [
              "<IPython.core.display.HTML object>"
            ]
          },
          "metadata": {
            "tags": []
          }
        },
        {
          "output_type": "stream",
          "text": [
            "CPU times: user 6min 51s, sys: 17.6 s, total: 7min 9s\n",
            "Wall time: 7min 2s\n"
          ],
          "name": "stdout"
        }
      ]
    },
    {
      "cell_type": "code",
      "metadata": {
        "id": "6pWQeuc14V_9"
      },
      "source": [
        "t = 0.0\n",
        "x = np.linspace(0,1,100)\n",
        "#y = np.linspace(0,1,100)\n",
        "\n",
        "_x, _t = np.meshgrid(x, t)\n",
        "eval_mesh = Mesh({'x': x,  't':t}, device=device)\n",
        "p = pde.eval(eval_mesh)\n",
        "p = p.cpu().numpy()\n",
        "#p5 = p.reshape((_y.shape[0],_x.shape[1]))"
      ],
      "execution_count": 470,
      "outputs": []
    },
    {
      "cell_type": "code",
      "metadata": {
        "id": "u07DcjAPde7K"
      },
      "source": [
        "ppp=[]\n",
        "x = np.linspace(0.0,1,100)\n",
        "for t in np.linspace(0.1,1.,11):\n",
        "  #_x,_t = np.meshgrid(x,t)\n",
        "  eval_mesh = Mesh({'x': x,  't':t}, device=device)\n",
        "  pp = pde.eval(eval_mesh)\n",
        "  pp = pp.cpu().numpy()\n",
        "  ppp.append(pp)"
      ],
      "execution_count": 475,
      "outputs": []
    },
    {
      "cell_type": "code",
      "metadata": {
        "id": "ycJ8qxzpGTBF",
        "colab": {
          "base_uri": "https://localhost:8080/",
          "height": 265
        },
        "outputId": "858a30e3-3153-48a9-c29a-ed2ae4719147"
      },
      "source": [
        "for p in ppp:\n",
        "  plt.plot(p)"
      ],
      "execution_count": 476,
      "outputs": [
        {
          "output_type": "display_data",
          "data": {
            "image/png": "[encoded data removed]",
            "text/plain": [
              "<Figure size 432x288 with 1 Axes>"
            ]
          },
          "metadata": {
            "tags": [],
            "needs_background": "light"
          }
        }
      ]
    },
    {
      "cell_type": "code",
      "metadata": {
        "id": "9jQODc_2OV6D"
      },
      "source": [
        "from sympy import Sum, factorial, oo, IndexedBase, Function, sin,exp\n",
        "from sympy.abc import n"
      ],
      "execution_count": 477,
      "outputs": []
    },
    {
      "cell_type": "code",
      "metadata": {
        "id": "QnBZVuMfgr2t"
      },
      "source": [
        "def diff_sol(x,t,alpha=0.1):\n",
        "    sol= Sum(4/((2*n + 1)*np.pi)*sin((2*n+1)*np.pi/2*x)*exp(-((2*n + 1)*np.pi/2)**2*t*alpha),(n,0,50))\n",
        "    \n",
        "    return sol #,sol_n"
      ],
      "execution_count": 479,
      "outputs": []
    },
    {
      "cell_type": "code",
      "metadata": {
        "id": "liWZrbRZkrn9",
        "colab": {
          "base_uri": "https://localhost:8080/",
          "height": 265
        },
        "outputId": "cc82beb3-1fd3-4ba3-b61d-b01a0c6472c5"
      },
      "source": [
        "xxx=np.linspace(0,1,100)\n",
        "for t in np.linspace(0.1,1,11):\n",
        "    d=[]\n",
        "    for xx in xxx:\n",
        "        d.append(diff_sol(xx,t,alpha=1).doit())\n",
        "    plt.plot(d)"
      ],
      "execution_count": 480,
      "outputs": [
        {
          "output_type": "display_data",
          "data": {
            "image/png": "[encoded data removed]",
            "text/plain": [
              "<Figure size 432x288 with 1 Axes>"
            ]
          },
          "metadata": {
            "tags": [],
            "needs_background": "light"
          }
        }
      ]
    },
    {
      "cell_type": "code",
      "metadata": {
        "colab": {
          "base_uri": "https://localhost:8080/"
        },
        "id": "ilPOuGLdPjri",
        "outputId": "eec4a96d-c371-4d64-977d-d8ce58ef2e66"
      },
      "source": [
        "hist.keys()"
      ],
      "execution_count": 252,
      "outputs": [
        {
          "output_type": "execute_result",
          "data": {
            "text/plain": [
              "dict_keys(['lr', 'initial', 'pwf_PWF', 'right_gradX', 'pde'])"
            ]
          },
          "metadata": {
            "tags": []
          },
          "execution_count": 252
        }
      ]
    },
    {
      "cell_type": "code",
      "metadata": {
        "id": "uvWURicjPt_j"
      },
      "source": [
        ""
      ],
      "execution_count": null,
      "outputs": []
    }
  ]
}