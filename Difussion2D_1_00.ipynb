{
  "nbformat": 4,
  "nbformat_minor": 0,
  "metadata": {
    "colab": {
      "name": "Difussion2D_1.00.ipynb",
      "provenance": [],
      "collapsed_sections": [],
      "machine_shape": "hm",
      "include_colab_link": true
    },
    "kernelspec": {
      "display_name": "Python 3",
      "language": "python",
      "name": "python3"
    },
    "language_info": {
      "codemirror_mode": {
        "name": "ipython",
        "version": 3
      },
      "file_extension": ".py",
      "mimetype": "text/x-python",
      "name": "python",
      "nbconvert_exporter": "python",
      "pygments_lexer": "ipython3",
      "version": "3.9.5"
    },
    "accelerator": "GPU"
  },
  "cells": [
    {
      "cell_type": "markdown",
      "metadata": {
        "id": "view-in-github",
        "colab_type": "text"
      },
      "source": [
        "<a href=\"https://colab.research.google.com/github/adantra/nangs/blob/master/Difussion2D_1_00.ipynb\" target=\"_parent\"><img src=\"https://colab.research.google.com/assets/colab-badge.svg\" alt=\"Open In Colab\"/></a>"
      ]
    },
    {
      "cell_type": "code",
      "metadata": {
        "colab": {
          "base_uri": "https://localhost:8080/"
        },
        "id": "49OBlKX_2X0p",
        "outputId": "74ee286a-68af-41b3-8bdc-7ff22d964956"
      },
      "source": [
        "!pip install nangs"
      ],
      "execution_count": null,
      "outputs": [
        {
          "output_type": "stream",
          "text": [
            "Collecting nangs\n",
            "  Downloading https://files.pythonhosted.org/packages/4c/cd/7eeca93e6088a85d18ff99897743aaf429c94c12049e56f2a1e8b2091656/nangs-0.1.2-py3-none-any.whl\n",
            "Installing collected packages: nangs\n",
            "Successfully installed nangs-0.1.2\n"
          ],
          "name": "stdout"
        }
      ]
    },
    {
      "cell_type": "code",
      "metadata": {
        "colab": {
          "base_uri": "https://localhost:8080/"
        },
        "id": "g1NWGOu_iiHh",
        "outputId": "2d135fcf-0861-47dd-ec6d-4acd2d4386cd"
      },
      "source": [
        "pip install --upgrade git+https://github.com/adantra/nangs.git"
      ],
      "execution_count": null,
      "outputs": [
        {
          "output_type": "stream",
          "text": [
            "Collecting git+https://github.com/adantra/nangs.git\n",
            "  Cloning https://github.com/adantra/nangs.git to /tmp/pip-req-build-0txwxjz5\n",
            "  Running command git clone -q https://github.com/adantra/nangs.git /tmp/pip-req-build-0txwxjz5\n",
            "Building wheels for collected packages: nangs\n",
            "  Building wheel for nangs (setup.py) ... \u001b[?25l\u001b[?25hdone\n",
            "  Created wheel for nangs: filename=nangs-0.1.2-cp37-none-any.whl size=13860 sha256=c31b8b0729486e3cf39414c49ba3279f1759cb7081471c091ccc4e53d0bf9299\n",
            "  Stored in directory: /tmp/pip-ephem-wheel-cache-i32_6lnc/wheels/2c/7f/7f/677931a26064faa3c2f5f1f88c96cae03fadc9cffb901d8b1e\n",
            "Successfully built nangs\n",
            "Installing collected packages: nangs\n",
            "Successfully installed nangs-0.1.2\n"
          ],
          "name": "stdout"
        }
      ]
    },
    {
      "cell_type": "code",
      "metadata": {
        "id": "LyXPy8I92Z7g"
      },
      "source": [
        "# autoreload nangs\n",
        "%reload_ext autoreload\n",
        "%autoreload 2\n",
        "%matplotlib inline"
      ],
      "execution_count": null,
      "outputs": []
    },
    {
      "cell_type": "code",
      "metadata": {
        "id": "U2WOWy_Hp4oE",
        "colab": {
          "base_uri": "https://localhost:8080/"
        },
        "outputId": "b295234a-2096-4eb0-bfe9-749f2636f152"
      },
      "source": [
        "!nvidia-smi -L"
      ],
      "execution_count": null,
      "outputs": [
        {
          "output_type": "stream",
          "text": [
            "GPU 0: Tesla P100-PCIE-16GB (UUID: GPU-5154ead1-ca7b-9003-94b6-ff8699cbe32b)\n"
          ],
          "name": "stdout"
        }
      ]
    },
    {
      "cell_type": "code",
      "metadata": {
        "colab": {
          "base_uri": "https://localhost:8080/"
        },
        "id": "2tc_1Iyo2lV-",
        "outputId": "3e12a907-6cea-487c-8a01-176eb2173a0c"
      },
      "source": [
        "#imports\n",
        "\n",
        "import numpy as np \n",
        "import matplotlib.pyplot as plt \n",
        "import torch\n",
        "import pandas as pd\n",
        "import nangs\n",
        "from nangs import *\n",
        "\n",
        "device = \"cuda\" if torch.cuda.is_available() else \"cpu\"\n",
        "\n",
        "nangs.__version__, torch.__version__"
      ],
      "execution_count": null,
      "outputs": [
        {
          "output_type": "execute_result",
          "data": {
            "text/plain": [
              "('0.1.2', '1.9.0+cu102')"
            ]
          },
          "metadata": {
            "tags": []
          },
          "execution_count": 4
        }
      ]
    },
    {
      "cell_type": "code",
      "metadata": {
        "colab": {
          "base_uri": "https://localhost:8080/",
          "height": 35
        },
        "id": "rTta38DB2obV",
        "outputId": "01898416-7783-42b8-f73a-491d0bd0f5c3"
      },
      "source": [
        "device\n"
      ],
      "execution_count": null,
      "outputs": [
        {
          "output_type": "execute_result",
          "data": {
            "application/vnd.google.colaboratory.intrinsic+json": {
              "type": "string"
            },
            "text/plain": [
              "'cuda'"
            ]
          },
          "metadata": {
            "tags": []
          },
          "execution_count": 5
        }
      ]
    },
    {
      "cell_type": "code",
      "metadata": {
        "id": "W55VlZAO2vcY"
      },
      "source": [
        "alpha=10\n",
        "class Difussion2d(PDE):\n",
        "    def computePDELoss(self, inputs, outputs):\n",
        "        p = outputs[:, 0]\n",
        "        grads = self.computeGrads(p, inputs)\n",
        "        dpdx, dpdt = grads[:, 0], grads[:, 1]\n",
        "        # second order derivatives        \n",
        "        dp2dx2 = self.computeGrads(dpdx, inputs)[:, 0] \n",
        "        #dp2dy2 = self.computeGrads(dpdy, inputs)[:, 1]\n",
        "        return {'pde':dpdt - dp2dx2}"
      ],
      "execution_count": null,
      "outputs": []
    },
    {
      "cell_type": "code",
      "metadata": {
        "id": "Wuq89V6s3dOX"
      },
      "source": [
        "class NeumannX(Neumann):\n",
        "    def computeBocoLoss(self, inputs, outputs):\n",
        "        p = outputs[:, 0]\n",
        "        grads = self.computeGrads(p, inputs)\n",
        "        dpdx = grads[:, 0]\n",
        "        return {'gradX': 100*dpdx}"
      ],
      "execution_count": null,
      "outputs": []
    },
    {
      "cell_type": "code",
      "metadata": {
        "id": "rvzoV1AWGmUc"
      },
      "source": [
        "class PBC0(Neumann):\n",
        "    def computeBocoLoss(self, inputs, outputs):\n",
        "        pbc = 0\n",
        "        p = outputs[:, 0]\n",
        "        return {'PWF': 100*(p-pbc)}"
      ],
      "execution_count": null,
      "outputs": []
    },
    {
      "cell_type": "code",
      "metadata": {
        "id": "IturBEIS3jyj"
      },
      "source": [
        "pde = Difussion2d(inputs=('x', 't'), outputs='p')"
      ],
      "execution_count": null,
      "outputs": []
    },
    {
      "cell_type": "code",
      "metadata": {
        "id": "noGwdmy4i-iJ"
      },
      "source": [
        "def append(arr, values, axis=None):\n",
        "    arr = np.asanyarray(arr)\n",
        "    if axis is None:\n",
        "        if arr.ndim != 1:\n",
        "            arr = arr.ravel()\n",
        "        values = np.ravel(values)\n",
        "        axis = arr.ndim-1\n",
        "    return np.concatenate((arr, values), axis=axis)"
      ],
      "execution_count": null,
      "outputs": []
    },
    {
      "cell_type": "code",
      "metadata": {
        "id": "v6s9koba3mHJ"
      },
      "source": [
        "# mesh \n",
        "\n",
        "x = np.linspace(0,1,100)\n",
        "\n",
        "t = np.linspace(0,1,100)\n",
        "#t = append(t,np.linspace(0.2,1,10))\n",
        "#t=np.array([0])\n",
        "#tt=np.logspace(-2,0,20)\n",
        "#t = append(t,tt)\n",
        "#mesh = Mesh({'x': x, 't':t}, device=device)\n",
        "#pde.set_mesh(mesh)"
      ],
      "execution_count": null,
      "outputs": []
    },
    {
      "cell_type": "code",
      "metadata": {
        "id": "VSmHTbU14tSw"
      },
      "source": [
        "#x = np.append(np.linspace(0,.01,100),x)\n",
        "\n",
        "#t = np.append(np.linspace(0,.01,100),t)\n",
        "#t = append(t,np.linspace(0.2,1,10))\n",
        "#t=np.array([0])\n",
        "#tt=np.logspace(-2,0,20)\n",
        "#t = append(t,tt)\n",
        "mesh2 = Mesh({'x': x, 't':t}, device=device)\n",
        "pde.set_mesh(mesh2)"
      ],
      "execution_count": null,
      "outputs": []
    },
    {
      "cell_type": "code",
      "metadata": {
        "id": "OkCZuKCO3o1C"
      },
      "source": [
        "from nangs import Dirichlet"
      ],
      "execution_count": null,
      "outputs": []
    },
    {
      "cell_type": "code",
      "metadata": {
        "id": "FNI7VwAX3tN2"
      },
      "source": [
        "t0 = np.array([0])"
      ],
      "execution_count": null,
      "outputs": []
    },
    {
      "cell_type": "code",
      "metadata": {
        "id": "kP0TCEoD3veq"
      },
      "source": [
        "_x = np.meshgrid(x)\n",
        "#p0 = np.sin(2*np.pi*_x)*np.sin(2*np.pi*_y)"
      ],
      "execution_count": null,
      "outputs": []
    },
    {
      "cell_type": "code",
      "metadata": {
        "colab": {
          "base_uri": "https://localhost:8080/"
        },
        "id": "OlTzWIthkgYA",
        "outputId": "cc05fa9b-13b3-4ced-ddd6-d4843e7e1323"
      },
      "source": [
        "\n",
        "_x[0].shape"
      ],
      "execution_count": null,
      "outputs": [
        {
          "output_type": "execute_result",
          "data": {
            "text/plain": [
              "(100,)"
            ]
          },
          "metadata": {
            "tags": []
          },
          "execution_count": 24
        }
      ]
    },
    {
      "cell_type": "code",
      "metadata": {
        "id": "1h1r1FFh9TXV"
      },
      "source": [
        "p0=np.zeros((len(x)))\n",
        "p0[:]=1\n",
        "p0[0]=0\n",
        "#p0[47:53,47:53]=1"
      ],
      "execution_count": null,
      "outputs": []
    },
    {
      "cell_type": "code",
      "metadata": {
        "colab": {
          "base_uri": "https://localhost:8080/"
        },
        "id": "cbRFGIf4s5pQ",
        "outputId": "a6614729-d450-4cca-a4b4-2b1e7415f168"
      },
      "source": [
        "p0.shape"
      ],
      "execution_count": null,
      "outputs": [
        {
          "output_type": "execute_result",
          "data": {
            "text/plain": [
              "(100,)"
            ]
          },
          "metadata": {
            "tags": []
          },
          "execution_count": 26
        }
      ]
    },
    {
      "cell_type": "code",
      "metadata": {
        "id": "8pM3FPKv3yMj"
      },
      "source": [
        "initial_condition = Dirichlet({'x': x,'t':t0}, {'p': p0.reshape(-1)}, device=device, name=\"initial\")"
      ],
      "execution_count": null,
      "outputs": []
    },
    {
      "cell_type": "code",
      "metadata": {
        "colab": {
          "base_uri": "https://localhost:8080/"
        },
        "id": "fBsIBMfslJL1",
        "outputId": "388a59d9-a447-47b4-a137-7307cc3d6930"
      },
      "source": [
        "p0.shape"
      ],
      "execution_count": null,
      "outputs": [
        {
          "output_type": "execute_result",
          "data": {
            "text/plain": [
              "(100,)"
            ]
          },
          "metadata": {
            "tags": []
          },
          "execution_count": 28
        }
      ]
    },
    {
      "cell_type": "code",
      "metadata": {
        "id": "OXFa0Hpi30nP"
      },
      "source": [
        "pde.add_boco(initial_condition)\n",
        "#p0=np.ones(len(y))\n",
        "#p1=np.zeros(len(y))"
      ],
      "execution_count": null,
      "outputs": []
    },
    {
      "cell_type": "code",
      "metadata": {
        "id": "Hi6Telpj32z3"
      },
      "source": [
        "pwf = PBC0({'x': np.array([0]),'t':t}, name='pwf', device=device)\n",
        "#left = Dirichlet({'x': x, 'y': y}, {'p': p0.reshape(-1)}, device=device, name=\"left\")"
      ],
      "execution_count": null,
      "outputs": []
    },
    {
      "cell_type": "code",
      "metadata": {
        "id": "i-gJ-qWG35HC"
      },
      "source": [
        "\n",
        "pde.add_boco(pwf)"
      ],
      "execution_count": null,
      "outputs": []
    },
    {
      "cell_type": "code",
      "metadata": {
        "id": "P9dMp4We38-y"
      },
      "source": [
        "#right = PBC0({'x': np.array([1]), 'y': y, 't':t}, name='right', device=device)\n",
        "#right = Dirichlet({'x': x[-1], 'y': y}, {'p': p1.reshape(-1)}, device=device, name=\"right\")\n",
        "right =  NeumannX({'x': x[-1],'t':t}, name='right', device=device)"
      ],
      "execution_count": null,
      "outputs": []
    },
    {
      "cell_type": "code",
      "metadata": {
        "id": "-zK0NPGN3_Pm"
      },
      "source": [
        "pde.add_boco(right)"
      ],
      "execution_count": null,
      "outputs": []
    },
    {
      "cell_type": "code",
      "metadata": {
        "id": "_Zf3hbzK4NSo"
      },
      "source": [
        "#from nangs import MLP\n",
        "\n",
        "BATCH_SIZE = 64\n",
        "LR = 0.1e-2\n",
        "EPOCHS = 2\n",
        "NUM_LAYERS = 4\n",
        "NUM_HIDDEN = 50\n",
        "\n",
        "mlp = MLP(len(pde.inputs), len(pde.outputs), NUM_LAYERS, NUM_HIDDEN).to(device)\n",
        "optimizer = torch.optim.Adam(mlp.parameters())\n",
        "scheduler = torch.optim.lr_scheduler.OneCycleLR(optimizer, max_lr=LR, pct_start=0.1, total_steps=EPOCHS)"
      ],
      "execution_count": null,
      "outputs": []
    },
    {
      "cell_type": "code",
      "metadata": {
        "colab": {
          "base_uri": "https://localhost:8080/"
        },
        "id": "DktJWI5nop1Z",
        "outputId": "efb90566-5715-44a3-bc6d-aaa681e95089"
      },
      "source": [
        "mlp"
      ],
      "execution_count": null,
      "outputs": [
        {
          "output_type": "execute_result",
          "data": {
            "text/plain": [
              "MLP(\n",
              "  (mlp): Sequential(\n",
              "    (0): Linear(in_features=2, out_features=50, bias=True)\n",
              "    (1): Sequential(\n",
              "      (0): GELU()\n",
              "      (1): Linear(in_features=50, out_features=50, bias=True)\n",
              "    )\n",
              "    (2): Sequential(\n",
              "      (0): GELU()\n",
              "      (1): Linear(in_features=50, out_features=50, bias=True)\n",
              "    )\n",
              "    (3): Sequential(\n",
              "      (0): GELU()\n",
              "      (1): Linear(in_features=50, out_features=50, bias=True)\n",
              "    )\n",
              "    (4): Sequential(\n",
              "      (0): GELU()\n",
              "      (1): Linear(in_features=50, out_features=1, bias=True)\n",
              "    )\n",
              "  )\n",
              ")"
            ]
          },
          "metadata": {
            "tags": []
          },
          "execution_count": 158
        }
      ]
    },
    {
      "cell_type": "code",
      "metadata": {
        "id": "8X6ETD6M7aFn"
      },
      "source": [
        "\n",
        "EPOCHS = 300\n",
        "scheduler = torch.optim.lr_scheduler.OneCycleLR(optimizer, max_lr=LR, pct_start=0.1, total_steps=EPOCHS)"
      ],
      "execution_count": null,
      "outputs": []
    },
    {
      "cell_type": "code",
      "metadata": {
        "id": "nmlVwfsY4Qpj"
      },
      "source": [
        "pde.compile(mlp, optimizer, scheduler)"
      ],
      "execution_count": null,
      "outputs": []
    },
    {
      "cell_type": "code",
      "metadata": {
        "colab": {
          "base_uri": "https://localhost:8080/",
          "height": 354
        },
        "id": "4HdLw0uL4TA9",
        "outputId": "b235f698-0612-466b-d69c-3f2d507a78cf"
      },
      "source": [
        "\n",
        "%time hist = pde.solve(EPOCHS, BATCH_SIZE)"
      ],
      "execution_count": null,
      "outputs": [
        {
          "output_type": "display_data",
          "data": {
            "image/png": "[encoded data removed]",
            "text/plain": [
              "<Figure size 1080x360 with 2 Axes>"
            ]
          },
          "metadata": {
            "tags": []
          }
        },
        {
          "output_type": "display_data",
          "data": {
            "text/html": [
              ""
            ],
            "text/plain": [
              "<IPython.core.display.HTML object>"
            ]
          },
          "metadata": {
            "tags": []
          }
        },
        {
          "output_type": "stream",
          "text": [
            "CPU times: user 18min 23s, sys: 26.4 s, total: 18min 49s\n",
            "Wall time: 18min 34s\n"
          ],
          "name": "stdout"
        }
      ]
    },
    {
      "cell_type": "code",
      "metadata": {
        "id": "boSZBBfCki--",
        "colab": {
          "base_uri": "https://localhost:8080/"
        },
        "outputId": "dd34672c-0e18-4419-b9ab-9fa65cd5716e"
      },
      "source": [
        "hist['pde'][-1] #512"
      ],
      "execution_count": null,
      "outputs": [
        {
          "output_type": "execute_result",
          "data": {
            "text/plain": [
              "0.010966393444687129"
            ]
          },
          "metadata": {
            "tags": []
          },
          "execution_count": 92
        }
      ]
    },
    {
      "cell_type": "code",
      "metadata": {
        "id": "lONCKHSXesOs",
        "colab": {
          "base_uri": "https://localhost:8080/"
        },
        "outputId": "dc6980ce-af19-420d-dfa1-a3c95950cb21"
      },
      "source": [
        "hist['pde'][-1] #256"
      ],
      "execution_count": null,
      "outputs": [
        {
          "output_type": "execute_result",
          "data": {
            "text/plain": [
              "0.006426302855834365"
            ]
          },
          "metadata": {
            "tags": []
          },
          "execution_count": 86
        }
      ]
    },
    {
      "cell_type": "code",
      "metadata": {
        "id": "eNdPkJmOcJYC",
        "colab": {
          "base_uri": "https://localhost:8080/"
        },
        "outputId": "fef4e65e-f750-4f2c-d5e4-9f61359bc85f"
      },
      "source": [
        "hist['pde'][-1] #128"
      ],
      "execution_count": null,
      "outputs": [
        {
          "output_type": "execute_result",
          "data": {
            "text/plain": [
              "0.002856906867421032"
            ]
          },
          "metadata": {
            "tags": []
          },
          "execution_count": 79
        }
      ]
    },
    {
      "cell_type": "code",
      "metadata": {
        "colab": {
          "base_uri": "https://localhost:8080/"
        },
        "id": "6Djgk7BVffY3",
        "outputId": "0b0fc3bf-0d9a-4d0a-d24f-39cd4fb72092"
      },
      "source": [
        "hist['pde'][-1] #64 - 300 - 4"
      ],
      "execution_count": null,
      "outputs": [
        {
          "output_type": "execute_result",
          "data": {
            "text/plain": [
              "0.002376913167921838"
            ]
          },
          "metadata": {
            "tags": []
          },
          "execution_count": 98
        }
      ]
    },
    {
      "cell_type": "code",
      "metadata": {
        "id": "nL86j4goRFkz",
        "colab": {
          "base_uri": "https://localhost:8080/"
        },
        "outputId": "2a9aca28-de61-425c-b6cf-92ad8295a687"
      },
      "source": [
        "hist['pde'][-1] #64 - 500 - 4"
      ],
      "execution_count": null,
      "outputs": [
        {
          "output_type": "execute_result",
          "data": {
            "text/plain": [
              "0.0184016907884247"
            ]
          },
          "metadata": {
            "tags": []
          },
          "execution_count": 138
        }
      ]
    },
    {
      "cell_type": "code",
      "metadata": {
        "id": "Ilraw4FQ_u9o",
        "colab": {
          "base_uri": "https://localhost:8080/"
        },
        "outputId": "e5668b06-662f-450d-a463-949da46c312e"
      },
      "source": [
        "hist['pde'][-1] #64 - 300 - 5"
      ],
      "execution_count": null,
      "outputs": [
        {
          "output_type": "execute_result",
          "data": {
            "text/plain": [
              "0.007399362147115408"
            ]
          },
          "metadata": {
            "tags": []
          },
          "execution_count": 120
        }
      ]
    },
    {
      "cell_type": "code",
      "metadata": {
        "id": "TuFPIk_BIEkj",
        "colab": {
          "base_uri": "https://localhost:8080/"
        },
        "outputId": "18bb4689-16ab-4997-94f7-70fb88a78710"
      },
      "source": [
        "hist['pde'][-1] #64 - 300 - 3"
      ],
      "execution_count": null,
      "outputs": [
        {
          "output_type": "execute_result",
          "data": {
            "text/plain": [
              "0.002850979857241652"
            ]
          },
          "metadata": {
            "tags": []
          },
          "execution_count": 132
        }
      ]
    },
    {
      "cell_type": "code",
      "metadata": {
        "id": "zJrB7ffVUPxS",
        "colab": {
          "base_uri": "https://localhost:8080/"
        },
        "outputId": "a29118a7-ce5e-43bf-d546-33703b675de0"
      },
      "source": [
        "hist['pde'][-1] #64 - 300 - 3"
      ],
      "execution_count": null,
      "outputs": [
        {
          "output_type": "execute_result",
          "data": {
            "text/plain": [
              "0.0025286150037364405"
            ]
          },
          "metadata": {
            "tags": []
          },
          "execution_count": 149
        }
      ]
    },
    {
      "cell_type": "code",
      "metadata": {
        "id": "6pWQeuc14V_9"
      },
      "source": [
        "t = 0.0\n",
        "x = np.linspace(0,1,100)\n",
        "#y = np.linspace(0,1,100)\n",
        "\n",
        "_x, _t = np.meshgrid(x, t)\n",
        "eval_mesh = Mesh({'x': x,  't':t}, device=device)\n",
        "p = pde.eval(eval_mesh)\n",
        "p = p.cpu().numpy()\n",
        "#p5 = p.reshape((_y.shape[0],_x.shape[1]))"
      ],
      "execution_count": null,
      "outputs": []
    },
    {
      "cell_type": "code",
      "metadata": {
        "id": "qQW06F6nfjFV"
      },
      "source": [
        "p,grad,loss=pde.eval_with_grad(eval_mesh)"
      ],
      "execution_count": null,
      "outputs": []
    },
    {
      "cell_type": "code",
      "metadata": {
        "id": "u07DcjAPde7K"
      },
      "source": [
        "ppp=[]\n",
        "loss = []\n",
        "x = np.linspace(0.0,1.,10)\n",
        "qq=[]\n",
        "for t in np.linspace(0.01,1,12):\n",
        "  #_x,_t = np.meshgrid(x,t)\n",
        "  eval_mesh = Mesh({'x': x,  't':t}, device=device)\n",
        "  pp,g,l = pde.eval_with_grad(eval_mesh)\n",
        "  qq.append(g)\n",
        "  loss.append(l)\n",
        "  #pp = pp.cpu().numpy()\n",
        "  ppp.append(pp)"
      ],
      "execution_count": null,
      "outputs": []
    },
    {
      "cell_type": "code",
      "metadata": {
        "colab": {
          "base_uri": "https://localhost:8080/",
          "height": 265
        },
        "id": "1HDhhLHxlWO4",
        "outputId": "f450311e-5daf-4c01-b7c8-11928f6d0372"
      },
      "source": [
        "for l in loss:\n",
        "  plt.plot(np.power(l,2))"
      ],
      "execution_count": null,
      "outputs": [
        {
          "output_type": "display_data",
          "data": {
            "image/png": "[encoded data removed]",
            "text/plain": [
              "<Figure size 432x288 with 1 Axes>"
            ]
          },
          "metadata": {
            "tags": [],
            "needs_background": "light"
          }
        }
      ]
    },
    {
      "cell_type": "code",
      "metadata": {
        "colab": {
          "base_uri": "https://localhost:8080/",
          "height": 265
        },
        "id": "GJEcLbIplBNU",
        "outputId": "3daf311e-9729-44bb-b950-aa4ca9e71204"
      },
      "source": [
        "q0=[]\n",
        "qL=[]\n",
        "for q in qq:\n",
        "  plt.plot(q.detach().cpu().numpy()[0])\n",
        "  q0.append(q.detach().cpu().numpy()[0][0])\n",
        "  qL.append(q.detach().cpu().numpy()[0][-1])"
      ],
      "execution_count": null,
      "outputs": [
        {
          "output_type": "display_data",
          "data": {
            "image/png": "[encoded data removed]",
            "text/plain": [
              "<Figure size 432x288 with 1 Axes>"
            ]
          },
          "metadata": {
            "tags": [],
            "needs_background": "light"
          }
        }
      ]
    },
    {
      "cell_type": "code",
      "metadata": {
        "colab": {
          "base_uri": "https://localhost:8080/",
          "height": 282
        },
        "id": "KKQaPKkjIaO2",
        "outputId": "ed045665-4e14-4849-925a-e2302e78e1bb"
      },
      "source": [
        "plt.plot(q0)"
      ],
      "execution_count": null,
      "outputs": [
        {
          "output_type": "execute_result",
          "data": {
            "text/plain": [
              "[<matplotlib.lines.Line2D at 0x7f5280eece50>]"
            ]
          },
          "metadata": {
            "tags": []
          },
          "execution_count": 155
        },
        {
          "output_type": "display_data",
          "data": {
            "image/png": "[encoded data removed]",
            "text/plain": [
              "<Figure size 432x288 with 1 Axes>"
            ]
          },
          "metadata": {
            "tags": [],
            "needs_background": "light"
          }
        }
      ]
    },
    {
      "cell_type": "code",
      "metadata": {
        "colab": {
          "base_uri": "https://localhost:8080/",
          "height": 282
        },
        "id": "Xl_8kM25IByV",
        "outputId": "f143e406-894e-4f0b-a85c-0ec249fe775a"
      },
      "source": [
        "plt.plot(qL[10:])"
      ],
      "execution_count": null,
      "outputs": [
        {
          "output_type": "execute_result",
          "data": {
            "text/plain": [
              "[<matplotlib.lines.Line2D at 0x7fba39dc7a50>]"
            ]
          },
          "metadata": {
            "tags": []
          },
          "execution_count": 124
        },
        {
          "output_type": "display_data",
          "data": {
            "image/png": "[encoded data removed]",
            "text/plain": [
              "<Figure size 432x288 with 1 Axes>"
            ]
          },
          "metadata": {
            "tags": [],
            "needs_background": "light"
          }
        }
      ]
    },
    {
      "cell_type": "code",
      "metadata": {
        "id": "9jQODc_2OV6D"
      },
      "source": [
        "from sympy import Sum, factorial, oo, IndexedBase, Function, sin,exp\n",
        "from sympy.abc import n"
      ],
      "execution_count": null,
      "outputs": []
    },
    {
      "cell_type": "code",
      "metadata": {
        "id": "QnBZVuMfgr2t"
      },
      "source": [
        "def diff_sol(x,t,alpha=0.1):\n",
        "    sol= Sum(4/((2*n + 1)*np.pi)*sin((2*n+1)*np.pi/2*x)*exp(-((2*n + 1)*np.pi/2)**2*t*alpha),(n,0,50))\n",
        "    \n",
        "    return sol #,sol_n"
      ],
      "execution_count": null,
      "outputs": []
    },
    {
      "cell_type": "code",
      "metadata": {
        "id": "tLVzJ8pEjm5g"
      },
      "source": [
        "\n",
        "out=pde.eval_with_grad(eval_mesh)"
      ],
      "execution_count": null,
      "outputs": []
    },
    {
      "cell_type": "code",
      "metadata": {
        "id": "0mrJJyjI3qMH"
      },
      "source": [
        "out_np=out[1].detach().cpu().numpy()"
      ],
      "execution_count": null,
      "outputs": []
    },
    {
      "cell_type": "code",
      "metadata": {
        "colab": {
          "base_uri": "https://localhost:8080/"
        },
        "id": "zzX6GygX38Gd",
        "outputId": "87898b43-a064-4bea-9331-9d659bf768bf"
      },
      "source": [
        "out_np.shape"
      ],
      "execution_count": null,
      "outputs": [
        {
          "output_type": "execute_result",
          "data": {
            "text/plain": [
              "(100, 2)"
            ]
          },
          "metadata": {
            "tags": []
          },
          "execution_count": 374
        }
      ]
    },
    {
      "cell_type": "code",
      "metadata": {
        "colab": {
          "base_uri": "https://localhost:8080/",
          "height": 265
        },
        "id": "rzKbAHv4jMXZ",
        "outputId": "0b0e4bd2-46ba-40af-ab8d-6c27ceec431a"
      },
      "source": [
        "#xxx=np.linspace(0,1,10)\n",
        "x = np.linspace(0,1,10)\n",
        "for t in np.linspace(0.01,1,10):\n",
        "    d=[]\n",
        "    for xx in x:\n",
        "        d.append(diff_sol(xx,t,alpha=1).doit())\n",
        "    plt.plot(d,marker='o',color='y')\n",
        "    eval_mesh = Mesh({'x': x,  't':t}, device=device)\n",
        "    pp = pde.eval(eval_mesh)\n",
        "    pp = pp.cpu().numpy()\n",
        "    plt.plot(pp,marker='+',linestyle='None',color='black')"
      ],
      "execution_count": null,
      "outputs": [
        {
          "output_type": "display_data",
          "data": {
            "image/png": "[encoded data removed]",
            "text/plain": [
              "<Figure size 432x288 with 1 Axes>"
            ]
          },
          "metadata": {
            "tags": [],
            "needs_background": "light"
          }
        }
      ]
    },
    {
      "cell_type": "code",
      "metadata": {
        "colab": {
          "base_uri": "https://localhost:8080/",
          "height": 265
        },
        "id": "k9lSnXDviBkl",
        "outputId": "e58e3d93-2284-4496-f489-cb0d4a025817"
      },
      "source": [
        "x = np.linspace(0,1,10)\n",
        "for t in np.linspace(0.01,1,10):\n",
        "    d=[]\n",
        "    for xx in x:\n",
        "        d.append(diff_sol(xx,t,alpha=1).doit())\n",
        "    plt.plot(d,marker='o',color='y')\n",
        "    eval_mesh = Mesh({'x': x,  't':t}, device=device)\n",
        "    pp = pde.eval(eval_mesh)\n",
        "    pp = pp.cpu().numpy()\n",
        "    plt.plot(pp,marker='+',linestyle='None',color='black')"
      ],
      "execution_count": null,
      "outputs": [
        {
          "output_type": "display_data",
          "data": {
            "image/png": "[encoded data removed]",
            "text/plain": [
              "<Figure size 432x288 with 1 Axes>"
            ]
          },
          "metadata": {
            "tags": [],
            "needs_background": "light"
          }
        }
      ]
    },
    {
      "cell_type": "code",
      "metadata": {
        "colab": {
          "base_uri": "https://localhost:8080/",
          "height": 265
        },
        "id": "kcLlxgHaGvEq",
        "outputId": "f6887621-8e12-40c1-d51a-453211c399e1"
      },
      "source": [
        "x = np.linspace(0,1,10)\n",
        "for t in np.linspace(0.1,1,10):\n",
        "    d=[]\n",
        "    for xx in x:\n",
        "        d.append(diff_sol(xx,t,alpha=1).doit())\n",
        "    #plt.plot(d,marker='o',color='y')\n",
        "    eval_mesh = Mesh({'x': x,  't':t}, device=device)\n",
        "    pp = pde.eval(eval_mesh)\n",
        "    pp = pp.cpu().numpy()\n",
        "    plt.plot(pp.reshape(-1)-np.array(d),marker='o',linestyle='None')"
      ],
      "execution_count": null,
      "outputs": [
        {
          "output_type": "display_data",
          "data": {
            "image/png": "[encoded data removed]",
            "text/plain": [
              "<Figure size 432x288 with 1 Axes>"
            ]
          },
          "metadata": {
            "tags": [],
            "needs_background": "light"
          }
        }
      ]
    },
    {
      "cell_type": "code",
      "metadata": {
        "id": "uH9_d0ASG7N1",
        "colab": {
          "base_uri": "https://localhost:8080/"
        },
        "outputId": "47fa0157-73bb-45b0-853f-f0c1062f41a5"
      },
      "source": [
        "pp.reshape(-1)-np.array(d)"
      ],
      "execution_count": null,
      "outputs": [
        {
          "output_type": "execute_result",
          "data": {
            "text/plain": [
              "array([9.82690835371614e-5, 1.91111856493176e-5, -0.000271523194577829,\n",
              "       -0.000412734673227264, -0.000213420091990463, 0.000191083336638975,\n",
              "       0.000605168526016372, 0.000920534883478999, 0.00109250133816152,\n",
              "       0.00112512274501220], dtype=object)"
            ]
          },
          "metadata": {
            "tags": []
          },
          "execution_count": 115
        }
      ]
    },
    {
      "cell_type": "code",
      "metadata": {
        "id": "VuE4ypNHBy26",
        "colab": {
          "base_uri": "https://localhost:8080/"
        },
        "outputId": "24f4663b-5694-493e-b4b5-7a8f4ead7c30"
      },
      "source": [
        "pp"
      ],
      "execution_count": null,
      "outputs": [
        {
          "output_type": "execute_result",
          "data": {
            "text/plain": [
              "array([[9.8269084e-05],\n",
              "       [1.8769128e-02],\n",
              "       [3.6658801e-02],\n",
              "       [5.3575788e-02],\n",
              "       [6.9192886e-02],\n",
              "       [8.2906298e-02],\n",
              "       [9.4116032e-02],\n",
              "       [1.0238577e-01],\n",
              "       [1.0742913e-01],\n",
              "       [1.0910217e-01]], dtype=float32)"
            ]
          },
          "metadata": {
            "tags": []
          },
          "execution_count": 112
        }
      ]
    },
    {
      "cell_type": "code",
      "metadata": {
        "id": "ZJLpwGl7B0Sp"
      },
      "source": [
        ""
      ],
      "execution_count": null,
      "outputs": []
    }
  ]
}