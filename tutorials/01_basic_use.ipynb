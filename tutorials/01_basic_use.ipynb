{
 "cells": [
  {
   "cell_type": "code",
   "execution_count": 1,
   "metadata": {
    "ExecuteTime": {
     "end_time": "2020-06-21T19:00:24.955789Z",
     "start_time": "2020-06-21T19:00:24.609332Z"
    }
   },
   "outputs": [
    {
     "name": "stderr",
     "output_type": "stream",
     "text": [
      "\n",
      "Bad key \"text.kerning_factor\" on line 4 in\n",
      "C:\\Users\\sensio\\miniconda3\\lib\\site-packages\\matplotlib\\mpl-data\\stylelib\\_classic_test_patch.mplstyle.\n",
      "You probably need to get an updated matplotlibrc file from\n",
      "https://github.com/matplotlib/matplotlib/blob/v3.1.3/matplotlibrc.template\n",
      "or from the matplotlib source distribution\n"
     ]
    }
   ],
   "source": [
    "# autoreload nangs\n",
    "%reload_ext autoreload\n",
    "%autoreload 2\n",
    "%matplotlib inline"
   ]
  },
  {
   "cell_type": "markdown",
   "metadata": {},
   "source": [
    "# Basic use"
   ]
  },
  {
   "cell_type": "markdown",
   "metadata": {},
   "source": [
    "We want to solve the following PDE:\n",
    "\n",
    "\\begin{equation}\n",
    "    \\frac{\\partial \\phi}{\\partial t} + u \\frac{\\partial \\phi}{\\partial x} = 0\n",
    "\\end{equation}\n",
    "\n",
    "The independent variables (i.e, $x$ and $t$) are used as input values for the NN, and the solution (i.e. $\\phi$) is the output. In order to find the solution, at each step the NN outputs are derived w.r.t the inputs. Then, a loss function that matches the PDE is built and the weights are updated accordingly. If the loss function goes to zero, we can assume that our NN is indeed the solution to our PDE. We will try to find a general solution for different values of $u$, so it will be set also as an input."
   ]
  },
  {
   "cell_type": "code",
   "execution_count": 2,
   "metadata": {
    "ExecuteTime": {
     "end_time": "2020-06-21T19:00:25.391914Z",
     "start_time": "2020-06-21T19:00:24.956789Z"
    }
   },
   "outputs": [
    {
     "data": {
      "text/plain": [
       "('0.1.2', '1.5.0')"
      ]
     },
     "execution_count": 2,
     "metadata": {},
     "output_type": "execute_result"
    }
   ],
   "source": [
    "# imports\n",
    "import numpy as np \n",
    "import matplotlib.pyplot as plt \n",
    "import nangs\n",
    "import torch\n",
    "\n",
    "device = \"cuda\" if torch.cuda.is_available() else \"cpu\"\n",
    "\n",
    "nangs.__version__, torch.__version__"
   ]
  },
  {
   "cell_type": "markdown",
   "metadata": {
    "ExecuteTime": {
     "end_time": "2020-06-21T10:03:39.388652Z",
     "start_time": "2020-06-21T10:03:39.370652Z"
    }
   },
   "source": [
    "## Define your PDE"
   ]
  },
  {
   "cell_type": "markdown",
   "metadata": {},
   "source": [
    "We provide the class `PDE` with the default functionality to solve the PDE. First, create a new class inheriting from the `PDE` class and overload the `computePDELoss` function to return one loss function for each PDE in your system. You must initialize this class with your inputs and outputs names. "
   ]
  },
  {
   "cell_type": "code",
   "execution_count": 3,
   "metadata": {
    "ExecuteTime": {
     "end_time": "2020-06-21T19:00:25.439742Z",
     "start_time": "2020-06-21T19:00:25.392887Z"
    },
    "code_folding": []
   },
   "outputs": [
    {
     "data": {
      "text/plain": [
       "(('x', 't', 'u'), ('p',))"
      ]
     },
     "execution_count": 3,
     "metadata": {},
     "output_type": "execute_result"
    }
   ],
   "source": [
    "from nangs import PDE\n",
    "\n",
    "class Adv1d(PDE):\n",
    "    def computePDELoss(self, inputs, outputs):\n",
    "                \n",
    "        # compute gradients\n",
    "        grads = self.computeGrads(outputs, inputs)\n",
    "        \n",
    "        # compute loss\n",
    "        dpdx, dpdt = grads[:, 0], grads[:, 1]\n",
    "        u = inputs[:,2]\n",
    "        return {'pde': dpdt + u*dpdx}\n",
    "    \n",
    "pde = Adv1d(inputs=('x', 't', 'u'), outputs='p')\n",
    "\n",
    "pde.inputs, pde.outputs"
   ]
  },
  {
   "cell_type": "markdown",
   "metadata": {
    "heading_collapsed": true
   },
   "source": [
    "## Define your data"
   ]
  },
  {
   "cell_type": "markdown",
   "metadata": {
    "hidden": true
   },
   "source": [
    "To solve the PDE we first need a set of points to evaluate it, we will use this points as the dataset for training de NN."
   ]
  },
  {
   "cell_type": "code",
   "execution_count": 4,
   "metadata": {
    "ExecuteTime": {
     "end_time": "2020-06-21T19:00:25.485602Z",
     "start_time": "2020-06-21T19:00:25.440742Z"
    },
    "hidden": true
   },
   "outputs": [],
   "source": [
    "# define the mesh\n",
    "\n",
    "x = np.linspace(0,1,20)\n",
    "t = np.linspace(0,1,30)\n",
    "u = np.linspace(-1,1,10)"
   ]
  },
  {
   "cell_type": "markdown",
   "metadata": {
    "hidden": true
   },
   "source": [
    "The class `Mesh` will combine all the posible values on the previous arrays to build a mesh. You must pass the data as a dict, providing one (unique) name for each variable matching the names of the inputs defined in the PDE."
   ]
  },
  {
   "cell_type": "code",
   "execution_count": 5,
   "metadata": {
    "ExecuteTime": {
     "end_time": "2020-06-21T19:00:25.533344Z",
     "start_time": "2020-06-21T19:00:25.486602Z"
    },
    "hidden": true
   },
   "outputs": [
    {
     "data": {
      "text/plain": [
       "('x', 't', 'u')"
      ]
     },
     "execution_count": 5,
     "metadata": {},
     "output_type": "execute_result"
    }
   ],
   "source": [
    "from nangs import Mesh\n",
    "\n",
    "mesh = Mesh({'x': x, 't': t, 'u': u})\n",
    "mesh.vars"
   ]
  },
  {
   "cell_type": "markdown",
   "metadata": {
    "hidden": true
   },
   "source": [
    "In order to train a NN we need a `Dataset`. A `Mesh` has in fact a `Dataset` that you can iterate over."
   ]
  },
  {
   "cell_type": "code",
   "execution_count": 6,
   "metadata": {
    "ExecuteTime": {
     "end_time": "2020-06-21T19:00:25.581072Z",
     "start_time": "2020-06-21T19:00:25.535347Z"
    },
    "hidden": true
   },
   "outputs": [
    {
     "data": {
      "text/plain": [
       "6000"
      ]
     },
     "execution_count": 6,
     "metadata": {},
     "output_type": "execute_result"
    }
   ],
   "source": [
    "len(mesh.dataset)"
   ]
  },
  {
   "cell_type": "code",
   "execution_count": 7,
   "metadata": {
    "ExecuteTime": {
     "end_time": "2020-06-21T19:00:25.627299Z",
     "start_time": "2020-06-21T19:00:25.583074Z"
    },
    "hidden": true
   },
   "outputs": [
    {
     "data": {
      "text/plain": [
       "tensor([[ 0.0000,  0.0000, -1.0000],\n",
       "        [ 0.0000,  0.0000, -0.7778],\n",
       "        [ 0.0000,  0.0000, -0.5556]])"
      ]
     },
     "execution_count": 7,
     "metadata": {},
     "output_type": "execute_result"
    }
   ],
   "source": [
    "mesh.dataset[:3]"
   ]
  },
  {
   "cell_type": "markdown",
   "metadata": {
    "hidden": true
   },
   "source": [
    "You can also specify the device to cache the data"
   ]
  },
  {
   "cell_type": "code",
   "execution_count": 8,
   "metadata": {
    "ExecuteTime": {
     "end_time": "2020-06-21T19:00:26.688178Z",
     "start_time": "2020-06-21T19:00:25.628300Z"
    },
    "hidden": true
   },
   "outputs": [
    {
     "data": {
      "text/plain": [
       "tensor([[ 0.0000,  0.0000, -1.0000],\n",
       "        [ 0.0000,  0.0000, -0.7778],\n",
       "        [ 0.0000,  0.0000, -0.5556]], device='cuda:0')"
      ]
     },
     "execution_count": 8,
     "metadata": {},
     "output_type": "execute_result"
    }
   ],
   "source": [
    "mesh = Mesh({'x': x, 't': t, 'u': u}, device=device)\n",
    "mesh.dataset[:3]"
   ]
  },
  {
   "cell_type": "markdown",
   "metadata": {
    "hidden": true
   },
   "source": [
    "Finally, add the mesh to your PDE."
   ]
  },
  {
   "cell_type": "code",
   "execution_count": 9,
   "metadata": {
    "ExecuteTime": {
     "end_time": "2020-06-21T19:00:26.735207Z",
     "start_time": "2020-06-21T19:00:26.689179Z"
    },
    "hidden": true
   },
   "outputs": [],
   "source": [
    "pde.set_mesh(mesh)"
   ]
  },
  {
   "cell_type": "code",
   "execution_count": 10,
   "metadata": {
    "ExecuteTime": {
     "end_time": "2020-06-21T19:00:26.781478Z",
     "start_time": "2020-06-21T19:00:26.736206Z"
    },
    "hidden": true
   },
   "outputs": [
    {
     "data": {
      "text/plain": [
       "('x', 't', 'u')"
      ]
     },
     "execution_count": 10,
     "metadata": {},
     "output_type": "execute_result"
    }
   ],
   "source": [
    "mesh.vars"
   ]
  },
  {
   "cell_type": "code",
   "execution_count": 11,
   "metadata": {
    "ExecuteTime": {
     "end_time": "2020-06-21T19:00:26.827493Z",
     "start_time": "2020-06-21T19:00:26.782456Z"
    },
    "hidden": true
   },
   "outputs": [
    {
     "data": {
      "text/plain": [
       "('x', 't', 'u')"
      ]
     },
     "execution_count": 11,
     "metadata": {},
     "output_type": "execute_result"
    }
   ],
   "source": [
    "pde.inputs"
   ]
  },
  {
   "cell_type": "markdown",
   "metadata": {
    "heading_collapsed": true
   },
   "source": [
    "## Boundary Conditions"
   ]
  },
  {
   "cell_type": "markdown",
   "metadata": {
    "hidden": true
   },
   "source": [
    "In order to find a non-trivial solution to our PDE we need to specify a set of boundary conditions. Nangs provide different classes for common boundary conditions."
   ]
  },
  {
   "cell_type": "code",
   "execution_count": 12,
   "metadata": {
    "ExecuteTime": {
     "end_time": "2020-06-21T19:00:26.875618Z",
     "start_time": "2020-06-21T19:00:26.828493Z"
    },
    "hidden": true
   },
   "outputs": [
    {
     "data": {
      "text/plain": [
       "(1, 20, 10)"
      ]
     },
     "execution_count": 12,
     "metadata": {},
     "output_type": "execute_result"
    }
   ],
   "source": [
    "# initial condition (t = 0)\n",
    "\n",
    "t0 = np.array([0])\n",
    "_x, _t, _u = np.meshgrid(x, t0, u)\n",
    "p0 = np.sin(2*np.pi*(_x- _u*_t))\n",
    "p0.shape"
   ]
  },
  {
   "cell_type": "code",
   "execution_count": 13,
   "metadata": {
    "ExecuteTime": {
     "end_time": "2020-06-21T19:00:27.156139Z",
     "start_time": "2020-06-21T19:00:26.876618Z"
    },
    "hidden": true
   },
   "outputs": [
    {
     "data": {
      "image/png": "[encoded data removed]",
      "text/plain": [
       "<Figure size 432x288 with 1 Axes>"
      ]
     },
     "metadata": {
      "needs_background": "light"
     },
     "output_type": "display_data"
    }
   ],
   "source": [
    "plt.plot(x, p0[0,:,0])\n",
    "plt.grid(True)\n",
    "plt.xlabel('x')\n",
    "plt.ylabel('$p_0$')\n",
    "plt.show()"
   ]
  },
  {
   "cell_type": "markdown",
   "metadata": {
    "hidden": true
   },
   "source": [
    "A boundary condition has its own `Mesh` and logic to compute values and gradients. In a `Dirichlet` boundary conditions we are fixing some values, so we need the inputs and also the target outputs (in this case, our initial condition). If you are including some free-parameters as NN inputs, make sure you specify an initial condition for each one of them (here we use the same for every value of $u$)."
   ]
  },
  {
   "cell_type": "code",
   "execution_count": 14,
   "metadata": {
    "ExecuteTime": {
     "end_time": "2020-06-21T19:00:27.203159Z",
     "start_time": "2020-06-21T19:00:27.157138Z"
    },
    "hidden": true
   },
   "outputs": [
    {
     "data": {
      "text/plain": [
       "[('x', 't', 'u'), ('p',)]"
      ]
     },
     "execution_count": 14,
     "metadata": {},
     "output_type": "execute_result"
    }
   ],
   "source": [
    "from nangs import Dirichlet\n",
    "\n",
    "initial_condition = Dirichlet({'x': x, 't': t0, 'u': u}, {'p': p0.reshape(-1)}, device=device, name=\"initial\")\n",
    "initial_condition.vars"
   ]
  },
  {
   "cell_type": "code",
   "execution_count": 15,
   "metadata": {
    "ExecuteTime": {
     "end_time": "2020-06-21T19:00:27.249726Z",
     "start_time": "2020-06-21T19:00:27.204160Z"
    },
    "hidden": true
   },
   "outputs": [
    {
     "data": {
      "text/plain": [
       "(tensor([[ 0.0000,  0.0000, -1.0000],\n",
       "         [ 0.0000,  0.0000, -0.7778],\n",
       "         [ 0.0000,  0.0000, -0.5556],\n",
       "         [ 0.0000,  0.0000, -0.3333],\n",
       "         [ 0.0000,  0.0000, -0.1111]], device='cuda:0'),\n",
       " tensor([[0.],\n",
       "         [0.],\n",
       "         [0.],\n",
       "         [0.],\n",
       "         [0.]], device='cuda:0'))"
      ]
     },
     "execution_count": 15,
     "metadata": {},
     "output_type": "execute_result"
    }
   ],
   "source": [
    "initial_condition.dataset[:5]"
   ]
  },
  {
   "cell_type": "code",
   "execution_count": 16,
   "metadata": {
    "ExecuteTime": {
     "end_time": "2020-06-21T19:00:27.296813Z",
     "start_time": "2020-06-21T19:00:27.250735Z"
    },
    "hidden": true
   },
   "outputs": [],
   "source": [
    "pde.add_boco(initial_condition)"
   ]
  },
  {
   "cell_type": "markdown",
   "metadata": {
    "hidden": true
   },
   "source": [
    "We use a periodic boundary condition at $x=0$ and $x=1$. During training we will enforce this values to match."
   ]
  },
  {
   "cell_type": "code",
   "execution_count": 17,
   "metadata": {
    "ExecuteTime": {
     "end_time": "2020-06-21T19:00:27.344122Z",
     "start_time": "2020-06-21T19:00:27.297813Z"
    },
    "hidden": true
   },
   "outputs": [
    {
     "data": {
      "text/plain": [
       "(30, 2)"
      ]
     },
     "execution_count": 17,
     "metadata": {},
     "output_type": "execute_result"
    }
   ],
   "source": [
    "# boundary conditions (peridic conditions at x = 0 and x = 1)\n",
    "\n",
    "xb0 = np.array([0])\n",
    "mb0 = np.meshgrid(xb0, t)\n",
    "mb0 = np.stack(mb0, -1).reshape(-1, 2)\n",
    "mb0.shape"
   ]
  },
  {
   "cell_type": "code",
   "execution_count": 18,
   "metadata": {
    "ExecuteTime": {
     "end_time": "2020-06-21T19:00:27.391481Z",
     "start_time": "2020-06-21T19:00:27.346123Z"
    },
    "hidden": true
   },
   "outputs": [
    {
     "data": {
      "text/plain": [
       "[('x', 't', 'u'), ('x', 't', 'u')]"
      ]
     },
     "execution_count": 18,
     "metadata": {},
     "output_type": "execute_result"
    }
   ],
   "source": [
    "from nangs import Periodic\n",
    "\n",
    "x1 = np.array([0.])\n",
    "x2 = np.array([1.])\n",
    "periodic = Periodic({'x': x1, 't': t, 'u': u}, {'x': x2, 't': t, 'u': u}, device=device)\n",
    "periodic.vars"
   ]
  },
  {
   "cell_type": "code",
   "execution_count": 19,
   "metadata": {
    "ExecuteTime": {
     "end_time": "2020-06-21T19:00:27.438466Z",
     "start_time": "2020-06-21T19:00:27.392465Z"
    },
    "hidden": true
   },
   "outputs": [
    {
     "data": {
      "text/plain": [
       "(tensor([[ 0.0000,  0.0000, -1.0000],\n",
       "         [ 0.0000,  0.0000, -0.7778],\n",
       "         [ 0.0000,  0.0000, -0.5556],\n",
       "         [ 0.0000,  0.0000, -0.3333],\n",
       "         [ 0.0000,  0.0000, -0.1111]], device='cuda:0'),\n",
       " tensor([[ 1.0000,  0.0000, -1.0000],\n",
       "         [ 1.0000,  0.0000, -0.7778],\n",
       "         [ 1.0000,  0.0000, -0.5556],\n",
       "         [ 1.0000,  0.0000, -0.3333],\n",
       "         [ 1.0000,  0.0000, -0.1111]], device='cuda:0'))"
      ]
     },
     "execution_count": 19,
     "metadata": {},
     "output_type": "execute_result"
    }
   ],
   "source": [
    "periodic.dataset[:5]"
   ]
  },
  {
   "cell_type": "code",
   "execution_count": 20,
   "metadata": {
    "ExecuteTime": {
     "end_time": "2020-06-21T19:00:27.484085Z",
     "start_time": "2020-06-21T19:00:27.439465Z"
    },
    "hidden": true
   },
   "outputs": [],
   "source": [
    "pde.add_boco(periodic)"
   ]
  },
  {
   "cell_type": "markdown",
   "metadata": {
    "ExecuteTime": {
     "end_time": "2020-06-21T10:30:37.002062Z",
     "start_time": "2020-06-21T10:30:36.956196Z"
    },
    "heading_collapsed": true
   },
   "source": [
    "## Define your solution"
   ]
  },
  {
   "cell_type": "markdown",
   "metadata": {
    "hidden": true
   },
   "source": [
    "We provide a basic `MLP` class to impement a Multilayer Perceptron as solution approxiamtion to the PDE, but you can always define you own NN (just be sure to match the number of inputs and outputs)."
   ]
  },
  {
   "cell_type": "code",
   "execution_count": 21,
   "metadata": {
    "ExecuteTime": {
     "end_time": "2020-06-21T19:00:27.529623Z",
     "start_time": "2020-06-21T19:00:27.485084Z"
    },
    "hidden": true
   },
   "outputs": [
    {
     "data": {
      "text/plain": [
       "MLP(\n",
       "  (mlp): Sequential(\n",
       "    (0): Linear(in_features=3, out_features=100, bias=True)\n",
       "    (1): Sequential(\n",
       "      (0): Sine()\n",
       "      (1): Linear(in_features=100, out_features=100, bias=True)\n",
       "    )\n",
       "    (2): Sequential(\n",
       "      (0): Sine()\n",
       "      (1): Linear(in_features=100, out_features=100, bias=True)\n",
       "    )\n",
       "    (3): Sequential(\n",
       "      (0): Sine()\n",
       "      (1): Linear(in_features=100, out_features=1, bias=True)\n",
       "    )\n",
       "  )\n",
       ")"
      ]
     },
     "execution_count": 21,
     "metadata": {},
     "output_type": "execute_result"
    }
   ],
   "source": [
    "from nangs import MLP\n",
    "\n",
    "mlp = MLP(inputs=len(pde.inputs), outputs=len(pde.outputs), layers=3, neurons=100)\n",
    "\n",
    "mlp"
   ]
  },
  {
   "cell_type": "code",
   "execution_count": 22,
   "metadata": {
    "ExecuteTime": {
     "end_time": "2020-06-21T19:00:27.576874Z",
     "start_time": "2020-06-21T19:00:27.530624Z"
    },
    "hidden": true
   },
   "outputs": [],
   "source": [
    "assert mlp(torch.randn(32, len(pde.inputs))).shape == torch.randn(32, len(pde.outputs)).shape"
   ]
  },
  {
   "cell_type": "markdown",
   "metadata": {},
   "source": [
    "## Solve the PDE"
   ]
  },
  {
   "cell_type": "markdown",
   "metadata": {},
   "source": [
    "To solve the PDE, you must first call de `compile` function to specify the NN, optimizer and optionally the loss function (we use MSE by default) or a learning rate scheduler."
   ]
  },
  {
   "cell_type": "code",
   "execution_count": 23,
   "metadata": {
    "ExecuteTime": {
     "end_time": "2020-06-21T19:00:27.623871Z",
     "start_time": "2020-06-21T19:00:27.577873Z"
    }
   },
   "outputs": [],
   "source": [
    "EPOCHS = 40\n",
    "\n",
    "optimizer = torch.optim.Adam(mlp.parameters())\n",
    "scheduler = torch.optim.lr_scheduler.OneCycleLR(optimizer, max_lr=0.01, pct_start=0.1, total_steps=EPOCHS)\n",
    "\n",
    "pde.compile(mlp.to(device), optimizer, scheduler)"
   ]
  },
  {
   "cell_type": "markdown",
   "metadata": {},
   "source": [
    "To solve the PDE, call the `solve` function with a number of epochs and batch size for the optimization process. It returns a hitory with all the tracked metrics."
   ]
  },
  {
   "cell_type": "code",
   "execution_count": 24,
   "metadata": {
    "ExecuteTime": {
     "end_time": "2020-06-21T19:01:14.748606Z",
     "start_time": "2020-06-21T19:00:27.625874Z"
    }
   },
   "outputs": [
    {
     "data": {
      "image/png": "[encoded data removed]",
      "text/plain": [
       "<Figure size 1080x360 with 2 Axes>"
      ]
     },
     "metadata": {},
     "output_type": "display_data"
    },
    {
     "data": {
      "text/html": [],
      "text/plain": [
       "<IPython.core.display.HTML object>"
      ]
     },
     "metadata": {},
     "output_type": "display_data"
    },
    {
     "name": "stdout",
     "output_type": "stream",
     "text": [
      "Wall time: 47 s\n"
     ]
    }
   ],
   "source": [
    "BATCH_SIZE = 256\n",
    "\n",
    "%time hist = pde.solve(EPOCHS, BATCH_SIZE)"
   ]
  },
  {
   "cell_type": "markdown",
   "metadata": {},
   "source": [
    "## Evaluate your solution"
   ]
  },
  {
   "cell_type": "markdown",
   "metadata": {},
   "source": [
    "Finally, you can evaluate your solution"
   ]
  },
  {
   "cell_type": "code",
   "execution_count": 25,
   "metadata": {
    "ExecuteTime": {
     "end_time": "2020-06-21T19:01:14.980414Z",
     "start_time": "2020-06-21T19:01:14.750429Z"
    },
    "code_folding": []
   },
   "outputs": [],
   "source": [
    "from matplotlib import animation, rc\n",
    "rc('animation', html='html5')\n",
    "\n",
    "def update_plot(i, x, u, t, p):\n",
    "    ax.clear()\n",
    "    pe = np.sin(2.*np.pi*(x-u*t[i]))\n",
    "    ax.plot(x, pe, label=f\"exact (u = {U})\")\n",
    "    ax.plot(x, p[i], '.k', label=\"solution\")\n",
    "    ax.set_xlabel(\"x\", fontsize=14)\n",
    "    ax.set_ylabel(\"p\", fontsize=14, rotation=np.pi/2)\n",
    "    ax.legend(loc=\"upper right\")\n",
    "    ax.grid(True)\n",
    "    ax.set_xlim([0, 1])\n",
    "    ax.set_ylim([-1.2, 1.2])\n",
    "    l2 = np.sqrt(np.sum((p[i]-pe)**2))\n",
    "    ax.set_title(f\"t = {t[i]:.3f} (L2 = {l2:.5f})\")\n",
    "    return ax"
   ]
  },
  {
   "cell_type": "code",
   "execution_count": 26,
   "metadata": {
    "ExecuteTime": {
     "end_time": "2020-06-21T19:01:15.043745Z",
     "start_time": "2020-06-21T19:01:14.981414Z"
    }
   },
   "outputs": [],
   "source": [
    "#t = np.linspace(0,1,10)\n",
    "U = -0.5\n",
    "\n",
    "x = np.linspace(0,1,30)\n",
    "t = np.linspace(0,1,20)\n",
    "u = np.array([U])\n",
    "eval_mesh = Mesh({'x': x, 't': t, 'u': u}, device=device)\n",
    "\n",
    "p = pde.eval(eval_mesh)\n",
    "p = p.cpu().numpy().reshape(len(t), -1)\n",
    "\n",
    "fig = plt.figure()\n",
    "ax = plt.subplot(111)\n",
    "anim = animation.FuncAnimation(fig, update_plot, frames=len(t), fargs=(x, U, t, p), interval=300)\n",
    "plt.close()"
   ]
  },
  {
   "cell_type": "code",
   "execution_count": 27,
   "metadata": {
    "ExecuteTime": {
     "end_time": "2020-06-21T19:01:16.292386Z",
     "start_time": "2020-06-21T19:01:15.044744Z"
    }
   },
   "outputs": [
    {
     "data": {
      "text/html": [
       "<video width=\"432\" height=\"288\" controls autoplay loop>\n",
       "  <source type=\"video/mp4\" src=\"data:video/mp4;base64,AAAAIGZ0eXBNNFYgAAACAE00ViBpc29taXNvMmF2YzEAAAAIZnJlZQAAsQdtZGF0AAACnwYF//+b\n",
       "3EXpvebZSLeWLNgg2SPu73gyNjQgLSBjb3JlIDE1OSAtIEguMjY0L01QRUctNCBBVkMgY29kZWMg\n",
       "LSBDb3B5bGVmdCAyMDAzLTIwMTkgLSBodHRwOi8vd3d3LnZpZGVvbGFuLm9yZy94MjY0Lmh0bWwg\n",
       "LSBvcHRpb25zOiBjYWJhYz0xIHJlZj0zIGRlYmxvY2s9MTowOjAgYW5hbHlzZT0weDM6MHgxMTMg\n",
       "bWU9aGV4IHN1Ym1lPTcgcHN5PTEgcHN5X3JkPTEuMDA6MC4wMCBtaXhlZF9yZWY9MSBtZV9yYW5n\n",
       "ZT0xNiBjaHJvbWFfbWU9MSB0cmVsbGlzPTEgOHg4ZGN0PTEgY3FtPTAgZGVhZHpvbmU9MjEsMTEg\n",
       "ZmFzdF9wc2tpcD0xIGNocm9tYV9xcF9vZmZzZXQ9LTIgdGhyZWFkcz05IGxvb2thaGVhZF90aHJl\n",
       "YWRzPTEgc2xpY2VkX3RocmVhZHM9MCBucj0wIGRlY2ltYXRlPTEgaW50ZXJsYWNlZD0wIGJsdXJh\n",
       "eV9jb21wYXQ9MCBjb25zdHJhaW5lZF9pbnRyYT0wIGJmcmFtZXM9MyBiX3B5cmFtaWQ9MiBiX2Fk\n",
       "YXB0PTEgYl9iaWFzPTAgZGlyZWN0PTEgd2VpZ2h0Yj0xIG9wZW5fZ29wPTAgd2VpZ2h0cD0yIGtl\n",
       "eWludD0yNTAga2V5aW50X21pbj0zIHNjZW5lY3V0PTQwIGludHJhX3JlZnJlc2g9MCByY19sb29r\n",
       "YWhlYWQ9NDAgcmM9Y3JmIG1idHJlZT0xIGNyZj0yMy4wIHFjb21wPTAuNjAgcXBtaW49MCBxcG1h\n",
       "eD02OSBxcHN0ZXA9NCBpcF9yYXRpbz0xLjQwIGFxPTE6MS4wMACAAAAeGmWIhAAU//73x0/Apuj5\n",
       "ZsudRT0hMIrY+kgovVjs0DJ1AAADAABEwMcRbV3MmvvFRafBTwAHLSaJVE1772HgpDBi/vWZrbBD\n",
       "MmTK3Dq8GnhXTYLifh8IBaZl/998/1mvLprPcr6NrLGOIPE3/agYTmle/oAyEDVGijCO3I70NHik\n",
       "bMOf++O1/cRikCSiCwgT/3SHaxOhalKYeCYH3P/PMWjbzmjzVb7BSGW2Czynz0/fb1UkdHZFj5e2\n",
       "0tKfKrlWh/N/JThM95RjMaT6M7JSYOYlRJg7LXzVuTITiV77/yEmtO5PtpkYCxsckLPxAkPPb14T\n",
       "Ik0ko4KW5JaAyd9gN9AXa6eCrcCck4BZ3UwrumBgxVLgWrZnHS50tpkydD2wzhQdoJOR0KlfLyO2\n",
       "R3n2ykRArUbTm6QRFlkFLVu2E1Ke8o4//aZ6fzxUyyDNtfCUxSrzB0E68fCiOIwnEzLGwkjVRmFu\n",
       "mWcxJJn6yMUUE+q9tJ0lFjzk9pgdwMW1bc+9pNsEed1DC++m4CzvafHwj7luGR/9ta4oD0w+VATi\n",
       "r+P7/u6yB6bG3W6LrEKAM7qbnPg+nOvtsZNlKIoB1xJmLc3ia6p79tW85alsGJuLLcYRdmWAhJPU\n",
       "x6LA7vJIRZyB3zFFzo6OUJ7ieILNBnFqTqcUNwgPOXShwiAoB/1E7spBiNqx/8Umk6F7lVNwR7EL\n",
       "k4+ODzbyfqaYZitOKpoXtIoGpq4Q6C84ru0AFKzbQPDbTffyrlhfEkqX0BsEJgHqLPWTUINCpkcQ\n",
       "rGb9SSZOKF7ThR/yBdBPczf1XAr0th/okWTBfOyIdXQijoZ7wGJsD2kmIB4xu4LAd4UNhijBUSmR\n",
       "tIKgPL8pnCN8Br0TLQ3PMH4cHiRX0c0ZJAa2ndPBhldg+cjzoU/vQ8NVrT7ASxR5HBUboVMTjt8S\n",
       "NBvu0NDc6WWzyrfkOSIQ1w3Y8zVt6FYcTXf3qfpvsGs54VawQ4cLvTWI+T9Zg8NyNpUQqvflq6cV\n",
       "YYWB0iZykufQsR2wrMsELSmCs7nvLQpgZTw8DgsGWZ4iYBPGiqmiWJYEtKWV5xetAILa2IP9bhOO\n",
       "n3Fa0P8fjbo7/riv684pqORMBA6mykBSYlUbYcj5AE/cBrD7e/Rrwvi9g4jKHKYukpN1a6CTb4Eo\n",
       "PCkI8YS1oTnSRqiPZjoK25xB+V4CR+JAyjR9mCBNprB8wls555shOIFJf1JW18pMEZTg1fx/DhW3\n",
       "mZbBtr5Bfu1Ao21780Q4UEez1kQeRTwOLNYKP+DES7sXs494hn2pzVk9fryh6p/e/OWg9TIqhw4B\n",
       "s2K60p2DgVXWvy6fr0xEVlnTfzVxAmaqxDbVYkBoDChhhW6wfSpQk/gsSNpG7XclIUJAGKO00Z7a\n",
       "+frXu3Z9nU4sKzIyfv3A5dW70FVFoeNdtPy9ZsSHP988HvvKbbqyGaa3q7U6jTeCNP78eMOj8O54\n",
       "+ocf+YgPCKwjTplGG+6VN6/twr1j08lPEAKdQWar0H5rvYn7g9cBknPaRZVT1Au0x4XwjT1/xSrp\n",
       "/cy4CjCZ3irtrF4P9CbsYMXyQMtG+b2WQk3xwgTyWMqZK+jlGpHgVi/7AETVkIlAHlYHFbY9/sF3\n",
       "R8OBU8b8nj/pcUqiNfDVxdU9uVKiCQIDFEw4TxrW+iRdh1B5Mb9iY3nuxZ/NsRNIxJwJMbr5uePi\n",
       "MUNiLuAEkv2nhbEPFJArvPv29hBxe7Mi7mJ/CnMTERctaWve+7vKt7LN06sb8rKjF0X1Ft7sjCgJ\n",
       "uoH0uocPSev6qD8bDotXIsECgw3v4VIF9RrssFF5J/mOQFGzJrzitPw7tr4nEKv8F7zvMABf7+Bc\n",
       "ZnTBGQx6L1BMgOy2M2nZYLZVczvO8p96a5Db4Ix68MUE704/UrdX+cxo1/dW66PsO5CCKvy8Wgfn\n",
       "60GgUf5Mtf3iU2yNfJx5n5AX1QqFYCv6RPQSaUG6iCxLIK+l2eek5yxfTcPGdEIQllwFuLoE6liR\n",
       "qFFc/6dxx8zrdXINUe5ozqWv+1rOpsDeHeP1Z0C/dR+ZtlAUJ8hcB+fk1Q8B6GcLWqgrukBX1s5f\n",
       "dog5hvK99ZdL2f3MLrFwrMQ0XxDRJJ7mQR5VVDYljTOOEeP5Q+SWfeGNLlLQXBrCcneUkT2/+RYG\n",
       "AGwGFe1kfInA0FhMcHLrYmi3b7nMqhTPlYqg1E4Mn3WJPJNV0WFccWl6+/9eUiMamAQlJj+lzIe5\n",
       "Lqjmo+QElcab6agH2PkFSwRuHaGJIpQVHOVURpLPHe91c1SdKTJx1pq5wKlH9sk6qLxnhTpkWTIG\n",
       "Cr80WgcOTaeJkN6Z24P1Y5aUs6VpyUZf6PufXrE1rp2m93jwAxcpTu+0vPSJ/6WNMSXFnv9CynLR\n",
       "iHN9WAjF+rcLwA9b/Naqza7oGRfjHj1vWoqqMevRZcn/xdS+W5PUAVFvoD50eO+NUeao9jynP3P2\n",
       "vDwVNR8/jDGC6q9mk6WZNdtKfTCBptJQL/4pUDDxSokZ2r/PdQ50pbZTwFNg+1+BEXdUlOVxeA1h\n",
       "FQz/oNWWWIVKrNErLWherbCmIRCoKlWZfJP0/4+ou/OV6JbebQtQD9/pmib0YWhCFv18iSq+BE6s\n",
       "qUsWJy1gOgU5i98eKC/23gZm9V+dJSVVIdMrtvVlpMiVSO0elvr3HLNoT5DhYRL1Y3r4gY2mVySJ\n",
       "8uQUjmG5Ja2IsB8dnHqlsdlnDn4Kmj2RXMaxfAGgY34qzD9Nj1EQuV7CaxoZEzAkwCMltAEX25J6\n",
       "OFjsN48IiXMCVObvPP2rBYRkMJZtfg6lv472SqGxb6xf/f8N0EsCw2nwhvxTVUkX85jEeFON/kyP\n",
       "1rlrl3FysCiPuwULxnOkm1ZMUQ/8WqCZfwyBRrG/NSEvOxj5tSgXNrn/REvRuBHRX3uJu/U9Ib3n\n",
       "rgJHEWgOTgxhTue2r02snPF7CXeuto+jx2JVK1K+7gE3xN4InCrxWgWdoRo57kGovZW8JUWl3vuu\n",
       "jKQzxD1GJsQ16eDmNOaYvp5uWRoYHCDeL6Hv4oE69HiJsQLcw070pNMpDstbhAig/f68QBqN42Hn\n",
       "u+ev45P0OD0yKcoguPcc2cYfI2zRSoOYoQfyoZGMuv03SAIlh60FcvQxWCFD6EURSTFXY4tqxanX\n",
       "Iy689bUHT/Ba+7sgfkKCqEqgoB3iimPoYvuD31KhAwPteX/LXP3/GiK55kdhpVLmXKCN8CEBg/LL\n",
       "NlnnGrpcOQGMI1FH0vR+bBZs6HyBTZSI0o8PdmjDMVLzyn6wFVD8jnUQmQ2eXU10i06y6o3cnKm1\n",
       "iRadx2HLZNGu/QSKjzFtvGO/VycIutPHHMMRPaocCuEuXnMTKPUGr0nZEY9mrC5ShCej4/n4bHdU\n",
       "jl8oiaHdC7/Q8q8R7NGP/3PckP40pRSJRBuk7HG1DymkJLTgGMSg+T/iEjc/Eqgzz0QnrWO2dQjM\n",
       "j029qOn0YOTA5zs8OD8PxFvxC3tvcUVrOcwdB8tehyUfR5+Wca9NcpZPb9gHrmcOSz4MGEs2m2yV\n",
       "vOjydo12ZS8kUom5FqG7CTj46affSci9hM0+pVZYGse+2pajx0z5unwLcKu8pJ9jdFL1j0nZ35ME\n",
       "f6DnMOYUmU5keBXhEzm4yMiHI1N7PFN+zrEnGS3tv27XsQAXKKBQ6Lif3rVQ5M9ZJl+AkSPqk1fE\n",
       "qVbJXe0m4sAHsCeYydFOn2TCQY27N5RkgoBtx8bhkK190B9jzQLZnmRy38/ExrxMu7wwrWmG8zOA\n",
       "FljxnfmiAJUBRh+KbHK8hUD6yXfzT25/29hHXNH0rTZpCG+uxZeds/ticpeWXuEeKNhfTwit+wEN\n",
       "kSGlfwsi+8QSgy0XQ+Rx9rkPnaczlToc+vev+h1mtAIuogssvAeUg7TsqDde31RPWw8EwdiCMLkB\n",
       "uIz0Tt7AIt9TvIMiXgv1SNGGQF9rxaBRTwi470ir34yxckg1vCGy+GhkMKVMzhUOzMlFbAx4oqYF\n",
       "0TU5d4tFZI3SR6qQYhONqXFPXXfpWP6+KrEO9YZ+RSaf0i7Hb+ygyFXxvP+Bcw7WZqMfGpL5QcTm\n",
       "bUQQ67RxfZ46fpdS0GVyfHn6FPo+BWSZAUzeaK69FSJms2BlDdB1C7EqOFzVJVCWRsT/ynA/P/7L\n",
       "OXD1CxMZd2lb7w3yED8GKKrqhX57GIeAdfsN6IN0Xq/XGPltZr8fXP7OEGj6b/YTMW4iZdu2Q1xv\n",
       "OKp2RYPEzWDIxyU7IKiKbMhnyQPY0SmIJuu38aw06wXsHSd6KOLtIOehtqA8bb2337/Uf7YuBKBQ\n",
       "ZgCey/FDDuQGcMGLafCrvxiToFx7NY1DzfTnIVvI1yXdPaNuWf+kxdgmcRDZtqjbLJOKaZxtFCKZ\n",
       "BMG1UfKt6NkgaaIs6eZbqGyhgHCXyTXTMXJkkPsBwoOeEj1Aej7XYBkmP5vgrcVHeLY8ax7KMxwz\n",
       "kvNcAJps9MC37Dk8dxnRBwfVjF2HnE3jeirYbdFpUkI35XZ5o3e+npb5dGCk4YQDBzsjw+HJyKnZ\n",
       "tLrbFLEdcF9eUB963zc/Tfb1TWb/ETw9HFc/iDn9wSIHem4IadhcQOoVFb+nnsDVYAB4Lja82lHQ\n",
       "bsknZkwxZ4ZW2FCVgLdIGRu6oPtbugnThEI2cZTmCIeqKkfN3gCPQBYbhX4rxqKFd7daqJh5R8V5\n",
       "/7/XpvlDUttJDqCUqAMJ0Jvz3zAL+DiLH7VBicwaYynxGkynufzPvfKD05p9cgX8d3dqCHKTmltp\n",
       "O/IUp3beNm+ebgTpQvM8NoyYS0rXaH+GwbfFVKq/md7t1RG5c6xn2izgH962hP1/VOX95uUJQbPq\n",
       "UuOHmVhygzEvzc9+Jz0d3Km4vxTvnIvOSXNmuKfFi2qM3e2NBFJCJcNTeEZ5bSNN+pV9X/n1G2F2\n",
       "Sozzb4PNECmPEWEczEfr5cncRUmVYCbiJfReqUBY618ck0hzAszBkyuBPgmeZfQHhBN/dekxSXJJ\n",
       "me57QD05U2jVJf53rsipBi0e+6xEgeADd+AWQt8cOPvXQSzVP2NsTApxdx+EaWEvA+9+aeKTjUfm\n",
       "pXMuIFt8zLVBRNa1PNEo7dMhGVvfk6uNACYlBd+8hoGt2QhnDttannIumoyRdiYMd2nMHZhEp/9c\n",
       "5gXwFiymjlhNyhpxZS5lRR/vBLU+3b9N0iP15lUmWQN4ddO/FACyI0NjvX61mVz2zkLjL0ya6F4x\n",
       "atxH2nQhY+QfjQHo473d2Dq9GFrq9CYwbaRuDVH30o9sY/O8KjnI5g6f5a45T3SKFkfigZHOjFSX\n",
       "neOtZCZfyM6ceZnlnKS+yElBmUui4gw5KGAGyvhZkukTGlLTDO/+EMT6N7Oz29tw4p4miul4+5h+\n",
       "LhXfp6a2+0BSmgbALDOacwZHGIAt1aDtDoqP1ebko0rfF+sLBk86ZV6TQAlEMWxKsjnBiwG9M6Je\n",
       "Uktpkt6kv+d2fvZaz9727TMdiNdI3syyiId5YskbH441LVSsHkDUDmaOMvCq6WUNaW1VAtViaeZz\n",
       "XuF2sn/sVd+fooEmWQ1IQg8bKoWpbF/UyTTBmN01DfTs5sm1gm06UTCh6ppiuLd+xjWr1nlXwAuG\n",
       "jJHLeH0MdkyaSlgFyXnuaxuigzE9CX8LfohZDZKhIZkhJG4bINHtmlSO5elaG/xYn3JqIgLBGDiX\n",
       "+1pDCU0KGhnojwKdTCGe478PcU06b+N5NmzoAAjRporLMGMwCFskuFmi3J2VovgTVI/1ifMDGnuw\n",
       "FSLZh3MIl5zLhaw8Ltgq3s8/mMqfc1tZ8r+LJra3jf3UWGvE/O4HrYbuBheiKurnQ4VGaOsXIocY\n",
       "vmcKu/06LIIgxmMC7FjERH+vQFHt9p4qr/C8p4ikLrkBvWvxj41PHVEt3USPKappJPkznU9yVaDb\n",
       "+CCp1ODKV/+Yex1JUGDpMysU1NWdD9ArwQWmuO7ukRKhHwOlgoT2g9EltXijRBLBc/3JQVwgtQmo\n",
       "p3OSD7cHRyZ9heiH1oHkyGjImSGeeZoLMgW/Bke7d4XBilQW3bXA9edLIXr3N8lJvNq3XZhXcDvu\n",
       "yRcosdDjYLDF5kuYL56K2oA80nB+iX9om5OAfO/1ErMr0ZFy2L7FwU22aReHiGtD7CQJ4nBvaRuU\n",
       "KXTpSETMmnMHojVK8icpPJAROhxp7EOWGe2g6SzBo8T93rWLRuBgARiyEPzTO/LCzUkccySDT4xG\n",
       "oBBXov+F2aGWdxseKK/Lw6OCYPNJx2mvHporPPFwRToj2G+YjNQ+D0uK657uuSz1P0GgzL9FgyBr\n",
       "x6ASDo5+Nn43mVfq1CzwoPI3aXrghaxYAWYwBiy6Rb4BMtJk8Z6ASUm6lHU5A4HI5NRWwsTaSnrI\n",
       "RoUiYuhJ90LmQdsrDsqbMQsQi+Xr0jKNmLIRNNPTpO1PUSfAA1q/3xnA7KeKeEOiSZYHeMjPITpS\n",
       "IrYJrLa3HFb3fPz4qGASfttYjL/bnKdH+n07bCvytvK9/Expo/fyddb9aIUWx8VHptOLU6843OYo\n",
       "AmQWOrfg8rfSW2O8S6W6PqF9FgA7q224/Oags2GMvqkEiefyBbzmKB83nN0NNbnocmOgrxpq7RGs\n",
       "jcX9Rz3BV1cF8F32c9we1RUeS8NDZdsr6McMKIOTFkNJpFvWRl4Oi4zcEQghYmYW/eV72YymCnY+\n",
       "I7EUiXlQdP5aJ6TOPEhidiXcj79I4Ulw7dCslWU8N2zUpjBqm6SOTSlRpzof4e91699DFThxB+On\n",
       "sg5l1RT3YxzHAdmxYyNVfFgkNg0J/V1c87aSko0X44b5APEbcxp3azod0bVoSIyjSOhsia6jeV/e\n",
       "9nGDTlzv4/+jhNJ5XSwwFJMM0T4ATWeb1eCV6/gIq/4YixR+RTHxR41fEhksLGY/Rqhz6ri/bCDL\n",
       "mJDUayzQJncq+34EfHQ7NVR/NlOhI+mxrA4LOiReZG65iuuuj7NJecA+Tkv0SyCSWg6uh5u5+A+l\n",
       "X3lyAirZcy/W1VlSo2e1wmY8Q5beh32+J70xWjAGQAI9SKgxXMkI8n1ZjYNVJDVmdZOqHTNhL/WS\n",
       "trvkaS/fPYNFGo7KjUJn8lsHuFIabzq2rE8jzyuvtq4AvcgjvJReNMFTWdoZHBsWaEQ78ncy9wVy\n",
       "dPGdYxGgC5C6EJ7FlGZtXzHNz395heyhW5c4FiTvdjFIDuLjjYWxerequgowqWtiXjZhsZiCjJQe\n",
       "kqbdVPPYDmJgZfMyPfSDF0iaKxUrr//3gEvprzWQIJiYR+jvgqVYDLrg9LoHMCUdVdIrw0XIDMtJ\n",
       "AO6GRsBHij6qHDrxb1//x4alW7IeWs9aq+V0dNUZHgb8wYwhZgfQl6JYYKW620/bx+f/+andTdaw\n",
       "P9DgawMbd/O10XdOEk6sFPunxmWDH7VSF2vqXfEjJylqVO9AJqJ5X5KGlb6vStZGWdwkYlfVpPyu\n",
       "7Vco364C2/uIuGaxuY3iiDMPa5AB+ognpOF09kRopuFafcfU8C0kLKkPBU5ymgZ+bN30e5GP60by\n",
       "/7DA2xtVQt73QITT1iTtQ/cBV0MToJ50laTpntpQhLOIbIiQC3RECo+bKcLPXwf1CVH5mTPxv3j7\n",
       "lrsUDPn7h1atfLj1WZaHOfYzVIxJKIUT7b9yublm5zRDFgJtwt9lOjh3H5C9RYylntf/ZGpaS4zC\n",
       "WIwAAAMAb6GdN/x+clwhpOvFtL2SHNn8WfdF0mLHbWF8vMS07gZxy59VQ2Qtk4dvIrfa0RbZjN7F\n",
       "LvgP4y3/Ycl+5BMQvGaE6nvvP0flGzxurAVQs6fCxhQP+dsW5YNp5+olIWjIYxEimL9Av+ejoFdu\n",
       "MzfAW1jyj1Y/pbGzzcgl/lDfZ5S1RkJOHfh1pPsPXpxK8RNm98TbvkGz9zRbq1WrgBhmUGOf56NR\n",
       "2FpzHF6WtDSTNmChF6BR1XK1MJJQfcgXPLAzLOZ3HswsC8Ss3Kzq4n515IE0C/kGcxmMcCjMNVF7\n",
       "twO7CajBRwnmz1SFuWfc2LXNtjP8Xc+Y2uAIU8QOMjHt/+2tA79Xv8ePi6kV6aIazMjy73scyg3O\n",
       "gT/DQdhdtApvIIrLYA5ItNENePFPY6VTpIVh9l9Fq9RTmotpscgiKbSjGBq2GOcjuwTPdFexVvrY\n",
       "T67Db/+cwjT3DBZ/TLfS2BqKzC2CwGEPY1w51EDpN5k9DHbDOA6VvF+FuzzlVaWUn2LQSw9eH4/m\n",
       "ckLMQsK5jF4YhDUO3M6SAqYF64fzTDa+FbMJ2tJjkrH23Yx+qgAYRh/GaEBJWOxErF3YapgvN/m7\n",
       "ZXsJmYQI7O069+ujUReiXLZ+0wujsp7wJ7C75vTHtElC0X9ORO7EdE6yjPDr2qX9f+rlsZhStlxq\n",
       "2ynmmsvUBIhT+PUBligb3E5spGuWu3ZGziEpAdl7AHxJy0Ox35tvpfrwXD6ACz/OvzYn6xQ/56Tp\n",
       "snUN4t/JywHq4I+0XUcMxlG7CU1VMzfdiVLCqGqTR44ila6iBpbCgRUrDVsplS5omBV9oVvZbkK4\n",
       "wluG8rNg8AA/ScA9KUV6FMe5b2da/1CoK0dsEr5Wan2GpiL8J+MDtQJfGDXYMneh5qsnybqa8b9A\n",
       "39Dg9HpEWbWX05/war3xKVY9qpIZda8++2SSGJb6z3kQHkPcsrjRu2XHWNZR9QzEFxZ9Qypt/aWu\n",
       "ZQ8Dy1qAFwPMZN84M25Q6KWOJeLzf2xLTDu9G3Ua9KBWU0F844G7rvYram3YLtWV7XZ+soPQaMlQ\n",
       "ji1qjXCYRvzcd0RxG9sWGHZWvPHzj/8ECKHa+5K/7FuCzzbO+5/2gDK808UoKcjNEcoxoByAwq40\n",
       "q01rK/VLxRHwUwArMExNhniaVx7Ybwn+neJ0bnPNx/oyJSVY8OqK1SGrfQs5q/U8ganajx9k6iuD\n",
       "S2XEiK/+uU3HbCHBMCyClvdli80VPdNN2ig7cmzgM0DCBu31ZmrF1uA3rCNdWJ7zXCBzhc6fOvd2\n",
       "FjwozsJEJAsinzWsq91sQInjZuiC9oXRjOf1wTWXUmM9eWK06AY3Qd9gdRDOgDRP8chqOikJDRkC\n",
       "rgJxVsJVL4Y+AA60ETcyri4UAsObRanepSHeop2/04hhwSoRRuisLy5sSbMeKLHTgv/1nDE4gFAQ\n",
       "Q0KfcpXbV8yjYZwV5XNrsVLpPkp3enUnq4kc+SxKQFfITYTY9Ot/iwhM+C9JR8LYuMk3/jyYRJa+\n",
       "MsM8MmHJZRrAo69/ognA7m4lY9Tyzt6hoV8Xxf1DWj7jrqk4aNwEYoUztdeebXOaOPpL5mVs71HG\n",
       "Yg2G/vu/hIy+CvXnITQH2+iKWg9SjFTG4MSZA2QzlFTLVljpQ5waVPC1RgcoOgXSI7QXasPN+Gqb\n",
       "+IYez8dnwKiDz2lwZZQcPOxXt4oO7sZdw2qzaKFxsND1TiK8G3uWX+X+AekaE6V0fP7DMfQOnieF\n",
       "7eairG/s0JELEZxnHDEN0SLLZVSnAyPY9u0G82N2vf92xTY3iuI7UbsFBaMhJEtBMJKCAXMrX3Mq\n",
       "19k9O43B60hKGBd42MR5b9WTdPwNZuAPe+O0bpi0ErDX6ixYF1a6LUMEn3wxujt+PVo6JPotrLkz\n",
       "p05LB80zrBvm1DUIp/OEzqKd/schPGs8TrTRarv/YturTNt55GzRTmHL6YVRE/Z/tU9539IV6jb1\n",
       "s6hiMviOFJ8sUqWR8wJkgmqNkH+ntY7K7T3YwUSvP7NHjJGb4zC0BMeSmrc00Ck4ktjmR6+tA15S\n",
       "syzlfs3obUtgW19fY3TMZxh0LsefFi7miYOt/2sUv2j6PqQIYcP6xTzYaWJzsxXyA5ft9/+ukwqH\n",
       "8w8in5+sqfbrCijp3kt7yNYujD7TScqYB90OL/3pKt2Vr7PiU3fBrWOJWYApOe8pjQx4zzeFD49E\n",
       "wPAMhqJ1lviTGlZ2edQ9A5UUasfa4X3NV8MlKy7Br1TkyONvSgXolTItRdU23wCHljvJfwLEowFI\n",
       "mxoX8G/izHErxnnVfUjxdvIJh/gytRi1yYYVMe0YJ8GFVX8KM7bVoQCOkRGv4bcmgkvZJw2KE2Ry\n",
       "Iwf9K4dsSt2W4stq/P76L9UHfRxlTWctx6Ob/nK8B0XUFivxN9mTo3aGcYiiVIAtptPnLZnjoc7n\n",
       "X0GyTH6qSI5yUD3B26l5n0Tyj9JvThyPDZbGPY56mSuf1waKrNmyLOLrUx42DFGoYSqyrMT2qdap\n",
       "5e4sGM7q3OUw3mpTraDV7qkr5cNAE1RkAAAVC/FMyZXefKNSeocVKDmVzzjLcD8lJ9z6X0FXZDer\n",
       "e6l2iqRuBlrnVOkS3OTHuyOQxgJN14wRcDlMifYpir8o/t7e6YglBqPA48hZ7KTEPmTGAJ3HAAAO\n",
       "bUGaI2xBP/61KoDbeSgAczedglZdbmg1CqUC0g3kVZDJ0/MsPpxVXMQpQXtX1+iP5VkDSueUdBZp\n",
       "LzE4Vk3UNUVfXozPq13XydWZcPRWQ9vFz9wF5Nv4mlkqIqbbJl6yTnDlOKKpKfymE/mfaMEPCbLX\n",
       "CMVWvKNbeqhpoNxSl1w67lA6r7YrUUpAWWjSeSvhiX/fWrD4L+a1AOsosLoOTpstE1bwE9WE++s+\n",
       "9NPuyqRUMD1WHVSSkbXP4Vl37s5nvX3IZ6Nqq9lF/5XR7ycZfhWU/5JAlhuPchqzOEdi6ZJDygri\n",
       "6M8wuHx6RPOoocfW5cNYbUbSTCWD0EzS7hMDZCQXq8alrQ6GwONY5qbWJ0i9BBSMoT+G3W/o9IaX\n",
       "p1Xb1m8LhDy7gUE8kiwjP+7oBljZCGQhxIdiYMBueCDThc1+CRrG+DggE5OO7j2L0CFFiOkAnYAd\n",
       "5iKyf8CfSGb50rYfxrPsfncJ4lsN22aJSmDM4PIB0ZdwCjqmxjBL34g8k9J64m+C1Ld/1HY9jL7x\n",
       "QQQagqmg7Vhv6OgAdzIFDiHpPhq3k1rYLy6ug9c2m19iLNXVjEUQJbPhZBUB74r+uLj+NNhSmAXX\n",
       "MDBLF9h5nKT4q1fp6IbIT09V4TCRshFj4aiojcoynd977mkijzAXuBP1mIG/oOwQEBRjW7VIDASx\n",
       "oum2zalsTohfgdk0SPhkamU5mt8wJwDqLKMtf2PfIYARLuT76cg86feHKgUTsPxB4zKsV5DPsQKy\n",
       "qE32Nj84gmv6zxYcU7TydxZ4B+jJ3W9L3kIViTJAesib58bMdLwtvT7LHPosSZFTaEHC3iRy9c8Q\n",
       "eiqINM2fzLrrchaFHxP/+0031fMXLgWrxdodsXaU0sL7OKjCv481vqFvQJ2Isxa/KmGurkmO/MG1\n",
       "vfm2cXpG/TRQY+afpRmGS2opMvOgnpx3z+l6iv3jOf4B4t6XkNHZVo3s9LjUgdneIyJa9sCnEp2h\n",
       "77QUP6LHUp+O3Ek2GBrIsOHIlCDMJhy5QfiYVnCoKhNvV1wZnucGkwCm+MwiI58Wy6c6wrrHXn6L\n",
       "rCszK0RJHYlWBWDU6DLBh3TZfWpM/eaFxiNFshmrtXHz36r9fH3WUJIOGgCK80p6k2bzfe4jabx2\n",
       "rcWHrWKBlkd76ZTLcXc5AILE4LoEtQD9dimjq5VFUApg8i3FCr2QGvQJTSKzXG/p8cQYHMGqfBpn\n",
       "90ZDTLKfXahc0wfLAVv2eunw7RkRm5Nwp3NBADUdipkUoBZqXHjdJlH7f1rMeac3KBlcW1e50ZQp\n",
       "IC/UjpAE2o8clLIuGmZdWTBIT66tIqIIGmG5GXbmWWoNsJRgAQMRHuO09fhS0qb4LKN+vxhjT+Be\n",
       "fMpSVdprpP5nrNE3hQX7SP+bJ7tJDeaUHGdred9swxU0ZdjpkOIJHiKWH/KnkOdAF7crtaaWUaN3\n",
       "4HHiWQ6gMGy1h+dX86IraVxn3FxiL8nvlMp5XADfYGuWOeqqk66Klu72/Z+2Wk/mBXWt8Mw7pJNJ\n",
       "/fB12uksYleULR2YDrM+9+OFDrp2FDWCeAGYfPyIistpeiAYJfRGtVYfOUPEkOC5daV4YsiUJs+R\n",
       "+kwtExHgecIzgrswhSeE0H7CXaSKW/5VZN/ceCIhvDyPO2LuWccY3E5itJeiLVBc14rfqptQrcYp\n",
       "f70WeSrEQV1BRgU+aupaLxCWyo+KYGgQeXbfJLlnRw3eXRjWrnDxrzQ3EXUSliie01a41ueVf8/n\n",
       "ReBejNc4fhkbVOXXH1T/s0JHe12gujUA6eHNPzpBC2uCpDKLxmQcG4+Vsg3ZbVtKS9lZ9kyStXrK\n",
       "9Td/UWEJwosrobjdULXDjiricKaqYf3jAQMIti94mfvNlkmH/1TUJW2YuMWFOISJRy+l8OqeQRzc\n",
       "kp4KnQTV08aBPHD3uGIR3s0mQXFsi0FdzBzNwYVO/NZKppEBjzIU8Pu7vV88oDQvMx3GdQftNbfw\n",
       "p3T+JWNeomyC1yMHtk9kJfl7pB3c3T9ddojf6cdOPSlQu7/9Xbadc1d0RHRrI1y+mTrzJYEHU1lA\n",
       "cP7eimqSofRSJ+TsIPh+AqdTSpGnptUt+TR0Uq+p7Ncy+f9lWr95oDnlc5SsGi3vvcG76f1Sr7FI\n",
       "XKWQ/MUUKZajQY4pSe6Mr7Fr5dpc9Kuy6qUt580EMJHImK6RVPV2ckzvcnXrk7dODDY7EoGF0qaE\n",
       "PyYRq6aiMY5zV2cdfy5ZReAAuJmHE/LB6Brg72eTNU7ZTMUqCRbTp4BMit5AVjvCh8sD5ff6M2MB\n",
       "iXT+SClQT2H7e4OJ02pD02mHx0KGKcg5SryvTB1tlCGXt61u/pJxFA6xhGKo5fj3PG8ZFuV1Yoz7\n",
       "i5l3YUJo+HnnZLWBhoG1gCYtLqqQsY335ZrQ5fKJBmQ6iYEoLhN5MfeJU3/Kkj8JScTC+rOWt3T4\n",
       "jNmegrM/5hMWR58k6+QZjzYKWw3DzsImeH1NNShErvSLIOeMVwreEDnfuwKI9+0dTyJtwy6xkkFo\n",
       "CAR7fP9s+zxuQt6aT4FPfrtMaTgtPgrvWvF/M6Eji+KUxQUInl8EH+dekYxvoT9gnm3paJ3efTmU\n",
       "RxZa9GqPGiN4UMYOArhTIH1UixaGRciGqiKp9TLFjKtIOo+7HZIPvtBbifHAvTIsSpuaCSNK/FRO\n",
       "DKxZ3S2dkIF2rY0A98fqkVFynYuIWFZSwwKnkL7XkHTKUZr1vmMdNkKCYj3qXjHrmKjDE/DQ4gkZ\n",
       "Z75hvZauln8ZZkX8PUK+hSq7gooEQ8YF5EUxSKZa7RWtWYzFuML0vzVaHu2NdtfC7xmmhix6qDVO\n",
       "qkTYoURpdgXSRNb3kc2nzanTbZA3bCLvLQxrsNoxoaAfLLbePJWMpwdkwJybMlREO+kULlZ+1Qmn\n",
       "6qJCGXTLi6lXPL4fJeQAH5bAMPOdsdvO5HzmNyftXkKgvWv1zSTpxeYvLN6kF/gj1/WgGw0Uc5jZ\n",
       "VZ/p7Ex2Fwa6jHwxBcqsQ7Q9Pic61bZytiP0rc/OrQNmN3sulcYoGwyF56D1j+Zes4S1GLylp9w7\n",
       "7MilPs++djVsQY+EP/5KChbHsGDiEdiWrhC4QnsW5kivZ77PQErKGUhi1PamCTLQq6J3W/f8Ov13\n",
       "aC7Go/bVhxCZAcX6eBNa6Mmeh5uPmiPfjqUXCqrTc8vDOnQbKL6sSLlfFT9dJq1QMh1XPZjpI8/M\n",
       "A+8u/vUhndSBVe/fqL3lOLfyV9B7pJRzYkwadjh36Yz+FHLK1nkD28risWezegENRv9K2BEaS4Ho\n",
       "bQu66V3MhNwvorHn52+QshL3ZE/iFYbHcvVDNRgxRdLGKXwY1Lr6Ci/qg1WVB2gFkhuUGQC9XJ/d\n",
       "RIQVBnUEYTYc1ZGB37JcuqOdULZKZqbyGUOJfzLrTPHBRzI0hQMenb1E4WxNfiN6Ox2yJNwBDkLi\n",
       "mZk9t5gCk4Fm+ierdgc81dBzaiogHxeUFhxNd+RUIiYowffLW+SInEjrvQ1ZzgEEGX49rPEVo8mY\n",
       "T8YpxEmoYsIoqKVTIIQjXTOaYbBCORzMsjW56TCHRPFMncM1F6zOjAgW8RwflskYjKl2V5W2rFVR\n",
       "1Ms+8AR3ZUfK7AdGsWylHwhYmhs5rvZDLyWza7J8ikvJgs4+nPxSn6XpU7upWailKz530Ac8PTdt\n",
       "LgdnsMePdM5MTm9ftMC7amMNGfmmyWis3ljM7aYnPiELUWNnoHCNPNOFPKPTt6sRJd39zXc/s9Kt\n",
       "RZs7jPiVj3HkreSFSzBGc0dbNUn4MKA47zC0SYsZ/8RIzJHZb1ufNvx1h96DZJ995MFLkwmqoq0B\n",
       "XJzRxEHls+YLwWyhk0Ms1iI9MdyBZUt4S/uR1m91N1Tq5fpWVyDbnFCKZ4OY0YeDWz9J1kbcYWnf\n",
       "BZkEdS6s6xk0Us6TFJ4LgMvCu8f/59kN3td9+fcujmTAyPoFi+AkCXIT96hWjFVHwpddEnu/sSkF\n",
       "mR4twLrsVLtDnEnCyjGwgdxpC5QHamVKiFumZVwMAvl/XfrV/0GWRNe8M9MPaCeA64ghH0d0NBLh\n",
       "TQS4QdRcbJyC5crVS0+Fz07ebcnvRfID4dSdUHzFT2Wc/E3GhtbeGAIn9FTGuZMD3h4hAn33rfJW\n",
       "02qMG1FsfAva3x2AlsBCKZtSOjZKNWcwe62JWdEmj5onkJacx+W7hxPiZym8FuGQ0Ce4g9WAzbca\n",
       "6Rf1T+/Oo2Kayn/yda3ie0+5RWhD5Ns4njIbRtk18mMC5rE7RzEAAdW5FdMMSeY0WCPrZTWkrBmy\n",
       "hXRxHMtb6mN4IePLSWgRkVpEkUlhIBOEL+yInMZgxBYBXcBDRX/g+a+0p4M/fYUwn0qzCuyYTtDR\n",
       "DEz6ghnveMocTcMlPf+1XLzDdAP5C3M3i6Nyk2JDH+9/PClMBVsaTYd7+2c80BnNveshfCaI8rgP\n",
       "iVo6Ob8heH7ZrID8Y7vR+CxMRN4K7SWoPOiKpF5h5stOXcb33+dOfQ/EoPNHJwJ1Mg2Dqzu0Qzmf\n",
       "7lASBrSaPB0+wk6CZWvJQwtyJHm6kDKwzxCNywkvLXoy7TPVx52v6ReaBVrN2ek73QMseEDsTikd\n",
       "5+aPtT/w0g/zCGmDJ5FyD4M1W1R8O4VLfIQneSDxEa5OcaiW15+L4F7yuY0HX/H8UNCXMYOeAkLd\n",
       "Pv4EnZCDIIz00aSzgCKNp/H0hxjl2cPDxM7m5YDgaklFNJWrY2A+fBx3Obv7PtndbrZ//zYQe4Ty\n",
       "z9z8ehtyWc4FzHxr3sOdz43hCoPupwsE6CU6JTT8MDjC2ibabO5AjT0bwR7OFDL2IcCyqeqxTiOR\n",
       "PhF6W8aCoYOY0qP4sDd8gCDCPAKExkE7VPHGQ9wMQYkEt92B/5n7mtWYAb/X6y+MFNC3fRooxce0\n",
       "jEXD2JQQ+Dld4JKiNomGqcYDuG1x/1wBc7Ektu/PoJ71IFO4bh728ggTZbDuqAAAB3hBnkF4gj8A\n",
       "KkLBuAE7fRdHO0Eci0Yx/cgkWOOsqAL/r/Y5vDzUunFncKhEJHp0yGETHZRu3yEpxrV8+QmDAZCc\n",
       "RGdIHC6UWJvJH9+mjrEaNaDqebWxityzxLMjD8jl5lqxd77Qt4xlHtICykI1oI0qxM6ylxB13+UU\n",
       "Vwp5w1Kt1uNWclHP15Ie1I0/L9ISiB3Pc7kUFXJSri7WMBLXQGmNvM9/CStVBh9RTkuNU20it3FD\n",
       "AUGjHIAoD4S34s+/qxP/G3+RcZZf2oItiU01hGJ3RYTGzZKESNKVwlq5e/jc0VJCX3lKuHmmL4A2\n",
       "bj2CQt9CrqMCcHwiEBIZ0tW7FZOmYmLQWY05oLZJ0ECnVbIavrcBpaogtCFjUB6y1guFRfwmW6bz\n",
       "XnCNenqHkPRbAla6WzzqHhbpGQ3PG7qGZ45pwqVrVAH5L7v7AJizek0fbzTKyBmpmglldxJfZfmZ\n",
       "aSE62HaMdltPHB3p9KQEOuSLUC6wH6TmGkhGAJbK4vpC5Dr6BdSbYHZfVNB//ISHbDpHwnTfMNpA\n",
       "jjdy3fPx6Dm2oVto1SPPMGLTWq9OzrjNx/qDNIyC94TunzIRuR4Rx/SKd7TKq5sGhL9P/2ORjFL7\n",
       "/o7CuxQ1iSm7SPMXB9aeLPwVjp/tEVKP8mQnLqsYRXxoPA3ssWcno85v6ehezXLYv22nzmgalojJ\n",
       "3b6gEl6J86iCrXyDwKor3i8PTftBWbnjUvmZXXxzJTxZoJQ+TpXmgacqm8L5D11v7Pzxpkof4s+H\n",
       "oJWHv5f07rFhOtQMEVRyL3m80mVqJ9e++BfDxsuX2HTuooc8PgB3ybGfv4koSZ+rgfVByycu/Pvr\n",
       "i+jH5J7PGoo6atYbInqOGMFIGn9l5Z12bRuhMXWOLG34ZsZxWHk8KwUNIOJJO6CKB+LvoC6SMeEH\n",
       "pHKdqLtnziQlQavYOGeYprYLvx2uvuXs9Vdh4dh9lkF/fGyTAGsiYBLu/YJ+rBP11FXrwnbPzrPI\n",
       "YCaNGvQwJXrbUqUxGWyZtiq8NGVMkqwiCb8kPLAItehW3HD6rR6jV1ddCg6Mgw22AIxim+w2ABvn\n",
       "WYdlslajS5nUDwEQSrgfaRheS00w7s4HnN06iG/shPc85iQW+MGB90j0A4SNwuHWvvFprPaUx4jS\n",
       "IocSKQBCE2APKEdSexfybiknMGyuo5u//LDs7uT0rw7WhGxLr7IGkhyq9aIIChlACV7gfXyETlAx\n",
       "m9SVLtsli4krBFvX2xxdL8fd7yuOl1NRYucBZF+KrY2mvE6xSciwyzwAA1OgIF53zDLAZmvQv/s7\n",
       "mvMyLHxCQQbu5h++BzzBt24NL6QWHA43jWTEy/oMcjvLmc0GdYWO5dioUqtk9e5exrAf50hHdfIC\n",
       "nrpFMOqyrFxAKZfn5/1juMIJgmwlyHjqIYocdrtJYAs5zQxkdNpuHk5t6AHXVR1xWap80vH0Uqeh\n",
       "BdvGl8zbjT9UkjvyqkkOWaCEflav2senBc75vfWxiezqXfCGGT+h65/G37UcQWATohq/rUG3kyim\n",
       "AYlM/0GWFrosthPQ9zC7G6PP0d24hVT8QjkeVyo/MGr8Q6OGx3Y5559KkKYcLF+uD1ELQkp0bd7K\n",
       "KMXLllAjKFDLK16yZKBtuHKW8m2jSy3Y0+P+3lTh78r50m+eLvkGRJ1Z+QCgJ9YN5PKX30YWCp5e\n",
       "JSYhx7GSfHA4JN/57j5sbGl1xvPkKdcL++CA0v+l503P2uaapErmPCgVNmPcPPzxE3r5keuCT/eo\n",
       "y3rRTDJkNa+klPtmrj99kq0nlPZg5jRTQN4Q0Rcq9ngmsdGXe49x2Qur6jim6VJGNTd6q54gXZGF\n",
       "264fgPNVhYGR6SvLlJpL94hMvepQbbKowoXRvI/a59fkpBFEgMhxabDOv9KXlJxzXi181a34+X6Z\n",
       "yGpHKBqxUWzmwbe1omkdU4lMFPz03M6RdFiHvp4lpJW68wQ6IlxETNCqLt5czHUgz4A6+4yy+uZj\n",
       "iTO3IoHIdNFSOtGZWo7SDlqncY+eodPFzSy1XxuH6x0JcT9NPiEL5x1XQKFC2efJJYmEfXl0lzJ+\n",
       "IucoeOKCL5c8W0gRgjeBYpBclhPMNgCOOykWvvu23fpYqYnsfJXBYgV08R2jS7zRIdZPB8sbgp/E\n",
       "gHZQx93GGMiqlnH88sqMA8+R11267nFER1426obYKJ/JBJsGeaLIc8S/p5KlK9a8fDizJSBlQF96\n",
       "GZuWIX46lU4rn+rR8NJJDakMSV71ECAHJQYePqrzF2k+gTzUKL9GlHQ804JkDk0SlAIc5xwfG42p\n",
       "v9Pn7gzG4vFxECBXu4ta/l8LpUhljQxIMjEqTtFjGNWPB8KCytkETJq2kCQ91zrBAeBNzbjvi0Nv\n",
       "3K+9oQma81bVCtbLomi0v3dtI12kX6bqNgHpZhiJTSqy5i2vqQYGcxV/DISyPTdrzl/Vd82W8hLj\n",
       "q7/dd+GjCTiq4ZC5pmsPwiXCVlzL9+xflb7RcHTdMSx8ATadAHbVTgBeZ1BEGmmL+26kkCSZ0Hx6\n",
       "o92DJjTeuxGymNBoE0bY5Rn4hDiETlDBAAAFVAGeYmpBHwE2KdPrLBDABEHePHPyMHWDeM3ujFol\n",
       "KaS70/a3RCZTHoY/qV6tG0Z80sT7XJzBabd75OChQhtzWqabvPHsbF7TF87H8V/AdZ6+o70Wa0oa\n",
       "xilGOBIOqgezjVaWgk5AHsXK3QZbaQt23NLmXtQIeTnkLtbf+d/Q8JfvhhlSqbWNdfljYwXmt3NE\n",
       "dWM/KfAyQ8x37UYm1E1USDvxrM1luzywPcfhHBruz/grY6wF657TrBlewwCg75HmMEOfWjgXukR/\n",
       "0uSaLJTxLvpgGGMI/HHMgcO0iIkq3EbIkInApvAV6UQGEXOQquNShiTjorttelzwgWMhRc5NV8Yk\n",
       "iHbo+BXRBUsUSAWOba8sCBvsoO2nyYbEI8Ipx/8hILFX+/9UQfzEP9bjiFh+30Fr2N0vw9gpjcq1\n",
       "38hu0oYlts9BjNueD1DkctbFfvb0JuMtyCuucC0BepH/83IhdtRF6ugBhfNddNIQmh4lhX4wLpr/\n",
       "xEddnu8ORcDM0LJR9k7LHgE3ZPZFkSrcsatp4xjKJEZhMECsDTxA+N7pa/0ab72cREpitPwypRgF\n",
       "RO6oWAR1no4IxBn34DTbFnVRoKH1aSQ2cj62aZ4DH0Fa7ViX2MG9TotEOH6263HIzINEVbX1zQlR\n",
       "sG9HiA12H1XjvI61mswV8nDlc6L03UrZIQkuqJp98bemwikcDJ4sI3Q0gzQtojLqe0sAS6VuHnmJ\n",
       "2TZ1MWr3W6zp6AaBtW04q6j51zMlPRMgRUaLQVCkllLnwVyEOHGeogo0HTeZ+xEPa9qRoHLL0YTL\n",
       "jzlbR2sx/166gpm37YA8+cJUpkVB6dNpPEa+2RnpS2H+Iwd3Z8V4SfkzbN1Rixe5h7ayAe/OTPkW\n",
       "knn5dQGUH63QQO1II3fU+SZ1UCMqKQld+1THGcQ608BrR7VtlVqkOZxR415P9t4QrtbSkK9aoSbu\n",
       "ilSynFX0FgvcW3sxtyok4VI9PPDfMkcrGNBDM2nU+MkfWgNbBoxnLss3sGrK072A9UeIqWHy7lhx\n",
       "2a0wv7Hsg8MyonNss9MtJ09MomV7B6CWfSFpaETD/FF6DfPmo4GxYE7qi7Nn0nc6DjCxz+OIDq8o\n",
       "GMQKFHnxvfyTwGdrSP/DnCzeRPFD2cwSZCX3hHFmpahUQFJzeBryEL/3NrE1afhUDOAJleb02nRs\n",
       "vkOb2Ptl9vb+QMUk/Eaagk76/FIjHRUR12UqcOF8pBSukzfKEbhXSlgCM+2dX0cWalcs0pTN4A6V\n",
       "SWhkRA7xm8LBqCqsZz9YFiDMiBGWDdNK4Da0RQgCcdXwhLOXVZ0uzh2Ql+hBVDlPFbCmEgRiXjHk\n",
       "CMkzinZWtuFGG9a9HJh5aMYlqSeWsGOzyptZ69mj/8pvS/sdg6rNcohU5QtYNmQmO5GaQSJtLjbm\n",
       "QXxL67YQZo2qNDI5W1gEAV1xPgjbbKyrBOde00x2tsM1GBM5yGyxnyDpXbN46Qq4MZFPLYC13kCP\n",
       "cwEcS2oNgV73WK3q4mpZd4lhfsCncEA+090WRTRank5hOJ+kQzLuHzqpDP7xrNCemY0lqyItdt2S\n",
       "cwM40Tu3Pc0fC7ACF33inS1jLFBCQRUoOe1ZbJQmEYKq539TSSmuyZa6sFzlN9jrmpCbOIjYUbIw\n",
       "QqQaQu22adWR4LOyzydyXlzSoVaVtaMzOViYDzCGQjiJBEYVgl/1CFrMRuHqDDQUUqklQTNFwGeZ\n",
       "3U20pJ2iqu2xxDiLfGsa00rD784WTr8Cc/ZVzHy9C8TYqyOlAlpQ121XgamWmD2mpEIGy6seuVRn\n",
       "jddWBNhsnDMLDZ/RftDUun3TxhEufPYQAAAJIkGaZEmoQWiZTAgn//61KoDbBlrABzN52CVl1uaD\n",
       "UKpNVp4Dnh4XzLHmtOOfFqAApOPhUq913QHbCaHn1twaNgDxf2Ty3c/w77momOVOzpJLSyZc+zNb\n",
       "jsU3L2z4Lo1W+0Y8tMbWBzzkFlVTY4IktnH4rNCTOP8e8MNKduefLrRF9RTFToF7bhDOpqDi0sDs\n",
       "O+Ool0U2XSybwt8SvHFbRNB6Z9AiqEuaAJKzZsv9OhvRj9ZXMJ/G3umpgg3NK8XYMS1spnYQ9phc\n",
       "xTBUF34ZYvzu55C5rUogZ33N9gzrcLoq0ZvHHj+oAwGW0i44PJX15WAJdikdzqRQ8qh3H8o+5BAL\n",
       "F5EuOz7BXPaBfeDK7JUHWfEVTjtgZih+b/LWKNRMc8rQEyR4fIb9V9/qMUE1XEBiBoUm4/OPrIpO\n",
       "0e8PU1XfsqckL0lVOcasBGmpDapK/FBRI6HZczSS9aGurwEpqixOX/YXAa7nqcF7HXEfsCkzqo/4\n",
       "goAzmPa1kz+pJqJ7aG9dIGcytw/02FFBYfdqBidLvPfJiq/wlaHGOmp8TjI9ehVr3quF7vy0qklo\n",
       "GQT2Oph6WxDMGfVALGmbWZfLHvDyCAmoGgOrKx7YUmekbf+8ljJQcpqD9lJX9L9K946901Jq8+Kz\n",
       "aQoeJ1Wf+cxjeWYmJIrm9sd8rsN4CgoQXMzRm+d2QTyao0ImgH+rdAgztm5VCx8YkrK+Sx+JOiVj\n",
       "tB1LMuTPb4fuWXDKcVhamPTcu+SKj7XWO6L8oslEv4PO3YpxdTafw8/Sxlc38C8WY7YIe9cX2dHp\n",
       "acdpxbJfnYNvlIJ8U5O3Fa1qfMNqnyFPm6lGz6Xa2M0Vb6mF0pzfrr57y7Yt/Rdbp+1SdKelG8mn\n",
       "mnnyCVheA7yFG5D9AtYClrQEi/r+6D7EHds59dheEMrF0JI+VRGA388DPHMOAuvR1+nM1leaBwDu\n",
       "V/HYK7V86RBillTqvSfk98sTuHVbvGEn2wX5JQiWxoh4yAr+Xhv9RwVRP9Vkmaqy++kZqgVbRRFg\n",
       "ItTvVIlJM/A/C3OTAVCaTsothBvcDi/xJpl83hhikbtZUod2mUzQC7U4Eo0Xms/430U9+M322yty\n",
       "zqunabk3c0ABSVa3mFdd27h7DWkNKC//N1XB3e2pgSFlvvd8ugQGvqDC/QAN1G6T8IZxQPBZQNJG\n",
       "gEmCEA1iyRSXgboGvTLsEdayS5hP5PmdZqcfP3CdRQROxhO1PitQedNl2gdKFGwjNCzOKwb71tdb\n",
       "zu6ydx0Q9B/YpXe+UYhfFcT0Fy/v6Vzs2SLN8Lrh6XZO47t5RZu/LutJ7kafKy6vtKSWJFVBMzzs\n",
       "Ovz+XaL96eyX+U51NjPn9+0qLd1EL3hkm0xhg/5YmpQMpEb8DI8EEQn1cQ77UY15+rjobWLaoGU9\n",
       "y2HD+EQT1tmintNq2EPVeG16Y4BFbeJBEvi/qcfBct71TE9gIVWpVCk9kwv8CtORhGGTfbi7H4o3\n",
       "A1b53N1wcURHAaBcleR5J8OiC+AA3ZyboYLmiNU4wc1miRQQAx2+xzTny5gZKfcPbQQG79I684tP\n",
       "4cDFCcN16B5Es9oQqWt67rGGEOBpfrf5gc4GheQFwNZKYrYuOaF4IT1QKK+1ceMFHZm6HXmdUIyA\n",
       "040x3UpJYi2ITsbbj4QdszAHx3/Dw3LZdDChyxCz52u0Poxv96hXLLYuBy6Oeo1TsN9Zr0eGBg+F\n",
       "CmpCk86CG0YRijgAVTmmidNMnNxUyWVhguJpzr3WlbXtYbAez8MMeOMIwZfAE77/gc4Nn98Na7Ed\n",
       "dIrTDOqlVc7Su+xORf7WsT1ogNZMVBzD8PPhW6nTrc0wYu/dlNweCzkOHa+PPHn/JxeSdp3EQesl\n",
       "Bl68BdOLPXfOhsPIEFHsplrqI/01fLQ9Z4Xcvpin/5/mvz3j78zc5zbJRG04bCzJAWgjHKl7Ssnz\n",
       "35rFjbx9uRwmZlYN5A9vQqw32DnePllIT1o8x07wgD8sSJKYXyHYgWZuISEDveOVNYDMRRRx9gdy\n",
       "g5P9uJqEoei/JjOf3TX5AWTqulx3W82W5eYn0OYsj2fT+Ed3nN0hOcG7WMvvWck2HG80EfesEbie\n",
       "c7HOkRQ/trhH4hpzHT786TDeDZ5kRkBMF/K4FGvbb0Q4PpGyEqHJ7Zn5p2gKUX3HF1XDcsBMfcyI\n",
       "yDIl9DHkL7fWB4kYm74xDLLVuOg/GTbcLw7IRvrOa3yyR5eJ1V3vxtpvBj//N+IYQy2ifAylSICs\n",
       "P3cjzEWc/8zHPy6X2wEDjRs1GcfWJF9jd4bsJ0RDhzvaTMMW3hYokAzKjCkVex4pam4xhISr9uk9\n",
       "45NOBVQGmnPmZAY8q44JSYUm0GI/NFTDkH8TpssYp3uDnTDkNjWmwmM38CZSjzJ422Se1tlNqjgz\n",
       "liKCFF+CxLQgDOeufc7N67aoSZvJHXiIn/quUcHTKuYTaDlobCIHkyfpX9N3qUm5sMi59zGxGNnm\n",
       "3WPhI3YSjljM/C6dYgO8Q5sDIpK6BiGkXAgwYiSL/m+PxAkN2CxgPGjf3mbsU65lvVgfedFgaQJ7\n",
       "XdzkaJHfSVXmbArHSBhJ3qkdnv8r00YsAuvMnZIDwv3b8GpnaVjEf4HYxTsPj6FdZqsyxTHT3sRs\n",
       "fOt1NV8j+95dO859rNz5CuwdHtVVnFdzHFeWK0GYNmduus5AHDmr6+PSJVTDRfY71GdOF+O1bTai\n",
       "UiEHy+Bu2jAgOqXRCUuCmyrod8sIK3dxG4jGEjR8dlnfoNNGeeX1P+u6F+E4Mo5ZR08JdXSsFyoR\n",
       "JIF3Zbxqf5Y87XrSouz2bzyvl87+AIcvY9sxvvGrAN2tqXuateALZxt1dKqQ1ocOUDzXt63/jShF\n",
       "ZSZ8eCiVXaQzv8JwDVE5XX4JK5Wl9xa3+UvQ0Ea838ja9XiDjUA5cBy1xcuYEOJuys0DVIsHOhWo\n",
       "GaUlpJYarQ8RoAgWhEBB6adf5/SdkdzMyHt9gBP+CCE/bHQBlz5qScqrJZwvXWc/nh/0TpcvAxga\n",
       "P+XyIw5i0ixzQY5bL839e6JSqywE1a7HWNVinccUMcXmJIxDnIN6BGQJ+fxZk5Zx1Vpt1tx78qHt\n",
       "3HlPxYG1bxgYf/xCqiOq2XhAQjQ8I3IwhPuOurUAAAewQZqFSeEKUmUwIJ///rUqgNsGWsAHLcVD\n",
       "A/4P0k0kZXVFEpU4W+nBgDOTfRyan06Nl8RKtIuT1B5LtJ3bFkrOwE+j6GlOk3qQKBVKMIgrCHRE\n",
       "yN+wAvBu6rj8cUBhomk2zcGAJ6hHxC2XMheBLlkmZNFFud1tqdZtJSec7Gc+fkgldb9AAJGjtIHw\n",
       "X7RmLsV5To2ZQLUcKGdyALIdaKo5p/7J/m7QG2/UKb5xxUXbcGxZpEG0wh+pwKLLgm1wtdNemD0j\n",
       "voO4CNsj14LwojezpMTMwrP88shsIOysUKPl+Gtuxin+H83KUg/nqN0KhRnF4OlE/dNzsJ2bVoyF\n",
       "wTDp+b7Cr8PNoH1jo01wmA2c7u6njhYluFsRDEAk37aX93Kz6d1dgL+HesF7T6K4IeVjsVW1URdJ\n",
       "t/OsoQlxAATLrIyaThyqWAEF+aKeQCB4GWu2tcF4YZr/s4j4eD5Un0//oVuND0HcPwiqZtwqUX3X\n",
       "rO30sVzbyaz9KF+O/gKmflTSHIMjvVY1yGhwHiCQfR4y9Jc4cuFSLDsKJ6MfwNoackMLlZDPwJuV\n",
       "QSzGM+Xzu/0k6AWF3DFG3v5h69QADqLkj7JgsMhbbxPlpgNp9fRyzM8zkyGgzWBS1DuJOvDinXsD\n",
       "zfSdZ7uV2qHfQsp27IPtcYfkCybQUKsB+c14ubnVCFCtqGhOc3vGAuremaAjB2UpVg3pZlVHLHMX\n",
       "FD9qJMzi5VFra5JS5KbmyDask3xAdk/Wn0N6j1LovvsjDR5GxbsteyJkFxsvAtee3t+Coct/8qCv\n",
       "uYn+Td2BWUMT06akUqG14zgEynquFj5pVdFqF+EHK3FwB/4VqIA9nsjPSvWjAV4C26T1HFjCmbH5\n",
       "q8A0sdYsXdO931pCY+ZZ0YZDHidYV/jDAXk1xCHRbTeU211ox2QFpmqV8Rgu5zuZtMzlYdUg7R4V\n",
       "3P+jEQfunHbOoyojyFY47mXIYJl7gN3QPprmkWDqYCfmkSrI9XDqE99m+Y1qPUBMrNNHlU9JJ8d3\n",
       "TOtOlWZOJGrW/LRQp5IbsRkOkEGKa8jefPeI2mgkh1ETwXmyGcGdGTG40ulXIlzKEltjJ8IyquVV\n",
       "tfR1W1kUYL19IZiJyDO11ictNBBqg/g6L/75ykWCvijFBQKeDPFBKRf72PIHs5fh4Tw1MLL/lQsS\n",
       "bg98byLYd5vrW9+FGMOcSiF8STtvXW8WMAQS5rrxyO8Rsr1Y7in2+LFceb1u4UuxglSiquMDS1qu\n",
       "+WCiuqMO8xj1Z60qsshr5eBMjKYnukRisAV3IIeNSop6DqxqBeoHQplwNhxad1mBQHuHTuQsTVrh\n",
       "geenhhriEy+zlt9PuVwWmRM7FYD4GxAlm7Ss7O8cPvIl1N3IR1KCZPYpkrirtrkhFL4YVakcB8mp\n",
       "SShQ2Df/mLjxQKOM+/Rzx6jHGPTHnRkLXmukBIiYYXO4F+YVyhwvq8EMD1GG4Guj0tcW45QZP5W8\n",
       "dVnxqoxYu5G0kOM22DRHONiq6OdTqO9Lv0of45O3RZflnCtxTKy9slZ/eailtxkp2KqOVYYFgMe0\n",
       "XTPQpRe5M9EkUExcglAc9jPYx9wxTwoVxnx5FJH2ZDctFWirFtNZw4yb3jPaNGVrRph1g+cnhAN4\n",
       "jpLIg6TBJ4/vxy2EQX2Y636htPohCZyAL7ZvnHdRAreuJBFPrkK6dCrP5L5AyEH2hSR8/7AUzOQR\n",
       "o3ypliJuOdfYVSGeulnAKpYq+r6cNmNMuzQagWPSE+cSjfrIF67slTgK5vey7jaHmRgMh/r7Pk6o\n",
       "H94OeMLQ7IKKUwUWLXuJNohj6G7dIZYrWXShtlOWHRHBCGW+OFo20VgUCWRj3SM++y0QqobEPTLC\n",
       "YD5s8UZDDwCFOgDmH3riBEID1WRSYPNzrkuJufisRj3egfuFZb7QF8Ly6uO51m5RgJGprA6latSK\n",
       "DHg6SrOZdYvAqu4mhapQlDHJHuRbkIV6tbbw5YS9jdDpXCsjXCmjonpQqQgGfnijxi1fv4Dsx3vk\n",
       "NTQeBXPNHGnC6DWdpjEC1KgDsYEUAXjZP4MNDPNbeLLR/drCkCWhhKOM/E2Rk9wLnMRuMibMy+XD\n",
       "Qye2sIAuzPPmb82RzxvNa5MIu1ook6CBavWGTOkIt29Cy/DXCvhloHQut0qkchDNtx6qgEGwthVr\n",
       "CyBuv/CBRjJJ/5n2PlhJfjwqG6u92uI7mYTvRGdocHljB5+iMU4UR5RuUz5PsMedaMsMfsSIBJcb\n",
       "R6oWyIeWgyHib4At6IEpNPWM3QuBHKPOv0fJbZY/fj7xubEAs1aNtGL1MZNX8F/+WoJNfpX4tECw\n",
       "Ee2MTaxSdz6BmhfHMEyoRXEEt3BN9U/ZzpFO4p3i3RaqPcNbbbLEQki+Dq5NcP1dsod5XywwSnN7\n",
       "juKaD880H3S3sdCA3SxR2IsLVvjb6VTnV79nxMhEv+2/gyh85Xlu9nDjNQzK2ENLd8jjSCT+3q2P\n",
       "ujwEr76AePdiqTwL1nwwY09Orx0hQnwTQKto2tS1YNnQhGgmd7V0HstKnI2QXx8E1acS9ERo4l8S\n",
       "WZEmWovWhjW2KGJh+hTy7co6N6mB7kS/ozvIY3LsPMXpo22Ibjppc8u9nGvEswMTppDqzOSNxmsd\n",
       "G2AKD8ahAAAIj0GapknhDomUwIKf/taMsDcxpJQAX2pj3AQDUAuMfqucVMqLnu/+3I5N/WEd7gfl\n",
       "tRZ2o7+stUJdUD5qMRIKlrYDcHKW2t/KIcToGR6lCZZVeHjE+6VJCGq0ukiY8rZpYOuXqd4BSV2I\n",
       "LiKyUglcTUbcOjRXmpz/gKiLZCVvUU8Bn8WFwW0COaHTXGIgVYwJnyRJbKRkEwbVAOzP7+9YikrZ\n",
       "UvOpDUmK/8SwutS3eiJY17bJA9Dt9UkHNNuaWc2i23YYrRl9F77aeDZSKKVmOH5+CZTpU+bDFkDp\n",
       "i1DATJGJsR66rGnAVn9AKuw4GSNgeU8XBs/5njQRxV5BnmKzyyWQI9OKTWaa+23ph5N4Cl7HTjqi\n",
       "BywxXxH2r4GsOmbtSsFw1P+iPqzp9ELuoI+gKnm28a2ia1YmbkzZU8ubPcJgOalXfg0wOvK6/zdn\n",
       "ypob4I/Mu6ycU8i5sdyAA9z6oSjEXq0PNP99uh0DNU6hCF//oV3K71iaYpzH7mDJUBi9Sc7e8xDF\n",
       "spFY4fOl8nd3cn2iZvyDpmRtfUkOvTgY7Bew3Slbw9zO6jKi+nH2r6oI7+S3b1ZQa+WOKrlLbAMJ\n",
       "IOb3lhdnHKwMDlFTZEk+u0bjocYR1+0m7QMMumYZk9VM737HfTQVdupgENexLX+imx9+AP/dhF7z\n",
       "rAzWcruDzczStP+r+uD9fkljaynezA0s/zDr3kVAR400swCPIeZuiV1KdEX/yZ6QHipa4zj4rVFi\n",
       "AxOnFYPtxyMCFBf474GTTRny4i/509ulbHcajHovTOO8iv6dRHPiHWDWckEm9l8LjWjSSPf2pq17\n",
       "PDzc4MKXLeDYhZHZqOkeKe2onrhcX/zW/JNdAZP5R15Xt7tYpffqiycOctDHxG+31vFxIb/+BywZ\n",
       "Cd25x9E1/qQwXk0fFFy0USRRum+cU8S8u44i+EvdnzD1Y/kqS5GWvjfeFnmcS2vnroVWGorF/E4y\n",
       "VzWS1LNP0xYK+ZFL8oqe8w+D6rHYVxqhREX6ormQGdbiAK0m9mDcJDBrQM6yKKf83xl1MUiMVxSm\n",
       "D1pQynC2Rsj2r5sI8WIcrSOLnzFSo+bjWkD5Jf2/sktxTcgs4P6nTVNu/ZacwdqhzMPwPxMykuWd\n",
       "LJuk4+cuhHOOsF6A6gEyQ6o3SkxVvUn9scLQNpgq+n01uoaBylecyVtBRlN4ShP9+Z6rQJYZgl/g\n",
       "mi9GadeS3QfIb1JOPW/KJVs9tTQB755nfXaSHpYPF4Q3K25WPOFBzWAr7Gz82aIQ/gSQuRu6x8xC\n",
       "XDiccwpgn6ZA7sh7IUu5qt9bcr5S4z3iIZ8v6oV2AM5iOzJEHD9GRJs6h2QxQmJtUFfCuSZoutTq\n",
       "qd12GLnFiPt/9Skda1+XCy7HLVK611xRqBxqCT9PHS+BK5hATYDvduyQS1bXNAtgrKi7Mt6bu+p3\n",
       "wTrEo52tjjqMeiicE5rLgFjUp/ayQVcoD64GbbQ2ue3pmn19wjSnK/OEtt2tmd5JBoydXZuy5Os9\n",
       "KPqW3sTWq3vbBgxhTX/iTZLejWGTeOK3ZfhhEa74g6hwPyDLK7pcPl+sVA3nx18pf92L/T8DAPv2\n",
       "BFN/nWbW7MFPo3aqHP2kapGhFPy2IQLsnKyFgXcJhvsNsUUanCa2ehG7ZTwoTPqOb+tW/pAWsUiK\n",
       "TJ0gQw+j5AjMpXTrNOJBTNqRHAbO3H+ghSnAIIrsc9CKX7CDwhD/gAuAu8bveWQbXJmBA7FcJvZG\n",
       "n+z5v5KGLx8okjwj1Pu6QEZn1U31sDFl+Ng3BsM1arEJqspmXGRXvqRagvtPTUcMEdvdkhgV7VN2\n",
       "fIZJsB9kqY8TX3oz5RfM1o8jwRP00yyqZ3F8LVeI218P83vm6muGTLzlaJ1DLX2mO6v4p8O3El8l\n",
       "x5ujKAB+3kKZ/pRHE4UE6FnocS2569kWqgxq9eaCVv8XMVwqINxUe2EQMslWzKclKAHSfoQ+4MIS\n",
       "EPT3qMuDmQIZ4dxgZn+IeQjLRRya8M1iLijRhPZH0t3OvwL4jfjvU7M6EDNWJ3fa23zg72k93Qt8\n",
       "oO3LvXzq9UxcISyBkM5E8+ZS2Vp9ZPlCvpzKHBBVuNkbxRDmRp/TAV2PPxfteiNBcaRmInHZLUHC\n",
       "eyuyLueLOcYmR6Dr5KRa9UlhEjNb1mDSeZj4vYvMOgcsDXDLqlGCnojMRVsdb0ZEFqoTP51vKnDM\n",
       "VdVsUwrkHeJz37qy+yFzu2+QXQYhDyq2W5KTZ8sFIMPahVHZKXIJaJdyZKMCUcnVTKrmzZEpC24A\n",
       "CBJQmGg53OoSfZ/b5cEwDQvCZ02hWHnPSX2+TdUIdiidtFUxPCbscNQUVTBF9GcJ1OWaJCB+j4VP\n",
       "gCkTxkmXSbF6V8DJjsBmN+uI4GUANSvHqKiOqJRwfTV1bnjB39HmM1rGM34CziRPQDUVmoTLIkMl\n",
       "8tB3i+JtrOobaLrwv58UTIjO7dHuBW9BXwaSwbKu07p4wATCTXBeZc6jv/Iz7h/E5YRjdUIBuSNs\n",
       "5WiBAy5Xw6OrDjtvDjocISpNkRDDUHEVXVihoMsOzRfBB16th1JmnyT6CwOnsgryQF/hFBvrBt/i\n",
       "cKMeJ5QiZsj3McVbVPigBy7K/WMnKWDEYOkTOCdXYCssXDgIPyf6DeK+ywlrVI0x/DuEHbEAa14G\n",
       "vgHglba573m4ZAdpLMspjlV5rfmejcWtgCIPLkrJ3vfAYlrIJVDUYAADPLEb8ZqIr5bfXYiwrKiC\n",
       "cxzSyd19pqQs758xyMCPIl+cH1tyyt5ENJAEVTIiMIHzo06JA02D9acKbGNeYuoT3LbbnTAvW2Fz\n",
       "FigvLU3KEQdUZi0woaWqjhtmMv5IhACdE13cysH+Dq0lVDLlb+1yLVw9LVC70gRWwsdeVcknTcxZ\n",
       "RLUv6m5Eftctdk+6kWMME5VRZZSbye4ZGkAKT2hSZOxl4mkAAAijQZrHSeEPJlMCCn/+1oywNu6I\n",
       "gAOc34MpFjpTFWAPkSg9K7HZzPSgEqGndwI1BniDlLK3WjdNAE4bLTt4Efj/fLux3eNCBauZjm9F\n",
       "sKRiyIRKMBQFPFF/EjjdpF287DjP08qhwKH+DvG4TC7cD6L7JQd31k+AF4fAhnkHRvOH1Ufj7lbR\n",
       "gRAFP+skEOk6VPVzCg/mtE7L2+NLxQ+p2b3td7OLBf23DxJqVclnhTE93z2bTenYjS858cq72eg8\n",
       "Fgqvse9YqBIMuLLPbyEymRgdAlsFUnZ9gU1i1qSN5IfTkIPSKd9k9c/zwGZ0r+5O6SQqxnyMom48\n",
       "F7EWCUyr2spYIKPoCjR7RDQfaOEAXPJnZyCMN1KPkDjfgemBPLS4syLl320iMdZMG43hBCSoCrJi\n",
       "yTfquVdnuD0yV0qoUVyh9bCJyg/ZXM7+iKr80+SWTW42dc45PS6tUrAigMn6LzSwunWEuUVjhJPM\n",
       "TEeo+iweglm0cT5X3X7PPDGrBnbJob/1BLOrw6oYYWI/pdn2Mkd8sfRyV5B/ldPO/S1ksM5kJs++\n",
       "0opbRefZPp5WuR6QLPbpWxJIjXl9IAz3g4NvQ7VAGzMbVQlzcHERMywMFkNvcf13HL/9CWSMiWb2\n",
       "RUyTuobtJldrY/zTbEM/yxyPusnHyeY/b9JjaQK9cFckOfj41l7q7RBMKN0O/Y2tWczWVEH4KYfs\n",
       "jf+Paxe+LglHL+HH0oYWofEBuYBmPrwx39796fmOYDW4v/edPQUkXAkDUiWzmjN9KuFCJ2l89BYj\n",
       "siSFXXHBDhgAAA8Ux0aIVww5jBSFanikLDPRAi4/kShe7vEbmhpWcHXTSRx21kDZ4y3WHktKZTcA\n",
       "K2Y87ygnqsdbqOWz8fInp8fUWID69yY0HmnM6L1+qSpqJ+j5Na0j78SDJUhjAbTa81zjUvfLtCqo\n",
       "GiHbswpocsrq16OWjGe4UqGdiWeF1Lre5xG3EOyPYnJNMGwetSAJjrKNLm2J6bQeX6EI6MGlI2zl\n",
       "uqMsZM9LB8PXbUBv3NIBGk2NA/seL4HBYgBAHar9pI7EnmUP4RNv91tJjAZsYssOlF9qPjyNUYc8\n",
       "Yw4/TK0jin0989JHx55z+Awr+wJqUA14qtc2iSkpGyjiC5swMYQHCJJnA+mLRqZ0K3uIBP7KTZaI\n",
       "d//ap6KX8wBz1DKCI6qfkzniKFtYDXLz2cXnfvgTdZ65QMwcRXw5daucKiFpjGPfwX1hzuka5C7b\n",
       "NoNY3mWs0Z6FPkPRpOsQrULlSrWHuY9OH8Act2gnM61zCbIcuwgEV/zRG3/ecqAowfi2VLmQ/sbL\n",
       "fyg0SUVHZTdzvfi5QTo4tfQ8lGYqmsb2QWe7vTR3KNSOWuJX6xetXV7+6ee9c9Da1/ne5OvO37sv\n",
       "BouSNY7DV8GFLd6tDOoAowdAxdO/wTid8fRbYpM+INEqhJlUac09yXlQeUiamu0C0ubCjJrRSzZf\n",
       "8sPbGk6lxfwecXtFfBYkUjOgHpdVp8NUG3WKanIE7q60rpxJXlBo32+bPfOg0gBhw8bTXQicD63m\n",
       "qWGf9bAXTgo8+YuPNwgpTKWQIoQ/PKHOFhbZ3p1k9bvViRpq34eZvnaAI1rWH+wdsmAxygYApZEP\n",
       "dKurAw2EohR9rbdjeZ3XD2lkjq3Ut/+p13FOfjFv/wHKTRp/GORbPRLly9Lmv5xiIRDaXqhZUoy6\n",
       "nVjCXEJp7X5/Di1XdM2Ta9ogduOzvKYgkP+GHK693nEd3SAZrfaip3O1IaxdOxcuqaMTrFGKQkOd\n",
       "Sj7l6yNd17GXYvZDnKctsHta6Ve68p9xn2YEdkHDzYp6bRFv/15db79RmFleq3efjHtIrZXKl9qk\n",
       "N3C6blvmjC6RZKvqIWHs7+Qp3ie/+0OrlKr6BhAzjB+JLjspfl40vGUkUdc5bl45F2nIK8/4VpHN\n",
       "xk4ZNIDEFqBfkt5QRtxjY9EgdUvTD2tdLla/yGHCWMAvXQzPumIagxXrrm94hHCEr3IvcZgwri5z\n",
       "wWRPPZdGidSnjKi4YoPpSrjMAav8pRI8OEytz+YB/qj6H0Sw+cMOZ55fzQNeAyp969Idkycfarqk\n",
       "t53x9ytguNnOeFPHpUytpURtaBehYRhQYEUiY0SMiQ0WnbiYnbKiDYAsEOzEPYz2IPJYPjpXqT7m\n",
       "TQRznCD4MoD+K5RpMB8Bal2eAA0kykBXpnbo0vqis6NQDTgAnBO/brDM8xwwjCYvEJn0IMjTaP0s\n",
       "izasZsktJ2mZgmfaxMos+UgkHEsoASa5UXgAzR6M3WrcZBBX773nypX1JhW9ffZDabtoirBwlX2d\n",
       "qKjjC9N8+BOUqsSiH6O2l30oI1QHlHIu/VIGMnyPk5QYYfxcq3eeKdpOmb8oUMqaY7DoHdUyHgnN\n",
       "ZiFM5KcW2muIB5Fk0mONKPA4tAt8aki4TN98qhX6YUdixTKn9DOCAG8JT3fzufmr+HDYuoFoO0TX\n",
       "4ukNrF1fw0zse4oa7yHozxT0CLdSuWehgo21StnCyjFLJ02w+Fepe6bxErvD4Xz1vxHa+exuTKkC\n",
       "zFWbiiNmkIAcVtwOCi59vCYwMBQmZG9xnfZm8e275PavzwoOQCLsTY6aXI7hJiaCk5c21X4+rlQM\n",
       "tvHg5R1C412Sofj5tsFyVhR0kXCeYy9HEALLf9UmG3fiNbYJRp/4CGj/E12d2F0TIdqBgCnAhHL1\n",
       "LncTZI+vE1ivaW71s2to9b2zA9Dw023Y+S4hmgGPelw5DRN7jA1NwLOT1rcrAGHm3pHQpRQm54Fw\n",
       "yLDShYMiTH3nz5Y/w9nswx55YlQP9U2/kPHMazYX+0giV+KNA1lUEtHcyriFB7rXovNsQNiKNCUS\n",
       "g7FtKrL8JnRG/YJSB7726TgIwm6lkW4iv41dPpo3K3e7suTaPhSfgUMBHSLPvPczHl/tX6uNEf3A\n",
       "vJr5KGViqtXRsOyCuKDYsZlrFl+wEXJpnSMhAAAJQEGa6knhDyZTAgn//rUqgL8rQ0AEQqWZzjfy\n",
       "xSmQTBhL9FYPVrKI5RzRcf+HzSeWmrfYiXNJLzAPsNjfuBnIJ58d5FM7E49GTb5EhMMtg7It3b6W\n",
       "J7BSZ2r1zwXeUV90evR2VN+UH6t3ww38wInMMeSBGBbrnxkSad6Dst5tB2A8a8ATj090cuC+J9tZ\n",
       "hodedqeTM9WPBeRMaarWY27sT6Abnk0ZmhZrbfeII1Vd1+xnj2QRIajvmRpIlo+VLBZWUNEGGu7b\n",
       "Y1wD8A8PWUMintVKnkILgwxIh4ttcKgdllL6sHuiQMgNAIaI7L1rsNFQ0u1xkgzf3SCoonFCF9TY\n",
       "zjl/h0rHGe/ZnIZ0pxkXCBGlArJrPZZ0Ghhk80MIRXpwxlPXL06FdDvuoiohmvVYSdQ10Qe1NQl7\n",
       "iYpmWPRSMHNK9XuziEW3kPgrkWbryWXjXjWFfKdmXN3mTYryhI8SQogLiDtV6p+WeZvTGtvPU3BY\n",
       "gmHuJb9TA8z8TMnxRZ9oS6QPd+fmCA3twX9eIVyRkdKcjtnIgnj86zJY+xBQgf4uW7+IzsDnvRdT\n",
       "mL9BW0Euwf6Fsq5ixjoJYnaoboIuw4lfb/9CulOtz/murjS9b6g3neykz91UQzECIqunn6YK5c3E\n",
       "fxiJ6a5MTZQvJQEHU0Gdg1zAw6ZMvTcwEIV/eH7IBcNjedwyVluJ4BGhStx2xWxHjy6ezef4yjYC\n",
       "gp3xAMFeYSaUrTQjeyTwNQpjoRRefGNnwVTW8rMUw8Q3uqdg0uysxyHciyzzBVRS7tYr+p6cEpLb\n",
       "Ap6SOdhbDhhBVy7m2lHiGkezM+119mUOujgI6LUk0gIKmDS5NYgPyHU4W2G8vvdsIzyY0YuxHZP/\n",
       "jix+wjqWq9LgFzD3aWXV/up6rWIwTBHwpul5RUgbeIxNw0//dUCqUqLHiFYBL0kru73S36isiVkT\n",
       "DVMcizhfQAFQG2FTKmYs+OsxYlUQzq5RlO3DDRXhEEkASfUaNCST8ncSJU5n1sEsMJ8WCJOaioMX\n",
       "6RD2TXVfSHppcXyGNLKbrBd+syedvQTo6XZPgsyS4CVzzK2+TJL/sJBmnn84XhmhNX9/t1yDV9Nx\n",
       "6/IxiLxssD9P3R+kdo9TAvDF6qXCNjE3I6mGhwswzRLVtwtmE2q1lyXOTHa9kxfmxVQlbuZ8rPKo\n",
       "12FgA97UBoTVT4Q/kbcj3//zqwUeQxlCe6GEYErzOQyqRuLtP2lQJU4UoDZuZ2fi4x37dWM5fLy5\n",
       "VQK86Jia86AVj771PBfnxlUyUFr8LlvtbtB01dGUBZfNUY/KDkLVrK5sVpqSwKetu53/tBKY9F6O\n",
       "W7VIIrPsSLjMm1FdBEfamkUYLrArRSOuaglMXBODzO2+OkRMa1vtGm/KUnXWiwR0CwxV/zS4fYfm\n",
       "xf0GrVtHV86GtZbZkm6torTWEdFhyQZxDWXD3WjNap6twtPQMmKuuPQQX4yfX5KQvUZDRXwYpcQw\n",
       "J37vZorl2V9ukghjYIGTUvGuApF+lH+JfUf+gHpqcdjrLD6ge1xQBa70+D2SSmplV7fs7MSTh/Jc\n",
       "vAiIgUBFIYsbScDS5A6QdcB0/7pB/hpLeMS0ME145RT6rPLjrVIrI7r7NmtIPb+Dc2aSRbtXtTLg\n",
       "5u/5p/muf0eQHQF/7An61Imqqh2WQ0P4IHHC/DN30ETfmI1HCEEqMrgiv2WsSmO5HEtHvpg6BjW1\n",
       "q2ztFR9OoM+FcMhZhvp5xnGG/mB1OZ6T1dsebtbjWQfjp4yS5nUcRZWxd+J+jgyHmmPK4FCFNEab\n",
       "7od1QNojcJMN8tEOjCqhVQwBgZtYxNt+cQCDtHbbbJE4RulZwYP0op6KgZWaPn+oPe/m2wQKMhEq\n",
       "p8U7Lm9JBzfPaDMXAiA05XBNuB8r3EOW7YZtVdqfDB8MjH+0Zhmz4eI2tOTcMxN9ocFfLIniMR8g\n",
       "P6nrFkP90GHjG+edyf7MDDjVvNb7EQZj+z7vfgOt5dM1KPdGAtI7pCxiGHhZa3f1lY+hAsFRwOUg\n",
       "18VLIAnfzB+Z6AE8VF2y32FsovthYWb53/oTEW3vyBSIh3BSuVJ+j9NLC8AQf2y3c3bUZcF+futh\n",
       "QjwEKg1Zp0yTc+OufCHm+BX6tKIKqfgmOHzn6fqVYuJ0bPv2jCk/7XBtsG1zGeoNTec3Zmd4SWoj\n",
       "CBpj18aZbMK7fjXSLpx+XGdt31HCZzjZKPqYsvTsz5CMfGS0WA4FBLGjDw2Mbx84toeI48rHVkd7\n",
       "imBNxyRPBFFWiDezZpO4TlXoy/fjtH+lY2BIn8yQa9zuCa5/beT48MMU4fQS40Ttl33N1MPgYqhh\n",
       "Ia/F7uk2wcobTTaHS/5s/ouikSfD9zdurffNLcZ5xr24Kn2nIPccwQiI27/Nijy4mVJBt6LmWLmZ\n",
       "tMTA2Ok0iIa7kdLXOGqs8XblHh5MGROc67HAKv7hkAuli3j5AIkLFNcFwJ4C09sCrwFpMM0yIpoS\n",
       "Y67etslfdHUJFWPHfkVRh6ERLCaZ86bUkbxinNAHJr/Kl2s7634N2upZhBosAoVeqMvMIx4ZqK7U\n",
       "uFWXWbe59aw2OhObiRiU+M32nIrW+lCOfHOBVyNWOe14rkSLN++8NnlGsjis1flQzQSMa4eWdYIE\n",
       "i5F9d1kwqFNjBgNGaWpdCaXGS/nheHNtXjpoM70uajvNg/amjx4t4E9VZHZEZP+cWq8Sx29b3Nx8\n",
       "9e6w+IeQzoXyopy0y6iHWfP0TPR1sZO56AMKagjv0Vu9FdwWIbEzryy3L+VQueJ4nPKHz3NREOp9\n",
       "v0de4tPL2xsqntmiuvwYmlgXPvY/rKRheenA+WLvOpwYo5i1pM44QFF7bEJVeYbbtgSscZB127ch\n",
       "w+0IcI+rh9QvyS9BK0eWD5I66bG0bBH+iv4GNaoMlYDfC/3mOxAI5YQl9O5OM3T7q4v0sIhrk+kZ\n",
       "T5XwxNIx+T8tiFFp/U/BcgjgUoqF8nYZXXKMVz0kcNqYhy1zi0UBltlNP0+1cKKN9eGHbZ3xB3xL\n",
       "1P4Hf2RG5fSQ2TFAsiFRdc80Ricpe8u502Lb78pU7h01bAy1qvLOkKAbmi6TpYvJG3qXc3zsuXsC\n",
       "oT733CeJqPnrSX/QDNpCF0APQmiC7sQTV1oUo51QlwDH0NT2IhjTf6cpu0zUqkFYzS5Hglxj2XIX\n",
       "ACZ7E5oAAAaUQZ8IRRE8Ef8AJg9UafqCaYF1dbWABNX0oK+1yqhXuO6S6eX81M8c5nhlLcV5sswN\n",
       "8uDYPM3MA0q8dARG93WTCea9dgIOTD14Pt5ShRCZ9ab8TsVeLNgN8rc6K4Ge00rAu2V2zYUQlov0\n",
       "MiQzIOhbrBSK8BP9PgwIOQl9jNeudH8btqL0LoQ+HXTHl3MbA3RJOlmL34nHpBgBl0BQ+69jU0gK\n",
       "+4My8tJKXmlzOa+r5yXy4DtS6BmYYjBlQauoQpAIigUby8FkwNlfWcXNN8yjkoQ/M6mk4NhKynrQ\n",
       "wF7+IX6LJVxEg/hx4rWO5zZtSislKf5gRvynNTrGUepyIcmm3fM+/WXQ1dX8tN/SjhAz5uvoPYb0\n",
       "MF7WKgEeB/2LMZf/9ADaid65mPDcF9B8UX9+p+jKlD+GfvImw11wyyN3g8nzeQ/DuZY+rqvbSxAC\n",
       "q63Ozsu+PAS3aodAtZp2Qd6i0R691SaCZ1g1sjkcYMfGrgac/b9wZgkSvTbszyb3NsN1Qkeq1h3/\n",
       "8hI0mLSwr2V8E3V4yrOkhwm1WC/y5KFJVcm1L9NLjhDnrzjB4M4Pzk3pC/YTkrO6v1ys6rQjsiDm\n",
       "eAxIRQAuqors6F6DXcB6Vv5ygwyxuGPbBZVK/+W9ggyznfe7Q599FpNnB4iOdmzZ/bMW6Q9bm7XF\n",
       "3+SPbpQO6fqSTmO6Jz7wDANQhi4hI19RtzW0YxuEjKjTYIQqly/g4jwHQmRRe0EgRn71DoiqlfSP\n",
       "omGEtEvTdO3oR+dUNYvT5X8KvuxwtPvJhBa3tsYO+5TfnyymccFGFRFezinpgOoz1Vr3hHbsSRF/\n",
       "pK3JDACrBkmJqQY7nk3EP0NvJz4THgNie5/5dnxqw9r6qdslqKzAVoEMhNIBSNkqELti4vcvFwII\n",
       "tfsMEbbVCA2bDDPqLY1lAkMwzssKqzXlfhiHN4D7oFx/rfO/AMfmQ+g1Kr3queqVqvPb+W60P6FN\n",
       "Lou8P+rdNyVk2FegS2hanUZ5U+bFp9Y0c5Qzt27Ih8B+A3HtZmkVTg+akUXZW+u94/PeXvXwOB+a\n",
       "kMvKshTfZ2S9qqDjM5cDyay2Wu2zASFivnWTzzWLw0ptctWM+qimseB50hc7qZrWW5RcBoCvblSt\n",
       "Ic7qMEbOxGAvoIry1dHqBgIweI/0IY5C7S+CKy6Umywi3tdqzPcOD0XTUf/m3V03/yt/P0DXMdCy\n",
       "BvvG1/xVRQeKBc9o5K4byCatIm0y5XRqC/hqqkuRSy6gQ/Ycmf3hgAR9CFbDEIvDEm2u2M+gmByY\n",
       "Ka+flgO4dgQL+/fyO+g5e4hluEMLXM5vREWadEbqz+1PvdpyTb69SN9cVT5XPO+My7gL9RAe1hD1\n",
       "i/Sip7NJuzPIzQJ2/RUoC/LpLCVCElr1tSogfZMNqLr3kiv96JMSZ5zv42OlMO5ccUa8aRNbfOaj\n",
       "+UmDZPDrT/413QeU9qglugIdtGrF5xnzCfXmC9nen2Qz/iILzWzKKTuaa3U5eHZt1JuU64H2UqIe\n",
       "LGJq0doo7Q7Eo4hsLr97gxattu9hXFntZJoOtbj1wfXSy86oVc6sn/DMTFBFeZTlug8sE2ccFFy7\n",
       "fz62E0IyyAx7cM7b1tMgZuWVimzcAepZEzfeSzl3yb/eIr16fPBOT7O2vYDb93oL/poQsJbR/a93\n",
       "Fb2sNlydGo1PebbCzA7O+Mqf9FgYmIq12i+Z96xHIhzy40l/AMK9V3BebXuOhM8TbDco8K6wu+62\n",
       "ABwXA92xOKn1/KVplWunDOJd5ESWh5st8OquH/LDOywMhAseUzzmwnfy5UX1Bsw5+HR+icVjP7m8\n",
       "WWhj49mex0etevcEBG+LzB+3Pyc6KaRZTCb6W/Dx330wKLJZGgZDf7obP2/gwDpcgBe52nTzdgux\n",
       "SVBSdvyUhsbqjqo6FLIJ+zNrk0sncaE0sQPxWnAVXQhPbdeyklHRTFyIB+KrNToLsG1mPnBBXWQj\n",
       "5fnC7zRkKLodI00pXji1qxzrBPkYKqOAbYX/JeIWqwZZP7THh3nQeKH6eoCajgER9a8z94fP5Txw\n",
       "OzBC5FJMM4Ig2gkOpMklkZM5FovymrUgH10b/yE4y+GGc2ES0PWyIHDUChDJ49QfSphhcnGUmaET\n",
       "IoHrQz+pzS56ESxYCtJ8SfSOmueUZebv+rQv43jhcaHaTCz+eyiPMYn/m6LQzVGO1dcT9PdXgqCn\n",
       "Rb0H/cWkAPSw78hPtcdtCVpUdsaKxU88watmTTjfYHbts0u49mT/MAAABZsBnylqQR8DKp1bHlxs\n",
       "gAiD6VlgNu/cQkYn7pR0mRwgLI6VmrHGSlWGciPCG8UBegnlagWrjVYm7t986VKzlWBDjmw+I1JA\n",
       "z/AeXXLBuu39f3R1EpIT/L+1m6N+Tp3qMm69sHOad5Re5C8kvXjthxwL+zV7j2tObYizQSCRtg1I\n",
       "TcMHrOSpNl5uA/u102tJesxBmr9vXae8eNpgkeOtTApVUXIm/M9kE4pGfY5Nbs5QoNK0VK+Otl/1\n",
       "vXf2XKf8B4xi3rnKouPItzl5kwaF+mdbu7+iVoOuGSkjo86izuzJj6yqNZ6ha2M/E8qJo/xWwX8X\n",
       "5BaTUvkq9oZtBqyGsCSt4CF0zOGn+QnJ8xqOtdVoPrKFbJnyfHkntGVO0nBIR3yW3yiyFNbPcTRs\n",
       "kyiWpwGcktLqnVKkb7zhlwoYlpxtK41WqFYQXZgdgAeH5AQB3raaMy/7cNP3e9K5hyfVLRXsSM18\n",
       "v/+QyPW5/8hHmG8gPQ/f+gON29qaimZlQeUex01GuPHIrt4RFUiQn4Fx7kVeosNe45IFTKjJfHEV\n",
       "4/YnY5B0sIUpXGxaC9YIEEDDxne8MRR6abhjdD56376K0TVIfHXnV7FYNMBWzj8Fc+U5GHZs11Nb\n",
       "Q000tnRvXZlZGEm6OkRN5oq3k3ngSYonm7htK5PzkHsFB6xFwSBXVH363TNYh9uUO6/nkRmohkCy\n",
       "frX6UHQhX8lGqb1TD3knnCF+UFR94eYhyWygjSf5IyURcImuOx+7f7f+U9/AxwUjm02CCvZTofyI\n",
       "k/ioiIyeCp9O2fLUswJnid6aHa+qBy3woM+YQptnUofUBRWE6fBxe2kVUcpZOGgDWe2qEAm0yFGx\n",
       "Q6MGLofVPFQJcyS0r8XSuo6P+bWO+CHQNhCDTMX7wdu4UBGOBhU95ZHkacE0cNn4nRqe/aUAjn/i\n",
       "1hLMhh+wdt2rj0dkbALwgnOakytR7K/e9CPc/26khBv47g/xCuDOpsZNsVKTwHTFhOglzEbt1jd4\n",
       "290zxUwtukIdWXPRLrHeWABN0kicihULsBSGIUlW6TtkUDuwzvURt+fIwJbrocUOGHFjiCsIW0qX\n",
       "z+vZLb1idMM9GvorLjjgVi5hCGfv2YUWOtpAgOR3/hV7yBcDaVwLIvWbXMpZMI2VqpI5kqyM62og\n",
       "sYaHJiPHCveED0i8Qz4WltqtqeGRcUC+XuAjS1e20VwVy254UqZGWjpiviJQYlmyVf3Cxs8Zq2e1\n",
       "TRlXJc/7K8T8qQGFvqjhA+eQetfvdkKj9Kec6IgVfUegy8Ba/iqzJzBqRuUx1MQZ6/AwJOLlxEhE\n",
       "GNfRPyTrpGWy0eDdz+BpnVHEelneHuWpNIbDyUlcrwl7fwibBczmlQNoSi0rpyGM9vTuGu7W2gx9\n",
       "ii00+noekFzfWlnOKwlh0ITewJQj4anAi8Wu+L9adTZcOW0ckSGILdmWBJqURwnVJurFvMqF4Na/\n",
       "dFAWrBCMsJp/Qd5CXf1adF1XNYkHPiPLjbOXnVMLXy6TzmlCl5yjew/F8z2wMxs7EJHqfbWdeJbq\n",
       "8BrBVSPXgvDviiVVZEUCn1xoLaRJnRDxgCMKMnqFYUeICQDdTqbtusHn8lffXzyk9BPKELXKgVnL\n",
       "cyPDdmTadlQalKYTwkj9IyGtrbyFc4I8g+fvMadhrfAy0OrEJ0blwRGYFWq1AMN2y9T7ZWb69sfX\n",
       "v95OcNv7pdfyPQHQV7SZHBaqHiEjnq/tUjWVm9H1W8Itw6IwflLnOj4qUcWkz33Gq+9wuRiXkr7a\n",
       "xrZWc85iY58FCBKpP5XwgnrhFvCVPlgf0kx6hbaXLtMiAHhJ2mD/2qDBd5hN08x3qRSoOt5/upGc\n",
       "Qmb2RXL9NGlyEjjO48+7+pBLWt/CBPd+XKefn8KKfpX3KBaB/1X8zxwsOaAmPsJxdXXeh4JxAAAH\n",
       "LUGbK0moQWiZTAgp//7WjLA272XAAqVTInB5G95EcxwI5vqsmkwcP0UNa4MZy8YVEDPUWfz25J+H\n",
       "+B/akyirx7F8EqtKwobXGJlzXzMpYLwKJ6JxwrOV9Y4XiAP25d77+DgQoyI2wPrLSkE1SUdJ7v7J\n",
       "L1JRgTm0N7yHtZQ6+dnFff3vQUfJ8AyP9eSuQuzdgWHY2m1xEktBIhhP2QxRHEk0szw/2reMCsFJ\n",
       "UqP3hxdPmwS76I1z10eiY6PO5PZ/X5UCr4bNWtPq5EC8jznHUAbR2J1pAJ8xmp0VFMnJ+KNPMr45\n",
       "ICancdnMJ8xeLs9N9tRxP9q9miH3EL43Zc1dWn4K4cyxPIz5NjXKetBFNzMYqq7ZiQNuPXNvPvht\n",
       "tD2zrCimSsiAMjtXGJzLozzuqkXeNBeA9nEuT6+pRT7//oV1zSUN/eALNyWDh1tfpTbYXbqA+ula\n",
       "KL5kgo/w0YVikPEgkYZrzwOPtMcT6zZpnHSo31CRioYMVQDRL8supvT2DWN9m79GRRf+ZfMo/lt3\n",
       "hRc2hfBL9VHlYoWzEPAvKXkLzo0pETlvTKp8J5Zg9hHzx6ufqx9D88UW+JWCdE9LI4fibKapl9gq\n",
       "Jd62I7b0I4pC5vmJM5fas+QDgEvYlVb+Dzs66jIIdwz8RaXbXy+KElZRNaImdwr2EnMQ2iSeXMRY\n",
       "FVYZj7l4vGg5E6zp5jM+8UDnM6KkcGBigdIQwPvkaJzRPdJV56t5Sp7sXaabdLXXuiwwCRPRJlBU\n",
       "FtF7KnIQVbwIubOz7A5KQD5Fgpn/mmooxswjgSNwpEAkxZfrI/tFwFLMrWufxcCZYT+3nJtTdZ0M\n",
       "j/I166ALgvLo2ozByFin+1u9W51/kqZlYFdS3xnqlolTPnMMhW7Ozp0YbnLtm22FXYjP1t3S2aca\n",
       "lihqemyTXGfnRqRvz8TIb5buJRmliqFvyzCDyEOkmyAX5AJw/j1cim2+bE94YUmp28qrzSUFLhZw\n",
       "FERu/Hhir36xmA3mmdKLdpCwoAE0KlKTe4LmKBRvnJ+TIQtGa7xHPjLvrAd+Qel0C1mHy8+ZBqCw\n",
       "H/2Xim7cnV5mcagioQYbqhMrPHQZTeqAJkGxLuSxiTeEFRG8YQRwrO5/X5CWoXtfemqi2RbtjYtn\n",
       "tnovH8Mj6SwGaU8KvmoZNkrBFPpVaUlHGsKXOx/s6w6VOLYF+AiMHAtGsxAyQh2JWFKWLWn+Tvhd\n",
       "88IZhMqkyhSciZd0bsxX8Img1MtEaBsosoa0SOjYcP9IKY6bXnLBZ+bSoDclWgrYV19wwMPhXnm4\n",
       "gNAYyt/L4BIW/D/zRaa/elG60xg7sTJu8A525L4gMTgUZkGusi7HUYKdYH79BYSRXXfGpq6s3wPt\n",
       "UdbfwH150uoR6IlVKocBlQSU1jRI8h3L7qFPGXXpFF104Me0QbX/B/Ivoi/x1wn+uxhpnVyMbupL\n",
       "MRgiOeuHOMEGJpYg+VFWj1BOb2lZlDeYV9EhFVQQGafbPPFrlZY5VD4sfA4VyqUkM+P23u5/8jCh\n",
       "fphKLVI9gn4limr+kZlv/JgQMr1TdpvDPxaSKaxQmGQwXDvT0vV5w8+Yincz8ZwH6MUS0YM6RMuX\n",
       "HCjAivy3/6IJ/mvrMmv1h3li7KNN7TELo923ndIYGUFJrRYKN0F5K4ABLPj5AxA0VDHET+Anr/CC\n",
       "Tg0qaQ/j9B9COL0xF6DamSdQAQbBZQinuTVnFLJjYI3K/UNhCZUgvg+erPWL/mRUFeKl26hfyZn3\n",
       "NtZvnWZ+gk4edh5uj1qV6hgaNCH7eU7u9j/JEzMhjgNwBQdymMSSQtqFh6qX/sTtJ5kqBO2pEKf/\n",
       "IFVZgy/EUUK7cJKPrncA0J/QvxD70BFf9VCf+NjrnU9txn8VF1tgV6Oi51qk75j+0UjSm0vTLWri\n",
       "BQVfpvSxCZZnIHr2P0xhxMcP2fifJPm9HdSeV7sH7hmAZPWNRUpBCtGEaB/9wmnVKjyV7P+oC74P\n",
       "WN42zzNLoBzROGFesR6e0S/cm1sVvt4fxLEFcgTxc1uWlAa5hbSHfEu9JAZOJ1cbTSeKN3HXwAzG\n",
       "pvf+hGhhhz85CIypvSpTW3ef1+C8oJ6SpiIcRgXpCPmSUYVnFOIEPkBDcE6GwkjbClb8cyUwDlbP\n",
       "YZN8ZT2F/Tu3lVoSBN8BcQiKvAdrGJmiOaj9SMIXfiAsKcdyxkYyRHN/eRaN1ICWVbp0iSrPgdfm\n",
       "cWk2j/GqEJrr+vnQHLjFjpvlKP4ZshPzmWEXSoLEmrATYLEqrpMwI+RO/Y6BZ7HQExqdb4tlesAx\n",
       "NXYC4jLLrIQSqk9A9vCIuiDoLtfM5wnjCE5Y2q0flbS5rSpn7/veoJPPgGKJXvT120SJyDBYzAwz\n",
       "dmVjUIovvSs1lxhtm84dOqLkpeHL/hqSF0T29WgXpYVAW9736Zn68iRvjsTJaV0yv3giSuJyZ+fE\n",
       "LhnCGYAUtWjsvTQe/rAAAAiRQZtMSeEKUmUwIKf//taMsDa/raADat+DSpZ366ITaHPDxviyyXFz\n",
       "lLIsqtb8mvu2APMi6aPX3IdPPu3Z9dIywhKzvUeDKUbVfti/gpbK7MP8Dnz+wkT1tjebYgvlflOv\n",
       "Q0yaAILBfu0XgdOJmSn8nrjaonTGNlJg1T9aBaXpPZiivHSlz/4uTNaJnXEFJWUA1ENmVORMxCTT\n",
       "GrJCgHKIhxNb5RYZtO5jqU4A71sZoYwagylFCzLY/Q+9qSS26fLUzF+vFt2WRIXWHaICxUFXY2cj\n",
       "+HhP6VZa5oxEzuUobtFxl4qv2poPYK7beU6RZ2pNcAJS3fDTeuYx7rJ5aqR2NS+46EylmXVI+7X9\n",
       "MyWxiqSH+jtkFONr69bEByyQwN44tgxH8vWDQ/OQa6kvN20AbUFGuINPnNS7tpgMng7aN0/VFkr4\n",
       "gfhbb90DD8KhTDZ2IIlZlsKlAwzH6E7VvkuBjHDCYOjwkYnykb281SiT4IMJLmVvMKl0Q3SeENwK\n",
       "5pK9srYXUtn6bF3Fs/QtmwlfH32wAhEhMfqWAP4G95tCMIb7u3qdBvgflAo9fmShfkzFj7hfMOMn\n",
       "C1WOYyd2bcY2WgdtE3OaO/nNIvz83T3NUctnIUZPcsnuTGCqmQ17yIgoFvC44taXOIGdtmvhaA8H\n",
       "e7SazW2xvFxJp1xSUacNiB6QnlN2uBtWO1w8u2gDk9rz+BQEJzAOLtcoCbgLLI2HmVw1C3Mielwh\n",
       "jeR0yruNCQL6B2l3U4UFxhbUWY1EkirVvVB0sOKD6sElXPWZVIsjNqY1JpEK9ZiQO5eOsbmupezs\n",
       "jBsPxH1xTZ5D8DRZL93kobgZX7jSLjKTvYABYpzTRvJLp34awJ6ck6aZbQKyqmvgOF5KIVNQdXUG\n",
       "2+QOCIuec1WQuNVRrrBnkNOE1wgVFsD61sB1joFCCxGDM6K6pGFjPCLEMMMKdpXH0XE4BXh7eQ0Y\n",
       "YolHKCIGVOVuQV0oAClWa7YXTZLnYKrP05GgXfhKe10l6nY0TJ3gPVqEIlkjTOCa/YD4hTt+Gfah\n",
       "MUnnZq+sm7o7n3RXpHCtQcCpsVvHum22wGRT4xV3y5N9R5z/EAbi29bUvQym+9SeoHpkOLjVbOiI\n",
       "zCmeelYvkMmpaHqn+qfn2YijRVnYw/NNi0NcLgo9KajfPAK6fw6Oje2xhUmW59E9jKI5cOKrXWMN\n",
       "DrDvRYMG0Iy12D+Vg4ZKP9oR8g2MrVSac5X22MROx2BpZ6tUEn3op3dYl0VnnNXE2X1/cq0YW7ON\n",
       "AauLEHpIOFapH4il7QmU1AVDhRsCTyYRe9gRMyRrZ/S8Yn3fseMVZEmHb3sW1qzCU9yf6fiVXxcw\n",
       "9xC/7Sk8TbHZlHrf/E31CxWpNKrzg0TLOXQN2aemd5L+hjNNshlq6kyP7SsQ7k0Mw10E4lAjswZj\n",
       "rT4bouRFaphnucFFCzmPJ1lJu9F0bBgvhDac2Wt9BsZfIu/GXsE1OILKTwXdLbpXuDgh6NdRc7yd\n",
       "K4qCqO0jcUf/E1i1wZnMAdQodmxFz2zVIg1WvfUsZBZaMxAx4eLKWtDMAmmciww0pbDJAvUDWGRb\n",
       "71hCe71h09TpHFV9XR3LnojWFKIut6///9MUNnziuXefdMuIAJkTJpX+6FB0EZ1glcymnl8UWX0T\n",
       "F7glixFb3XgPq+FJuPJD4CY+Ecx0j4iOfAqmFhlxcsscKV0KSzG3f+rbpFb1nwdzLUGwToqK/LfX\n",
       "QqCp1FsqQdR/M9cbRlo652AVxRFytJva2i8FYy7ESjsF0BAD2W8q8zx2Z2QJ2eNO9lfwePg/Vkrt\n",
       "rBnzBnuk4nu7V4nPV6pcs93FbzFNFC6F/vRh8u6DD5bVhnG5W7lNpFnpXEi9EkBt9zR5DmEc/TXB\n",
       "x6/qCcHqJQE3Zxf/b7h4Qnx8pP5uZ+5nM/gMWi+tILJ/YtT8MP/OjxYUGFbD12XtgH4bdJtRQlUa\n",
       "wMu7G3FmW02vJnVZlqfKxTZpl3+H0NHHY+nv6pH3K5LiVF3ohesK9jOldwiYYmXmMk5vtVNkKDU7\n",
       "wI89lvEq0IZhYUSLapxb20esNMUUbUZ1KsEX0WV90/ZX6g1abUelzr9KAeCUyYYE3MhMTpun7IAr\n",
       "j+3vPBX5/Q/3uizfO3j6MdIF+3JB+NveQ0EALrJgxXU2VvJQjTxX7ELDsmKRtZvyXbzEd2XuwshX\n",
       "S21XHcADCwj1CILj8SIQgK/lfa2+hQf16eVsZb5YPOuRwZ6FRUXqslhshO5mCy2K+MaC8sjpjRXb\n",
       "gD1CJIaxRSRZI+OboYD7u4V7OJ0UGxsvxg2swrCizl1yLIL+DkpqrXlbWm9RNd9qUmsObCRoUB5O\n",
       "i16YDrGeNfnmptHMjGqSbbodzwmvxGPmnA+PZBYABGQ+H0rK24p3ymeul9pyb+OagCYThnnT6Bs8\n",
       "Sa3a4spl+YNqS4Knn2h++Keos8b+tafk/1k98rUfc5cQCLRj0ciw/IujCCZLIqyu13HeIV2tKqoQ\n",
       "e31DdshowPzigpmCz9p5vscRoQFkN5F36ej+VmBplJpo4+wXI/9pepXWSamAhQ8/yiNdCqmIlPya\n",
       "Q3mPcBNvtfHpqBTTxj2FMWEq1I/BLEX/NKlCpvp40rN4NzHLeGkvbZx2awC4G39v4cQherk3wB5G\n",
       "GWJQAWEYuVrYtvZvT3iLS/5hlOQTXfPXZP7H+nYt6VMUwuIrh9HZHylkT86B6J0HG+ek+jldPMi8\n",
       "aGn1OOd7p3ULrSSpi+shjtAgyfHGz2gn0UGjm/KHPbWawbhbUf/NpfxGGuXIU1AkkAwcBGGr8AfB\n",
       "yTZbIbdhU69neflsNI4e+e6O9yGCr1AwTYRfXkce8O2pgGTDuvI2F3DCoBqfKJ91z0vl8VFj4ACq\n",
       "RwJUeZeSD3ywm1RGmCcbuSmiWnYZXyN2CFflZEfg68Ijfd10ySZ0fSA974tAAAAHd0GbcEnhDomU\n",
       "wIJ//rUqgMOXGx/fI5+FAAIhUsznJQO6O87mLtKYLZQ5HyrO8cx9qP6znco0L2AL8jXCVVWVd4kN\n",
       "vKOg7msGjvpEI3EO5yManpdiq29JXNephz9QN8bX0y5bySY5T1AcGZodZVVgEPR5EgqQxDLG2b4j\n",
       "Mp2tba+Ro/2IRyba9g6pahAE/ky9nC1h1BcZeEMWj4B3h21KOdjHcwDHHuHIzaNO7gF3sU0lMpAN\n",
       "DahQZbAVjPbXuGZYapXWq5zuaBXLADqqCPk4O7yOToS99g+vo89An1SfPNVtSx9pwz+C+smV+ryc\n",
       "XT06KAKmKiEonS/8NxfeUGn9lyMmcfPKCwqslYy2N/o41j10mfmRnnXxSnsC1zgbAkjP88EFxZ/g\n",
       "Fzv6ODQGCO7ynCZrXqQGWIusSfKAoF8ifCVOZaDq9Ry572DXNCrlj74jNNZNAPeoAVHqjphcfRGG\n",
       "mKvok1Sd2syT8EJTyD8e6Zrf9VWaXRjSmwgzet1NFf/kW3ZRE+MDD+9aj6Uk+ZbLaiaSWt16Kybv\n",
       "MPcKrc80ePtRH8lOve3x+DDULs4tCS4A/7pdHDhY3vI7ZTglQDroP029kpHkxXGk2zHff81O4KgI\n",
       "g0PzgdwsLRbLeAVuc16EXzYeHK2r33SJVx/U3bieyc9iBB/Ogpr1Nynh2XQ6A4bV4hJI8xxW7DjJ\n",
       "P6KquAEYYaTrVz1QF7yG3jmfGtYbthM0AoAukK2jt//0T/Ji9edQCQw12FGY6zDd/5HspCy9ZLXf\n",
       "GUhK17OQDb84uqDl6yhv7vmq4smuq7Drc9jhVFheTZcLqSHqIMTQlRmxP+jTQvMPu7mgtphPlS6v\n",
       "WV9Rn3oTG2oORCRe8h8MOO+io7/TTXfta0TIhkMZDa+i8sI4aah7wCy+hS2xfDbn9veTAynaqBNL\n",
       "VeMcVrupD1mObBompk7rXU12GplDIDymCr1TG3JNxgJNf1CVz/oEyR3G56n7YoOob/IcTW5XZiqp\n",
       "cwOA/i88BqaQwUYDLSiQqtLk8M2RU9z6ZOF+FgxIAl0SFBZ8js4kLGrP5+d0aDIoqwJefxUcbcBh\n",
       "Q32mkUEiaNqZxZN/2qNqpFUh5BMU6yzJPpB0MImkT+4EJGameFCtFte0OhDN//hlmLzxnPSKukU1\n",
       "V94sdZqBssL62h5tc8bl3iz3aHaQsQh/iWTZpcjNRcdsaMgXdg+ClfVQoA8hxc5FyW7u69nDCXGc\n",
       "BC76IJGQRrAA6kvSPIWkWqL0Y2qTXdpTbMAC9vPc1jddEsjJvuz3Gfa0LAzJmOX1ev5eWJltJ1Zu\n",
       "xPPtWysWQktOAiQ+b9IX0w+wAmyP3T+a8UUtj0pT7y/rFCkd6TQ1i1X4l4fnZ91Hi2jHAObJTvWN\n",
       "rV9ZqRgd+6Qx64yZczEwh5WG7XsXWfA7cbd2HRfjJbZDFXfU3SnO9Q5veqRIYJcCRvCJjKH2MLX3\n",
       "Fbeev2j1FGCzAXO+SXKKDTVkPmuNCOIelu5TCyJrG03SwbIDjikQkHGxLswAzUyQUIaEp08FjGVJ\n",
       "Fq0G8G+S9etL4X3Cu2a1ytHJlNzJ7DOzHpykcg8xcWD9+jqPZUortL8eZQWSHvuHIAterPBFY5Pv\n",
       "jlP7BWyU1nUxdn3ObeqmzjG9FU/5C2rLbkzggS83DNcVWb5+63kvB3wh6002lyS0sy1ekVMIGy/R\n",
       "l+a1wTySmm+WYqWPMzjW4g3laK2l2rJgZ13/9zukt/BUFC/3kfCOYgWvGLwqyNuC5YMcl3F1frn8\n",
       "5cJT+sTmpzMvrac1E6zxtw7s7xrDu2egB9YRe7djh8GGGmAlZPdzs/KEzCQvexof12ghK3muKcsd\n",
       "4Ji/XTYFJcG7IhfRsnN8Elr9ob/yvgh5XDrO55xfBMWzUz4GO9qy5Ez9doIYoSPbMAkDRL82Fp/g\n",
       "4bhFpBUBBXetN4+TOCanbV6M1Cc3n9M3NACLdZb8KyUeHSlKAYCJixIAIBY2D1D4TPkUkA2Vn67g\n",
       "eNvghO+kQeAr0Q31Dzikdr1e27TI6aBa3XOxKNgNiKIG5lJHYJXwagR5S//1QsRgwZgoal9unELy\n",
       "wOgNG7WxbUzX3MnKl82fF+wvzVLkD+O3/x7B9etvuWixwBYkNImhiHCXE4fHJPxFdUuIfxMK2JNN\n",
       "rV0UA48gW178y6hRGPhDx9H6WTUxUJUDG5x4HGs8thek+PivPvFOFh8ZpzckBVXmcATrBIfigqat\n",
       "LKZ0Mxc67Z9u83fFaeIGCgGXQT85qqOPVglH4FSzu72hmWjX71L04yFsQvpP+xMT9lNpLBpTtQDV\n",
       "H/rk4UJUiTOoH/QAlshJYsbFTZvP8Zu9z1eZdwrWY27xLCrrXp05IQn7zrIobeyOiFHgJHA4AEyI\n",
       "iPtJOq6/JkOTH5bu5gmpmA49+UiHXDpjcdRhz7YdzBtRlrXdBow/Rlzb1qicikoxX3JdEYEM3OuS\n",
       "OVmQl0bvu2Axgtt7lju8VsDcz12+ml55lnnraCDdOaDBDgUDRfyItsNBlVlOYxfP1AZsT6VT/RMq\n",
       "lQwCqwGUlTnixb6dQga4eLWwsBTgpQAABvVBn45FETwS/wAdWh1xUGg4TwR3IAJ29Ze9kPYLuqRS\n",
       "7LpC1ll6d5F2slI36sKpxvMtnrb9pV7Fm6sI4dh3mjj4lhmujFkYobkSaBn1y2hhzYung7ODJVIk\n",
       "R9xDg1RBsv3q5p+tUG5NMHqMOqlkM68X13SprQbRzQF3eFq+iFIH4YOeP6iG9tVH0PQ9wXCNQFlZ\n",
       "DTC0CYA5w4he1RkwknnuLgqETy27xZTXqddRVthuB5pzRjNeWGMJ5ofPB8qGQdegb8bxQKFaN+OD\n",
       "XwJ1kaS28hIGLcjhsSEZvRUD2dnhkgsI8Zrmp5Tl8PVz7nCPFT/TWBNyYDmXrWQYwkLk/21ewcGh\n",
       "HjNTyDZuQ26hbCfjuJCKPjAPHMo2NBHZNKX/yFvtRicYoG2izxIhVus/oNbnA1o2EV/atVtUDdn2\n",
       "zs6qSh9rVxx203i0NeCUCqQ5w6wuvigeeXev33h2tdTlCHcNTRiagPBFTj+I81J7A+PAglgu+0OX\n",
       "P4rcCyRbVx5GVrm6MzjV/CFADymyl6FB/n+SEw4oVFo6B3VeISbtz1xoRgGONsZXUpAJSFN65b8L\n",
       "M+6F4vyOCN7+3cv96ljWlMp1rRTaqYmCYaoefwjPsB+fLmy4Nrl8TQGgnFn6IweVuvAiyOrw1yzV\n",
       "NB+HJCHQRECLIRqygDV/T5IKltHh5HZ39TTDCRoKhz8A6Ej0kUm9R4mn1wlg3JaIjbjfx6fO9GLc\n",
       "EglOJmHyro2XoAR3+hDM2O7KEur40dCeFmfqkEEFYLU1stqO0yHxdDU1+x3VTUrKjdUCOICc+fov\n",
       "9BtajsqbTGlQPFUdLABNc8/qG/gqCG1glrSeaFd/2iz0gDO2mJCrNc0J5xnXtGgEn3t3MOZybyC/\n",
       "4cEFIkkBR48ZWEmDVrWEqBx8rQx56NI8Q3NMqwJfgKQsTUIbZjKeiaB8mH4z9tHS5Txx5+WzxxUk\n",
       "8F1stP4XlM8TFa2n3DH++k2MjUfqnWC32pLNE9Mmjc89whcxzuFWzNgcbP5T5OHCo3xGdVtz7oAB\n",
       "+JTGvDByW13d8OoxOTaiTL+/xqFEPQCOVYijG1tOdgtNwcP9qi1OL8CzJ9U0cm002Ty1xRxjFL/P\n",
       "5JcaqNksXb34nJP97zCc5+CqUc3r83SQpHRjdjYJlDcbFdt09mkB3TWYHY4bLk/apVItBeh+5Zap\n",
       "3Y2+QFiO9PK5thTLXp9JkPL7Dfi5FaiTciSQr5In+IYpsa1/gOk4Fqsrko43NfsjEvHxZqzd2+yi\n",
       "NvYF6oOxcT2FEqK/FPzz111sZtGhlzQoL86XHknH3F1jHWkJQ0vY6mWjlrwLfzOmwRftVTRbdqG6\n",
       "08FFOM0YtCd8q4ZgV9///nDQE0iJ7F9DingW17RzGQyuSonySjwdNaaWCtslwjqhIP4dzHnS1nK5\n",
       "OYeYa360OhCJUdSmeQhVpQMtAPqoKS859EAPzLL60P5O38MAagrnWArt3+QmyqfWEWDyiZQm3rB3\n",
       "UYzcsT7N/zmT03z9QpZV30XiPxs6JTv3mdE1jv7UJf7BVRQxUAeW6Yo6pUOSu/G5zUvMhjzPTaXU\n",
       "WeXej2TxEYj3Wjvw6UN8nb5bj69h7XfBNDFcGSsYWdYYn2f8JVCjWDJHV+4rYCWoi1ajfe9WQWox\n",
       "o94LaBqdFGrjwCCNjWjjx1tQj9/fgmYAsmq5a/2AkDX9PQtLPMCITZeEy2QboCRaqRBs5zuUpDTc\n",
       "HbqYaUErcuFXV0V4RjRy6xFPh6QG3fLs5OtQJs5FjpJFiO30kBwHwrdjplivb1ucy9t0TKzzmJ9e\n",
       "jMaCwmZ786FVf9RnQ8YwoRRHWnSYdP5MCOcL6P/iRisxcJjdes1LWdBTrpu6lBr14nTNfPyuUBGJ\n",
       "vs9Dsbi+I9TOj1DHjV+O4tEutK5EIeAU+BPamTzBIu+9pxEc/7tc5/Hw3PaguJAmAvJW5+lkuW+b\n",
       "bYUyBgQzv6zQ9ctabWwQU53ijspoXof/L/iakP6dsJpEKxMOcnJHT0PRA6wmcafEqnFPVn5/uGd8\n",
       "Cfp21XiDTJMfJi1QSaIl2l/0ST1RyicfoD9r944YY7Bz4hURmtts2Y0+r1hy1gmQh9ByNdmduVv1\n",
       "GqWsDB+MV5aQTzgxww6ufiKUidE2kRG7ZWAT04kwAeaoz6j1xzQRmnv/NJZnyAVVCXDd358XuHy2\n",
       "D0rxorFIG8iWj+o3X5wQjBrhxoKOhHHeInUYUMq7sRGEvrZ0ga6xTw/aWb0A+XHSf3grEGXWvrP2\n",
       "Fb5QytqYvp2Uv80d5Rw3KCLJDPaI9C+Q1EoTqTk/vkUdmAV24SPMCgYdYc2+FYilf6tp7tL0jn6u\n",
       "pusnUwJZh/q1e7aQ0dSCetPD7PvrPrGRl2DZ/PwDvSE3k8r/LVCbmQAABQIBn610QR8BNv1XWIjZ\n",
       "ABEH0mV9+Yj9yxvwoOavfWmgp43MS9iglc+w5BSCr5UVFn+q0cCmyd1Lw7+DMTGPCM8ypdhbQRr2\n",
       "fh5PwZ7ckafbiAfS02eXBFL8Q/SmH6aTqtmBeWNGi8qT2DVaYf4iuxf+kuLSSm0pOm39s7ZKjp2y\n",
       "orljDYd//2OvpcVkSyoBrgeFiyIfRiPXwY6HFrC0xE1bcBYDH84mbInGYC6IiuD5eltSCT3e2E0R\n",
       "yIQItYNwBB0nnz/AyH00lMsIa/cAd8lHYCxuSHYvuibYEApa5WUVmnQ4h6TSBboeiXdrjfEBfS/R\n",
       "1e7Q8UP68x6BjVA4hleKrTWatCF9m6qs0iRtnrBUwwl2paW8BcXif/TExMs2RO8p14wG/CX4+DEP\n",
       "PUiwy/zjDl2FQBOdMHzwe0TzEtq7wROLi70dH1LEibzKpQH55l67LVh3opYK0Au0GxoYxROQ0Fvh\n",
       "b3yDIdj0P6lpdSPUDTioZn4ozAC1ViUU3CvWVgaXZXl0AWgL6FGKY1Nah/rzqiNP9Q/NL5F3TV+v\n",
       "VbvfE91jAp93Decgp7BiUwefSf5oKKSECphrlXDrLgNHWl1Ops2yeu9i2GhF9rjisqwrXkA82J4o\n",
       "K9HyxtUNvYLRihlY5O1XU1z/6DcmnYAzzPRchV/xwWg4Z3+UJk02MRgXXQKWqeIjad/H3BvE0oDW\n",
       "OEklRAx54Wm2uds5FdczwgXHTWQIyjwkshN7dzoQ9J46m6EfQpQpXd9Rf9tm1xy9UMCXpqxBTYdx\n",
       "HmzXAhyPsN1qGACTcGj5zf07s5EjccjiRWw77sXS7viV+K70ulxWAaTJYrDjDfAV8h2akKbW6puv\n",
       "ruHi2dSl53twaP+5xZVTuZ1qaNiTw6T4KN8JkmWr8NyW9q9y6IpwOuCeFbEe0UWSWV3B7cFvbhxA\n",
       "CxBtUEw7cqLvT38/3trYmGn7o3IJKwRLV3JftyilT16htvwz5Fb1fnBpJXDcJQetWxXneA4E+2rT\n",
       "WrO7PizDJ1xGsSF3QdI7210jMgbxWyYXM0Mn/FAmPI77YnOlt5FZN6AbvvJ7zSSwgO/4CyeWwSga\n",
       "XWqABOH6fMEg6WQnd1PxYoFJ34qxR9EI5ClUG370ekN7TX4anR+/UhC9NTWyC+rgLGDYCBbqAmqa\n",
       "s7cXIy2nEWYAyUGZuE1XUOXf57nXMZFtDhVgOyReYEdES1a5rP53L8tntdLek4r62n+Dg63MaE/F\n",
       "W5vbJZjYsHOFxVQWbJ9pTPfM2FI3uMviMhslV3iOg6ego9USJPeli9BLZW4B4jUmyVthDQ+Nt7nh\n",
       "pSKGEHWTCdABkSmX+hwCGxT12PoliK/bzV4aEM/fzL5NTDGu8HAl03rZxvawuMK6OVzY1JMUrBD2\n",
       "1MukV/5Tx8ebDsaUdnlQ0242I79fI5rnDXpQ1SVfX9+N/YonXQJYG7qYt9ek/d57ahx9pdCMx0r0\n",
       "H2Zktfh+1YHrfj+TCVREMo2hU1nNyq2T4sCtF/R3VwuwczjO0rO0TkGNNWidVRj1yoVY4D3rnRnB\n",
       "9PYKmzm2kFnQhMubVT0HMF4aeb28pLRm8edFZoo1XH6QyHUE4A7gvq0ky5pNkSw2muOz2TYBuvah\n",
       "evExT/YAdw6CzS/g45FOr2gBQe+Po2b8whNbxyb23+9+yDTxBkRYo6BQJ1dOVhgsf+UKrTPsl80r\n",
       "VgKK12S4Yv6vSTC0Zw0hAAAFhgGfr2pBHwE2KdPYoBWACIPpMr78xH7ljfhQc1e9aZFjE3kv+N4F\n",
       "TpgJCq4hOnNn8bWjA7Me//mQnQ3peasQR2GAw0eKG3Zc3f6p+fSfoeGSyk6T8qGyi0h8dQVg92lc\n",
       "4MNUDrwkDTWABiwVhTX9lzn/3ks7Wk4luWFLMIrSg9omlRydQf7n6Otu5rCGZfvp3DGa5X+DwPus\n",
       "Kghz/o2v7XKBnEvYRLDx/hEcMO50RFXgFf5jFP6Flo75HdR5P2lpo39pJwxVAdFqkYtgOE+9SLiz\n",
       "mSbtA+gQmwXpiT88pWzqgfDQpFudGSwHR/mBTOGMXxhK7PJ1mZW0fUomT2Qu3cxvP1lkQbqJSY1H\n",
       "mrMv+3BfvgMeJ7OELRDtnEw4DoM+Ek9su/coxO7ngIDz3vPT+BkFdvbGuywrOZdf9ivhpjKyAxPn\n",
       "Oknatp75HbKz7K7IJIc+q0DJyLCPbMmTDdEO2jGxwsbvHS+sjM9fMp6MkEJIDOnFqF+7tFn6s3hR\n",
       "Yq+BC98MTw/2Qb4OQZ28UVmrGWTReHEWFw7hkfZ9lLd6FsjAr5dh9Eiy2rBSDcckwxYJhRkxWpPh\n",
       "BVDqGVen8s2HXl55VKg5raq9yGb5LvDlg/WYGG24nLyZWxYenO2ZodjOP/xP5a4DbhKUjvF20HwY\n",
       "rgcxNwBoX7PXnFRf/ww6h9izdoMn86AQ/cbsUzhoTy6ia23l8U0E/0rs/SHr4LhW1vYvTWAXCw3Y\n",
       "rRWr/KPsZVONJLQww6VHgX30TNdFSFCGviYNqCTv0M5T1wVoAfnqf1uTbUQN4gowR71OyGEffQ1D\n",
       "b4oRmpsrpdgeGifnSKpT6UUXK2yNzMmF0mleL2tV6rEXfHuaYI9l5pnEQfCAC6RAes5zJqEs5mRA\n",
       "yoSkisvh352nT64gYw3xHuZTCKPXBHM17069qv86/t3hyizoBM0NGoDx+LDwm77+jWFtrfxb1po8\n",
       "dSCGhD8FVzwRxRG/o+TU6GGV/6SN/aIMebvibSlzd9fhADyvl21qo0ErBIikkGxnphJSZNuDr4sc\n",
       "encOwAiBSKuT66iMuBP2mAAJeX6l4KPcXvXbfyVBUmUbxrNoLfH0pb0SFlPRqf0bKMDiQv2jUtMi\n",
       "zXBL9Szx/aojhG3hHEuL5mC1L44Bku/WRQFhI/sXXbCGwS2GzO1Bis54cJjQ3uYIX96gwUYAJrpm\n",
       "XaQglambSlwOnEnlcPc5t+kL1sl/w/gXUI9xnHklN8ccCfP+KDLfa2fX67TRhO69mUW/WfFjpuLf\n",
       "xE69pNwTt+UTjjl0feaNtsmj+QtB+WllupoK4ZLxhC01ddOIJDJsLPiYEiOSKFUS3zCR4mXRaPrX\n",
       "a42Y8f4h/GltSvFE43W8EWZ3ojg9cleBSXWkc90B9L4X6X9xeiEnN7siyhonzWS4dsX3KRmLnI4O\n",
       "UDVZ9JaIsQQkF7RpztX4o+EAIGQB4E/iJ5tN3YGkhnfkWCeM7U6LlbWgFrKTPQfEQ9IeZWy7dR2I\n",
       "6sONVG91q4KSrWBQkm00dZKW7IuwiPIUHhldNI22vSG+lUdBmxrG963vVUPWvyOAsxzVs4w5pQAZ\n",
       "CcJvnNG3rqD32Jw4ulJb56fGbc2KTZ69m5NUMTtZAWKYSgicivvAtvWw1oMFPNGDsQ0cPT1W4IP1\n",
       "brbkAtR3cWawf/BCaX4K919ydmlrjAfHSwyO04IwBn254TY/BcSzqkmPbWaiJSvsr55X4h9gzPYD\n",
       "3yK7ZCQYYOsZt51bddFd5s5kr5vJTT/484aNgrGZM0XpYr/IR7ZleP0RxrBWMaOhnj1Ub/uwWcpF\n",
       "Pg+3GPN0i0i4SaotMk10uIy9cvIFa8tJDs0UmHGQdh5XFI1urq6EMX/i3i0YUlPFAbaLoaepYNB7\n",
       "yhffNa0O1MAAAAdWQZuySahBaJlMFPBL//61KoC++G2ADatpWx1F8Fg96oW7vg0hyvfqC8MMa7z7\n",
       "jn03IAq6fsFYhHqoRl6iGZ8JlivREvZ8Fnp8haFy0Pz1qaVGyT0Odpm1HEpWj68marbSy2Alamme\n",
       "TPE1xG5+RQ2r08F/U3Nv5OsaD0d3l5SPJpJNZM1bVdFqf6l+iFgRJl+951gvSEUu8asaxMdGe8j3\n",
       "l0RFnRYkPCX4cK2Wdx5/ejWFS0f6G06K4U0a227TBYkpFl27zG4ggreYRnOoP+rUpXgO6RNv7kTB\n",
       "5VPxCjDtZEXV3iw0ivf26OVp+Vxu5gojp9MaWqk5CNl+AhQFxfuUsgwyLwAKmwgtCkJZtwuPKqst\n",
       "jF5ASduG1geHx3v5SWEfRBC3MlZ6AlBU9ocOhsnhGBudj2BoxPTGuGbFwI7Wi5DJRNo3m+zB87Cs\n",
       "d0PRVSGk1d3fG3+SUsmlxFgITm+mGQu5CQPpm7BdSHFeNSrPlshRocGLsEqA6E/CVnEpXp+M8Dg6\n",
       "3AJgyFt2em6gKgPvyNB3UgW+BI0BlLI+6VXd5j3fAMABIj6qWSTFmYcsUriSM6OV6FfBEDLd9IOx\n",
       "5MLZ27WF42cy+5K63/yFuqPXP5FMLtOh7obmjqSqCyiH428eSmqJOWkSfXXtiHo2Pbdp3dkRSgCF\n",
       "Yznr/mH5WeUgYz+psQSS7w0OLqjJ4uE8Jhrg+UF2wQD0mSquLxeF3iczdiqTFqQm5tn/LOWUMOMw\n",
       "z9oNC78dRQBMsxY+NlE+xelvDgyWQ5kR7lVIt2pQkazxtQGPpmTWry7heTz9k+nnk229I4cft3gR\n",
       "WinclXPeU/OZCgx/ieADJKWtbPMSBS7WgFcmpOV6JGtWthy+JykO9sRPDcAQN4U27l065aFPxZRf\n",
       "Uo1Q3hWALLqqHUxqWpl3/4NNjw9lGuQcguT8tGG9AIHQ48WOJPGHPthW75Ots275sGpWH/Hj65I6\n",
       "xLRV4RfsVBMkX76bhyOZaKLojOiOGtAVIP/udTHwNRPbqfkvIuBWjlaw7CqVCyinfEXo0b2o5t7Q\n",
       "Rf1yd8dyXSPlAZ+5WERWeRRZ9UlF7Z6/9Spf3YfdbhP2LJp0bSKhLy2fklAA9qcqk/uC/MSE/yVL\n",
       "xxXdlmSlscfwSD4RhO6/2malaS+LivSo17Uj/rTUhHfrbKiNipjbT52XMO8nMymPbwuZileUBoEU\n",
       "LaEaE4Ss2WKVlwDx5p/y380IYEvOUii5j8z0oq7sUjTa/h6z2vQIcpia/E9cA3G2EqAVNnOGyL6b\n",
       "a7p3k+U06rayyTvZucxUCumtWAO/YdUYCqDjCkuu2XRgqJ8qbVPnRco6x/ovsspKX+zQTZufhY7B\n",
       "ZfXvFHQ7gKMfYYQG0gnuCcCMTIbBLtA/JnUC541yfnCS/0+yegyKMsy4h1JItBIazn7GcVKQMASI\n",
       "Pnk1pQZRhA8wZs8VDk4SdcuanAi1sFZQzxLZjomsWSOBvA6Q9F2reFjNGavabASUWxCTnpKq2FIQ\n",
       "/yt85dQ0nYQOwtS7dKUkIPd3wMHM8xSWjwW+Gtf96dzPh1MzE88lFslR5AWxEJT3xfPP1HUG5M8N\n",
       "4UgZzV3wTl4PMB+98n1Eovl/8IJYOJrjnbylnZIKbDwOAbIrDg0Vow0z6dmdCSn+UZ/jbMHVWG1i\n",
       "On3CpLAvNksEW9D5OwEIEmtjrBBzkeGoYYMWFvx/cXGB6fNtBCDkqRfB8NAtpw1vXT1dKTpncqm/\n",
       "gi69EZv6PqBiRqjJTcwejBCqrW764AqgxwLiW1JqLrAiCyy7P+Gr+OT9ab9IaPYDdCrpoPD3xAV2\n",
       "gIiQhFylNVx5Q2cGrk+a6wbmE8LdKny3f00dQpWoNzoem03ZbgMLaJpTXb6nuZANFtA+XSLMmBd7\n",
       "pl4tvuRAN11n/hL1Tx4zFZ1IFEnKoUetO9HrufSAvmQNMOnexgsnwstO9GEQEE6Ya4LXxH/rAUVA\n",
       "0h5TLwTg30nO/azIael3RjkY4UST+JlRqqImwrXrNkrvGx6Fguf5OhVgCSpQWiCcZLwi+crEWGRZ\n",
       "D8LOgFO+WzO4TBU/56TtORh8qWccDRKcFq6K73W1FjGqh+mt9pcbPqK2z9kFlQTwj5Pabtyh9mlD\n",
       "6NjOjVG95aoaJMTqhG7NGjEZGG0XIpHPqOgXOZ34g1U8C09VfST/931rUAV0M3ltHjV+HSbUxlTf\n",
       "UBImWBIPMqeGCE3eAaoUrUkCmbygvZNJ3XSEkzFXa4W060s1tjnfgCm6R+J3V1hihDGGsexFKdMu\n",
       "GCTskhjbfVJh3J5KZGAuOY5MJIq7ouRQZknKTgPP3HSv3ZNJy4oNYskTvPFgx0F2kO5hyzzpdSUV\n",
       "sCbBt/BdYiqYqlgkJ7GwUolg0H7245vebbmVPad6/WvwbhbfADY20I+mf40P1IXErZn3vbdi1P/Z\n",
       "wqUi0MR5WYqMFsZ486djscGuVGbYoBlf/5drzdrr1/aWA9z/ike7WTc3wQ7BN5nkYIQVo6xKdQcs\n",
       "Ja1+mQhyRWmIAAAGGQGf0WpBHwAnpNUIAIg+fJwzm7SUvYyQ+Z6V9EJ6MwkVexC8x6igQCOUn3iA\n",
       "JNZ+45oAQ0So1T0nt21j+5+Kq8XFuD6EmK1KnAZX+LGaUPZ43E5eSLK9sREfmO0yAlJt7roT9o/d\n",
       "9854QT8Ez4hK/UHNSJlNt5HsgZnjYWbJYX7yl6u9U+S+2a7ycu3sH9eM69Rw3edDZqc2lXJIOpsx\n",
       "jX5MXTX7ASO38tygwB051BtVY1RfLMIB0enc8YP9vUzbWjGQ5W7BFyLnX40flJsSVtOAU07/l3t9\n",
       "f++sY2AyKyv3xzugPI6SILIp0dXMsuJvmYnSyTH/6XtNitaOm3+qPbNQO7GfS8N7ohGysFb2fgv7\n",
       "JHk8rWaPbkCPoU1GHW/4Ye0jhdXIXAyhDMrU2RXfy2fuGu02g/wSNxKQT1UpWaC1SDO6RXVKVeKf\n",
       "JUfL3xrG7FaJm5vMTo1Nz4OF9MfKm4hPsjEXz7NrZGKW9r0ElfyIs42lggb7T0FjOMrPPg/xPsEr\n",
       "ydz/cDtxkXndgpda6TvpBzyQ96AH1dgoDcQkBizzFyEbU2VzKsX2HyYoqsjBGqcqzKiq4mY7uZkk\n",
       "q6dmfgmfdwulVYwKrECJYhz9S7AEvyN1D7vCOScIF7n0b2yf1nrZRYXSxFQ7nxjUpZI8Nk9ID9qd\n",
       "sYnqwIn61eX2HqUqTZbOZxR2qaxt1PtNso7YzhcdRaIO6DfD2LgWEXrBY+3coBveLm7szh8vpqKb\n",
       "oqAXGz89ZWrRix+t71geBnzjdiogODihJ2Nkv+2U7Adjp9QicMsT4s1FFxO4oVdXj9/RyRrUvTH/\n",
       "2jq5xgrNp2f7ItKoOV5CwA9LXR/TjLlBfp4XcFALf9V6eOKxdwmW+dCpY4ff4OYuEmHAcpNzS6gI\n",
       "Eim6tQgo/oH+g+Zv2HDr5oNr6n3z1Sbyp7drvRn5cMpgumaQDN6T1u2DLgL2JvgmI/cvucDjUzfu\n",
       "sRKrqaotnPDlVDzz5athDeBb+/XxFvBT+9vbbKMKvZv+fKL79dt5ccbqZ4T/LKNNdx9eA8husIIq\n",
       "UZ/Fdgq89Wt88yBipclxOO8qQaM1P8O70vT1xwZvkmbjoAsCpKVf9cKXuVVJHB2N5iPdwru4MFtD\n",
       "g8gvUrvesfd2NZmSMQf4u5ht/pIn2gZd2yIJh0SOo4TtIaUvdmgsD/yIQG+rHeP+Gr7hSfHONu4E\n",
       "6Rkv0e9cV28OXe+llxnijAVrfl4tT05Ej7Q8QZWzsXUrU5z6LSuBCIGAYyg22Gz2FR9u7Lp1EM0l\n",
       "OWkdD7KKi93xg9bCTM76GtOO3hZKU76lEVte6nGY51n4z2q8BDTp6XcmnPW2h8OWyGRItfGzWx3E\n",
       "m5m5qg52NqpuBrcSabKj0vwb+w0gcbOcymOnbk+Iu+JNaLxmRrTs5ItbBq9WUa3Bi4U+DIvFvzhj\n",
       "2HnFFX3S0skAtb4zUwPxyuSBocRtE6OY1GzrOaV6woqshLxZ2H4IvylTYkqN5HutfR7p4MkcjleG\n",
       "xyPKuc6P8MjIT3MBtgWDK7WM/s88X3Yek2Qtl3V3tE7YGW0ldvw1IuVAxfbQvyw/CbxrskcBwpbU\n",
       "xBTnMqzKalTJdVNxVnk0TNyvVeo/dNF2LR/liXDmd/v+v2/FrGgyHgi4iIjh0eu+R1fMuCRtAxCi\n",
       "Bvokdmp+JVxSmRGT94E1a5FQphyqOUOb3rDxVYtftwsEkiJP+VuilcvV6EkO4hMQ9ht70ih5DUgf\n",
       "PPj71xc4V0YJ87JlhuuaLGfebfHr3+o+qhEgwFKbECAKzKzww6eSGoBhLjBUiQ/+vZ272aFIExEC\n",
       "Bo0MikQgQPW6i+5Vw+clfXyjGamV4AG9+UN9jOhJJPHQhY9H+q/BwV3TsZzI8Y4JBWE/KmHanNy/\n",
       "z/lJrDVk6FQ2uJjQjacwvihXMNhRZ/XZ/cXd2tphSs//VrtltH3ch4w8oeBgyFdZm4Q1akzTZh32\n",
       "ORh79nOg2MpTw86ynU5nA6YN0eJuETj2YvmUcHn1aciU5dRfBt5HEzJbNN2Mqf2yenmr5O5Zrz9e\n",
       "QGsUy8e1T/DWZ1FwueyUfdByTWmn1Ay/YDWn6Rbk0ntghjUAAAclQZvTSeEKUmUwII///rUqgOOG\n",
       "pwAZGN8ACH7hi4WX8LupSqqJXXZXqHSz+Ge/ewtX/kkE6EgHMGtalTGpDqy+GV7zRNfXGbSsAHcZ\n",
       "+RN+32UHRptJXNHa31GaU5ILcNaAAXG5ps2mGj6p+M1RqbDa+1cwfTwW1+3w6pnNK4eo8Lu/6ll6\n",
       "HOcTVnUXWeQzE2XDu6nkGNXdEwdzDny6nEzQxhY4pVqw+hEzBPN4dq/LBoYFhRGmlG905uswhyyR\n",
       "p3u0P27/oR3yegIX+EjSk7kos4K1c/G8IZXAm4HmCHLxowCrCXBxCmLu3n5G9p8pWJz6gIGAH78E\n",
       "UraNmPOKHawH5uISzg0JyarJU7sJFDG+NOV5giYvPgUuVK7yTcGAkQMJJJhyc3IUvcFs+jz56cO2\n",
       "y5JoQ5IsYbk82UaWLtXcjPGHJzP9x/qDaSXfslcWqOdWML85agCzP22j+fXICbA8c0xjhqT6H54M\n",
       "DM6RnEmNg82rjLzGv2B15pguVitdnCT2TLBaMwaX0GPWuNLLv5QKgCUKEX5EhnuBTcpxxsDJS6B2\n",
       "WyvCjAaLPSW6cU6snELM2bx+YqPl8Wqtg5XwGEDO8qKetdGUFLxga5c3Ih2jNbzpL6sRmzA6Tnug\n",
       "c4fBXePGslG3FTsNk5j6Sqivh/MVsDfvTlU4yYNEbOwd4TpBjPCzmkePhIitSol8/Uc0lkWpRlGl\n",
       "JkuFiwoMOqzzRM4od4FvTy6xTBhUedUlnuAZcWUNRA8SWwGwG32UcsVIMRhcsNYEHODQuQcZgQ+b\n",
       "xi43p6e3I0dlQG0BKmvj9RrOWVDKYot8rODDFAyGyevftcZkWveprP5MKga084l+dg1rFBqDoj89\n",
       "DzfkVKKf0xES/Nx+pyuH7Uw2Ii4og708pkPED+jjLwREm06D2K0c+/wrSIc0vwFK3VHGJ7S0uysJ\n",
       "id4/tBtQZrqqWSOOHIu1I9+EznjmOgCEACRj7Bag1zWakBQfx+7YydQ9tQ69FZvKB9jCnarorq2P\n",
       "7ye8qiOsy8BaaV+58Dnu8uXM8x3ahJNxyqSnyPwloF4aod7LseGtpUgKZT0cP6HNJh1n7eZeZf1W\n",
       "iOdORchAcL0nHrHTaezNdyZRe3MYgtx3Y82eke0nX17geVLJ8Uc7haHo1dBK2KIPiJmT83m9B6hl\n",
       "mJYEj1OahFhDJ/4degdGGfqX0jQ9HjqZstomCFgu9UPkIlEQu4Mk2aLN9GHSASw2xo54piYUQUzN\n",
       "irXHAjDyFYhpo1hFyh4WSvP2Na7r7VZYwUe1XnCJmSem0mVMRHOxTkcbSWnvitGN0uljzgjDUK4H\n",
       "RHq1fJdNluzYiKvLMd6/U29GC0lmCb/ouOx+pmFrpQNmv0AMT7hBAweFm9uwZFMtLoJMDiXKdcyP\n",
       "hQ2zYUwHQBdTBalPBBSCtrTfyoegOn/xhp73I5qhoXPGnIreKOB/YH5wf8F9Up8pIkCNqlwOqTgQ\n",
       "5DOXxoh3w4NW4fLtO36Gg2q0MU30XP3r4lVr00MXo/dDl7zRLtKS3pfqay61lN4Vtx2qoqmB0npQ\n",
       "z9JxxmdJYoTeGX8VJ/uo2JiitTURL8B3aoaY0DyxlOO/0z2Pb9YJh1OPHioh7BPbWrCSsps1wPDj\n",
       "f9C3gpHwV0b/pyxIjYAf82F3uKxxuo9h+lLk5I3efKt/phq8voHsuuTqccWGPmMFI/XyoL3ZKOxP\n",
       "2rtv/BH9N3xVjLIoKxsKwycGuAyBjSggA6eYlkjGRzsxIsA/ZoxpFzVLBoeXvkg9XfzYfB/pWRBp\n",
       "M1hNaKtoGc1st/MDJ3eJDv/Ulo+QCVILwgTovlLCkfSlcTjkekfwXpzFkYipbIpbGWteAR8u329z\n",
       "rabvv7gKEeQiE618kmeVT+7DIS0w4tSak/itraOtIZAotTJNkKAiy3pu0hC17h9L4vk53aCu3D09\n",
       "+eCqsJKRyq9lHL/Yques0r3K0CVbCfhV25LItUlKEGBmUJU9nY7bs/nNpEcEkK5qSvq0EPvOAbs0\n",
       "uXMOUOG21WqIR5jnDuFWuMa2apjSdNWgdWm7qL+2nXh0yrnYoxJvQ3KelPlwZq0MhRxyKjZNVYqg\n",
       "jcg/mAN4sneNE6aoJUO0+Icx42DZBo/iWV8UHe3ucGjflK66yNMazPgkNx23SmCKHwhKATZlQU3l\n",
       "A1cH9uEgle9PXOuZDWuJeFjSF00m4yJWSSfirms5HS9nNof8ZDoCU65YVqVGC+0WQNzDXmZKFS9X\n",
       "OkDmMJ2CAZI6Nayc8/jRqMK0ruj2mLUneqMMG6Tiwl9/hfk1Q9/v/98x+47E/WSbDWIzpfwGT2mD\n",
       "ek5TRhtS/zq+M6Uja9C3TV+bacCQgqEbmzI8f3sKU5yFs/xXb+2fXkkYENmrRwEWo6AkTYQgRPtm\n",
       "VE49u0dlm/JbnxyURkJFMGEakFHyKSV4UAQ8Cw3PIcY7oVlfvTc8Rf5cfoAAAAPybW9vdgAAAGxt\n",
       "dmhkAAAAAAAAAAAAAAAAAAAD6AAAF3AAAQAAAQAAAAAAAAAAAAAAAAEAAAAAAAAAAAAAAAAAAAAB\n",
       "AAAAAAAAAAAAAAAAAABAAAAAAAAAAAAAAAAAAAAAAAAAAAAAAAAAAAAAAAAAAgAAAxx0cmFrAAAA\n",
       "XHRraGQAAAADAAAAAAAAAAAAAAABAAAAAAAAF3AAAAAAAAAAAAAAAAAAAAAAAAEAAAAAAAAAAAAA\n",
       "AAAAAAABAAAAAAAAAAAAAAAAAABAAAAAAbAAAAEgAAAAAAAkZWR0cwAAABxlbHN0AAAAAAAAAAEA\n",
       "ABdwAAAYAAABAAAAAAKUbWRpYQAAACBtZGhkAAAAAAAAAAAAAAAAAAAoAAAA8ABVxAAAAAAALWhk\n",
       "bHIAAAAAAAAAAHZpZGUAAAAAAAAAAAAAAABWaWRlb0hhbmRsZXIAAAACP21pbmYAAAAUdm1oZAAA\n",
       "AAEAAAAAAAAAAAAAACRkaW5mAAAAHGRyZWYAAAAAAAAAAQAAAAx1cmwgAAAAAQAAAf9zdGJsAAAA\n",
       "t3N0c2QAAAAAAAAAAQAAAKdhdmMxAAAAAAAAAAEAAAAAAAAAAAAAAAAAAAAAAbABIABIAAAASAAA\n",
       "AAAAAAABAAAAAAAAAAAAAAAAAAAAAAAAAAAAAAAAAAAAAAAAAAAAGP//AAAANWF2Y0MBZAAV/+EA\n",
       "GGdkABWs2UGwloQAAAMADAAAAwBQPFi2WAEABmjr48siwP34+AAAAAAcdXVpZGtoQPJfJE/Fujml\n",
       "G88DI/MAAAAAAAAAGHN0dHMAAAAAAAAAAQAAABQAAAwAAAAAFHN0c3MAAAAAAAAAAQAAAAEAAACA\n",
       "Y3R0cwAAAAAAAAAOAAAAAQAAGAAAAAABAAAwAAAAAAIAAAwAAAAABAAAGAAAAAABAAAwAAAAAAIA\n",
       "AAwAAAAAAgAAGAAAAAABAAA8AAAAAAEAABgAAAAAAQAAAAAAAAABAAAMAAAAAAEAACQAAAAAAQAA\n",
       "DAAAAAABAAAYAAAAABxzdHNjAAAAAAAAAAEAAAABAAAAFAAAAAEAAABkc3RzegAAAAAAAAAAAAAA\n",
       "FAAAIMEAAA5xAAAHfAAABVgAAAkmAAAHtAAACJMAAAinAAAJRAAABpgAAAWfAAAHMQAACJUAAAd7\n",
       "AAAG+QAABQYAAAWKAAAHWgAABh0AAAcpAAAAFHN0Y28AAAAAAAAAAQAAADAAAABidWR0YQAAAFpt\n",
       "ZXRhAAAAAAAAACFoZGxyAAAAAAAAAABtZGlyYXBwbAAAAAAAAAAAAAAAAC1pbHN0AAAAJal0b28A\n",
       "AAAdZGF0YQAAAAEAAAAATGF2ZjU4LjM5LjEwMQ==\n",
       "\">\n",
       "  Your browser does not support the video tag.\n",
       "</video>"
      ],
      "text/plain": [
       "<matplotlib.animation.FuncAnimation at 0x1f58a922f08>"
      ]
     },
     "execution_count": 27,
     "metadata": {},
     "output_type": "execute_result"
    }
   ],
   "source": [
    "anim"
   ]
  }
 ],
 "metadata": {
  "kernelspec": {
   "display_name": "Python 3",
   "language": "python",
   "name": "python3"
  },
  "language_info": {
   "codemirror_mode": {
    "name": "ipython",
    "version": 3
   },
   "file_extension": ".py",
   "mimetype": "text/x-python",
   "name": "python",
   "nbconvert_exporter": "python",
   "pygments_lexer": "ipython3",
   "version": "3.7.6"
  },
  "toc": {
   "base_numbering": 1,
   "nav_menu": {},
   "number_sections": true,
   "sideBar": true,
   "skip_h1_title": false,
   "title_cell": "Table of Contents",
   "title_sidebar": "Contents",
   "toc_cell": false,
   "toc_position": {},
   "toc_section_display": true,
   "toc_window_display": false
  }
 },
 "nbformat": 4,
 "nbformat_minor": 4
}