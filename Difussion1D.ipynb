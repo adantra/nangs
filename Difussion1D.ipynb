{
 "cells": [
  {
   "cell_type": "markdown",
   "metadata": {
    "colab_type": "text",
    "id": "view-in-github"
   },
   "source": [
    "<a href=\"https://colab.research.google.com/github/adantra/nangs/blob/master/DifussionD.ipynb\" target=\"_parent\"><img src=\"https://colab.research.google.com/assets/colab-badge.svg\" alt=\"Open In Colab\"/></a>"
   ]
  },
  {
   "cell_type": "code",
   "execution_count": 1,
   "metadata": {
    "colab": {
     "base_uri": "https://localhost:8080/"
    },
    "id": "49OBlKX_2X0p",
    "outputId": "eafec893-c2c7-42ac-e12d-8d33fe9473ad"
   },
   "outputs": [
    {
     "name": "stdout",
     "output_type": "stream",
     "text": [
      "Collecting nangs\n",
      "  Downloading https://files.pythonhosted.org/packages/4c/cd/7eeca93e6088a85d18ff99897743aaf429c94c12049e56f2a1e8b2091656/nangs-0.1.2-py3-none-any.whl\n",
      "Installing collected packages: nangs\n",
      "Successfully installed nangs-0.1.2\n"
     ]
    }
   ],
   "source": [
    "!pip install nangs"
   ]
  },
  {
   "cell_type": "code",
   "execution_count": 2,
   "metadata": {
    "id": "LyXPy8I92Z7g"
   },
   "outputs": [],
   "source": [
    "# autoreload nangs\n",
    "%reload_ext autoreload\n",
    "%autoreload 2\n",
    "%matplotlib inline"
   ]
  },
  {
   "cell_type": "code",
   "execution_count": 2,
   "metadata": {
    "colab": {
     "base_uri": "https://localhost:8080/"
    },
    "id": "2tc_1Iyo2lV-",
    "outputId": "86ec4f75-859c-4d42-c6cc-e853912747fb"
   },
   "outputs": [
    {
     "data": {
      "text/plain": [
       "('0.1.2', '1.9.0')"
      ]
     },
     "execution_count": 2,
     "metadata": {},
     "output_type": "execute_result"
    }
   ],
   "source": [
    "#imports\n",
    "\n",
    "import numpy as np \n",
    "import matplotlib.pyplot as plt \n",
    "import torch\n",
    "import pandas as pd\n",
    "import nangs\n",
    "from nangs import *\n",
    "\n",
    "device = \"cuda\" if torch.cuda.is_available() else \"cpu\"\n",
    "\n",
    "nangs.__version__, torch.__version__"
   ]
  },
  {
   "cell_type": "code",
   "execution_count": 3,
   "metadata": {
    "colab": {
     "base_uri": "https://localhost:8080/",
     "height": 37
    },
    "id": "rTta38DB2obV",
    "outputId": "29b6d081-f188-440d-94cb-29f4d9968717"
   },
   "outputs": [
    {
     "data": {
      "text/plain": [
       "'cpu'"
      ]
     },
     "execution_count": 3,
     "metadata": {},
     "output_type": "execute_result"
    }
   ],
   "source": [
    "device\n"
   ]
  },
  {
   "cell_type": "code",
   "execution_count": 5,
   "metadata": {
    "id": "W55VlZAO2vcY"
   },
   "outputs": [],
   "source": [
    "alpha=10\n",
    "class Difussion2d(PDE):\n",
    "    def computePDELoss(self, inputs, outputs):\n",
    "        p = outputs[:, 0]\n",
    "        grads = self.computeGrads(p, inputs)\n",
    "        dpdx, dpdt = grads[:, 0], grads[:, 1]\n",
    "        # second order derivatives        \n",
    "        dp2dx2 = self.computeGrads(dpdx, inputs)[:, 0] \n",
    "        #dp2dy2 = self.computeGrads(dpdy, inputs)[:, 1]\n",
    "        return {'pde':dpdt - dp2dx2}"
   ]
  },
  {
   "cell_type": "code",
   "execution_count": 6,
   "metadata": {
    "id": "Wuq89V6s3dOX"
   },
   "outputs": [],
   "source": [
    "class NeumannX(Neumann):\n",
    "    def computeBocoLoss(self, inputs, outputs):\n",
    "        p = outputs[:, 0]\n",
    "        grads = self.computeGrads(p, inputs)\n",
    "        dpdx = grads[:, 0]\n",
    "        return {'gradX': dpdx}"
   ]
  },
  {
   "cell_type": "code",
   "execution_count": 64,
   "metadata": {
    "id": "nVKfDt6S3hGV"
   },
   "outputs": [],
   "source": [
    "class NeumannY(Neumann):\n",
    "    def computeBocoLoss(self, inputs, outputs):\n",
    "        p = outputs[:, 0]\n",
    "        grads = self.computeGrads(p, inputs)\n",
    "        dpdy = grads[:, 1]\n",
    "        return {'gradY': dpdy}"
   ]
  },
  {
   "cell_type": "code",
   "execution_count": 29,
   "metadata": {
    "id": "3Utb855S6jn5"
   },
   "outputs": [],
   "source": [
    "class PBC1(Neumann):\n",
    "    def computeBocoLoss(self, inputs, outputs):\n",
    "        pbc = 1\n",
    "        p = outputs[:, 0]\n",
    "        return {'PBC': (p-pbc)}"
   ]
  },
  {
   "cell_type": "code",
   "execution_count": 30,
   "metadata": {
    "id": "rvzoV1AWGmUc"
   },
   "outputs": [],
   "source": [
    "class PBC0(Neumann):\n",
    "    def computeBocoLoss(self, inputs, outputs):\n",
    "        pbc = 0\n",
    "        p = outputs[:, 0]\n",
    "        return {'PWF': p-pbc}"
   ]
  },
  {
   "cell_type": "code",
   "execution_count": 7,
   "metadata": {
    "id": "IturBEIS3jyj"
   },
   "outputs": [],
   "source": [
    "pde = Difussion2d(inputs=('x', 't'), outputs='p')"
   ]
  },
  {
   "cell_type": "code",
   "execution_count": 8,
   "metadata": {
    "id": "v6s9koba3mHJ"
   },
   "outputs": [],
   "source": [
    "# mesh \n",
    "\n",
    "x = np.linspace(0,1,100)\n",
    "y = np.linspace(0,1,100)\n",
    "t = np.linspace(0,1,10)\n",
    "\n",
    "mesh = Mesh({'x': x, 't':t}, device=device)\n",
    "pde.set_mesh(mesh)"
   ]
  },
  {
   "cell_type": "code",
   "execution_count": 9,
   "metadata": {
    "id": "OkCZuKCO3o1C"
   },
   "outputs": [],
   "source": [
    "from nangs import Dirichlet"
   ]
  },
  {
   "cell_type": "code",
   "execution_count": 10,
   "metadata": {
    "id": "FNI7VwAX3tN2"
   },
   "outputs": [],
   "source": [
    "t0 = np.array([0])"
   ]
  },
  {
   "cell_type": "code",
   "execution_count": 16,
   "metadata": {
    "id": "kP0TCEoD3veq"
   },
   "outputs": [],
   "source": [
    "_x = np.meshgrid(x)\n",
    "#p0 = np.sin(2*np.pi*_x)*np.sin(2*np.pi*_y)"
   ]
  },
  {
   "cell_type": "code",
   "execution_count": 19,
   "metadata": {
    "id": "1h1r1FFh9TXV"
   },
   "outputs": [],
   "source": [
    "p0=np.zeros((100))\n",
    "p0[:]=1\n",
    "p0[0]=0\n",
    "#p0[47:53,47:53]=1"
   ]
  },
  {
   "cell_type": "code",
   "execution_count": 20,
   "metadata": {
    "colab": {
     "base_uri": "https://localhost:8080/"
    },
    "id": "cbRFGIf4s5pQ",
    "outputId": "dac89da8-e5b3-4059-b832-4f99ecb344ad"
   },
   "outputs": [
    {
     "data": {
      "text/plain": [
       "(100,)"
      ]
     },
     "execution_count": 20,
     "metadata": {},
     "output_type": "execute_result"
    }
   ],
   "source": [
    "p0.shape"
   ]
  },
  {
   "cell_type": "code",
   "execution_count": 25,
   "metadata": {
    "colab": {
     "base_uri": "https://localhost:8080/",
     "height": 248
    },
    "id": "t5gEEWsX9VdN",
    "outputId": "d09e02ae-448b-49ed-f6ae-672b8a56b6a2"
   },
   "outputs": [
    {
     "data": {
      "text/plain": [
       "[<matplotlib.lines.Line2D at 0x7fd0b8243760>]"
      ]
     },
     "execution_count": 25,
     "metadata": {},
     "output_type": "execute_result"
    },
    {
     "data": {
      "image/png": "[encoded data removed]",
      "text/plain": [
       "<Figure size 432x288 with 1 Axes>"
      ]
     },
     "metadata": {
      "needs_background": "light"
     },
     "output_type": "display_data"
    }
   ],
   "source": [
    "from mpl_toolkits.mplot3d import Axes3D\n",
    "import matplotlib.pyplot as plt\n",
    "from matplotlib import cm\n",
    "fig = plt.figure()\n",
    "#ax = fig.gca(projection='3d')\n",
    "plt.plot(_x[0], p0)\n",
    "#fig.colorbar(surf, shrink=0.5, aspect=5)\n",
    "#plt.show()"
   ]
  },
  {
   "cell_type": "code",
   "execution_count": 26,
   "metadata": {
    "id": "8pM3FPKv3yMj"
   },
   "outputs": [],
   "source": [
    "initial_condition = Dirichlet({'x': x,'t':t0}, {'p': p0.reshape(-1)}, device=device, name=\"initial\")"
   ]
  },
  {
   "cell_type": "code",
   "execution_count": 27,
   "metadata": {
    "id": "OXFa0Hpi30nP"
   },
   "outputs": [],
   "source": [
    "pde.add_boco(initial_condition)\n",
    "#p0=np.ones(len(y))\n",
    "#p1=np.zeros(len(y))"
   ]
  },
  {
   "cell_type": "code",
   "execution_count": 31,
   "metadata": {
    "id": "Hi6Telpj32z3"
   },
   "outputs": [],
   "source": [
    "pwf = PBC0({'x': np.array([0]),'t':t}, name='pwf', device=device)\n",
    "#left = Dirichlet({'x': x, 'y': y}, {'p': p0.reshape(-1)}, device=device, name=\"left\")"
   ]
  },
  {
   "cell_type": "code",
   "execution_count": 32,
   "metadata": {
    "id": "i-gJ-qWG35HC"
   },
   "outputs": [],
   "source": [
    "pde.add_boco(pwf)"
   ]
  },
  {
   "cell_type": "code",
   "execution_count": 79,
   "metadata": {
    "id": "P9dMp4We38-y"
   },
   "outputs": [],
   "source": [
    "#right = PBC0({'x': np.array([1]), 'y': y, 't':t}, name='right', device=device)\n",
    "#right = Dirichlet({'x': x[-1], 'y': y}, {'p': p1.reshape(-1)}, device=device, name=\"right\")\n",
    "right =  NeumannY({'x': x, 'y': y[-1],'t':t}, name='top', device=device)"
   ]
  },
  {
   "cell_type": "code",
   "execution_count": 80,
   "metadata": {
    "id": "-zK0NPGN3_Pm"
   },
   "outputs": [],
   "source": [
    "pde.add_boco(right)"
   ]
  },
  {
   "cell_type": "code",
   "execution_count": 81,
   "metadata": {
    "id": "QgJBWxEX4Dqu"
   },
   "outputs": [],
   "source": [
    "\n",
    "top = NeumannY({'x': x, 'y': y[-1],'t':t}, name='top', device=device)"
   ]
  },
  {
   "cell_type": "code",
   "execution_count": 82,
   "metadata": {
    "id": "TI8EHmmt4GSw"
   },
   "outputs": [],
   "source": [
    "pde.add_boco(top)"
   ]
  },
  {
   "cell_type": "code",
   "execution_count": 83,
   "metadata": {
    "id": "lpcpSYAF4I4t"
   },
   "outputs": [],
   "source": [
    "bottom = NeumannY({'x': x, 'y': y[-1],'t':t}, name='bottom', device=device)"
   ]
  },
  {
   "cell_type": "code",
   "execution_count": 84,
   "metadata": {
    "id": "WfDK9vIy4LG9"
   },
   "outputs": [],
   "source": [
    "pde.add_boco(bottom)"
   ]
  },
  {
   "cell_type": "code",
   "execution_count": 85,
   "metadata": {
    "id": "_Zf3hbzK4NSo"
   },
   "outputs": [],
   "source": [
    "from nangs import MLP\n",
    "\n",
    "BATCH_SIZE = 512\n",
    "LR = 1e-2\n",
    "EPOCHS = 50\n",
    "NUM_LAYERS = 2\n",
    "NUM_HIDDEN = 50\n",
    "\n",
    "mlp = MLP(len(pde.inputs), len(pde.outputs), NUM_LAYERS, NUM_HIDDEN).to(device)\n",
    "optimizer = torch.optim.Adam(mlp.parameters())\n",
    "scheduler = torch.optim.lr_scheduler.OneCycleLR(optimizer, max_lr=LR, pct_start=0.1, total_steps=EPOCHS)"
   ]
  },
  {
   "cell_type": "code",
   "execution_count": 86,
   "metadata": {
    "id": "nmlVwfsY4Qpj"
   },
   "outputs": [],
   "source": [
    "pde.compile(mlp, optimizer, scheduler)"
   ]
  },
  {
   "cell_type": "code",
   "execution_count": 87,
   "metadata": {
    "colab": {
     "base_uri": "https://localhost:8080/",
     "height": 1000
    },
    "id": "4HdLw0uL4TA9",
    "outputId": "697f3c38-d8c3-45c1-ffd0-23f2407f8e7b"
   },
   "outputs": [
    {
     "data": {
      "text/html": [
       "Epoch 1/50  | lr 0.0004 | initial 0.21701 | left_PBC 11.24248 | right_PBC 2.73985 | top_gradX 0.0021 | bottom_gradX 0.0021 | pde 1.2589<p>Epoch 2/50  | lr 0.00181 | initial 0.27888 | left_PBC 0.10583 | right_PBC 0.03633 | top_gradX 0.00127 | bottom_gradX 0.00127 | pde 0.18681<p>Epoch 3/50  | lr 0.0052 | initial 0.19426 | left_PBC 0.19539 | right_PBC 0.05209 | top_gradX 0.00078 | bottom_gradX 0.00078 | pde 0.14776<p>Epoch 4/50  | lr 0.00859 | initial 0.08977 | left_PBC 0.15781 | right_PBC 0.04085 | top_gradX 0.00075 | bottom_gradX 0.00075 | pde 0.14844<p>Epoch 5/50  | lr 0.01 | initial 0.0739 | left_PBC 0.21646 | right_PBC 0.28389 | top_gradX 0.00042 | bottom_gradX 0.00042 | pde 0.19859<p>Epoch 6/50  | lr 0.00999 | initial 0.05682 | left_PBC 0.08499 | right_PBC 0.00783 | top_gradX 0.00025 | bottom_gradX 0.00025 | pde 0.14977<p>Epoch 7/50  | lr 0.00995 | initial 0.05274 | left_PBC 0.07652 | right_PBC 0.00891 | top_gradX 0.00019 | bottom_gradX 0.00019 | pde 0.16874<p>Epoch 8/50  | lr 0.00989 | initial 0.05101 | left_PBC 0.07555 | right_PBC 0.00715 | top_gradX 0.00017 | bottom_gradX 0.00017 | pde 0.15389<p>Epoch 9/50  | lr 0.00981 | initial 0.04977 | left_PBC 0.07627 | right_PBC 0.00907 | top_gradX 0.00013 | bottom_gradX 0.00013 | pde 0.15904<p>Epoch 10/50  | lr 0.0097 | initial 0.04852 | left_PBC 0.07599 | right_PBC 0.00978 | top_gradX 9e-05 | bottom_gradX 9e-05 | pde 0.13634<p>Epoch 11/50  | lr 0.00957 | initial 0.04728 | left_PBC 0.07597 | right_PBC 0.01615 | top_gradX 7e-05 | bottom_gradX 7e-05 | pde 0.13003<p>Epoch 12/50  | lr 0.00941 | initial 0.04595 | left_PBC 0.07787 | right_PBC 0.01423 | top_gradX 7e-05 | bottom_gradX 7e-05 | pde 0.11495<p>Epoch 13/50  | lr 0.00924 | initial 0.04504 | left_PBC 0.07786 | right_PBC 0.0116 | top_gradX 8e-05 | bottom_gradX 8e-05 | pde 0.11169<p>Epoch 14/50  | lr 0.00905 | initial 0.04417 | left_PBC 0.0727 | right_PBC 0.0135 | top_gradX 8e-05 | bottom_gradX 8e-05 | pde 0.12033<p>Epoch 15/50  | lr 0.00883 | initial 0.04352 | left_PBC 0.07237 | right_PBC 0.00674 | top_gradX 8e-05 | bottom_gradX 8e-05 | pde 0.08925<p>Epoch 16/50  | lr 0.0086 | initial 0.04279 | left_PBC 0.0711 | right_PBC 0.00646 | top_gradX 8e-05 | bottom_gradX 8e-05 | pde 0.09281<p>Epoch 17/50  | lr 0.00835 | initial 0.04219 | left_PBC 0.06778 | right_PBC 0.00699 | top_gradX 7e-05 | bottom_gradX 7e-05 | pde 0.09326<p>Epoch 18/50  | lr 0.00808 | initial 0.04159 | left_PBC 0.06671 | right_PBC 0.00566 | top_gradX 6e-05 | bottom_gradX 6e-05 | pde 0.08623<p>Epoch 19/50  | lr 0.0078 | initial 0.04119 | left_PBC 0.06745 | right_PBC 0.00634 | top_gradX 6e-05 | bottom_gradX 6e-05 | pde 0.08487<p>Epoch 20/50  | lr 0.0075 | initial 0.04086 | left_PBC 0.06634 | right_PBC 0.00588 | top_gradX 6e-05 | bottom_gradX 6e-05 | pde 0.08806<p>Epoch 21/50  | lr 0.00719 | initial 0.04044 | left_PBC 0.06562 | right_PBC 0.00429 | top_gradX 6e-05 | bottom_gradX 6e-05 | pde 0.07839<p>Epoch 22/50  | lr 0.00687 | initial 0.04006 | left_PBC 0.06448 | right_PBC 0.00484 | top_gradX 5e-05 | bottom_gradX 5e-05 | pde 0.07201<p>Epoch 23/50  | lr 0.00655 | initial 0.03973 | left_PBC 0.06376 | right_PBC 0.00596 | top_gradX 5e-05 | bottom_gradX 5e-05 | pde 0.07783<p>Epoch 24/50  | lr 0.00621 | initial 0.03936 | left_PBC 0.06313 | right_PBC 0.00433 | top_gradX 5e-05 | bottom_gradX 5e-05 | pde 0.06857<p>Epoch 25/50  | lr 0.00587 | initial 0.03883 | left_PBC 0.06223 | right_PBC 0.00393 | top_gradX 4e-05 | bottom_gradX 4e-05 | pde 0.06492<p>Epoch 26/50  | lr 0.00552 | initial 0.03838 | left_PBC 0.06165 | right_PBC 0.00325 | top_gradX 4e-05 | bottom_gradX 4e-05 | pde 0.05796<p>Epoch 27/50  | lr 0.00517 | initial 0.03793 | left_PBC 0.06158 | right_PBC 0.00342 | top_gradX 4e-05 | bottom_gradX 4e-05 | pde 0.05897<p>Epoch 28/50  | lr 0.00483 | initial 0.03756 | left_PBC 0.06034 | right_PBC 0.00277 | top_gradX 4e-05 | bottom_gradX 4e-05 | pde 0.05699<p>Epoch 29/50  | lr 0.00448 | initial 0.03718 | left_PBC 0.05901 | right_PBC 0.00229 | top_gradX 4e-05 | bottom_gradX 4e-05 | pde 0.05221<p>Epoch 30/50  | lr 0.00413 | initial 0.03685 | left_PBC 0.0576 | right_PBC 0.00256 | top_gradX 4e-05 | bottom_gradX 4e-05 | pde 0.05325<p>Epoch 31/50  | lr 0.00379 | initial 0.03656 | left_PBC 0.05639 | right_PBC 0.00238 | top_gradX 4e-05 | bottom_gradX 4e-05 | pde 0.05161<p>Epoch 32/50  | lr 0.00345 | initial 0.0363 | left_PBC 0.05469 | right_PBC 0.00225 | top_gradX 4e-05 | bottom_gradX 4e-05 | pde 0.05173<p>Epoch 33/50  | lr 0.00313 | initial 0.03602 | left_PBC 0.05359 | right_PBC 0.00218 | top_gradX 5e-05 | bottom_gradX 5e-05 | pde 0.05273<p>Epoch 34/50  | lr 0.00281 | initial 0.03582 | left_PBC 0.05169 | right_PBC 0.00172 | top_gradX 4e-05 | bottom_gradX 4e-05 | pde 0.04864<p>Epoch 35/50  | lr 0.0025 | initial 0.03555 | left_PBC 0.05063 | right_PBC 0.00187 | top_gradX 4e-05 | bottom_gradX 4e-05 | pde 0.04889<p>Epoch 36/50  | lr 0.0022 | initial 0.03538 | left_PBC 0.04943 | right_PBC 0.00213 | top_gradX 4e-05 | bottom_gradX 4e-05 | pde 0.04972<p>Epoch 37/50  | lr 0.00192 | initial 0.03521 | left_PBC 0.04849 | right_PBC 0.00141 | top_gradX 4e-05 | bottom_gradX 4e-05 | pde 0.04704<p>Epoch 38/50  | lr 0.00165 | initial 0.03505 | left_PBC 0.04741 | right_PBC 0.00137 | top_gradX 4e-05 | bottom_gradX 4e-05 | pde 0.04672<p>Epoch 39/50  | lr 0.0014 | initial 0.03493 | left_PBC 0.04669 | right_PBC 0.00119 | top_gradX 4e-05 | bottom_gradX 4e-05 | pde 0.04604<p>Epoch 40/50  | lr 0.00117 | initial 0.03482 | left_PBC 0.04623 | right_PBC 0.00115 | top_gradX 4e-05 | bottom_gradX 4e-05 | pde 0.04541<p>Epoch 41/50  | lr 0.00095 | initial 0.03472 | left_PBC 0.04561 | right_PBC 0.0011 | top_gradX 4e-05 | bottom_gradX 4e-05 | pde 0.04548<p>Epoch 42/50  | lr 0.00076 | initial 0.03463 | left_PBC 0.04515 | right_PBC 0.00118 | top_gradX 4e-05 | bottom_gradX 4e-05 | pde 0.04581<p>Epoch 43/50  | lr 0.00059 | initial 0.03458 | left_PBC 0.0449 | right_PBC 0.00107 | top_gradX 4e-05 | bottom_gradX 4e-05 | pde 0.04493<p>Epoch 44/50  | lr 0.00043 | initial 0.03451 | left_PBC 0.04459 | right_PBC 0.00086 | top_gradX 4e-05 | bottom_gradX 4e-05 | pde 0.04421<p>Epoch 45/50  | lr 0.0003 | initial 0.0345 | left_PBC 0.04443 | right_PBC 0.00081 | top_gradX 4e-05 | bottom_gradX 4e-05 | pde 0.04388<p>Epoch 46/50  | lr 0.00019 | initial 0.03447 | left_PBC 0.04426 | right_PBC 0.00077 | top_gradX 4e-05 | bottom_gradX 4e-05 | pde 0.04365<p>Epoch 47/50  | lr 0.00011 | initial 0.03447 | left_PBC 0.04416 | right_PBC 0.00074 | top_gradX 4e-05 | bottom_gradX 4e-05 | pde 0.04352<p>Epoch 48/50  | lr 5e-05 | initial 0.03444 | left_PBC 0.04414 | right_PBC 0.00072 | top_gradX 4e-05 | bottom_gradX 4e-05 | pde 0.04322<p>Epoch 49/50  | lr 1e-05 | initial 0.03444 | left_PBC 0.04417 | right_PBC 0.00071 | top_gradX 4e-05 | bottom_gradX 4e-05 | pde 0.04308<p>Epoch 50/50  | lr 0.0 | initial 0.03443 | left_PBC 0.04411 | right_PBC 0.00071 | top_gradX 4e-05 | bottom_gradX 4e-05 | pde 0.04303"
      ],
      "text/plain": [
       "<IPython.core.display.HTML object>"
      ]
     },
     "metadata": {
      "tags": []
     },
     "output_type": "display_data"
    },
    {
     "name": "stdout",
     "output_type": "stream",
     "text": [
      "CPU times: user 15min 55s, sys: 19.2 s, total: 16min 14s\n",
      "Wall time: 16min\n"
     ]
    }
   ],
   "source": [
    "\n",
    "%time hist = pde.solve(EPOCHS, BATCH_SIZE)"
   ]
  },
  {
   "cell_type": "code",
   "execution_count": 97,
   "metadata": {
    "id": "6pWQeuc14V_9"
   },
   "outputs": [],
   "source": [
    "t = 0.5\n",
    "x = np.linspace(0,1,100)\n",
    "y = np.linspace(0,1,100)\n",
    "\n",
    "_x, _y, _t = np.meshgrid(x, y, t)\n",
    "eval_mesh = Mesh({'x': x, 'y': y, 't':t}, device=device)\n",
    "p = pde.eval(eval_mesh)\n",
    "p = p.cpu().numpy()\n",
    "p5 = p.reshape((_y.shape[0],_x.shape[1]))"
   ]
  },
  {
   "cell_type": "code",
   "execution_count": null,
   "metadata": {},
   "outputs": [],
   "source": []
  },
  {
   "cell_type": "code",
   "execution_count": 54,
   "metadata": {
    "id": "ycJ8qxzpGTBF"
   },
   "outputs": [],
   "source": []
  },
  {
   "cell_type": "code",
   "execution_count": 55,
   "metadata": {
    "colab": {
     "base_uri": "https://localhost:8080/"
    },
    "id": "QkUpejkp8mFx",
    "outputId": "e558ead4-86be-42af-aa14-4b2028f36820"
   },
   "outputs": [
    {
     "data": {
      "text/plain": [
       "(100, 100)"
      ]
     },
     "execution_count": 55,
     "metadata": {
      "tags": []
     },
     "output_type": "execute_result"
    }
   ],
   "source": [
    "p0.shape"
   ]
  },
  {
   "cell_type": "code",
   "execution_count": 56,
   "metadata": {
    "id": "iqZRyVU6GaYA"
   },
   "outputs": [],
   "source": [
    "\n"
   ]
  },
  {
   "cell_type": "code",
   "execution_count": 35,
   "metadata": {
    "colab": {
     "base_uri": "https://localhost:8080/",
     "height": 164
    },
    "id": "90yV-pu68qEY",
    "outputId": "f6d29fc4-a08a-4cb6-9d28-a148ec5608c8"
   },
   "outputs": [
    {
     "ename": "NameError",
     "evalue": "ignored",
     "output_type": "error",
     "traceback": [
      "\u001b[0;31m---------------------------------------------------------------------------\u001b[0m",
      "\u001b[0;31mNameError\u001b[0m                                 Traceback (most recent call last)",
      "\u001b[0;32m<ipython-input-35-f245d5aed1d1>\u001b[0m in \u001b[0;36m<module>\u001b[0;34m()\u001b[0m\n\u001b[0;32m----> 1\u001b[0;31m \u001b[0mp1\u001b[0m\u001b[0;34m.\u001b[0m\u001b[0mshape\u001b[0m\u001b[0;34m\u001b[0m\u001b[0;34m\u001b[0m\u001b[0m\n\u001b[0m",
      "\u001b[0;31mNameError\u001b[0m: name 'p1' is not defined"
     ]
    }
   ],
   "source": [
    "p1.shape"
   ]
  },
  {
   "cell_type": "code",
   "execution_count": 36,
   "metadata": {
    "colab": {
     "base_uri": "https://localhost:8080/",
     "height": 582
    },
    "id": "qV3ksfWtGrl1",
    "outputId": "163d319e-96a3-454f-a2d4-c9c6e585eaef"
   },
   "outputs": [
    {
     "ename": "ValueError",
     "evalue": "ignored",
     "output_type": "error",
     "traceback": [
      "\u001b[0;31m---------------------------------------------------------------------------\u001b[0m",
      "\u001b[0;31mValueError\u001b[0m                                Traceback (most recent call last)",
      "\u001b[0;32m<ipython-input-36-55a476ddfbe4>\u001b[0m in \u001b[0;36m<module>\u001b[0;34m()\u001b[0m\n\u001b[1;32m      5\u001b[0m \u001b[0max\u001b[0m \u001b[0;34m=\u001b[0m \u001b[0mfig\u001b[0m\u001b[0;34m.\u001b[0m\u001b[0mgca\u001b[0m\u001b[0;34m(\u001b[0m\u001b[0mprojection\u001b[0m\u001b[0;34m=\u001b[0m\u001b[0;34m'3d'\u001b[0m\u001b[0;34m)\u001b[0m\u001b[0;34m\u001b[0m\u001b[0;34m\u001b[0m\u001b[0m\n\u001b[1;32m      6\u001b[0m \u001b[0;31m#surf = ax.plot_surface(_x, _y, p1.reshape((_y.shape[0],_x.shape[1])), cmap=cm.coolwarm, linewidth=0, antialiased=False)\u001b[0m\u001b[0;34m\u001b[0m\u001b[0;34m\u001b[0m\u001b[0;34m\u001b[0m\u001b[0m\n\u001b[0;32m----> 7\u001b[0;31m \u001b[0msurf\u001b[0m \u001b[0;34m=\u001b[0m \u001b[0max\u001b[0m\u001b[0;34m.\u001b[0m\u001b[0mplot_surface\u001b[0m\u001b[0;34m(\u001b[0m\u001b[0m_x\u001b[0m\u001b[0;34m,\u001b[0m \u001b[0m_y\u001b[0m\u001b[0;34m,\u001b[0m \u001b[0mp0\u001b[0m\u001b[0;34m.\u001b[0m\u001b[0mreshape\u001b[0m\u001b[0;34m(\u001b[0m\u001b[0;34m(\u001b[0m\u001b[0m_y\u001b[0m\u001b[0;34m.\u001b[0m\u001b[0mshape\u001b[0m\u001b[0;34m[\u001b[0m\u001b[0;36m0\u001b[0m\u001b[0;34m]\u001b[0m\u001b[0;34m,\u001b[0m\u001b[0m_x\u001b[0m\u001b[0;34m.\u001b[0m\u001b[0mshape\u001b[0m\u001b[0;34m[\u001b[0m\u001b[0;36m1\u001b[0m\u001b[0;34m]\u001b[0m\u001b[0;34m)\u001b[0m\u001b[0;34m)\u001b[0m\u001b[0;34m,\u001b[0m \u001b[0mcmap\u001b[0m\u001b[0;34m=\u001b[0m\u001b[0mcm\u001b[0m\u001b[0;34m.\u001b[0m\u001b[0mcoolwarm\u001b[0m\u001b[0;34m,\u001b[0m \u001b[0mlinewidth\u001b[0m\u001b[0;34m=\u001b[0m\u001b[0;36m0\u001b[0m\u001b[0;34m,\u001b[0m \u001b[0mantialiased\u001b[0m\u001b[0;34m=\u001b[0m\u001b[0;32mFalse\u001b[0m\u001b[0;34m)\u001b[0m\u001b[0;34m\u001b[0m\u001b[0;34m\u001b[0m\u001b[0m\n\u001b[0m\u001b[1;32m      8\u001b[0m \u001b[0mfig\u001b[0m\u001b[0;34m.\u001b[0m\u001b[0mcolorbar\u001b[0m\u001b[0;34m(\u001b[0m\u001b[0msurf\u001b[0m\u001b[0;34m,\u001b[0m \u001b[0mshrink\u001b[0m\u001b[0;34m=\u001b[0m\u001b[0;36m0.5\u001b[0m\u001b[0;34m,\u001b[0m \u001b[0maspect\u001b[0m\u001b[0;34m=\u001b[0m\u001b[0;36m5\u001b[0m\u001b[0;34m)\u001b[0m\u001b[0;34m\u001b[0m\u001b[0;34m\u001b[0m\u001b[0m\n\u001b[1;32m      9\u001b[0m \u001b[0mplt\u001b[0m\u001b[0;34m.\u001b[0m\u001b[0mshow\u001b[0m\u001b[0;34m(\u001b[0m\u001b[0;34m)\u001b[0m\u001b[0;34m\u001b[0m\u001b[0;34m\u001b[0m\u001b[0m\n",
      "\u001b[0;32m/usr/local/lib/python3.7/dist-packages/mpl_toolkits/mplot3d/axes3d.py\u001b[0m in \u001b[0;36mplot_surface\u001b[0;34m(self, X, Y, Z, norm, vmin, vmax, lightsource, *args, **kwargs)\u001b[0m\n\u001b[1;32m   1503\u001b[0m         \u001b[0;31m# TODO: Support masked arrays\u001b[0m\u001b[0;34m\u001b[0m\u001b[0;34m\u001b[0m\u001b[0;34m\u001b[0m\u001b[0m\n\u001b[1;32m   1504\u001b[0m         \u001b[0mX\u001b[0m\u001b[0;34m,\u001b[0m \u001b[0mY\u001b[0m\u001b[0;34m,\u001b[0m \u001b[0mZ\u001b[0m \u001b[0;34m=\u001b[0m \u001b[0mnp\u001b[0m\u001b[0;34m.\u001b[0m\u001b[0mbroadcast_arrays\u001b[0m\u001b[0;34m(\u001b[0m\u001b[0mX\u001b[0m\u001b[0;34m,\u001b[0m \u001b[0mY\u001b[0m\u001b[0;34m,\u001b[0m \u001b[0mZ\u001b[0m\u001b[0;34m)\u001b[0m\u001b[0;34m\u001b[0m\u001b[0;34m\u001b[0m\u001b[0m\n\u001b[0;32m-> 1505\u001b[0;31m         \u001b[0mrows\u001b[0m\u001b[0;34m,\u001b[0m \u001b[0mcols\u001b[0m \u001b[0;34m=\u001b[0m \u001b[0mZ\u001b[0m\u001b[0;34m.\u001b[0m\u001b[0mshape\u001b[0m\u001b[0;34m\u001b[0m\u001b[0;34m\u001b[0m\u001b[0m\n\u001b[0m\u001b[1;32m   1506\u001b[0m \u001b[0;34m\u001b[0m\u001b[0m\n\u001b[1;32m   1507\u001b[0m         \u001b[0mhas_stride\u001b[0m \u001b[0;34m=\u001b[0m \u001b[0;34m'rstride'\u001b[0m \u001b[0;32min\u001b[0m \u001b[0mkwargs\u001b[0m \u001b[0;32mor\u001b[0m \u001b[0;34m'cstride'\u001b[0m \u001b[0;32min\u001b[0m \u001b[0mkwargs\u001b[0m\u001b[0;34m\u001b[0m\u001b[0;34m\u001b[0m\u001b[0m\n",
      "\u001b[0;31mValueError\u001b[0m: too many values to unpack (expected 2)"
     ]
    },
    {
     "data": {
      "image/png": "[encoded data removed]",
      "text/plain": [
       "<Figure size 432x288 with 1 Axes>"
      ]
     },
     "metadata": {
      "needs_background": "light",
      "tags": []
     },
     "output_type": "display_data"
    }
   ],
   "source": [
    "from mpl_toolkits.mplot3d import Axes3D\n",
    "import matplotlib.pyplot as plt\n",
    "from matplotlib import cm\n",
    "fig = plt.figure()\n",
    "ax = fig.gca(projection='3d')\n",
    "#surf = ax.plot_surface(_x, _y, p1.reshape((_y.shape[0],_x.shape[1])), cmap=cm.coolwarm, linewidth=0, antialiased=False)\n",
    "surf = ax.plot_surface(_x, _y, p0.reshape((_y.shape[0],_x.shape[1])), cmap=cm.coolwarm, linewidth=0, antialiased=False)\n",
    "fig.colorbar(surf, shrink=0.5, aspect=5)\n",
    "plt.show()"
   ]
  },
  {
   "cell_type": "code",
   "execution_count": 37,
   "metadata": {
    "id": "vHdxbeNtItz1"
   },
   "outputs": [],
   "source": [
    "p1 = p.reshape((_y.shape[0],_x.shape[1]))"
   ]
  },
  {
   "cell_type": "code",
   "execution_count": 100,
   "metadata": {
    "colab": {
     "base_uri": "https://localhost:8080/",
     "height": 282
    },
    "id": "_mCNFVK_GwzT",
    "outputId": "8729fe2c-9554-46ed-f40d-f3398f8700b5"
   },
   "outputs": [
    {
     "data": {
      "text/plain": [
       "[<matplotlib.lines.Line2D at 0x7f4aa0c0e0d0>]"
      ]
     },
     "execution_count": 100,
     "metadata": {
      "tags": []
     },
     "output_type": "execute_result"
    },
    {
     "data": {
      "image/png": "[encoded data removed]",
      "text/plain": [
       "<Figure size 432x288 with 1 Axes>"
      ]
     },
     "metadata": {
      "needs_background": "light",
      "tags": []
     },
     "output_type": "display_data"
    }
   ],
   "source": [
    "plt.plot(p00[0],color='b')\n",
    "plt.plot(p1[0],color='r')\n",
    "plt.plot(p2[0])\n",
    "plt.plot(p3[0])\n",
    "plt.plot(p4[0])\n",
    "plt.plot(p5[0])"
   ]
  },
  {
   "cell_type": "code",
   "execution_count": 631,
   "metadata": {
    "colab": {
     "base_uri": "https://localhost:8080/"
    },
    "id": "nufZLQTPMsNJ",
    "outputId": "39aaf726-ac40-4770-bf8a-b9e88651016e"
   },
   "outputs": [
    {
     "data": {
      "text/plain": [
       "0.01346381"
      ]
     },
     "execution_count": 631,
     "metadata": {
      "tags": []
     },
     "output_type": "execute_result"
    }
   ],
   "source": [
    "p3[0][-1]"
   ]
  },
  {
   "cell_type": "code",
   "execution_count": 95,
   "metadata": {
    "colab": {
     "base_uri": "https://localhost:8080/",
     "height": 283
    },
    "id": "2Kc3vAeJlg36",
    "outputId": "53aa0b95-277b-4216-d122-53cefeaf0028"
   },
   "outputs": [
    {
     "ename": "ValueError",
     "evalue": "ignored",
     "output_type": "error",
     "traceback": [
      "\u001b[0;31m---------------------------------------------------------------------------\u001b[0m",
      "\u001b[0;31mValueError\u001b[0m                                Traceback (most recent call last)",
      "\u001b[0;32m<ipython-input-95-d1731038495a>\u001b[0m in \u001b[0;36m<module>\u001b[0;34m()\u001b[0m\n\u001b[0;32m----> 1\u001b[0;31m \u001b[0max\u001b[0m\u001b[0;34m.\u001b[0m\u001b[0mplot_surface\u001b[0m\u001b[0;34m(\u001b[0m\u001b[0m_x\u001b[0m\u001b[0;34m,\u001b[0m \u001b[0m_y\u001b[0m\u001b[0;34m,\u001b[0m \u001b[0mp\u001b[0m\u001b[0;34m.\u001b[0m\u001b[0mreshape\u001b[0m\u001b[0;34m(\u001b[0m\u001b[0;34m(\u001b[0m\u001b[0m_y\u001b[0m\u001b[0;34m.\u001b[0m\u001b[0mshape\u001b[0m\u001b[0;34m[\u001b[0m\u001b[0;36m0\u001b[0m\u001b[0;34m]\u001b[0m\u001b[0;34m,\u001b[0m\u001b[0m_x\u001b[0m\u001b[0;34m.\u001b[0m\u001b[0mshape\u001b[0m\u001b[0;34m[\u001b[0m\u001b[0;36m1\u001b[0m\u001b[0;34m]\u001b[0m\u001b[0;34m)\u001b[0m\u001b[0;34m)\u001b[0m\u001b[0;34m,\u001b[0m \u001b[0mcmap\u001b[0m\u001b[0;34m=\u001b[0m\u001b[0mcm\u001b[0m\u001b[0;34m.\u001b[0m\u001b[0mcoolwarm\u001b[0m\u001b[0;34m,\u001b[0m \u001b[0mlinewidth\u001b[0m\u001b[0;34m=\u001b[0m\u001b[0;36m0\u001b[0m\u001b[0;34m,\u001b[0m \u001b[0mantialiased\u001b[0m\u001b[0;34m=\u001b[0m\u001b[0;32mFalse\u001b[0m\u001b[0;34m)\u001b[0m\u001b[0;34m\u001b[0m\u001b[0;34m\u001b[0m\u001b[0m\n\u001b[0m",
      "\u001b[0;32m/usr/local/lib/python3.7/dist-packages/mpl_toolkits/mplot3d/axes3d.py\u001b[0m in \u001b[0;36mplot_surface\u001b[0;34m(self, X, Y, Z, norm, vmin, vmax, lightsource, *args, **kwargs)\u001b[0m\n\u001b[1;32m   1503\u001b[0m         \u001b[0;31m# TODO: Support masked arrays\u001b[0m\u001b[0;34m\u001b[0m\u001b[0;34m\u001b[0m\u001b[0;34m\u001b[0m\u001b[0m\n\u001b[1;32m   1504\u001b[0m         \u001b[0mX\u001b[0m\u001b[0;34m,\u001b[0m \u001b[0mY\u001b[0m\u001b[0;34m,\u001b[0m \u001b[0mZ\u001b[0m \u001b[0;34m=\u001b[0m \u001b[0mnp\u001b[0m\u001b[0;34m.\u001b[0m\u001b[0mbroadcast_arrays\u001b[0m\u001b[0;34m(\u001b[0m\u001b[0mX\u001b[0m\u001b[0;34m,\u001b[0m \u001b[0mY\u001b[0m\u001b[0;34m,\u001b[0m \u001b[0mZ\u001b[0m\u001b[0;34m)\u001b[0m\u001b[0;34m\u001b[0m\u001b[0;34m\u001b[0m\u001b[0m\n\u001b[0;32m-> 1505\u001b[0;31m         \u001b[0mrows\u001b[0m\u001b[0;34m,\u001b[0m \u001b[0mcols\u001b[0m \u001b[0;34m=\u001b[0m \u001b[0mZ\u001b[0m\u001b[0;34m.\u001b[0m\u001b[0mshape\u001b[0m\u001b[0;34m\u001b[0m\u001b[0;34m\u001b[0m\u001b[0m\n\u001b[0m\u001b[1;32m   1506\u001b[0m \u001b[0;34m\u001b[0m\u001b[0m\n\u001b[1;32m   1507\u001b[0m         \u001b[0mhas_stride\u001b[0m \u001b[0;34m=\u001b[0m \u001b[0;34m'rstride'\u001b[0m \u001b[0;32min\u001b[0m \u001b[0mkwargs\u001b[0m \u001b[0;32mor\u001b[0m \u001b[0;34m'cstride'\u001b[0m \u001b[0;32min\u001b[0m \u001b[0mkwargs\u001b[0m\u001b[0;34m\u001b[0m\u001b[0;34m\u001b[0m\u001b[0m\n",
      "\u001b[0;31mValueError\u001b[0m: too many values to unpack (expected 2)"
     ]
    }
   ],
   "source": [
    "ax.plot_surface(_x, _y, p.reshape((_y.shape[0],_x.shape[1])), cmap=cm.coolwarm, linewidth=0, antialiased=False)"
   ]
  },
  {
   "cell_type": "code",
   "execution_count": 487,
   "metadata": {
    "colab": {
     "base_uri": "https://localhost:8080/"
    },
    "id": "nAtZaCnjKUUE",
    "outputId": "b2a25886-ac4b-4ff0-fc37-98219c39b256"
   },
   "outputs": [
    {
     "data": {
      "text/plain": [
       "(100, 100)"
      ]
     },
     "execution_count": 487,
     "metadata": {
      "tags": []
     },
     "output_type": "execute_result"
    }
   ],
   "source": [
    "p1.shape"
   ]
  },
  {
   "cell_type": "code",
   "execution_count": 100,
   "metadata": {
    "colab": {
     "base_uri": "https://localhost:8080/"
    },
    "id": "ndK4ByIOkQbP",
    "outputId": "9a952ce5-cd54-405e-9b7d-627cbd4438d9"
   },
   "outputs": [
    {
     "data": {
      "text/plain": [
       "(100, 100, 1)"
      ]
     },
     "execution_count": 100,
     "metadata": {
      "tags": []
     },
     "output_type": "execute_result"
    }
   ],
   "source": [
    "_x.shape"
   ]
  },
  {
   "cell_type": "code",
   "execution_count": null,
   "metadata": {
    "colab": {
     "base_uri": "https://localhost:8080/"
    },
    "id": "11dIrHGCkUyY",
    "outputId": "be8d5e44-f50f-426c-da11-6e1ecec3f4b1"
   },
   "outputs": [
    {
     "name": "stdout",
     "output_type": "stream",
     "text": [
      "'070201 EQM-KY7-002 s.doc.gdoc'\n",
      " 08272013-02272014.pdf\n",
      " Agenda08_30_final.gdoc\n",
      "'Alan Aug 2008 Flyer.gdoc'\n",
      " Analysis\n",
      "\u001b[0m\u001b[01;34m'Awesome Note'\u001b[0m/\n",
      " azcopy\n",
      "'Boarding Pass - Check-in _ Spirit Airlines.pdf'\n",
      " carta.gdoc\n",
      " cartas.gdoc\n",
      "\u001b[01;34m'Clase 2'\u001b[0m/\n",
      " \u001b[01;34mClassroom\u001b[0m/\n",
      " cluster.pdf\n",
      "\u001b[01;34m'Colab Notebooks'\u001b[0m/\n",
      "'Comp3 KY6 ProjectProg_Aug07.gdoc'\n",
      "'Comp3 KY7 ProjectProg_Aug07.gdoc'\n",
      " Comp3ProjectProg_Feb07.doc.gdoc\n",
      " Comp3ProjectProg_June07.gdoc\n",
      " Conferencia1.xlsx\n",
      "'Corodoba Court lawn service 090614.xlsx'\n",
      "'Corodoba Court lawn service 090614.xlsx.gsheet'\n",
      "'Crear subrutina para creacion de grid.gdoc'\n",
      "'Curso_OG_en_Day 1.pptx'\n",
      " \u001b[01;34mCURSO_PERU\u001b[0m/\n",
      "'Datos de entrada'\n",
      " DESARROLLO.gdoc\n",
      "'displacement bc'\n",
      " DSC09906.JPG\n",
      " DSC09906.png\n",
      " EmotivGamePatch1_zip.gdoc\n",
      " EQM-KY07-02.doc.gdoc\n",
      "'Estimado Stefan corregido.doc.gdoc'\n",
      " File_001.png\n",
      " Geomechanics\n",
      "'Geomechanics with Python. Part 1.mp4'\n",
      " geo_mult.gdoc\n",
      "\u001b[01;34m'Google Buzz'\u001b[0m/\n",
      "'Hoy estoy trabajando en STOMP. Hace f....gdoc'\n",
      "'http:  www.sleekwire.com index.php?pa....gdoc'\n",
      "\"Imported from Google Notebook - Asperger's.gdoc\"\n",
      "'Imported from Google Notebook - Mobile notes.gdoc'\n",
      " input.xlsx\n",
      " input.xlsx.gsheet\n",
      " JanuaryTrainingInternalAcccounts.xlsx\n",
      "'jstock-fe78440e-e0fe-4efb-881d-264a01be483c-checksum=3499429789-date=1427415097216-version=1107.zip'\n",
      "'la 2a. entrega.docx'\n",
      "'la 2a. entrega.gdoc'\n",
      "'Marisela Sanchez.jpg'\n",
      " MatCreateSeqAIJWithArrays.gdoc\n",
      " \u001b[01;34mmoney-eq-meditation\u001b[0m/\n",
      "'My Saved Places.gmap'\n",
      " NI_APERDIDAporfavorreenvielo.gdoc\n",
      "'Notas Sant. LFH 5 de 7.pdf'\n",
      " \u001b[01;34mOpenSim_Alana\u001b[0m/\n",
      "'PALACIOS 6 Y 7.jpeg'\n",
      "'PCR-92-14, Water damage repairs 2512 Bevis St.pdf'\n",
      " poema.gdoc\n",
      "'Press Space or double-click to edit.mup'\n",
      "'PRIETO 3.jpeg'\n",
      " PROPUESTAS.gdoc\n",
      "'py3 in one pic.png'\n",
      " \u001b[01;34mpython_trainning\u001b[0m/\n",
      " \u001b[01;34mRecorderPlus\u001b[0m/\n",
      "'Reference Letter - Adolfo Rodriguez.doc.gdoc'\n",
      "'Resumen Curricular Ing F Rovira.gdoc'\n",
      "'SEGUNDA ENTREGA.docx'\n",
      "'SEGUNDA ENTREGA.gdoc'\n",
      "'seguro carros.gsheet'\n",
      " \u001b[01;34mTakeout\u001b[0m/\n",
      "'Tech_Presentation_Candidate_Brief v12.gdoc'\n",
      "'Untitled presentation.gslides'\n"
     ]
    }
   ],
   "source": [
    "ls '/content/gdrive/MyDrive'"
   ]
  },
  {
   "cell_type": "code",
   "execution_count": null,
   "metadata": {
    "id": "liWZrbRZkrn9"
   },
   "outputs": [],
   "source": []
  }
 ],
 "metadata": {
  "accelerator": "GPU",
  "colab": {
   "authorship_tag": "ABX9TyN5h7rTiHNhn6iKgPLl0M7e",
   "collapsed_sections": [],
   "include_colab_link": true,
   "machine_shape": "hm",
   "name": "DifussionD.ipynb",
   "provenance": []
  },
  "kernelspec": {
   "display_name": "Python 3",
   "language": "python",
   "name": "python3"
  },
  "language_info": {
   "codemirror_mode": {
    "name": "ipython",
    "version": 3
   },
   "file_extension": ".py",
   "mimetype": "text/x-python",
   "name": "python",
   "nbconvert_exporter": "python",
   "pygments_lexer": "ipython3",
   "version": "3.9.5"
  }
 },
 "nbformat": 4,
 "nbformat_minor": 4
}
