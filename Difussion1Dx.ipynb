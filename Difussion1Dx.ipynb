{
  "nbformat": 4,
  "nbformat_minor": 0,
  "metadata": {
    "accelerator": "GPU",
    "colab": {
      "name": "Difussion1D.ipynb",
      "provenance": [],
      "collapsed_sections": [],
      "machine_shape": "hm",
      "include_colab_link": true
    },
    "kernelspec": {
      "display_name": "Python 3",
      "language": "python",
      "name": "python3"
    },
    "language_info": {
      "codemirror_mode": {
        "name": "ipython",
        "version": 3
      },
      "file_extension": ".py",
      "mimetype": "text/x-python",
      "name": "python",
      "nbconvert_exporter": "python",
      "pygments_lexer": "ipython3",
      "version": "3.9.5"
    }
  },
  "cells": [
    {
      "cell_type": "markdown",
      "metadata": {
        "id": "view-in-github",
        "colab_type": "text"
      },
      "source": [
        "<a href=\"https://colab.research.google.com/github/adantra/nangs/blob/master/Difussion1Dx.ipynb\" target=\"_parent\"><img src=\"https://colab.research.google.com/assets/colab-badge.svg\" alt=\"Open In Colab\"/></a>"
      ]
    },
    {
      "cell_type": "code",
      "metadata": {
        "colab": {
          "base_uri": "https://localhost:8080/"
        },
        "id": "49OBlKX_2X0p",
        "outputId": "ab21d116-6f17-4fdb-8e58-badf76e983fa"
      },
      "source": [
        "!pip install nangs"
      ],
      "execution_count": 1,
      "outputs": [
        {
          "output_type": "stream",
          "text": [
            "Requirement already satisfied: nangs in /usr/local/lib/python3.7/dist-packages (0.1.2)\n"
          ],
          "name": "stdout"
        }
      ]
    },
    {
      "cell_type": "code",
      "metadata": {
        "id": "LyXPy8I92Z7g"
      },
      "source": [
        "# autoreload nangs\n",
        "%reload_ext autoreload\n",
        "%autoreload 2\n",
        "%matplotlib inline"
      ],
      "execution_count": 2,
      "outputs": []
    },
    {
      "cell_type": "code",
      "metadata": {
        "id": "U2WOWy_Hp4oE"
      },
      "source": [
        ""
      ],
      "execution_count": null,
      "outputs": []
    },
    {
      "cell_type": "code",
      "metadata": {
        "colab": {
          "base_uri": "https://localhost:8080/"
        },
        "id": "2tc_1Iyo2lV-",
        "outputId": "f62f55a8-98d9-43a7-b59c-f720ae3e90ec"
      },
      "source": [
        "#imports\n",
        "\n",
        "import numpy as np \n",
        "import matplotlib.pyplot as plt \n",
        "import torch\n",
        "import pandas as pd\n",
        "import nangs\n",
        "from nangs import *\n",
        "\n",
        "device = \"cuda\" if torch.cuda.is_available() else \"cpu\"\n",
        "\n",
        "nangs.__version__, torch.__version__"
      ],
      "execution_count": 3,
      "outputs": [
        {
          "output_type": "execute_result",
          "data": {
            "text/plain": [
              "('0.1.2', '1.9.0+cu102')"
            ]
          },
          "metadata": {
            "tags": []
          },
          "execution_count": 3
        }
      ]
    },
    {
      "cell_type": "code",
      "metadata": {
        "id": "DUxgB4S-p-AD"
      },
      "source": [
        "class Sine(torch.nn.Module):\n",
        "    def __init__(self):\n",
        "        super().__init__()\n",
        "\n",
        "    def forward(self, x):\n",
        "        return torch.sin(x)\n",
        "\n",
        "\n",
        "def block(i, o):\n",
        "    fc = torch.nn.Linear(i, o)\n",
        "    return torch.nn.Sequential(\n",
        "        #Sine(),\n",
        "        torch.nn.GELU(),\n",
        "        torch.nn.Linear(i, o)\n",
        "    )\n",
        "\n",
        "\n",
        "class MLP(torch.nn.Module):\n",
        "    def __init__(self, inputs, outputs, layers, neurons):\n",
        "        super().__init__()\n",
        "        fc_in = torch.nn.Linear(inputs, neurons)\n",
        "        fc_hidden = [\n",
        "            block(neurons, neurons)\n",
        "            for layer in range(layers-1)\n",
        "        ]\n",
        "        fc_out = block(neurons, outputs)\n",
        "\n",
        "        self.mlp = torch.nn.Sequential(\n",
        "            fc_in,\n",
        "            *fc_hidden,\n",
        "            fc_out\n",
        "        )\n",
        "\n",
        "    def forward(self, x):\n",
        "        return self.mlp(x)"
      ],
      "execution_count": 133,
      "outputs": []
    },
    {
      "cell_type": "code",
      "metadata": {
        "colab": {
          "base_uri": "https://localhost:8080/",
          "height": 37
        },
        "id": "rTta38DB2obV",
        "outputId": "0d49ee1e-7881-4950-8e99-614cf3fd8daf"
      },
      "source": [
        "device\n"
      ],
      "execution_count": 134,
      "outputs": [
        {
          "output_type": "execute_result",
          "data": {
            "application/vnd.google.colaboratory.intrinsic+json": {
              "type": "string"
            },
            "text/plain": [
              "'cuda'"
            ]
          },
          "metadata": {
            "tags": []
          },
          "execution_count": 134
        }
      ]
    },
    {
      "cell_type": "code",
      "metadata": {
        "id": "W55VlZAO2vcY"
      },
      "source": [
        "alpha=10\n",
        "class Difussion2d(PDE):\n",
        "    def computePDELoss(self, inputs, outputs):\n",
        "        p = outputs[:, 0]\n",
        "        grads = self.computeGrads(p, inputs)\n",
        "        dpdx, dpdt = grads[:, 0], grads[:, 1]\n",
        "        # second order derivatives        \n",
        "        dp2dx2 = self.computeGrads(dpdx, inputs)[:, 0] \n",
        "        #dp2dy2 = self.computeGrads(dpdy, inputs)[:, 1]\n",
        "        return {'pde':dpdt - 0.1*dp2dx2}"
      ],
      "execution_count": 300,
      "outputs": []
    },
    {
      "cell_type": "code",
      "metadata": {
        "id": "Wuq89V6s3dOX"
      },
      "source": [
        "class NeumannX(Neumann):\n",
        "    def computeBocoLoss(self, inputs, outputs):\n",
        "        p = outputs[:, 0]\n",
        "        grads = self.computeGrads(p, inputs)\n",
        "        dpdx = grads[:, 0]\n",
        "        return {'gradX': dpdx}"
      ],
      "execution_count": 301,
      "outputs": []
    },
    {
      "cell_type": "code",
      "metadata": {
        "id": "rvzoV1AWGmUc"
      },
      "source": [
        "class PBC0(Neumann):\n",
        "    def computeBocoLoss(self, inputs, outputs):\n",
        "        pbc = 0\n",
        "        p = outputs[:, 0]\n",
        "        return {'PWF': 100*(p-pbc)}"
      ],
      "execution_count": 302,
      "outputs": []
    },
    {
      "cell_type": "code",
      "metadata": {
        "id": "IturBEIS3jyj"
      },
      "source": [
        "pde = Difussion2d(inputs=('x', 't'), outputs='p')"
      ],
      "execution_count": 303,
      "outputs": []
    },
    {
      "cell_type": "code",
      "metadata": {
        "id": "noGwdmy4i-iJ"
      },
      "source": [
        "def append(arr, values, axis=None):\n",
        "    arr = np.asanyarray(arr)\n",
        "    if axis is None:\n",
        "        if arr.ndim != 1:\n",
        "            arr = arr.ravel()\n",
        "        values = np.ravel(values)\n",
        "        axis = arr.ndim-1\n",
        "    return np.concatenate((arr, values), axis=axis)"
      ],
      "execution_count": 304,
      "outputs": []
    },
    {
      "cell_type": "code",
      "metadata": {
        "id": "v6s9koba3mHJ"
      },
      "source": [
        "# mesh \n",
        "\n",
        "x = np.linspace(0,1,1000)\n",
        "\n",
        "t = np.linspace(0,1,10)\n",
        "t = append(t,np.linspace(0.2,1,10))\n",
        "#t=np.array([0])\n",
        "#tt=np.logspace(-2,0,20)\n",
        "#t = append(t,tt)\n",
        "mesh = Mesh({'x': x, 't':t}, device=device)\n",
        "pde.set_mesh(mesh)"
      ],
      "execution_count": 305,
      "outputs": []
    },
    {
      "cell_type": "code",
      "metadata": {
        "colab": {
          "base_uri": "https://localhost:8080/"
        },
        "id": "QTH01WKejTBR",
        "outputId": "99d13749-e6d9-44cd-c324-61b770eb95de"
      },
      "source": [
        "t"
      ],
      "execution_count": 306,
      "outputs": [
        {
          "output_type": "execute_result",
          "data": {
            "text/plain": [
              "array([0.        , 0.11111111, 0.22222222, 0.33333333, 0.44444444,\n",
              "       0.55555556, 0.66666667, 0.77777778, 0.88888889, 1.        ,\n",
              "       0.2       , 0.28888889, 0.37777778, 0.46666667, 0.55555556,\n",
              "       0.64444444, 0.73333333, 0.82222222, 0.91111111, 1.        ])"
            ]
          },
          "metadata": {
            "tags": []
          },
          "execution_count": 306
        }
      ]
    },
    {
      "cell_type": "code",
      "metadata": {
        "id": "OkCZuKCO3o1C"
      },
      "source": [
        "from nangs import Dirichlet"
      ],
      "execution_count": 307,
      "outputs": []
    },
    {
      "cell_type": "code",
      "metadata": {
        "id": "FNI7VwAX3tN2"
      },
      "source": [
        "t0 = np.array([0])"
      ],
      "execution_count": 308,
      "outputs": []
    },
    {
      "cell_type": "code",
      "metadata": {
        "id": "kP0TCEoD3veq"
      },
      "source": [
        "_x = np.meshgrid(x)\n",
        "#p0 = np.sin(2*np.pi*_x)*np.sin(2*np.pi*_y)"
      ],
      "execution_count": 309,
      "outputs": []
    },
    {
      "cell_type": "code",
      "metadata": {
        "colab": {
          "base_uri": "https://localhost:8080/"
        },
        "id": "OlTzWIthkgYA",
        "outputId": "6ef03084-cd88-4560-ee1f-a90ed447f446"
      },
      "source": [
        "_x[0].shape"
      ],
      "execution_count": 310,
      "outputs": [
        {
          "output_type": "execute_result",
          "data": {
            "text/plain": [
              "(1000,)"
            ]
          },
          "metadata": {
            "tags": []
          },
          "execution_count": 310
        }
      ]
    },
    {
      "cell_type": "code",
      "metadata": {
        "id": "1h1r1FFh9TXV"
      },
      "source": [
        "p0=np.zeros((1000))\n",
        "p0[:]=1\n",
        "p0[0]=0\n",
        "#p0[47:53,47:53]=1"
      ],
      "execution_count": 311,
      "outputs": []
    },
    {
      "cell_type": "code",
      "metadata": {
        "colab": {
          "base_uri": "https://localhost:8080/"
        },
        "id": "cbRFGIf4s5pQ",
        "outputId": "0f8ba154-d97f-4d3a-a186-3e4822a00747"
      },
      "source": [
        "p0.shape"
      ],
      "execution_count": 312,
      "outputs": [
        {
          "output_type": "execute_result",
          "data": {
            "text/plain": [
              "(1000,)"
            ]
          },
          "metadata": {
            "tags": []
          },
          "execution_count": 312
        }
      ]
    },
    {
      "cell_type": "code",
      "metadata": {
        "colab": {
          "base_uri": "https://localhost:8080/",
          "height": 282
        },
        "id": "t5gEEWsX9VdN",
        "outputId": "9e001916-c4dd-436a-a231-1943587b8e3e"
      },
      "source": [
        "from mpl_toolkits.mplot3d import Axes3D\n",
        "import matplotlib.pyplot as plt\n",
        "from matplotlib import cm\n",
        "fig = plt.figure()\n",
        "#ax = fig.gca(projection='3d')\n",
        "plt.plot(_x[0], p0)\n",
        "#fig.colorbar(surf, shrink=0.5, aspect=5)\n",
        "#plt.show()"
      ],
      "execution_count": 313,
      "outputs": [
        {
          "output_type": "execute_result",
          "data": {
            "text/plain": [
              "[<matplotlib.lines.Line2D at 0x7f23c68ad950>]"
            ]
          },
          "metadata": {
            "tags": []
          },
          "execution_count": 313
        },
        {
          "output_type": "display_data",
          "data": {
            "image/png": "[encoded data removed]",
            "text/plain": [
              "<Figure size 432x288 with 1 Axes>"
            ]
          },
          "metadata": {
            "tags": [],
            "needs_background": "light"
          }
        }
      ]
    },
    {
      "cell_type": "code",
      "metadata": {
        "id": "8pM3FPKv3yMj"
      },
      "source": [
        "initial_condition = Dirichlet({'x': x,'t':t0}, {'p': p0.reshape(-1)}, device=device, name=\"initial\")"
      ],
      "execution_count": 314,
      "outputs": []
    },
    {
      "cell_type": "code",
      "metadata": {
        "colab": {
          "base_uri": "https://localhost:8080/"
        },
        "id": "fBsIBMfslJL1",
        "outputId": "08dfd3fc-43f3-45a2-d8d2-183095ef15e7"
      },
      "source": [
        "p0.shape"
      ],
      "execution_count": 315,
      "outputs": [
        {
          "output_type": "execute_result",
          "data": {
            "text/plain": [
              "(1000,)"
            ]
          },
          "metadata": {
            "tags": []
          },
          "execution_count": 315
        }
      ]
    },
    {
      "cell_type": "code",
      "metadata": {
        "id": "OXFa0Hpi30nP"
      },
      "source": [
        "pde.add_boco(initial_condition)\n",
        "#p0=np.ones(len(y))\n",
        "#p1=np.zeros(len(y))"
      ],
      "execution_count": 316,
      "outputs": []
    },
    {
      "cell_type": "code",
      "metadata": {
        "id": "Hi6Telpj32z3"
      },
      "source": [
        "pwf = PBC0({'x': np.array([0]),'t':t}, name='pwf', device=device)\n",
        "#left = Dirichlet({'x': x, 'y': y}, {'p': p0.reshape(-1)}, device=device, name=\"left\")"
      ],
      "execution_count": 317,
      "outputs": []
    },
    {
      "cell_type": "code",
      "metadata": {
        "id": "i-gJ-qWG35HC"
      },
      "source": [
        "pde.add_boco(pwf)"
      ],
      "execution_count": 318,
      "outputs": []
    },
    {
      "cell_type": "code",
      "metadata": {
        "id": "P9dMp4We38-y"
      },
      "source": [
        "#right = PBC0({'x': np.array([1]), 'y': y, 't':t}, name='right', device=device)\n",
        "#right = Dirichlet({'x': x[-1], 'y': y}, {'p': p1.reshape(-1)}, device=device, name=\"right\")\n",
        "right =  NeumannX({'x': x[-1],'t':t}, name='right', device=device)"
      ],
      "execution_count": 319,
      "outputs": []
    },
    {
      "cell_type": "code",
      "metadata": {
        "id": "-zK0NPGN3_Pm"
      },
      "source": [
        "pde.add_boco(right)"
      ],
      "execution_count": 320,
      "outputs": []
    },
    {
      "cell_type": "code",
      "metadata": {
        "id": "_Zf3hbzK4NSo"
      },
      "source": [
        "#from nangs import MLP\n",
        "\n",
        "BATCH_SIZE = 128\n",
        "LR = 1e-2\n",
        "EPOCHS = 250\n",
        "NUM_LAYERS = 4\n",
        "NUM_HIDDEN = 50\n",
        "\n",
        "mlp = MLP(len(pde.inputs), len(pde.outputs), NUM_LAYERS, NUM_HIDDEN).to(device)\n",
        "optimizer = torch.optim.Adam(mlp.parameters())\n",
        "scheduler = torch.optim.lr_scheduler.OneCycleLR(optimizer, max_lr=LR, pct_start=0.1, total_steps=EPOCHS)"
      ],
      "execution_count": 343,
      "outputs": []
    },
    {
      "cell_type": "code",
      "metadata": {
        "colab": {
          "base_uri": "https://localhost:8080/"
        },
        "id": "DktJWI5nop1Z",
        "outputId": "b7fb6b07-72d6-4053-c111-bb3126c71b5f"
      },
      "source": [
        "mlp"
      ],
      "execution_count": 344,
      "outputs": [
        {
          "output_type": "execute_result",
          "data": {
            "text/plain": [
              "MLP(\n",
              "  (mlp): Sequential(\n",
              "    (0): Linear(in_features=2, out_features=50, bias=True)\n",
              "    (1): Sequential(\n",
              "      (0): GELU()\n",
              "      (1): Linear(in_features=50, out_features=50, bias=True)\n",
              "    )\n",
              "    (2): Sequential(\n",
              "      (0): GELU()\n",
              "      (1): Linear(in_features=50, out_features=50, bias=True)\n",
              "    )\n",
              "    (3): Sequential(\n",
              "      (0): GELU()\n",
              "      (1): Linear(in_features=50, out_features=50, bias=True)\n",
              "    )\n",
              "    (4): Sequential(\n",
              "      (0): GELU()\n",
              "      (1): Linear(in_features=50, out_features=1, bias=True)\n",
              "    )\n",
              "  )\n",
              ")"
            ]
          },
          "metadata": {
            "tags": []
          },
          "execution_count": 344
        }
      ]
    },
    {
      "cell_type": "code",
      "metadata": {
        "id": "nmlVwfsY4Qpj"
      },
      "source": [
        "pde.compile(mlp, optimizer, scheduler)"
      ],
      "execution_count": 345,
      "outputs": []
    },
    {
      "cell_type": "code",
      "metadata": {
        "colab": {
          "base_uri": "https://localhost:8080/",
          "height": 1000
        },
        "id": "4HdLw0uL4TA9",
        "outputId": "1f273ad8-c258-4aa6-d2c8-95d6a7ec6301"
      },
      "source": [
        "\n",
        "%time hist = pde.solve(EPOCHS, BATCH_SIZE)"
      ],
      "execution_count": null,
      "outputs": [
        {
          "output_type": "display_data",
          "data": {
            "text/html": [
              "\n",
              "    <div>\n",
              "        <style>\n",
              "            /* Turns off some styling */\n",
              "            progress {\n",
              "                /* gets rid of default border in Firefox and Opera. */\n",
              "                border: none;\n",
              "                /* Needs to be in here for Safari polyfill so background images work as expected. */\n",
              "                background-size: auto;\n",
              "            }\n",
              "            .progress-bar-interrupted, .progress-bar-interrupted::-webkit-progress-bar {\n",
              "                background: #F44336;\n",
              "            }\n",
              "        </style>\n",
              "      <progress value='147' class='' max='250' style='width:300px; height:20px; vertical-align: middle;'></progress>\n",
              "      58.80% [147/250 13:41<09:35]\n",
              "    </div>\n",
              "    \n",
              "Epoch 1/250  | lr 0.0004 | initial 0.68507 | pwf_PWF 0.04959 | right_gradX 0.30058 | pde 0.0004<p>Epoch 2/250  | lr 0.00044 | initial 0.15079 | pwf_PWF 0.01904 | right_gradX 0.05272 | pde 0.05645<p>Epoch 3/250  | lr 0.00056 | initial 0.1118 | pwf_PWF 0.16477 | right_gradX 0.00656 | pde 0.10965<p>Epoch 4/250  | lr 0.00077 | initial 0.09735 | pwf_PWF 0.00114 | right_gradX 0.0035 | pde 0.16269<p>Epoch 5/250  | lr 0.00104 | initial 0.09262 | pwf_PWF 0.10198 | right_gradX 0.00212 | pde 0.15064<p>Epoch 6/250  | lr 0.00139 | initial 0.10823 | pwf_PWF 0.61107 | right_gradX 0.00867 | pde 0.06794<p>Epoch 7/250  | lr 0.00181 | initial 0.0821 | pwf_PWF 0.00105 | right_gradX 0.00042 | pde 0.1293<p>Epoch 8/250  | lr 0.00228 | initial 0.07809 | pwf_PWF 0.09925 | right_gradX 0.00073 | pde 0.10055<p>Epoch 9/250  | lr 0.0028 | initial 0.11297 | pwf_PWF 0.7191 | right_gradX 0.03311 | pde 0.04337<p>Epoch 10/250  | lr 0.00336 | initial 0.06665 | pwf_PWF 0.00062 | right_gradX 0.00191 | pde 0.07464<p>Epoch 11/250  | lr 0.00396 | initial 0.05841 | pwf_PWF 0.00163 | right_gradX 0.00127 | pde 0.07532<p>Epoch 12/250  | lr 0.00457 | initial 0.07182 | pwf_PWF 0.29085 | right_gradX 0.00674 | pde 0.06587<p>Epoch 13/250  | lr 0.0052 | initial 0.04996 | pwf_PWF 0.00149 | right_gradX 0.00058 | pde 0.07419<p>Epoch 14/250  | lr 0.00583 | initial 0.07632 | pwf_PWF 0.25453 | right_gradX 0.00536 | pde 0.0848<p>Epoch 15/250  | lr 0.00644 | initial 0.0535 | pwf_PWF 0.02822 | right_gradX 0.00116 | pde 0.07995<p>Epoch 16/250  | lr 0.00704 | initial 0.05065 | pwf_PWF 0.0938 | right_gradX 0.00148 | pde 0.07964<p>Epoch 17/250  | lr 0.0076 | initial 0.04854 | pwf_PWF 0.09797 | right_gradX 0.0022 | pde 0.07665<p>Epoch 18/250  | lr 0.00812 | initial 0.04499 | pwf_PWF 0.05737 | right_gradX 0.00174 | pde 0.07392<p>Epoch 19/250  | lr 0.00859 | initial 0.04809 | pwf_PWF 0.2108 | right_gradX 0.00192 | pde 0.08574<p>Epoch 20/250  | lr 0.00901 | initial 0.04135 | pwf_PWF 0.00241 | right_gradX 0.00104 | pde 0.06422<p>Epoch 21/250  | lr 0.00936 | initial 0.04165 | pwf_PWF 0.12298 | right_gradX 0.00177 | pde 0.06562<p>Epoch 22/250  | lr 0.00963 | initial 0.04218 | pwf_PWF 0.1026 | right_gradX 0.0026 | pde 0.07655<p>Epoch 23/250  | lr 0.00984 | initial 0.05421 | pwf_PWF 0.25669 | right_gradX 0.00783 | pde 0.06746<p>Epoch 24/250  | lr 0.00996 | initial 0.06091 | pwf_PWF 0.39082 | right_gradX 0.01209 | pde 0.11291<p>Epoch 25/250  | lr 0.01 | initial 0.04046 | pwf_PWF 0.01154 | right_gradX 0.00158 | pde 0.04877<p>Epoch 26/250  | lr 0.01 | initial 0.03602 | pwf_PWF 0.01519 | right_gradX 0.00117 | pde 0.04401<p>Epoch 27/250  | lr 0.01 | initial 0.03406 | pwf_PWF 0.03466 | right_gradX 0.00145 | pde 0.03751<p>Epoch 28/250  | lr 0.01 | initial 0.03913 | pwf_PWF 0.22447 | right_gradX 0.00792 | pde 0.03676<p>Epoch 29/250  | lr 0.00999 | initial 0.06435 | pwf_PWF 0.18062 | right_gradX 0.01012 | pde 0.09965<p>Epoch 30/250  | lr 0.00999 | initial 0.04479 | pwf_PWF 0.02322 | right_gradX 0.00144 | pde 0.0605<p>Epoch 31/250  | lr 0.00998 | initial 0.04177 | pwf_PWF 0.04162 | right_gradX 0.00256 | pde 0.05826<p>Epoch 32/250  | lr 0.00998 | initial 0.03857 | pwf_PWF 0.01944 | right_gradX 0.00181 | pde 0.05325<p>Epoch 33/250  | lr 0.00997 | initial 0.03706 | pwf_PWF 0.03108 | right_gradX 0.00174 | pde 0.04629<p>Epoch 34/250  | lr 0.00996 | initial 0.03534 | pwf_PWF 0.02814 | right_gradX 0.00163 | pde 0.04684<p>Epoch 35/250  | lr 0.00995 | initial 0.0358 | pwf_PWF 0.05575 | right_gradX 0.00198 | pde 0.05102<p>Epoch 36/250  | lr 0.00994 | initial 0.03378 | pwf_PWF 0.03159 | right_gradX 0.00173 | pde 0.04571<p>Epoch 37/250  | lr 0.00993 | initial 0.03477 | pwf_PWF 0.0629 | right_gradX 0.00302 | pde 0.04914<p>Epoch 38/250  | lr 0.00992 | initial 0.03425 | pwf_PWF 0.06919 | right_gradX 0.00274 | pde 0.05768<p>Epoch 39/250  | lr 0.0099 | initial 0.03426 | pwf_PWF 0.07407 | right_gradX 0.00245 | pde 0.06491<p>Epoch 40/250  | lr 0.00989 | initial 0.03438 | pwf_PWF 0.08742 | right_gradX 0.00433 | pde 0.0504<p>Epoch 41/250  | lr 0.00988 | initial 0.03333 | pwf_PWF 0.12813 | right_gradX 0.00511 | pde 0.05902<p>Epoch 42/250  | lr 0.00986 | initial 0.04514 | pwf_PWF 0.14369 | right_gradX 0.00661 | pde 0.09471<p>Epoch 43/250  | lr 0.00984 | initial 0.03916 | pwf_PWF 0.0798 | right_gradX 0.00614 | pde 0.06123<p>Epoch 44/250  | lr 0.00983 | initial 0.03526 | pwf_PWF 0.04646 | right_gradX 0.00374 | pde 0.08334<p>Epoch 45/250  | lr 0.00981 | initial 0.99144 | pwf_PWF 48.15939 | right_gradX 0.10119 | pde 0.11023<p>Epoch 46/250  | lr 0.00979 | initial 0.99713 | pwf_PWF 0.00681 | right_gradX 0.0 | pde 0.00018<p>Epoch 47/250  | lr 0.00977 | initial 0.99623 | pwf_PWF 0.00742 | right_gradX 0.0 | pde 0.00025<p>Epoch 48/250  | lr 0.00974 | initial 0.974 | pwf_PWF 0.01812 | right_gradX 0.00039 | pde 0.01646<p>Epoch 49/250  | lr 0.00972 | initial 0.92826 | pwf_PWF 0.01055 | right_gradX 0.00048 | pde 0.02084<p>Epoch 50/250  | lr 0.0097 | initial 0.88655 | pwf_PWF 0.03239 | right_gradX 0.00027 | pde 0.02607<p>Epoch 51/250  | lr 0.00967 | initial 0.81482 | pwf_PWF 0.14987 | right_gradX 0.00118 | pde 0.04698<p>Epoch 52/250  | lr 0.00965 | initial 0.747 | pwf_PWF 0.01781 | right_gradX 0.00091 | pde 0.04914<p>Epoch 53/250  | lr 0.00962 | initial 0.66693 | pwf_PWF 0.01654 | right_gradX 0.00054 | pde 0.05417<p>Epoch 54/250  | lr 0.0096 | initial 0.60106 | pwf_PWF 0.01162 | right_gradX 0.00067 | pde 0.0661<p>Epoch 55/250  | lr 0.00957 | initial 0.5379 | pwf_PWF 0.0097 | right_gradX 0.00033 | pde 0.07616<p>Epoch 56/250  | lr 0.00954 | initial 0.4778 | pwf_PWF 0.00932 | right_gradX 0.00024 | pde 0.08445<p>Epoch 57/250  | lr 0.00951 | initial 0.42068 | pwf_PWF 0.00924 | right_gradX 0.00027 | pde 0.08823<p>Epoch 58/250  | lr 0.00948 | initial 0.36781 | pwf_PWF 0.01094 | right_gradX 0.00052 | pde 0.09131<p>Epoch 59/250  | lr 0.00945 | initial 0.31762 | pwf_PWF 0.01553 | right_gradX 0.00078 | pde 0.08621<p>Epoch 60/250  | lr 0.00941 | initial 0.2633 | pwf_PWF 0.07867 | right_gradX 0.00122 | pde 0.07261<p>Epoch 61/250  | lr 0.00938 | initial 0.20308 | pwf_PWF 0.05138 | right_gradX 0.00121 | pde 0.0913<p>Epoch 62/250  | lr 0.00935 | initial 0.16057 | pwf_PWF 0.06065 | right_gradX 0.00159 | pde 0.08471<p>Epoch 63/250  | lr 0.00931 | initial 0.91552 | pwf_PWF 183.5341 | right_gradX 0.00987 | pde 0.35979<p>Epoch 64/250  | lr 0.00928 | initial 0.99778 | pwf_PWF 0.00638 | right_gradX 0.0 | pde 0.0<p>Epoch 65/250  | lr 0.00924 | initial 0.99759 | pwf_PWF 0.00638 | right_gradX 0.0 | pde 0.0<p>Epoch 66/250  | lr 0.0092 | initial 0.99751 | pwf_PWF 0.00638 | right_gradX 0.0 | pde 0.0<p>Epoch 67/250  | lr 0.00916 | initial 0.99748 | pwf_PWF 0.00638 | right_gradX 0.0 | pde 0.0<p>Epoch 68/250  | lr 0.00913 | initial 0.99747 | pwf_PWF 0.00638 | right_gradX 0.0 | pde 0.0<p>Epoch 69/250  | lr 0.00909 | initial 0.99746 | pwf_PWF 0.00638 | right_gradX 0.0 | pde 0.0<p>Epoch 70/250  | lr 0.00905 | initial 0.99745 | pwf_PWF 0.00638 | right_gradX 0.0 | pde 0.0<p>Epoch 71/250  | lr 0.009 | initial 0.99744 | pwf_PWF 0.00638 | right_gradX 0.0 | pde 0.0<p>Epoch 72/250  | lr 0.00896 | initial 0.99743 | pwf_PWF 0.00638 | right_gradX 0.0 | pde 0.0<p>Epoch 73/250  | lr 0.00892 | initial 0.99743 | pwf_PWF 0.00638 | right_gradX 0.0 | pde 0.0<p>Epoch 74/250  | lr 0.00887 | initial 0.99743 | pwf_PWF 0.00638 | right_gradX 0.0 | pde 0.0<p>Epoch 75/250  | lr 0.00883 | initial 0.99741 | pwf_PWF 0.00638 | right_gradX 0.0 | pde 0.0<p>Epoch 76/250  | lr 0.00878 | initial 0.99742 | pwf_PWF 0.00638 | right_gradX 0.0 | pde 0.0<p>Epoch 77/250  | lr 0.00874 | initial 0.99741 | pwf_PWF 0.00638 | right_gradX 0.0 | pde 0.0<p>Epoch 78/250  | lr 0.00869 | initial 0.99742 | pwf_PWF 0.00638 | right_gradX 0.0 | pde 0.0<p>Epoch 79/250  | lr 0.00864 | initial 0.99741 | pwf_PWF 0.00638 | right_gradX 0.0 | pde 0.0<p>Epoch 80/250  | lr 0.0086 | initial 0.99741 | pwf_PWF 0.00638 | right_gradX 0.0 | pde 0.0<p>Epoch 81/250  | lr 0.00855 | initial 0.99742 | pwf_PWF 0.00638 | right_gradX 0.0 | pde 0.0<p>Epoch 82/250  | lr 0.0085 | initial 0.9974 | pwf_PWF 0.00638 | right_gradX 0.0 | pde 0.0<p>Epoch 83/250  | lr 0.00845 | initial 0.99741 | pwf_PWF 0.00638 | right_gradX 0.0 | pde 0.0<p>Epoch 84/250  | lr 0.0084 | initial 0.9974 | pwf_PWF 0.00638 | right_gradX 0.0 | pde 0.0<p>Epoch 85/250  | lr 0.00835 | initial 0.99741 | pwf_PWF 0.00638 | right_gradX 0.0 | pde 0.0<p>Epoch 86/250  | lr 0.00829 | initial 0.99741 | pwf_PWF 0.00638 | right_gradX 0.0 | pde 0.0<p>Epoch 87/250  | lr 0.00824 | initial 0.99742 | pwf_PWF 0.00638 | right_gradX 0.0 | pde 0.0<p>Epoch 88/250  | lr 0.00819 | initial 0.99741 | pwf_PWF 0.00638 | right_gradX 0.0 | pde 0.0<p>Epoch 89/250  | lr 0.00813 | initial 0.9974 | pwf_PWF 0.00638 | right_gradX 0.0 | pde 0.0<p>Epoch 90/250  | lr 0.00808 | initial 0.99741 | pwf_PWF 0.00638 | right_gradX 0.0 | pde 0.0<p>Epoch 91/250  | lr 0.00802 | initial 0.9974 | pwf_PWF 0.00638 | right_gradX 0.0 | pde 0.0<p>Epoch 92/250  | lr 0.00797 | initial 0.99742 | pwf_PWF 0.00638 | right_gradX 0.0 | pde 0.0<p>Epoch 93/250  | lr 0.00791 | initial 0.99741 | pwf_PWF 0.00638 | right_gradX 0.0 | pde 0.0<p>Epoch 94/250  | lr 0.00785 | initial 0.99741 | pwf_PWF 0.00638 | right_gradX 0.0 | pde 0.0<p>Epoch 95/250  | lr 0.0078 | initial 0.99741 | pwf_PWF 0.00638 | right_gradX 0.0 | pde 0.0<p>Epoch 96/250  | lr 0.00774 | initial 0.9974 | pwf_PWF 0.00638 | right_gradX 0.0 | pde 0.0<p>Epoch 97/250  | lr 0.00768 | initial 0.99742 | pwf_PWF 0.00638 | right_gradX 0.0 | pde 0.0<p>Epoch 98/250  | lr 0.00762 | initial 0.99741 | pwf_PWF 0.00638 | right_gradX 0.0 | pde 0.0<p>Epoch 99/250  | lr 0.00756 | initial 0.9974 | pwf_PWF 0.00638 | right_gradX 0.0 | pde 0.0<p>Epoch 100/250  | lr 0.0075 | initial 0.9974 | pwf_PWF 0.00638 | right_gradX 0.0 | pde 0.0<p>Epoch 101/250  | lr 0.00744 | initial 0.99741 | pwf_PWF 0.00638 | right_gradX 0.0 | pde 0.0<p>Epoch 102/250  | lr 0.00738 | initial 0.9974 | pwf_PWF 0.00638 | right_gradX 0.0 | pde 0.0<p>Epoch 103/250  | lr 0.00732 | initial 0.99741 | pwf_PWF 0.00638 | right_gradX 0.0 | pde 0.0<p>Epoch 104/250  | lr 0.00725 | initial 0.99741 | pwf_PWF 0.00638 | right_gradX 0.0 | pde 0.0<p>Epoch 105/250  | lr 0.00719 | initial 0.99741 | pwf_PWF 0.00638 | right_gradX 0.0 | pde 0.0<p>Epoch 106/250  | lr 0.00713 | initial 0.9974 | pwf_PWF 0.00638 | right_gradX 0.0 | pde 0.0<p>Epoch 107/250  | lr 0.00707 | initial 0.9974 | pwf_PWF 0.00638 | right_gradX 0.0 | pde 0.0<p>Epoch 108/250  | lr 0.007 | initial 0.99741 | pwf_PWF 0.00638 | right_gradX 0.0 | pde 0.0<p>Epoch 109/250  | lr 0.00694 | initial 0.99741 | pwf_PWF 0.00638 | right_gradX 0.0 | pde 0.0<p>Epoch 110/250  | lr 0.00687 | initial 0.99741 | pwf_PWF 0.00638 | right_gradX 0.0 | pde 0.0<p>Epoch 111/250  | lr 0.00681 | initial 0.9974 | pwf_PWF 0.00638 | right_gradX 0.0 | pde 0.0<p>Epoch 112/250  | lr 0.00674 | initial 0.9974 | pwf_PWF 0.00638 | right_gradX 0.0 | pde 0.0<p>Epoch 113/250  | lr 0.00668 | initial 0.99741 | pwf_PWF 0.00638 | right_gradX 0.0 | pde 0.0<p>Epoch 114/250  | lr 0.00661 | initial 0.9974 | pwf_PWF 0.00638 | right_gradX 0.0 | pde 0.0<p>Epoch 115/250  | lr 0.00655 | initial 0.9974 | pwf_PWF 0.00638 | right_gradX 0.0 | pde 0.0<p>Epoch 116/250  | lr 0.00648 | initial 0.99741 | pwf_PWF 0.00638 | right_gradX 0.0 | pde 0.0<p>Epoch 117/250  | lr 0.00641 | initial 0.99741 | pwf_PWF 0.00638 | right_gradX 0.0 | pde 0.0<p>Epoch 118/250  | lr 0.00634 | initial 0.99741 | pwf_PWF 0.00638 | right_gradX 0.0 | pde 0.0<p>Epoch 119/250  | lr 0.00628 | initial 0.9974 | pwf_PWF 0.00638 | right_gradX 0.0 | pde 0.0<p>Epoch 120/250  | lr 0.00621 | initial 0.99741 | pwf_PWF 0.00638 | right_gradX 0.0 | pde 0.0<p>Epoch 121/250  | lr 0.00614 | initial 0.9974 | pwf_PWF 0.00638 | right_gradX 0.0 | pde 0.0<p>Epoch 122/250  | lr 0.00607 | initial 0.9974 | pwf_PWF 0.00638 | right_gradX 0.0 | pde 0.0<p>Epoch 123/250  | lr 0.00601 | initial 0.99741 | pwf_PWF 0.00638 | right_gradX 0.0 | pde 0.0<p>Epoch 124/250  | lr 0.00594 | initial 0.9974 | pwf_PWF 0.00638 | right_gradX 0.0 | pde 0.0<p>Epoch 125/250  | lr 0.00587 | initial 0.99741 | pwf_PWF 0.00638 | right_gradX 0.0 | pde 0.0<p>Epoch 126/250  | lr 0.0058 | initial 0.9974 | pwf_PWF 0.00638 | right_gradX 0.0 | pde 0.0<p>Epoch 127/250  | lr 0.00573 | initial 0.99741 | pwf_PWF 0.00638 | right_gradX 0.0 | pde 0.0<p>Epoch 128/250  | lr 0.00566 | initial 0.99741 | pwf_PWF 0.00638 | right_gradX 0.0 | pde 0.0<p>Epoch 129/250  | lr 0.00559 | initial 0.9974 | pwf_PWF 0.00638 | right_gradX 0.0 | pde 0.0<p>Epoch 130/250  | lr 0.00552 | initial 0.9974 | pwf_PWF 0.00638 | right_gradX 0.0 | pde 0.0<p>Epoch 131/250  | lr 0.00545 | initial 0.99741 | pwf_PWF 0.00638 | right_gradX 0.0 | pde 0.0<p>Epoch 132/250  | lr 0.00538 | initial 0.99741 | pwf_PWF 0.00638 | right_gradX 0.0 | pde 0.0<p>Epoch 133/250  | lr 0.00531 | initial 0.9974 | pwf_PWF 0.00638 | right_gradX 0.0 | pde 0.0<p>Epoch 134/250  | lr 0.00524 | initial 0.99741 | pwf_PWF 0.00638 | right_gradX 0.0 | pde 0.0<p>Epoch 135/250  | lr 0.00517 | initial 0.9974 | pwf_PWF 0.00638 | right_gradX 0.0 | pde 0.0<p>Epoch 136/250  | lr 0.0051 | initial 0.9974 | pwf_PWF 0.00638 | right_gradX 0.0 | pde 0.0<p>Epoch 137/250  | lr 0.00503 | initial 0.99741 | pwf_PWF 0.00638 | right_gradX 0.0 | pde 0.0<p>Epoch 138/250  | lr 0.00497 | initial 0.9974 | pwf_PWF 0.00638 | right_gradX 0.0 | pde 0.0<p>Epoch 139/250  | lr 0.0049 | initial 0.99741 | pwf_PWF 0.00638 | right_gradX 0.0 | pde 0.0<p>Epoch 140/250  | lr 0.00483 | initial 0.9974 | pwf_PWF 0.00653 | right_gradX 0.0 | pde 0.0<p>Epoch 141/250  | lr 0.00476 | initial 0.99741 | pwf_PWF 0.00653 | right_gradX 0.0 | pde 0.0<p>Epoch 142/250  | lr 0.00469 | initial 0.99741 | pwf_PWF 0.00651 | right_gradX 0.0 | pde 0.0<p>Epoch 143/250  | lr 0.00462 | initial 0.99741 | pwf_PWF 0.00643 | right_gradX 0.0 | pde 0.0<p>Epoch 144/250  | lr 0.00455 | initial 0.9974 | pwf_PWF 0.0065 | right_gradX 0.0 | pde 0.0<p>Epoch 145/250  | lr 0.00448 | initial 0.99741 | pwf_PWF 0.00647 | right_gradX 0.0 | pde 0.0<p>Epoch 146/250  | lr 0.00441 | initial 0.9974 | pwf_PWF 0.00642 | right_gradX 0.0 | pde 0.0<p>Epoch 147/250  | lr 0.00434 | initial 0.99741 | pwf_PWF 0.00649 | right_gradX 0.0 | pde 0.0<p>\n",
              "\n",
              "    <div>\n",
              "        <style>\n",
              "            /* Turns off some styling */\n",
              "            progress {\n",
              "                /* gets rid of default border in Firefox and Opera. */\n",
              "                border: none;\n",
              "                /* Needs to be in here for Safari polyfill so background images work as expected. */\n",
              "                background-size: auto;\n",
              "            }\n",
              "            .progress-bar-interrupted, .progress-bar-interrupted::-webkit-progress-bar {\n",
              "                background: #F44336;\n",
              "            }\n",
              "        </style>\n",
              "      <progress value='45' class='' max='157' style='width:300px; height:20px; vertical-align: middle;'></progress>\n",
              "      28.66% [45/157 00:01<00:03 {'initial': 0.99742, 'pwf_PWF': 0.00637, 'right_gradX': 0.0, 'pde': 0.0}]\n",
              "    </div>\n",
              "    "
            ],
            "text/plain": [
              "<IPython.core.display.HTML object>"
            ]
          },
          "metadata": {
            "tags": []
          }
        }
      ]
    },
    {
      "cell_type": "code",
      "metadata": {
        "id": "6pWQeuc14V_9"
      },
      "source": [
        "t = 0.0\n",
        "x = np.linspace(0,1,100)\n",
        "#y = np.linspace(0,1,100)\n",
        "\n",
        "_x, _t = np.meshgrid(x, t)\n",
        "eval_mesh = Mesh({'x': x,  't':t}, device=device)\n",
        "p = pde.eval(eval_mesh)\n",
        "p = p.cpu().numpy()\n",
        "#p5 = p.reshape((_y.shape[0],_x.shape[1]))"
      ],
      "execution_count": 338,
      "outputs": []
    },
    {
      "cell_type": "code",
      "metadata": {
        "id": "u07DcjAPde7K"
      },
      "source": [
        "ppp=[]\n",
        "x = np.linspace(0.0,1,100)\n",
        "for t in np.linspace(0.,1.,10):\n",
        "  #_x,_t = np.meshgrid(x,t)\n",
        "  eval_mesh = Mesh({'x': x,  't':t}, device=device)\n",
        "  pp = pde.eval(eval_mesh)\n",
        "  pp = pp.cpu().numpy()\n",
        "  ppp.append(pp)"
      ],
      "execution_count": 341,
      "outputs": []
    },
    {
      "cell_type": "code",
      "metadata": {
        "id": "ycJ8qxzpGTBF",
        "colab": {
          "base_uri": "https://localhost:8080/",
          "height": 265
        },
        "outputId": "369f7fbf-b9f6-4704-c7a7-77d0ffe8ed57"
      },
      "source": [
        "for p in ppp:\n",
        "  plt.plot(p)"
      ],
      "execution_count": 342,
      "outputs": [
        {
          "output_type": "display_data",
          "data": {
            "image/png": "[encoded data removed]",
            "text/plain": [
              "<Figure size 432x288 with 1 Axes>"
            ]
          },
          "metadata": {
            "tags": [],
            "needs_background": "light"
          }
        }
      ]
    },
    {
      "cell_type": "code",
      "metadata": {
        "colab": {
          "base_uri": "https://localhost:8080/",
          "height": 265
        },
        "id": "9jQODc_2OV6D",
        "outputId": "be32c6d5-4619-4430-be89-24378c010990"
      },
      "source": [
        "for p in ppp:\n",
        "  plt.plot(p)"
      ],
      "execution_count": 271,
      "outputs": [
        {
          "output_type": "display_data",
          "data": {
            "image/png": "[encoded data removed]",
            "text/plain": [
              "<Figure size 432x288 with 1 Axes>"
            ]
          },
          "metadata": {
            "tags": [],
            "needs_background": "light"
          }
        }
      ]
    },
    {
      "cell_type": "code",
      "metadata": {
        "id": "liWZrbRZkrn9",
        "colab": {
          "base_uri": "https://localhost:8080/",
          "height": 265
        },
        "outputId": "57e232c7-c6bd-4d40-d4cb-30ea601ae361"
      },
      "source": [
        "plt.plot(hist['initial'])\n",
        "plt.plot(hist['pde'])\n",
        "plt.yscale('log')"
      ],
      "execution_count": 288,
      "outputs": [
        {
          "output_type": "display_data",
          "data": {
            "image/png": "[encoded data removed]",
            "text/plain": [
              "<Figure size 432x288 with 1 Axes>"
            ]
          },
          "metadata": {
            "tags": [],
            "needs_background": "light"
          }
        }
      ]
    },
    {
      "cell_type": "code",
      "metadata": {
        "colab": {
          "base_uri": "https://localhost:8080/"
        },
        "id": "ilPOuGLdPjri",
        "outputId": "eec4a96d-c371-4d64-977d-d8ce58ef2e66"
      },
      "source": [
        "hist.keys()"
      ],
      "execution_count": 252,
      "outputs": [
        {
          "output_type": "execute_result",
          "data": {
            "text/plain": [
              "dict_keys(['lr', 'initial', 'pwf_PWF', 'right_gradX', 'pde'])"
            ]
          },
          "metadata": {
            "tags": []
          },
          "execution_count": 252
        }
      ]
    },
    {
      "cell_type": "code",
      "metadata": {
        "id": "uvWURicjPt_j"
      },
      "source": [
        ""
      ],
      "execution_count": null,
      "outputs": []
    }
  ]
}