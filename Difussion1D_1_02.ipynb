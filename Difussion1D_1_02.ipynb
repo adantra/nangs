{
  "nbformat": 4,
  "nbformat_minor": 0,
  "metadata": {
    "accelerator": "GPU",
    "colab": {
      "name": "Difussion1D_1.02.ipynb",
      "provenance": [],
      "collapsed_sections": [],
      "machine_shape": "hm",
      "include_colab_link": true
    },
    "kernelspec": {
      "display_name": "Python 3",
      "language": "python",
      "name": "python3"
    },
    "language_info": {
      "codemirror_mode": {
        "name": "ipython",
        "version": 3
      },
      "file_extension": ".py",
      "mimetype": "text/x-python",
      "name": "python",
      "nbconvert_exporter": "python",
      "pygments_lexer": "ipython3",
      "version": "3.9.5"
    }
  },
  "cells": [
    {
      "cell_type": "markdown",
      "metadata": {
        "id": "view-in-github",
        "colab_type": "text"
      },
      "source": [
        "<a href=\"https://colab.research.google.com/github/adantra/nangs/blob/master/Difussion1D_1_02.ipynb\" target=\"_parent\"><img src=\"https://colab.research.google.com/assets/colab-badge.svg\" alt=\"Open In Colab\"/></a>"
      ]
    },
    {
      "cell_type": "code",
      "metadata": {
        "colab": {
          "base_uri": "https://localhost:8080/"
        },
        "id": "49OBlKX_2X0p",
        "outputId": "58db1804-1b5b-4b7c-f1ec-f65e72c130e5"
      },
      "source": [
        "!pip install nangs"
      ],
      "execution_count": 1,
      "outputs": [
        {
          "output_type": "stream",
          "text": [
            "Requirement already satisfied: nangs in /usr/local/lib/python3.7/dist-packages (0.1.2)\n"
          ],
          "name": "stdout"
        }
      ]
    },
    {
      "cell_type": "code",
      "metadata": {
        "id": "LyXPy8I92Z7g"
      },
      "source": [
        "# autoreload nangs\n",
        "%reload_ext autoreload\n",
        "%autoreload 2\n",
        "%matplotlib inline"
      ],
      "execution_count": 2,
      "outputs": []
    },
    {
      "cell_type": "code",
      "metadata": {
        "id": "U2WOWy_Hp4oE"
      },
      "source": [
        ""
      ],
      "execution_count": 2,
      "outputs": []
    },
    {
      "cell_type": "code",
      "metadata": {
        "colab": {
          "base_uri": "https://localhost:8080/"
        },
        "id": "2tc_1Iyo2lV-",
        "outputId": "1e5eec70-9837-4d73-ebd2-e48fbfc3fac4"
      },
      "source": [
        "#imports\n",
        "\n",
        "import numpy as np \n",
        "import matplotlib.pyplot as plt \n",
        "import torch\n",
        "import pandas as pd\n",
        "import nangs\n",
        "from nangs import *\n",
        "\n",
        "device = \"cuda\" if torch.cuda.is_available() else \"cpu\"\n",
        "\n",
        "nangs.__version__, torch.__version__"
      ],
      "execution_count": 122,
      "outputs": [
        {
          "output_type": "execute_result",
          "data": {
            "text/plain": [
              "('0.1.2', '1.9.0+cu102')"
            ]
          },
          "metadata": {
            "tags": []
          },
          "execution_count": 122
        }
      ]
    },
    {
      "cell_type": "code",
      "metadata": {
        "id": "DUxgB4S-p-AD"
      },
      "source": [
        "class Sine(torch.nn.Module):\n",
        "    def __init__(self):\n",
        "        super().__init__()\n",
        "\n",
        "    def forward(self, x):\n",
        "        return torch.sin(x)\n",
        "\n",
        "\n",
        "def block(i, o):\n",
        "    fc = torch.nn.Linear(i, o)\n",
        "    return torch.nn.Sequential(\n",
        "        #Sine(),\n",
        "        torch.nn.GELU(),\n",
        "        torch.nn.Linear(i, o)\n",
        "    )\n",
        "\n",
        "\n",
        "class MLP(torch.nn.Module):\n",
        "    def __init__(self, inputs, outputs, layers, neurons):\n",
        "        super().__init__()\n",
        "        fc_in = torch.nn.Linear(inputs, neurons)\n",
        "        fc_hidden = [\n",
        "            block(neurons, neurons)\n",
        "            for layer in range(layers-1)\n",
        "        ]\n",
        "        fc_out = block(neurons, outputs)\n",
        "\n",
        "        self.mlp = torch.nn.Sequential(\n",
        "            fc_in,\n",
        "            *fc_hidden,\n",
        "            fc_out\n",
        "        )\n",
        "\n",
        "    def forward(self, x):\n",
        "        return self.mlp(x)"
      ],
      "execution_count": 329,
      "outputs": []
    },
    {
      "cell_type": "code",
      "metadata": {
        "colab": {
          "base_uri": "https://localhost:8080/",
          "height": 37
        },
        "id": "rTta38DB2obV",
        "outputId": "1e1a4a6f-7d24-4ed0-b230-c4ceb5c115b2"
      },
      "source": [
        "device\n"
      ],
      "execution_count": 330,
      "outputs": [
        {
          "output_type": "execute_result",
          "data": {
            "application/vnd.google.colaboratory.intrinsic+json": {
              "type": "string"
            },
            "text/plain": [
              "'cuda'"
            ]
          },
          "metadata": {
            "tags": []
          },
          "execution_count": 330
        }
      ]
    },
    {
      "cell_type": "code",
      "metadata": {
        "id": "W55VlZAO2vcY"
      },
      "source": [
        "alpha=10\n",
        "class Difussion2d(PDE):\n",
        "    def computePDELoss(self, inputs, outputs):\n",
        "        p = outputs[:, 0]\n",
        "        grads = self.computeGrads(p, inputs)\n",
        "        dpdx, dpdt = grads[:, 0], grads[:, 1]\n",
        "        # second order derivatives        \n",
        "        dp2dx2 = self.computeGrads(dpdx, inputs)[:, 0] \n",
        "        #dp2dy2 = self.computeGrads(dpdy, inputs)[:, 1]\n",
        "        return {'pde':dpdt - dp2dx2}"
      ],
      "execution_count": 331,
      "outputs": []
    },
    {
      "cell_type": "code",
      "metadata": {
        "id": "Wuq89V6s3dOX"
      },
      "source": [
        "class NeumannX(Neumann):\n",
        "    def computeBocoLoss(self, inputs, outputs):\n",
        "        p = outputs[:, 0]\n",
        "        grads = self.computeGrads(p, inputs)\n",
        "        dpdx = grads[:, 0]\n",
        "        return {'gradX': dpdx}"
      ],
      "execution_count": 332,
      "outputs": []
    },
    {
      "cell_type": "code",
      "metadata": {
        "id": "rvzoV1AWGmUc"
      },
      "source": [
        "class PBC0(Neumann):\n",
        "    def computeBocoLoss(self, inputs, outputs):\n",
        "        pbc = 0\n",
        "        p = outputs[:, 0]\n",
        "        return {'PWF': 100*(p-pbc)}"
      ],
      "execution_count": 333,
      "outputs": []
    },
    {
      "cell_type": "code",
      "metadata": {
        "id": "IturBEIS3jyj"
      },
      "source": [
        "pde = Difussion2d(inputs=('x', 't'), outputs='p')"
      ],
      "execution_count": 334,
      "outputs": []
    },
    {
      "cell_type": "code",
      "metadata": {
        "id": "noGwdmy4i-iJ"
      },
      "source": [
        "def append(arr, values, axis=None):\n",
        "    arr = np.asanyarray(arr)\n",
        "    if axis is None:\n",
        "        if arr.ndim != 1:\n",
        "            arr = arr.ravel()\n",
        "        values = np.ravel(values)\n",
        "        axis = arr.ndim-1\n",
        "    return np.concatenate((arr, values), axis=axis)"
      ],
      "execution_count": 335,
      "outputs": []
    },
    {
      "cell_type": "code",
      "metadata": {
        "id": "v6s9koba3mHJ"
      },
      "source": [
        "# mesh \n",
        "\n",
        "x = np.linspace(0,1,100)\n",
        "\n",
        "t = np.linspace(0,1,100)\n",
        "#t = append(t,np.linspace(0.2,1,10))\n",
        "#t=np.array([0])\n",
        "#tt=np.logspace(-2,0,20)\n",
        "#t = append(t,tt)\n",
        "mesh = Mesh({'x': x, 't':t}, device=device)\n",
        "pde.set_mesh(mesh)"
      ],
      "execution_count": 336,
      "outputs": []
    },
    {
      "cell_type": "code",
      "metadata": {
        "id": "OkCZuKCO3o1C"
      },
      "source": [
        "from nangs import Dirichlet"
      ],
      "execution_count": 337,
      "outputs": []
    },
    {
      "cell_type": "code",
      "metadata": {
        "id": "FNI7VwAX3tN2"
      },
      "source": [
        "t0 = np.array([0])"
      ],
      "execution_count": 338,
      "outputs": []
    },
    {
      "cell_type": "code",
      "metadata": {
        "id": "kP0TCEoD3veq"
      },
      "source": [
        "_x = np.meshgrid(x)\n",
        "#p0 = np.sin(2*np.pi*_x)*np.sin(2*np.pi*_y)"
      ],
      "execution_count": 339,
      "outputs": []
    },
    {
      "cell_type": "code",
      "metadata": {
        "colab": {
          "base_uri": "https://localhost:8080/"
        },
        "id": "OlTzWIthkgYA",
        "outputId": "8de49b49-3812-40db-f759-a72263e20209"
      },
      "source": [
        "_x[0].shape"
      ],
      "execution_count": 340,
      "outputs": [
        {
          "output_type": "execute_result",
          "data": {
            "text/plain": [
              "(100,)"
            ]
          },
          "metadata": {
            "tags": []
          },
          "execution_count": 340
        }
      ]
    },
    {
      "cell_type": "code",
      "metadata": {
        "id": "1h1r1FFh9TXV"
      },
      "source": [
        "p0=np.zeros((100))\n",
        "p0[:]=1\n",
        "p0[0]=0\n",
        "#p0[47:53,47:53]=1"
      ],
      "execution_count": 341,
      "outputs": []
    },
    {
      "cell_type": "code",
      "metadata": {
        "colab": {
          "base_uri": "https://localhost:8080/"
        },
        "id": "cbRFGIf4s5pQ",
        "outputId": "8b45ba9b-fab3-4fbf-813b-bf9a87580b28"
      },
      "source": [
        "p0.shape"
      ],
      "execution_count": 342,
      "outputs": [
        {
          "output_type": "execute_result",
          "data": {
            "text/plain": [
              "(100,)"
            ]
          },
          "metadata": {
            "tags": []
          },
          "execution_count": 342
        }
      ]
    },
    {
      "cell_type": "code",
      "metadata": {
        "colab": {
          "base_uri": "https://localhost:8080/",
          "height": 282
        },
        "id": "t5gEEWsX9VdN",
        "outputId": "cd3e3b8a-3e94-422d-c1fa-e4f7eed3420c"
      },
      "source": [
        "from mpl_toolkits.mplot3d import Axes3D\n",
        "import matplotlib.pyplot as plt\n",
        "from matplotlib import cm\n",
        "fig = plt.figure()\n",
        "#ax = fig.gca(projection='3d')\n",
        "plt.plot(_x[0], p0)\n",
        "#fig.colorbar(surf, shrink=0.5, aspect=5)\n",
        "#plt.show()"
      ],
      "execution_count": 343,
      "outputs": [
        {
          "output_type": "execute_result",
          "data": {
            "text/plain": [
              "[<matplotlib.lines.Line2D at 0x7f5bf0ce4590>]"
            ]
          },
          "metadata": {
            "tags": []
          },
          "execution_count": 343
        },
        {
          "output_type": "display_data",
          "data": {
            "image/png": "[encoded data removed]",
            "text/plain": [
              "<Figure size 432x288 with 1 Axes>"
            ]
          },
          "metadata": {
            "tags": [],
            "needs_background": "light"
          }
        }
      ]
    },
    {
      "cell_type": "code",
      "metadata": {
        "id": "8pM3FPKv3yMj"
      },
      "source": [
        "initial_condition = Dirichlet({'x': x,'t':t0}, {'p': p0.reshape(-1)}, device=device, name=\"initial\")"
      ],
      "execution_count": 344,
      "outputs": []
    },
    {
      "cell_type": "code",
      "metadata": {
        "colab": {
          "base_uri": "https://localhost:8080/"
        },
        "id": "fBsIBMfslJL1",
        "outputId": "cf4ce65b-a6de-4d1c-c37e-fd18684202ea"
      },
      "source": [
        "p0.shape"
      ],
      "execution_count": 345,
      "outputs": [
        {
          "output_type": "execute_result",
          "data": {
            "text/plain": [
              "(100,)"
            ]
          },
          "metadata": {
            "tags": []
          },
          "execution_count": 345
        }
      ]
    },
    {
      "cell_type": "code",
      "metadata": {
        "id": "OXFa0Hpi30nP"
      },
      "source": [
        "pde.add_boco(initial_condition)\n",
        "#p0=np.ones(len(y))\n",
        "#p1=np.zeros(len(y))"
      ],
      "execution_count": 346,
      "outputs": []
    },
    {
      "cell_type": "code",
      "metadata": {
        "id": "Hi6Telpj32z3"
      },
      "source": [
        "pwf = PBC0({'x': np.array([0]),'t':t}, name='pwf', device=device)\n",
        "#left = Dirichlet({'x': x, 'y': y}, {'p': p0.reshape(-1)}, device=device, name=\"left\")"
      ],
      "execution_count": 347,
      "outputs": []
    },
    {
      "cell_type": "code",
      "metadata": {
        "id": "i-gJ-qWG35HC"
      },
      "source": [
        "pde.add_boco(pwf)"
      ],
      "execution_count": 348,
      "outputs": []
    },
    {
      "cell_type": "code",
      "metadata": {
        "id": "P9dMp4We38-y"
      },
      "source": [
        "#right = PBC0({'x': np.array([1]), 'y': y, 't':t}, name='right', device=device)\n",
        "#right = Dirichlet({'x': x[-1], 'y': y}, {'p': p1.reshape(-1)}, device=device, name=\"right\")\n",
        "right =  NeumannX({'x': x[-1],'t':t}, name='right', device=device)"
      ],
      "execution_count": 349,
      "outputs": []
    },
    {
      "cell_type": "code",
      "metadata": {
        "id": "-zK0NPGN3_Pm"
      },
      "source": [
        "pde.add_boco(right)"
      ],
      "execution_count": 350,
      "outputs": []
    },
    {
      "cell_type": "code",
      "metadata": {
        "id": "_Zf3hbzK4NSo"
      },
      "source": [
        "#from nangs import MLP\n",
        "\n",
        "BATCH_SIZE = 128\n",
        "LR = 1e-2\n",
        "EPOCHS = 2\n",
        "NUM_LAYERS = 3\n",
        "NUM_HIDDEN = 50\n",
        "\n",
        "mlp = MLP(len(pde.inputs), len(pde.outputs), NUM_LAYERS, NUM_HIDDEN).to(device)\n",
        "optimizer = torch.optim.Adam(mlp.parameters())\n",
        "scheduler = torch.optim.lr_scheduler.OneCycleLR(optimizer, max_lr=LR, pct_start=0.1, total_steps=EPOCHS)"
      ],
      "execution_count": 351,
      "outputs": []
    },
    {
      "cell_type": "code",
      "metadata": {
        "colab": {
          "base_uri": "https://localhost:8080/"
        },
        "id": "DktJWI5nop1Z",
        "outputId": "25cd6738-b7ee-4fd9-a108-738db6a9e145"
      },
      "source": [
        "mlp"
      ],
      "execution_count": 352,
      "outputs": [
        {
          "output_type": "execute_result",
          "data": {
            "text/plain": [
              "MLP(\n",
              "  (mlp): Sequential(\n",
              "    (0): Linear(in_features=2, out_features=50, bias=True)\n",
              "    (1): Sequential(\n",
              "      (0): GELU()\n",
              "      (1): Linear(in_features=50, out_features=50, bias=True)\n",
              "    )\n",
              "    (2): Sequential(\n",
              "      (0): GELU()\n",
              "      (1): Linear(in_features=50, out_features=50, bias=True)\n",
              "    )\n",
              "    (3): Sequential(\n",
              "      (0): GELU()\n",
              "      (1): Linear(in_features=50, out_features=1, bias=True)\n",
              "    )\n",
              "  )\n",
              ")"
            ]
          },
          "metadata": {
            "tags": []
          },
          "execution_count": 352
        }
      ]
    },
    {
      "cell_type": "code",
      "metadata": {
        "id": "8X6ETD6M7aFn"
      },
      "source": [
        "\n",
        "scheduler = torch.optim.lr_scheduler.OneCycleLR(optimizer, max_lr=LR, pct_start=0.1, total_steps=EPOCHS)"
      ],
      "execution_count": 353,
      "outputs": []
    },
    {
      "cell_type": "code",
      "metadata": {
        "id": "nmlVwfsY4Qpj"
      },
      "source": [
        "pde.compile(mlp, optimizer, scheduler)"
      ],
      "execution_count": 354,
      "outputs": []
    },
    {
      "cell_type": "code",
      "metadata": {
        "colab": {
          "base_uri": "https://localhost:8080/",
          "height": 354
        },
        "id": "4HdLw0uL4TA9",
        "outputId": "e3487f8e-d2c0-4dd4-a9f9-f2b8c0c8c0eb"
      },
      "source": [
        "\n",
        "%time hist = pde.solve(EPOCHS, BATCH_SIZE)"
      ],
      "execution_count": 355,
      "outputs": [
        {
          "output_type": "display_data",
          "data": {
            "image/png": "[encoded data removed]",
            "text/plain": [
              "<Figure size 1080x360 with 2 Axes>"
            ]
          },
          "metadata": {
            "tags": []
          }
        },
        {
          "output_type": "display_data",
          "data": {
            "text/html": [
              ""
            ],
            "text/plain": [
              "<IPython.core.display.HTML object>"
            ]
          },
          "metadata": {
            "tags": []
          }
        },
        {
          "output_type": "stream",
          "text": [
            "CPU times: user 3.22 s, sys: 72.5 ms, total: 3.29 s\n",
            "Wall time: 3.24 s\n"
          ],
          "name": "stdout"
        }
      ]
    },
    {
      "cell_type": "code",
      "metadata": {
        "id": "6pWQeuc14V_9"
      },
      "source": [
        "t = 0.0\n",
        "x = np.linspace(0,1,100)\n",
        "#y = np.linspace(0,1,100)\n",
        "\n",
        "_x, _t = np.meshgrid(x, t)\n",
        "eval_mesh = Mesh({'x': x,  't':t}, device=device)\n",
        "p = pde.eval(eval_mesh)\n",
        "p = p.cpu().numpy()\n",
        "#p5 = p.reshape((_y.shape[0],_x.shape[1]))"
      ],
      "execution_count": 326,
      "outputs": []
    },
    {
      "cell_type": "code",
      "metadata": {
        "id": "u07DcjAPde7K"
      },
      "source": [
        "ppp=[]\n",
        "x = np.linspace(0.0,1,100)\n",
        "for t in np.linspace(0.1,1.,11):\n",
        "  #_x,_t = np.meshgrid(x,t)\n",
        "  eval_mesh = Mesh({'x': x,  't':t}, device=device)\n",
        "  pp = pde.eval(eval_mesh)\n",
        "  pp = pp.cpu().numpy()\n",
        "  ppp.append(pp)"
      ],
      "execution_count": 296,
      "outputs": []
    },
    {
      "cell_type": "code",
      "metadata": {
        "id": "ycJ8qxzpGTBF",
        "colab": {
          "base_uri": "https://localhost:8080/",
          "height": 265
        },
        "outputId": "e5a6adae-e27b-4a78-edee-6809ee51c98b"
      },
      "source": [
        "for p in ppp:\n",
        "  plt.plot(p)"
      ],
      "execution_count": 49,
      "outputs": [
        {
          "output_type": "display_data",
          "data": {
            "image/png": "[encoded data removed]",
            "text/plain": [
              "<Figure size 432x288 with 1 Axes>"
            ]
          },
          "metadata": {
            "tags": [],
            "needs_background": "light"
          }
        }
      ]
    },
    {
      "cell_type": "code",
      "metadata": {
        "id": "9jQODc_2OV6D"
      },
      "source": [
        "from sympy import Sum, factorial, oo, IndexedBase, Function, sin,exp\n",
        "from sympy.abc import n"
      ],
      "execution_count": 44,
      "outputs": []
    },
    {
      "cell_type": "code",
      "metadata": {
        "id": "QnBZVuMfgr2t"
      },
      "source": [
        "def diff_sol(x,t,alpha=0.1):\n",
        "    sol= Sum(4/((2*n + 1)*np.pi)*sin((2*n+1)*np.pi/2*x)*exp(-((2*n + 1)*np.pi/2)**2*t*alpha),(n,0,50))\n",
        "    \n",
        "    return sol #,sol_n"
      ],
      "execution_count": 45,
      "outputs": []
    },
    {
      "cell_type": "code",
      "metadata": {
        "id": "liWZrbRZkrn9",
        "colab": {
          "base_uri": "https://localhost:8080/",
          "height": 265
        },
        "outputId": "cc82beb3-1fd3-4ba3-b61d-b01a0c6472c5"
      },
      "source": [
        "xxx=np.linspace(0,1,100)\n",
        "for t in np.linspace(0.1,1,11):\n",
        "    d=[]\n",
        "    for xx in xxx:\n",
        "        d.append(diff_sol(xx,t,alpha=1).doit())\n",
        "    plt.plot(d)\n",
        "    eval_mesh = Mesh({'x': x,  't':t}, device=device)\n",
        "    pp = pde.eval(eval_mesh)\n",
        "    pp = pp.cpu().numpy()\n",
        "    plt.plot(p)"
      ],
      "execution_count": 480,
      "outputs": [
        {
          "output_type": "display_data",
          "data": {
            "image/png": "[encoded data removed]",
            "text/plain": [
              "<Figure size 432x288 with 1 Axes>"
            ]
          },
          "metadata": {
            "tags": [],
            "needs_background": "light"
          }
        }
      ]
    },
    {
      "cell_type": "code",
      "metadata": {
        "colab": {
          "base_uri": "https://localhost:8080/",
          "height": 265
        },
        "id": "ilPOuGLdPjri",
        "outputId": "f8036607-9ee6-4b7f-da52-0b6319790f58"
      },
      "source": [
        "xxx=np.linspace(0,1,10)\n",
        "x = np.linspace(0,1,10)\n",
        "for t in np.linspace(0.02,1,11):\n",
        "    d=[]\n",
        "    for xx in xxx:\n",
        "        d.append(diff_sol(xx,t,alpha=1).doit())\n",
        "    plt.plot(d)\n",
        "    eval_mesh = Mesh({'x': x,  't':t}, device=device)\n",
        "    pp = pde.eval(eval_mesh)\n",
        "    pp = pp.cpu().numpy()\n",
        "    plt.plot(pp,marker='o',linestyle='None')"
      ],
      "execution_count": 149,
      "outputs": [
        {
          "output_type": "display_data",
          "data": {
            "image/png": "[encoded data removed]",
            "text/plain": [
              "<Figure size 432x288 with 1 Axes>"
            ]
          },
          "metadata": {
            "tags": [],
            "needs_background": "light"
          }
        }
      ]
    },
    {
      "cell_type": "code",
      "metadata": {
        "id": "tLVzJ8pEjm5g"
      },
      "source": [
        "\n",
        "out=pde.eval_with_grad(eval_mesh)"
      ],
      "execution_count": 356,
      "outputs": []
    },
    {
      "cell_type": "code",
      "metadata": {
        "id": "0mrJJyjI3qMH"
      },
      "source": [
        "out_np=out[1].detach().cpu().numpy()"
      ],
      "execution_count": 372,
      "outputs": []
    },
    {
      "cell_type": "code",
      "metadata": {
        "id": "zzX6GygX38Gd",
        "outputId": "87898b43-a064-4bea-9331-9d659bf768bf",
        "colab": {
          "base_uri": "https://localhost:8080/"
        }
      },
      "source": [
        "out_np.shape"
      ],
      "execution_count": 374,
      "outputs": [
        {
          "output_type": "execute_result",
          "data": {
            "text/plain": [
              "(100, 2)"
            ]
          },
          "metadata": {
            "tags": []
          },
          "execution_count": 374
        }
      ]
    },
    {
      "cell_type": "code",
      "metadata": {
        "colab": {
          "base_uri": "https://localhost:8080/",
          "height": 265
        },
        "id": "rzKbAHv4jMXZ",
        "outputId": "7fe16202-caa9-4059-c6ab-e369482e8086"
      },
      "source": [
        "xxx=np.linspace(0,1,10)\n",
        "x = np.linspace(0,1,10)\n",
        "for t in np.linspace(0.015,1,11):\n",
        "    d=[]\n",
        "    for xx in xxx:\n",
        "        d.append(diff_sol(xx,t,alpha=1).doit())\n",
        "    plt.plot(d)\n",
        "    eval_mesh = Mesh({'x': x,  't':t}, device=device)\n",
        "    pp = pde.eval(eval_mesh)\n",
        "    pp = pp.cpu().numpy()\n",
        "    plt.plot(pp,marker='o',linestyle='None')"
      ],
      "execution_count": 66,
      "outputs": [
        {
          "output_type": "display_data",
          "data": {
            "image/png": "[encoded data removed]",
            "text/plain": [
              "<Figure size 432x288 with 1 Axes>"
            ]
          },
          "metadata": {
            "tags": [],
            "needs_background": "light"
          }
        }
      ]
    },
    {
      "cell_type": "code",
      "metadata": {
        "id": "ZlF1bhkqT9qt"
      },
      "source": [
        "class PDE():\n",
        "\n",
        "    def __init__(self, inputs, outputs):\n",
        "\n",
        "        # check lists of unique strings, non-repeated\n",
        "        if isinstance(inputs, str):\n",
        "            inputs = tuple(inputs)\n",
        "        if isinstance(outputs, str):\n",
        "            outputs = tuple(outputs)\n",
        "\n",
        "        checkIsListOfStr(inputs)\n",
        "        checkIsListOfStr(outputs)\n",
        "        checkUnique(inputs)\n",
        "        checkUnique(outputs)\n",
        "        checkNoRepeated(inputs, outputs)\n",
        "\n",
        "        self.inputs = inputs\n",
        "        self.outputs = outputs\n",
        "        self.mesh = None\n",
        "        self.bocos = []\n",
        "\n",
        "    def set_mesh(self, mesh):\n",
        "        assert mesh.vars == self.inputs, \"your data does not match the PDE inputs\"\n",
        "        self.mesh = mesh\n",
        "\n",
        "    def add_boco(self, boco):\n",
        "        assert boco.name not in [\n",
        "            boco.name for boco in self.bocos], f'Boco {boco.name} already exists, use another name'\n",
        "        boco.validate(self.inputs, self.outputs)\n",
        "        self.bocos.append(boco)\n",
        "\n",
        "    def compile(self, model, optimizer, scheduler=None, criterion=None):\n",
        "        self.model = model\n",
        "        self.optimizer = optimizer\n",
        "        self.criterion = criterion if criterion else torch.nn.MSELoss()\n",
        "        self.scheduler = scheduler\n",
        "\n",
        "    def computePDELoss(self, vars, grads):\n",
        "        print(\"This function need to be overloaded !!!\")\n",
        "\n",
        "    def solve(self, epochs=50, batch_size=None, shuffle=True, graph=True):\n",
        "        dataloaders = self.set_dataloaders(batch_size, shuffle)\n",
        "        if graph:\n",
        "            self.graph_fig, (self.graph_ax1, self.graph_ax2) = plt.subplots(\n",
        "                1, 2, figsize=(15, 5))\n",
        "            self.graph_out = display(self.graph_fig, display_id=True)\n",
        "        # solve PDE\n",
        "        history = History()\n",
        "        mb = master_bar(range(1, epochs+1))\n",
        "        for epoch in mb:\n",
        "            history.add({'lr': get_lr(self.optimizer)})\n",
        "            # iterate over the internal points in batches\n",
        "            for batch in progress_bar(dataloaders['inner'], parent=mb):\n",
        "                X = batch\n",
        "                self.optimizer.zero_grad()\n",
        "                # optimize for boundary points\n",
        "                for boco in self.bocos:\n",
        "                    for batch in dataloaders['bocos'][boco.name]:\n",
        "                        loss = boco.computeLoss(\n",
        "                            batch, self.model, self.criterion)\n",
        "                        for name, l in loss.items():\n",
        "                            l.backward()\n",
        "                            history.add_step({name: l.item()})\n",
        "                # optimize for internal points\n",
        "                X.requires_grad = True\n",
        "                p = self.model(X)\n",
        "                loss = self.computePDELoss(X, p)\n",
        "                assert isinstance(\n",
        "                    loss, dict), \"you should return a dict with the name of the equation and the corresponding loss\"\n",
        "                for name, l in loss.items():\n",
        "                    l = self.criterion(l, torch.zeros(\n",
        "                        l.shape).to(self.mesh.device))\n",
        "                    l.backward(retain_graph=True)\n",
        "                    history.add_step({name: l.item()})\n",
        "                self.optimizer.step()\n",
        "                mb.child.comment = str(history.average())\n",
        "            history.step()\n",
        "            mb.main_bar.comment = str(history)\n",
        "            if graph:\n",
        "                self.plot_history(history)\n",
        "            # mb.write(f\"Epoch {epoch}/{epochs} {history}\")\n",
        "            if self.scheduler:\n",
        "                self.scheduler.step()\n",
        "        if graph:\n",
        "            plt.close()\n",
        "        return history.history\n",
        "\n",
        "    def plot_history(self, history):\n",
        "        self.graph_ax1.clear()\n",
        "        self.graph_ax2.clear()\n",
        "        for name, metric in history.history.items():\n",
        "            if name != 'lr':\n",
        "                self.graph_ax1.plot(metric, label=name)\n",
        "            else:\n",
        "                self.graph_ax2.plot(metric, label=name)\n",
        "        self.graph_ax1.legend(loc='upper right')\n",
        "        self.graph_ax2.legend(loc='upper right')\n",
        "        self.graph_ax1.grid(True)\n",
        "        self.graph_ax2.grid(True)\n",
        "        self.graph_ax1.set_yscale(\"log\")\n",
        "        self.graph_out.update(self.graph_fig)\n",
        "\n",
        "    def set_dataloaders(self, batch_size, shuffle):\n",
        "        dataloaders = {\n",
        "            'inner': self.mesh.build_dataloader(batch_size, shuffle),\n",
        "            'bocos': {}\n",
        "        }\n",
        "        for boco in self.bocos:\n",
        "            dataloaders['bocos'][boco.name] = boco.build_dataloader(\n",
        "                batch_size, shuffle)\n",
        "        return dataloaders\n",
        "\n",
        "    def computeGrads(self, outputs, inputs):\n",
        "        grads, = torch.autograd.grad(outputs, inputs,\n",
        "                                     grad_outputs=outputs.data.new(\n",
        "                                         outputs.shape).fill_(1),\n",
        "                                     create_graph=True, only_inputs=True)\n",
        "        return grads\n",
        "\n",
        "    def eval(self, mesh, batch_size=None):\n",
        "        dataloader = mesh.build_dataloader(batch_size, shuffle=False)\n",
        "        outputs = torch.tensor([]).to(mesh.device)\n",
        "        self.model.eval()\n",
        "        with torch.no_grad():\n",
        "            for batch in dataloader:\n",
        "                outputs = torch.cat([outputs, self.model(batch)])\n",
        "        return outputs\n",
        "\n",
        "    def eval_with_grad(self, mesh, batch_size=None):\n",
        "        dataloader = mesh.build_dataloader(batch_size, shuffle=False)\n",
        "        outputs = torch.tensor([]).to(mesh.device)\n",
        "        self.model.eval()\n",
        "        #with torch.no_grad():\n",
        "        for batch in dataloader:\n",
        "            batch.requires_grad = True\n",
        "            outputs = self.model(batch)\n",
        "        #for batch in dataloader:    \n",
        "            \n",
        "            #outputs = self.model(batch)\n",
        "            p=outputs\n",
        "            X=batch\n",
        "            X.requires_grad = True\n",
        "            grad , = torch.autograd.grad(p, X, \n",
        "                    grad_outputs=p.data.new(p.shape).fill_(1),\n",
        "                    create_graph=True, only_inputs=True)\n",
        "        return outputs,grad"
      ],
      "execution_count": 328,
      "outputs": []
    },
    {
      "cell_type": "code",
      "metadata": {
        "id": "QA0Tq4_pf4bl"
      },
      "source": [
        "def checkIsListOfStr(l):\n",
        "    \"Make sure that l is a list containing only strings\"\n",
        "    if isinstance(l, tuple):\n",
        "        for i in l:\n",
        "            if not isinstance(i, str):\n",
        "                raise Exception(str(i) + ' must be a string')\n",
        "\n",
        "\n",
        "def checkUnique(l):\n",
        "    \"Make sure that l does not contain repeated elements\"\n",
        "    for i, item1 in enumerate(l):\n",
        "        for j, item2 in enumerate(l):\n",
        "            if i != j and item1 == item2:\n",
        "                raise Exception('Repeated item ' + str(item1))\n",
        "\n",
        "\n",
        "def checkNoRepeated(l1, l2):\n",
        "    \"Make sure there are no repeated elements in both lists\"\n",
        "    for i in l1:\n",
        "        if i in l2:\n",
        "            raise Exception('Repeated item ' + str(i))"
      ],
      "execution_count": 12,
      "outputs": []
    },
    {
      "cell_type": "code",
      "metadata": {
        "id": "RxXwYPpchWbO"
      },
      "source": [
        "import numpy as np\n",
        "\n",
        "\n",
        "class History():\n",
        "    def __init__(self, precision=5):\n",
        "        self.history = {}\n",
        "        self.current = {}\n",
        "        self.precision = precision\n",
        "\n",
        "    def add(self, d):\n",
        "        for name, metric in d.items():\n",
        "            if not name in self.history:\n",
        "                self.history[name] = []\n",
        "            self.history[name].append(metric)\n",
        "\n",
        "    def add_step(self, d):\n",
        "        for name, metric in d.items():\n",
        "            if name not in self.current:\n",
        "                self.current[name] = []\n",
        "            self.current[name].append(metric)\n",
        "\n",
        "    def average(self):\n",
        "        return {name: round(np.mean(self.current[name]), self.precision) for name in self.current}\n",
        "\n",
        "    def step(self):\n",
        "        for name in self.current:\n",
        "            self.add({name: np.mean(self.current[name])})\n",
        "        self.current = {}\n",
        "\n",
        "    def __str__(self):\n",
        "        s = ''\n",
        "        for name, value in self.history.items():\n",
        "            s += f' | {name} {round(value[-1], self.precision)}'\n",
        "        return s"
      ],
      "execution_count": 38,
      "outputs": []
    },
    {
      "cell_type": "code",
      "metadata": {
        "id": "CLDcnvH1hvIv"
      },
      "source": [
        "from fastprogress import master_bar, progress_bar"
      ],
      "execution_count": 40,
      "outputs": []
    },
    {
      "cell_type": "code",
      "metadata": {
        "id": "W5ZtZY0zh5Tn"
      },
      "source": [
        "def get_lr(optimizer):\n",
        "    for param_group in optimizer.param_groups:\n",
        "        return param_group['lr']"
      ],
      "execution_count": 42,
      "outputs": []
    },
    {
      "cell_type": "code",
      "metadata": {
        "id": "k9lSnXDviBkl"
      },
      "source": [
        ""
      ],
      "execution_count": null,
      "outputs": []
    }
  ]
}